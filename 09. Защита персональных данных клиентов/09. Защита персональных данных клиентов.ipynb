{
 "cells": [
  {
   "cell_type": "markdown",
   "metadata": {},
   "source": [
    "# Защита персональных данных клиентов"
   ]
  },
  {
   "cell_type": "markdown",
   "metadata": {},
   "source": [
    "Вам нужно защитить данные клиентов страховой компании «Хоть потоп». Разработайте такой метод преобразования данных, чтобы по ним было сложно восстановить персональную информацию. Обоснуйте корректность его работы.\n",
    "\n",
    "Нужно защитить данные, чтобы при преобразовании качество моделей машинного обучения не ухудшилось. Подбирать наилучшую модель не требуется."
   ]
  },
  {
   "cell_type": "code",
   "execution_count": 1,
   "metadata": {},
   "outputs": [],
   "source": [
    "import pandas as pd\n",
    "import numpy as np\n",
    "from sklearn.metrics import r2_score\n",
    "from sklearn.linear_model import LinearRegression"
   ]
  },
  {
   "cell_type": "code",
   "execution_count": 2,
   "metadata": {},
   "outputs": [],
   "source": [
    "df = pd.read_csv('/datasets/insurance.csv')"
   ]
  },
  {
   "cell_type": "code",
   "execution_count": 3,
   "metadata": {},
   "outputs": [
    {
     "data": {
      "text/html": [
       "<div>\n",
       "<style scoped>\n",
       "    .dataframe tbody tr th:only-of-type {\n",
       "        vertical-align: middle;\n",
       "    }\n",
       "\n",
       "    .dataframe tbody tr th {\n",
       "        vertical-align: top;\n",
       "    }\n",
       "\n",
       "    .dataframe thead th {\n",
       "        text-align: right;\n",
       "    }\n",
       "</style>\n",
       "<table border=\"1\" class=\"dataframe\">\n",
       "  <thead>\n",
       "    <tr style=\"text-align: right;\">\n",
       "      <th></th>\n",
       "      <th>Пол</th>\n",
       "      <th>Возраст</th>\n",
       "      <th>Зарплата</th>\n",
       "      <th>Члены семьи</th>\n",
       "      <th>Страховые выплаты</th>\n",
       "    </tr>\n",
       "  </thead>\n",
       "  <tbody>\n",
       "    <tr>\n",
       "      <td>0</td>\n",
       "      <td>1</td>\n",
       "      <td>41.0</td>\n",
       "      <td>49600.0</td>\n",
       "      <td>1</td>\n",
       "      <td>0</td>\n",
       "    </tr>\n",
       "    <tr>\n",
       "      <td>1</td>\n",
       "      <td>0</td>\n",
       "      <td>46.0</td>\n",
       "      <td>38000.0</td>\n",
       "      <td>1</td>\n",
       "      <td>1</td>\n",
       "    </tr>\n",
       "    <tr>\n",
       "      <td>2</td>\n",
       "      <td>0</td>\n",
       "      <td>29.0</td>\n",
       "      <td>21000.0</td>\n",
       "      <td>0</td>\n",
       "      <td>0</td>\n",
       "    </tr>\n",
       "    <tr>\n",
       "      <td>3</td>\n",
       "      <td>0</td>\n",
       "      <td>21.0</td>\n",
       "      <td>41700.0</td>\n",
       "      <td>2</td>\n",
       "      <td>0</td>\n",
       "    </tr>\n",
       "    <tr>\n",
       "      <td>4</td>\n",
       "      <td>1</td>\n",
       "      <td>28.0</td>\n",
       "      <td>26100.0</td>\n",
       "      <td>0</td>\n",
       "      <td>0</td>\n",
       "    </tr>\n",
       "  </tbody>\n",
       "</table>\n",
       "</div>"
      ],
      "text/plain": [
       "   Пол  Возраст  Зарплата  Члены семьи  Страховые выплаты\n",
       "0    1     41.0   49600.0            1                  0\n",
       "1    0     46.0   38000.0            1                  1\n",
       "2    0     29.0   21000.0            0                  0\n",
       "3    0     21.0   41700.0            2                  0\n",
       "4    1     28.0   26100.0            0                  0"
      ]
     },
     "execution_count": 3,
     "metadata": {},
     "output_type": "execute_result"
    }
   ],
   "source": [
    "df.head()"
   ]
  },
  {
   "cell_type": "code",
   "execution_count": 4,
   "metadata": {},
   "outputs": [
    {
     "name": "stdout",
     "output_type": "stream",
     "text": [
      "<class 'pandas.core.frame.DataFrame'>\n",
      "RangeIndex: 5000 entries, 0 to 4999\n",
      "Data columns (total 5 columns):\n",
      "Пол                  5000 non-null int64\n",
      "Возраст              5000 non-null float64\n",
      "Зарплата             5000 non-null float64\n",
      "Члены семьи          5000 non-null int64\n",
      "Страховые выплаты    5000 non-null int64\n",
      "dtypes: float64(2), int64(3)\n",
      "memory usage: 195.4 KB\n"
     ]
    }
   ],
   "source": [
    "df.info()"
   ]
  },
  {
   "cell_type": "code",
   "execution_count": 5,
   "metadata": {},
   "outputs": [
    {
     "data": {
      "text/plain": [
       "Пол                  0\n",
       "Возраст              0\n",
       "Зарплата             0\n",
       "Члены семьи          0\n",
       "Страховые выплаты    0\n",
       "dtype: int64"
      ]
     },
     "execution_count": 5,
     "metadata": {},
     "output_type": "execute_result"
    }
   ],
   "source": [
    "df.isna().sum()"
   ]
  },
  {
   "cell_type": "markdown",
   "metadata": {},
   "source": [
    "Предобработка не требуется"
   ]
  },
  {
   "cell_type": "markdown",
   "metadata": {},
   "source": [
    "Сгенерирую случайную матрицу и проверю на обратимость"
   ]
  },
  {
   "cell_type": "code",
   "execution_count": 6,
   "metadata": {},
   "outputs": [
    {
     "data": {
      "text/plain": [
       "array([[0.57270471, 0.73075407, 0.16831653, 0.30114462],\n",
       "       [0.41072727, 0.70145835, 0.61725739, 0.99736286],\n",
       "       [0.1001321 , 0.70926997, 0.11623191, 0.00940931],\n",
       "       [0.03590669, 0.5191743 , 0.94398576, 0.55465379]])"
      ]
     },
     "execution_count": 6,
     "metadata": {},
     "output_type": "execute_result"
    }
   ],
   "source": [
    "invert_random = np.random.rand(4, 4)\n",
    "invert_random"
   ]
  },
  {
   "cell_type": "code",
   "execution_count": 7,
   "metadata": {},
   "outputs": [
    {
     "data": {
      "text/plain": [
       "array([[ 2.92801439, -1.1422366 , -2.25483315,  0.50244861],\n",
       "       [-0.5677198 ,  0.35812446,  1.91010484, -0.36813425],\n",
       "       [ 1.0603079 , -1.3687581 , -1.13302374,  1.90479804],\n",
       "       [-1.46272387,  2.06826869,  0.286385  , -1.12686086]])"
      ]
     },
     "execution_count": 7,
     "metadata": {},
     "output_type": "execute_result"
    }
   ],
   "source": [
    "invert = np.linalg.inv(invert_random)\n",
    "invert"
   ]
  },
  {
   "cell_type": "code",
   "execution_count": 8,
   "metadata": {},
   "outputs": [],
   "source": [
    "df.columns = df.columns.str.lower()"
   ]
  },
  {
   "cell_type": "code",
   "execution_count": 9,
   "metadata": {},
   "outputs": [
    {
     "data": {
      "text/plain": [
       "Index(['пол', 'возраст', 'зарплата', 'члены семьи', 'страховые выплаты'], dtype='object')"
      ]
     },
     "execution_count": 9,
     "metadata": {},
     "output_type": "execute_result"
    }
   ],
   "source": [
    "df.columns"
   ]
  },
  {
   "cell_type": "markdown",
   "metadata": {},
   "source": [
    "привычней воспринимать названия колонок без заглавных)"
   ]
  },
  {
   "cell_type": "code",
   "execution_count": 10,
   "metadata": {},
   "outputs": [
    {
     "name": "stdout",
     "output_type": "stream",
     "text": [
      "Размер признаков: 5000 ; Количество признаков: 4\n",
      "Размер целевого признака: 5000\n"
     ]
    }
   ],
   "source": [
    "df_f = df.drop('страховые выплаты', axis=1)\n",
    "df_t = df['страховые выплаты']\n",
    "\n",
    "print('Размер признаков:', df_f.shape[0], ';', 'Количество признаков:', df_f.shape[1])\n",
    "print('Размер целевого признака:', df_t.shape[0])"
   ]
  },
  {
   "cell_type": "code",
   "execution_count": 11,
   "metadata": {},
   "outputs": [
    {
     "name": "stdout",
     "output_type": "stream",
     "text": [
      "R2 модели до: 0.42494550286668\n"
     ]
    }
   ],
   "source": [
    "model = LinearRegression()\n",
    "model.fit(df_f, df_t)\n",
    "r2 = model.score(df_f, df_t)\n",
    "\n",
    "print('R2 модели до:', r2)"
   ]
  },
  {
   "cell_type": "code",
   "execution_count": 12,
   "metadata": {},
   "outputs": [
    {
     "name": "stdout",
     "output_type": "stream",
     "text": [
      "R2 модели после: 0.4249455028666944\n"
     ]
    }
   ],
   "source": [
    "inv_df_f = np.dot(df_f, invert)\n",
    "\n",
    "model_2 = LinearRegression()\n",
    "model_2.fit(inv_df_f, df_t)\n",
    "r2 = model_2.score(inv_df_f, df_t)\n",
    "\n",
    "print('R2 модели после:', r2)"
   ]
  },
  {
   "cell_type": "markdown",
   "metadata": {},
   "source": [
    "## Умножение матриц"
   ]
  },
  {
   "cell_type": "markdown",
   "metadata": {},
   "source": [
    "Обозначения:\n",
    "\n",
    "- $X$ — матрица признаков (нулевой столбец состоит из единиц)\n",
    "\n",
    "- $y$ — вектор целевого признака\n",
    "\n",
    "- $P$ — матрица, на которую умножаются признаки\n",
    "\n",
    "- $w$ — вектор весов линейной регрессии (нулевой элемент равен сдвигу)"
   ]
  },
  {
   "cell_type": "markdown",
   "metadata": {},
   "source": [
    "Предсказания:\n",
    "\n",
    "$$\n",
    "a = Xw\n",
    "$$\n",
    "\n",
    "Задача обучения:\n",
    "\n",
    "$$\n",
    "w = \\arg\\min_w MSE(Xw, y)\n",
    "$$\n",
    "\n",
    "Формула обучения:\n",
    "\n",
    "$$\n",
    "w = (X^T X)^{-1} X^T y\n",
    "$$"
   ]
  },
  {
   "cell_type": "markdown",
   "metadata": {},
   "source": [
    "**Ответ:** Качество линейной регрессии не изменится\n",
    "\n",
    "**Обоснование:**\n",
    "\n",
    "$$\n",
    "a1 = X(X^T X)^{-1} X^T y = X(X^T)^{-1}X^{-1}X^Ty = XX^{-1}y\n",
    "$$\n",
    "\n",
    "$$\n",
    "a2 = XP((XP)^T(XP))^{-1}(XP)^Ty = XP(XP)^{-1}((XP)^T)^{-1}(XP)^Ty = XPP^{-1}X^{-1}((XP)^T)^{-1}(XP)^Ty = XEX^{-1}(P^TX^T)^{-1}P^TX^Ty = XX^{-1}(X^T)^{-1}(P^T)^{-1}P^TX^Ty = XX^{-1}(X^T)^{-1}EX^Ty = XX^{-1}(X^T)^{-1}X^Ty = XX^{-1}y\n",
    "$$\n"
   ]
  },
  {
   "cell_type": "markdown",
   "metadata": {},
   "source": [
    "\n",
    "$$\n",
    "w = (X^T X)^{-1} X^T y\n",
    "$$\n",
    "\\\n",
    "$$\n",
    "w' = ((XP)^T XP)^{-1} (XP)^T y\n",
    "$$\n",
    "$$\n",
    "w' = (P^T (X^T X) P)^{-1} (XP)^T y\n",
    "$$\n",
    "$$\n",
    "w' = (P^T (X^T X) P)^{-1} P^T X^T y\n",
    "$$\n",
    "$$\n",
    "w' = P^{-1} (X^T X)^{-1} (P^T)^{-1} P^T X^T y\n",
    "$$\n",
    "$$\n",
    "w' = P^{-1} (X^T X)^{-1} E X^T y\n",
    "$$\n",
    "\\\n",
    "$$\n",
    "w' = P^{-1}w\n",
    "$$"
   ]
  },
  {
   "cell_type": "markdown",
   "metadata": {},
   "source": [
    "## Алгоритм преобразования"
   ]
  },
  {
   "cell_type": "markdown",
   "metadata": {},
   "source": [
    "**Алгоритм**\n",
    "\n",
    "1. Генерируем случайную обратимую матрицу P размером nxn, где n=количество нецелевых признаков\n",
    "2. Умножаем P на матрицу признаков"
   ]
  },
  {
   "cell_type": "markdown",
   "metadata": {},
   "source": [
    "## Проверка алгоритма"
   ]
  },
  {
   "cell_type": "code",
   "execution_count": 13,
   "metadata": {},
   "outputs": [
    {
     "data": {
      "text/plain": [
       "array([[0.83365714, 0.18476467, 0.16888311, 0.20399486],\n",
       "       [0.59727368, 0.41540835, 0.1783363 , 0.82915287],\n",
       "       [0.98207756, 0.63343877, 0.72737828, 0.79728415],\n",
       "       [0.50178555, 0.60154818, 0.74703706, 0.78366873]])"
      ]
     },
     "execution_count": 13,
     "metadata": {},
     "output_type": "execute_result"
    }
   ],
   "source": [
    "test2 = np.random.rand(4, 4)\n",
    "test2"
   ]
  },
  {
   "cell_type": "code",
   "execution_count": 14,
   "metadata": {},
   "outputs": [
    {
     "data": {
      "text/plain": [
       "array([[ 5.77215816e+00,  1.05385835e-01, -6.49960305e+00,\n",
       "         4.99848828e+00],\n",
       "       [-8.13067752e+01, -3.08932821e+00,  1.21649671e+02,\n",
       "        -9.93298098e+01],\n",
       "       [ 2.99909580e+01, -5.06648525e-01, -4.46402416e+01,\n",
       "         3.81450018e+01],\n",
       "       [ 3.01265054e+01,  2.78687132e+00, -4.66636164e+01,\n",
       "         3.79596202e+01]])"
      ]
     },
     "execution_count": 14,
     "metadata": {},
     "output_type": "execute_result"
    }
   ],
   "source": [
    "test = np.linalg.inv(test2)\n",
    "test"
   ]
  },
  {
   "cell_type": "code",
   "execution_count": 15,
   "metadata": {},
   "outputs": [
    {
     "name": "stdout",
     "output_type": "stream",
     "text": [
      "R2 модели после: 0.4249455028665228\n"
     ]
    }
   ],
   "source": [
    "final = np.dot(df_f, test)\n",
    "\n",
    "model_2 = LinearRegression()\n",
    "model_2.fit(final, df_t)\n",
    "r2 = model_2.score(final, df_t)\n",
    "\n",
    "print('R2 модели после:', r2)"
   ]
  },
  {
   "cell_type": "markdown",
   "metadata": {},
   "source": [
    "Алгоритм проверен, все работает, качество модели от преобразований признаков не меняется"
   ]
  }
 ],
 "metadata": {
  "ExecuteTimeLog": [
   {
    "duration": 735,
    "start_time": "2021-10-04T22:38:40.385Z"
   },
   {
    "duration": 21,
    "start_time": "2021-10-04T22:38:58.745Z"
   },
   {
    "duration": 21,
    "start_time": "2021-10-04T22:39:07.240Z"
   },
   {
    "duration": 10,
    "start_time": "2021-10-04T22:39:18.157Z"
   },
   {
    "duration": 7,
    "start_time": "2021-10-04T22:39:31.549Z"
   },
   {
    "duration": 227,
    "start_time": "2021-10-06T00:33:49.101Z"
   },
   {
    "duration": 616,
    "start_time": "2021-10-06T00:34:02.914Z"
   },
   {
    "duration": 1329,
    "start_time": "2021-10-06T00:34:06.473Z"
   },
   {
    "duration": 9,
    "start_time": "2021-10-06T00:34:26.401Z"
   },
   {
    "duration": 6,
    "start_time": "2021-10-06T00:35:12.996Z"
   },
   {
    "duration": 209,
    "start_time": "2021-10-06T00:37:47.843Z"
   },
   {
    "duration": 37,
    "start_time": "2021-10-06T00:37:55.918Z"
   },
   {
    "duration": 10,
    "start_time": "2021-10-06T00:37:57.023Z"
   },
   {
    "duration": 7,
    "start_time": "2021-10-06T00:37:57.927Z"
   },
   {
    "duration": 8,
    "start_time": "2021-10-06T00:37:58.108Z"
   },
   {
    "duration": 5,
    "start_time": "2021-10-06T00:38:00.501Z"
   },
   {
    "duration": 6,
    "start_time": "2021-10-06T00:38:00.653Z"
   },
   {
    "duration": 4,
    "start_time": "2021-10-06T00:38:01.521Z"
   },
   {
    "duration": 12,
    "start_time": "2021-10-06T00:38:24.146Z"
   },
   {
    "duration": 4,
    "start_time": "2021-10-06T00:38:30.494Z"
   },
   {
    "duration": 14,
    "start_time": "2021-10-06T00:38:34.868Z"
   },
   {
    "duration": 4,
    "start_time": "2021-10-06T00:38:39.620Z"
   },
   {
    "duration": 4,
    "start_time": "2021-10-06T00:38:58.826Z"
   },
   {
    "duration": 4,
    "start_time": "2021-10-06T00:39:28.752Z"
   },
   {
    "duration": 7,
    "start_time": "2021-10-06T00:39:35.628Z"
   },
   {
    "duration": 5,
    "start_time": "2021-10-06T00:40:47.954Z"
   },
   {
    "duration": 5,
    "start_time": "2021-10-06T00:40:54.157Z"
   },
   {
    "duration": 208,
    "start_time": "2021-10-06T00:41:00.169Z"
   },
   {
    "duration": 5,
    "start_time": "2021-10-06T00:41:03.777Z"
   },
   {
    "duration": 7,
    "start_time": "2021-10-06T00:41:09.135Z"
   },
   {
    "duration": 6,
    "start_time": "2021-10-06T00:41:32.246Z"
   },
   {
    "duration": 5,
    "start_time": "2021-10-06T00:41:58.486Z"
   },
   {
    "duration": 5,
    "start_time": "2021-10-06T00:42:07.429Z"
   },
   {
    "duration": 6,
    "start_time": "2021-10-06T00:42:25.053Z"
   },
   {
    "duration": 456,
    "start_time": "2021-10-06T00:44:40.616Z"
   },
   {
    "duration": 18,
    "start_time": "2021-10-06T00:46:57.697Z"
   },
   {
    "duration": 369,
    "start_time": "2021-10-06T00:50:08.667Z"
   },
   {
    "duration": 246,
    "start_time": "2021-10-06T00:50:24.441Z"
   },
   {
    "duration": 281,
    "start_time": "2021-10-06T00:50:34.908Z"
   },
   {
    "duration": 12,
    "start_time": "2021-10-06T00:51:07.936Z"
   },
   {
    "duration": 11,
    "start_time": "2021-10-06T00:51:30.564Z"
   },
   {
    "duration": 11,
    "start_time": "2021-10-06T00:51:38.460Z"
   },
   {
    "duration": 12,
    "start_time": "2021-10-06T00:52:02.520Z"
   },
   {
    "duration": 11,
    "start_time": "2021-10-06T00:52:50.254Z"
   },
   {
    "duration": 18,
    "start_time": "2021-10-06T00:53:33.011Z"
   },
   {
    "duration": 203,
    "start_time": "2021-10-06T00:53:37.662Z"
   },
   {
    "duration": 207,
    "start_time": "2021-10-06T00:53:46.450Z"
   },
   {
    "duration": 342,
    "start_time": "2021-10-06T00:54:21.172Z"
   },
   {
    "duration": 351,
    "start_time": "2021-10-06T00:55:03.992Z"
   },
   {
    "duration": 207,
    "start_time": "2021-10-06T00:56:19.295Z"
   },
   {
    "duration": 8,
    "start_time": "2021-10-06T01:01:02.492Z"
   },
   {
    "duration": 13,
    "start_time": "2021-10-06T01:01:10.623Z"
   },
   {
    "duration": 8,
    "start_time": "2021-10-06T01:01:19.302Z"
   },
   {
    "duration": 7,
    "start_time": "2021-10-06T01:01:20.865Z"
   },
   {
    "duration": 7,
    "start_time": "2021-10-06T01:01:45.739Z"
   },
   {
    "duration": 1080,
    "start_time": "2021-10-06T23:42:09.123Z"
   },
   {
    "duration": 19,
    "start_time": "2021-10-06T23:42:10.205Z"
   },
   {
    "duration": 14,
    "start_time": "2021-10-06T23:42:10.226Z"
   },
   {
    "duration": 13,
    "start_time": "2021-10-06T23:42:10.242Z"
   },
   {
    "duration": 12,
    "start_time": "2021-10-06T23:42:10.258Z"
   },
   {
    "duration": 4,
    "start_time": "2021-10-06T23:42:10.272Z"
   },
   {
    "duration": 7,
    "start_time": "2021-10-06T23:42:10.277Z"
   },
   {
    "duration": 4,
    "start_time": "2021-10-06T23:42:10.287Z"
   },
   {
    "duration": 15,
    "start_time": "2021-10-06T23:42:10.351Z"
   },
   {
    "duration": 80,
    "start_time": "2021-10-06T23:42:10.371Z"
   },
   {
    "duration": 13,
    "start_time": "2021-10-06T23:42:10.455Z"
   },
   {
    "duration": 83,
    "start_time": "2021-10-06T23:42:10.470Z"
   },
   {
    "duration": 1819,
    "start_time": "2021-10-08T00:21:45.461Z"
   },
   {
    "duration": 1304,
    "start_time": "2021-10-08T00:21:54.500Z"
   },
   {
    "duration": 20,
    "start_time": "2021-10-08T00:21:55.807Z"
   },
   {
    "duration": 27,
    "start_time": "2021-10-08T00:21:55.830Z"
   },
   {
    "duration": 8,
    "start_time": "2021-10-08T00:21:55.860Z"
   },
   {
    "duration": 7,
    "start_time": "2021-10-08T00:21:55.871Z"
   },
   {
    "duration": 12,
    "start_time": "2021-10-08T00:21:55.880Z"
   },
   {
    "duration": 68,
    "start_time": "2021-10-08T00:21:55.894Z"
   },
   {
    "duration": 5,
    "start_time": "2021-10-08T00:21:55.966Z"
   },
   {
    "duration": 86,
    "start_time": "2021-10-08T00:21:55.976Z"
   },
   {
    "duration": 9,
    "start_time": "2021-10-08T00:21:56.064Z"
   },
   {
    "duration": 89,
    "start_time": "2021-10-08T00:21:56.075Z"
   },
   {
    "duration": 13,
    "start_time": "2021-10-08T00:21:56.259Z"
   },
   {
    "duration": 6,
    "start_time": "2021-10-08T00:21:56.359Z"
   },
   {
    "duration": 7,
    "start_time": "2021-10-08T00:23:57.355Z"
   },
   {
    "duration": 21,
    "start_time": "2021-10-08T00:25:55.037Z"
   },
   {
    "duration": 692,
    "start_time": "2021-10-08T00:26:45.167Z"
   },
   {
    "duration": 1255,
    "start_time": "2021-10-08T00:27:15.701Z"
   },
   {
    "duration": 21,
    "start_time": "2021-10-08T00:27:16.961Z"
   },
   {
    "duration": 19,
    "start_time": "2021-10-08T00:27:16.988Z"
   },
   {
    "duration": 11,
    "start_time": "2021-10-08T00:27:17.010Z"
   },
   {
    "duration": 41,
    "start_time": "2021-10-08T00:27:17.023Z"
   },
   {
    "duration": 16,
    "start_time": "2021-10-08T00:27:17.067Z"
   },
   {
    "duration": 7,
    "start_time": "2021-10-08T00:27:17.086Z"
   },
   {
    "duration": 67,
    "start_time": "2021-10-08T00:27:17.095Z"
   },
   {
    "duration": 9,
    "start_time": "2021-10-08T00:27:17.165Z"
   },
   {
    "duration": 8,
    "start_time": "2021-10-08T00:27:17.257Z"
   },
   {
    "duration": 96,
    "start_time": "2021-10-08T00:27:17.267Z"
   },
   {
    "duration": 192,
    "start_time": "2021-10-08T00:27:17.367Z"
   },
   {
    "duration": 95,
    "start_time": "2021-10-08T00:27:17.562Z"
   },
   {
    "duration": 9,
    "start_time": "2021-10-08T00:27:17.660Z"
   },
   {
    "duration": 91,
    "start_time": "2021-10-08T00:27:17.671Z"
   },
   {
    "duration": 100,
    "start_time": "2021-10-08T00:27:17.765Z"
   },
   {
    "duration": 6,
    "start_time": "2021-10-08T00:28:08.930Z"
   },
   {
    "duration": 8,
    "start_time": "2021-10-08T00:29:07.530Z"
   },
   {
    "duration": 12,
    "start_time": "2021-10-08T00:30:00.117Z"
   },
   {
    "duration": 11,
    "start_time": "2021-10-08T00:30:22.697Z"
   },
   {
    "duration": 15,
    "start_time": "2021-10-08T00:30:27.675Z"
   },
   {
    "duration": 119,
    "start_time": "2021-10-08T00:36:28.673Z"
   },
   {
    "duration": 1349,
    "start_time": "2021-10-08T04:13:55.594Z"
   },
   {
    "duration": 18,
    "start_time": "2021-10-08T04:13:56.946Z"
   },
   {
    "duration": 27,
    "start_time": "2021-10-08T04:13:56.967Z"
   },
   {
    "duration": 9,
    "start_time": "2021-10-08T04:13:56.997Z"
   },
   {
    "duration": 8,
    "start_time": "2021-10-08T04:13:57.009Z"
   },
   {
    "duration": 6,
    "start_time": "2021-10-08T04:13:57.557Z"
   },
   {
    "duration": 10,
    "start_time": "2021-10-08T04:13:57.746Z"
   },
   {
    "duration": 4,
    "start_time": "2021-10-08T04:13:57.938Z"
   },
   {
    "duration": 6,
    "start_time": "2021-10-08T04:13:58.123Z"
   },
   {
    "duration": 9,
    "start_time": "2021-10-08T04:13:58.489Z"
   },
   {
    "duration": 19,
    "start_time": "2021-10-08T04:13:58.671Z"
   },
   {
    "duration": 11,
    "start_time": "2021-10-08T04:13:58.884Z"
   },
   {
    "duration": 6,
    "start_time": "2021-10-08T04:14:00.448Z"
   },
   {
    "duration": 8,
    "start_time": "2021-10-08T04:14:00.637Z"
   },
   {
    "duration": 16,
    "start_time": "2021-10-08T04:14:00.802Z"
   }
  ],
  "kernelspec": {
   "display_name": "Python 3",
   "language": "python",
   "name": "python3"
  },
  "language_info": {
   "codemirror_mode": {
    "name": "ipython",
    "version": 3
   },
   "file_extension": ".py",
   "mimetype": "text/x-python",
   "name": "python",
   "nbconvert_exporter": "python",
   "pygments_lexer": "ipython3",
   "version": "3.8.5"
  },
  "toc": {
   "base_numbering": 1,
   "nav_menu": {},
   "number_sections": true,
   "sideBar": true,
   "skip_h1_title": true,
   "title_cell": "Содержание",
   "title_sidebar": "Contents",
   "toc_cell": true,
   "toc_position": {},
   "toc_section_display": true,
   "toc_window_display": true
  }
 },
 "nbformat": 4,
 "nbformat_minor": 2
}
