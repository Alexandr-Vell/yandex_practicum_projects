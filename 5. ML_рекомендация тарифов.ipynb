{
 "cells": [
  {
   "cell_type": "markdown",
   "metadata": {},
   "source": [
    "# Рекомендация тарифов"
   ]
  },
  {
   "cell_type": "markdown",
   "metadata": {},
   "source": [
    "В распоряжении данные о поведении клиентов, которые уже перешли тарифы. Нужно построить модель для задачи классификации, которая выберет подходящий тариф. Предобработка данных не понадобится."
   ]
  },
  {
   "cell_type": "code",
   "execution_count": 1,
   "metadata": {},
   "outputs": [],
   "source": [
    "import pandas as pd\n",
    "from sklearn.tree import DecisionTreeClassifier\n",
    "from sklearn.linear_model import LogisticRegression\n",
    "from sklearn.ensemble import RandomForestClassifier\n",
    "from sklearn.model_selection import train_test_split\n",
    "from sklearn.metrics import accuracy_score\n",
    "import time\n",
    "import plotly.express as px\n",
    "import plotly.graph_objects as go\n",
    "import matplotlib.pyplot as plt"
   ]
  },
  {
   "cell_type": "code",
   "execution_count": 2,
   "metadata": {},
   "outputs": [
    {
     "data": {
      "text/html": [
       "<div>\n",
       "<style scoped>\n",
       "    .dataframe tbody tr th:only-of-type {\n",
       "        vertical-align: middle;\n",
       "    }\n",
       "\n",
       "    .dataframe tbody tr th {\n",
       "        vertical-align: top;\n",
       "    }\n",
       "\n",
       "    .dataframe thead th {\n",
       "        text-align: right;\n",
       "    }\n",
       "</style>\n",
       "<table border=\"1\" class=\"dataframe\">\n",
       "  <thead>\n",
       "    <tr style=\"text-align: right;\">\n",
       "      <th></th>\n",
       "      <th>calls</th>\n",
       "      <th>minutes</th>\n",
       "      <th>messages</th>\n",
       "      <th>mb_used</th>\n",
       "      <th>is_ultra</th>\n",
       "    </tr>\n",
       "  </thead>\n",
       "  <tbody>\n",
       "    <tr>\n",
       "      <td>0</td>\n",
       "      <td>40.0</td>\n",
       "      <td>311.90</td>\n",
       "      <td>83.0</td>\n",
       "      <td>19915.42</td>\n",
       "      <td>0</td>\n",
       "    </tr>\n",
       "    <tr>\n",
       "      <td>1</td>\n",
       "      <td>85.0</td>\n",
       "      <td>516.75</td>\n",
       "      <td>56.0</td>\n",
       "      <td>22696.96</td>\n",
       "      <td>0</td>\n",
       "    </tr>\n",
       "    <tr>\n",
       "      <td>2</td>\n",
       "      <td>77.0</td>\n",
       "      <td>467.66</td>\n",
       "      <td>86.0</td>\n",
       "      <td>21060.45</td>\n",
       "      <td>0</td>\n",
       "    </tr>\n",
       "    <tr>\n",
       "      <td>3</td>\n",
       "      <td>106.0</td>\n",
       "      <td>745.53</td>\n",
       "      <td>81.0</td>\n",
       "      <td>8437.39</td>\n",
       "      <td>1</td>\n",
       "    </tr>\n",
       "    <tr>\n",
       "      <td>4</td>\n",
       "      <td>66.0</td>\n",
       "      <td>418.74</td>\n",
       "      <td>1.0</td>\n",
       "      <td>14502.75</td>\n",
       "      <td>0</td>\n",
       "    </tr>\n",
       "    <tr>\n",
       "      <td>...</td>\n",
       "      <td>...</td>\n",
       "      <td>...</td>\n",
       "      <td>...</td>\n",
       "      <td>...</td>\n",
       "      <td>...</td>\n",
       "    </tr>\n",
       "    <tr>\n",
       "      <td>3209</td>\n",
       "      <td>122.0</td>\n",
       "      <td>910.98</td>\n",
       "      <td>20.0</td>\n",
       "      <td>35124.90</td>\n",
       "      <td>1</td>\n",
       "    </tr>\n",
       "    <tr>\n",
       "      <td>3210</td>\n",
       "      <td>25.0</td>\n",
       "      <td>190.36</td>\n",
       "      <td>0.0</td>\n",
       "      <td>3275.61</td>\n",
       "      <td>0</td>\n",
       "    </tr>\n",
       "    <tr>\n",
       "      <td>3211</td>\n",
       "      <td>97.0</td>\n",
       "      <td>634.44</td>\n",
       "      <td>70.0</td>\n",
       "      <td>13974.06</td>\n",
       "      <td>0</td>\n",
       "    </tr>\n",
       "    <tr>\n",
       "      <td>3212</td>\n",
       "      <td>64.0</td>\n",
       "      <td>462.32</td>\n",
       "      <td>90.0</td>\n",
       "      <td>31239.78</td>\n",
       "      <td>0</td>\n",
       "    </tr>\n",
       "    <tr>\n",
       "      <td>3213</td>\n",
       "      <td>80.0</td>\n",
       "      <td>566.09</td>\n",
       "      <td>6.0</td>\n",
       "      <td>29480.52</td>\n",
       "      <td>1</td>\n",
       "    </tr>\n",
       "  </tbody>\n",
       "</table>\n",
       "<p>3214 rows × 5 columns</p>\n",
       "</div>"
      ],
      "text/plain": [
       "      calls  minutes  messages   mb_used  is_ultra\n",
       "0      40.0   311.90      83.0  19915.42         0\n",
       "1      85.0   516.75      56.0  22696.96         0\n",
       "2      77.0   467.66      86.0  21060.45         0\n",
       "3     106.0   745.53      81.0   8437.39         1\n",
       "4      66.0   418.74       1.0  14502.75         0\n",
       "...     ...      ...       ...       ...       ...\n",
       "3209  122.0   910.98      20.0  35124.90         1\n",
       "3210   25.0   190.36       0.0   3275.61         0\n",
       "3211   97.0   634.44      70.0  13974.06         0\n",
       "3212   64.0   462.32      90.0  31239.78         0\n",
       "3213   80.0   566.09       6.0  29480.52         1\n",
       "\n",
       "[3214 rows x 5 columns]"
      ]
     },
     "execution_count": 2,
     "metadata": {},
     "output_type": "execute_result"
    }
   ],
   "source": [
    "df = pd.read_csv('/datasets/users_behavior.csv')\n",
    "df"
   ]
  },
  {
   "cell_type": "code",
   "execution_count": 3,
   "metadata": {},
   "outputs": [
    {
     "name": "stdout",
     "output_type": "stream",
     "text": [
      "<class 'pandas.core.frame.DataFrame'>\n",
      "RangeIndex: 3214 entries, 0 to 3213\n",
      "Data columns (total 5 columns):\n",
      "calls       3214 non-null float64\n",
      "minutes     3214 non-null float64\n",
      "messages    3214 non-null float64\n",
      "mb_used     3214 non-null float64\n",
      "is_ultra    3214 non-null int64\n",
      "dtypes: float64(4), int64(1)\n",
      "memory usage: 125.7 KB\n"
     ]
    }
   ],
   "source": [
    "df.info()"
   ]
  },
  {
   "cell_type": "code",
   "execution_count": 4,
   "metadata": {},
   "outputs": [
    {
     "data": {
      "text/html": [
       "<div>\n",
       "<style scoped>\n",
       "    .dataframe tbody tr th:only-of-type {\n",
       "        vertical-align: middle;\n",
       "    }\n",
       "\n",
       "    .dataframe tbody tr th {\n",
       "        vertical-align: top;\n",
       "    }\n",
       "\n",
       "    .dataframe thead th {\n",
       "        text-align: right;\n",
       "    }\n",
       "</style>\n",
       "<table border=\"1\" class=\"dataframe\">\n",
       "  <thead>\n",
       "    <tr style=\"text-align: right;\">\n",
       "      <th></th>\n",
       "      <th>calls</th>\n",
       "      <th>minutes</th>\n",
       "      <th>messages</th>\n",
       "      <th>mb_used</th>\n",
       "      <th>is_ultra</th>\n",
       "    </tr>\n",
       "  </thead>\n",
       "  <tbody>\n",
       "    <tr>\n",
       "      <td>count</td>\n",
       "      <td>3214.000000</td>\n",
       "      <td>3214.000000</td>\n",
       "      <td>3214.000000</td>\n",
       "      <td>3214.000000</td>\n",
       "      <td>3214.000000</td>\n",
       "    </tr>\n",
       "    <tr>\n",
       "      <td>mean</td>\n",
       "      <td>63.038892</td>\n",
       "      <td>438.208787</td>\n",
       "      <td>38.281269</td>\n",
       "      <td>17207.673836</td>\n",
       "      <td>0.306472</td>\n",
       "    </tr>\n",
       "    <tr>\n",
       "      <td>std</td>\n",
       "      <td>33.236368</td>\n",
       "      <td>234.569872</td>\n",
       "      <td>36.148326</td>\n",
       "      <td>7570.968246</td>\n",
       "      <td>0.461100</td>\n",
       "    </tr>\n",
       "    <tr>\n",
       "      <td>min</td>\n",
       "      <td>0.000000</td>\n",
       "      <td>0.000000</td>\n",
       "      <td>0.000000</td>\n",
       "      <td>0.000000</td>\n",
       "      <td>0.000000</td>\n",
       "    </tr>\n",
       "    <tr>\n",
       "      <td>25%</td>\n",
       "      <td>40.000000</td>\n",
       "      <td>274.575000</td>\n",
       "      <td>9.000000</td>\n",
       "      <td>12491.902500</td>\n",
       "      <td>0.000000</td>\n",
       "    </tr>\n",
       "    <tr>\n",
       "      <td>50%</td>\n",
       "      <td>62.000000</td>\n",
       "      <td>430.600000</td>\n",
       "      <td>30.000000</td>\n",
       "      <td>16943.235000</td>\n",
       "      <td>0.000000</td>\n",
       "    </tr>\n",
       "    <tr>\n",
       "      <td>75%</td>\n",
       "      <td>82.000000</td>\n",
       "      <td>571.927500</td>\n",
       "      <td>57.000000</td>\n",
       "      <td>21424.700000</td>\n",
       "      <td>1.000000</td>\n",
       "    </tr>\n",
       "    <tr>\n",
       "      <td>max</td>\n",
       "      <td>244.000000</td>\n",
       "      <td>1632.060000</td>\n",
       "      <td>224.000000</td>\n",
       "      <td>49745.730000</td>\n",
       "      <td>1.000000</td>\n",
       "    </tr>\n",
       "  </tbody>\n",
       "</table>\n",
       "</div>"
      ],
      "text/plain": [
       "             calls      minutes     messages       mb_used     is_ultra\n",
       "count  3214.000000  3214.000000  3214.000000   3214.000000  3214.000000\n",
       "mean     63.038892   438.208787    38.281269  17207.673836     0.306472\n",
       "std      33.236368   234.569872    36.148326   7570.968246     0.461100\n",
       "min       0.000000     0.000000     0.000000      0.000000     0.000000\n",
       "25%      40.000000   274.575000     9.000000  12491.902500     0.000000\n",
       "50%      62.000000   430.600000    30.000000  16943.235000     0.000000\n",
       "75%      82.000000   571.927500    57.000000  21424.700000     1.000000\n",
       "max     244.000000  1632.060000   224.000000  49745.730000     1.000000"
      ]
     },
     "execution_count": 4,
     "metadata": {},
     "output_type": "execute_result"
    }
   ],
   "source": [
    "df.describe()"
   ]
  },
  {
   "cell_type": "code",
   "execution_count": 5,
   "metadata": {},
   "outputs": [],
   "source": [
    "df_train, df_valid = train_test_split(df, test_size=0.4, random_state=12345)\n",
    "df_valid, df_test = train_test_split(df_valid, test_size=0.5, random_state=12345)\n",
    "\n",
    "features_train = df_train.drop(['is_ultra'], axis=1)\n",
    "target_train = df_train['is_ultra']\n",
    "\n",
    "features_valid = df_valid.drop(['is_ultra'], axis=1)\n",
    "target_valid = df_valid['is_ultra']\n",
    "\n",
    "features_test = df_test.drop(['is_ultra'], axis=1)\n",
    "target_test = df_test['is_ultra']"
   ]
  },
  {
   "cell_type": "markdown",
   "metadata": {},
   "source": [
    "Отдал под валидационную выборку 40% данных, чтобы потом разделить ее еще и на тестовую по 20%. Итого: Обучающая = 60%, Валидационная = 20%, Тестовая = 20%"
   ]
  },
  {
   "cell_type": "code",
   "execution_count": 6,
   "metadata": {},
   "outputs": [
    {
     "data": {
      "text/plain": [
       "((1928, 4), (643, 4), (643, 4))"
      ]
     },
     "execution_count": 6,
     "metadata": {},
     "output_type": "execute_result"
    }
   ],
   "source": [
    "features_train.shape, features_valid.shape, features_test.shape"
   ]
  },
  {
   "cell_type": "markdown",
   "metadata": {},
   "source": [
    "# Случайный лес"
   ]
  },
  {
   "cell_type": "code",
   "execution_count": 7,
   "metadata": {},
   "outputs": [
    {
     "name": "stdout",
     "output_type": "stream",
     "text": [
      "Accuracy наилучшей модели на валидационной выборке: 0.8087091757387247 , Лучший est: 40 , Глубина: 8\n"
     ]
    }
   ],
   "source": [
    "best_mоdel_forest = None\n",
    "best_result_forest = 0\n",
    "best_est_forest = 0\n",
    "best_depth_forest = 0\n",
    "\n",
    "for est in range(10, 71, 5):\n",
    "    for depth in range(1, 21):\n",
    "        \n",
    "        model_forest = RandomForestClassifier(random_state=12345, n_estimators=est, max_depth=depth)\n",
    "        model_forest.fit(features_train, target_train) \n",
    "        predict_valid_forest = model_forest.predict(features_valid) \n",
    "        result_forest = accuracy_score(target_valid, predict_valid_forest)\n",
    "    \n",
    "        if result_forest > best_result_forest:\n",
    "            best_model_forest = model_forest\n",
    "            best_result_forest = result_forest\n",
    "            best_est_forest = est\n",
    "            best_depth_forest = depth\n",
    "        \n",
    "print(\"Accuracy наилучшей модели на валидационной выборке:\", best_result_forest, ', Лучший est:', best_est_forest, ', Глубина:', best_depth_forest)"
   ]
  },
  {
   "cell_type": "markdown",
   "metadata": {},
   "source": [
    "# Логистическая регрессия"
   ]
  },
  {
   "cell_type": "code",
   "execution_count": 8,
   "metadata": {},
   "outputs": [
    {
     "name": "stdout",
     "output_type": "stream",
     "text": [
      "Accuracy модели логистической регрессии на валидационной выборке: 0.7589424572317263\n"
     ]
    },
    {
     "name": "stderr",
     "output_type": "stream",
     "text": [
      "/opt/conda/lib/python3.7/site-packages/sklearn/linear_model/logistic.py:432: FutureWarning:\n",
      "\n",
      "Default solver will be changed to 'lbfgs' in 0.22. Specify a solver to silence this warning.\n",
      "\n"
     ]
    }
   ],
   "source": [
    "model_log = LogisticRegression(random_state=12345)\n",
    "model_log.fit(features_train, target_train)\n",
    "predict_log = model_log.predict(features_valid)\n",
    "result_log = accuracy_score(target_valid, predict_log)\n",
    "\n",
    "print(\"Accuracy модели логистической регрессии на валидационной выборке:\", result_log)"
   ]
  },
  {
   "cell_type": "markdown",
   "metadata": {},
   "source": [
    "# Решающее дерево"
   ]
  },
  {
   "cell_type": "code",
   "execution_count": 9,
   "metadata": {},
   "outputs": [
    {
     "name": "stdout",
     "output_type": "stream",
     "text": [
      "Accuracy лучшей модели: 0.7853810264385692 , Глубина: 3\n"
     ]
    }
   ],
   "source": [
    "best_model_tree = None\n",
    "best_result_tree = 0\n",
    "best_depth_tree = 0\n",
    "\n",
    "for depth_tree in range(1, 11):\n",
    "    model_tree = DecisionTreeClassifier(random_state=12345, max_depth=depth_tree)\n",
    "    model_tree.fit(features_train, target_train)\n",
    "    predict_tree = model_tree.predict(features_valid)\n",
    "    result_tree = accuracy_score(target_valid, predict_tree)\n",
    "    \n",
    "    if result_tree > best_result_tree:\n",
    "        best_model_tree = model_tree\n",
    "        best_result_tree = result_tree\n",
    "        best_depth_tree = depth_tree\n",
    "        \n",
    "print('Accuracy лучшей модели:', best_result_tree, ', Глубина:', best_depth_tree)"
   ]
  },
  {
   "cell_type": "markdown",
   "metadata": {},
   "source": [
    "# Решающее дерево тестовая выборка"
   ]
  },
  {
   "cell_type": "code",
   "execution_count": 10,
   "metadata": {},
   "outputs": [
    {
     "name": "stdout",
     "output_type": "stream",
     "text": [
      "Accuracy решающего дерева на тестовой выборке: 0.7791601866251944\n",
      "\n",
      "Скорость: 0.007317066192626953 s\n"
     ]
    }
   ],
   "source": [
    "start = time.time() #измерю скорость работы\n",
    "\n",
    "model_tree_test = DecisionTreeClassifier(random_state=12345, max_depth=3)\n",
    "model_tree_test.fit(features_train, target_train)\n",
    "predict_tree_test = model_tree_test.predict(features_test)\n",
    "result_tree_test = accuracy_score(target_test, predict_tree_test)\n",
    "\n",
    "print('Accuracy решающего дерева на тестовой выборке:', result_tree_test)\n",
    "print()\n",
    "\n",
    "#измерю скорость работы\n",
    "\n",
    "end = time.time()\n",
    "print('Скорость:', end - start, 's')"
   ]
  },
  {
   "cell_type": "markdown",
   "metadata": {},
   "source": [
    "# Логистическая регрессия тестовая выборка"
   ]
  },
  {
   "cell_type": "code",
   "execution_count": 11,
   "metadata": {},
   "outputs": [
    {
     "name": "stdout",
     "output_type": "stream",
     "text": [
      "Accuracy модели логистической регрессии на тестовой выборке: 0.7402799377916018\n",
      "\n",
      "Скорость: 0.022235870361328125 s\n"
     ]
    },
    {
     "name": "stderr",
     "output_type": "stream",
     "text": [
      "/opt/conda/lib/python3.7/site-packages/sklearn/linear_model/logistic.py:432: FutureWarning:\n",
      "\n",
      "Default solver will be changed to 'lbfgs' in 0.22. Specify a solver to silence this warning.\n",
      "\n"
     ]
    }
   ],
   "source": [
    "start = time.time() #измерю скорость работы\n",
    "\n",
    "model_log_test = LogisticRegression(random_state=12345)\n",
    "model_log_test.fit(features_train, target_train)\n",
    "predict_log_test = model_log.predict(features_test)\n",
    "result_log_test = accuracy_score(target_test, predict_log_test)\n",
    "\n",
    "print(\"Accuracy модели логистической регрессии на тестовой выборке:\", result_log_test)\n",
    "print()\n",
    "\n",
    "#измерю скорость работы\n",
    "\n",
    "end = time.time()\n",
    "print('Скорость:', end - start, 's')"
   ]
  },
  {
   "cell_type": "markdown",
   "metadata": {},
   "source": [
    "# Случайный лес тестовая выборка"
   ]
  },
  {
   "cell_type": "code",
   "execution_count": 12,
   "metadata": {},
   "outputs": [
    {
     "name": "stdout",
     "output_type": "stream",
     "text": [
      "Accuracy случайного леса на тестовой выборке: 0.7962674961119751\n",
      "\n",
      "Скорость: 0.16064882278442383 s\n"
     ]
    }
   ],
   "source": [
    "start = time.time() #измерю скорость работы\n",
    "\n",
    "model_forest_test = RandomForestClassifier(random_state=12345, n_estimators=40, max_depth=8)\n",
    "model_forest_test.fit(features_train, target_train) \n",
    "predict_test_forest = model_forest_test.predict(features_test) \n",
    "result_forest_test = accuracy_score(target_test, predict_test_forest)\n",
    "\n",
    "print(\"Accuracy случайного леса на тестовой выборке:\", result_forest_test)\n",
    "print()\n",
    "\n",
    "#измерю скорость работы\n",
    "\n",
    "end = time.time()\n",
    "print('Скорость:', end - start, 's')"
   ]
  },
  {
   "cell_type": "markdown",
   "metadata": {},
   "source": [
    "# Сравнение моделей"
   ]
  },
  {
   "cell_type": "code",
   "execution_count": 13,
   "metadata": {},
   "outputs": [
    {
     "data": {
      "text/html": [
       "<div>\n",
       "<style scoped>\n",
       "    .dataframe tbody tr th:only-of-type {\n",
       "        vertical-align: middle;\n",
       "    }\n",
       "\n",
       "    .dataframe tbody tr th {\n",
       "        vertical-align: top;\n",
       "    }\n",
       "\n",
       "    .dataframe thead th {\n",
       "        text-align: right;\n",
       "    }\n",
       "</style>\n",
       "<table border=\"1\" class=\"dataframe\">\n",
       "  <thead>\n",
       "    <tr style=\"text-align: right;\">\n",
       "      <th></th>\n",
       "      <th>model</th>\n",
       "      <th>valid</th>\n",
       "      <th>test</th>\n",
       "      <th>speed</th>\n",
       "    </tr>\n",
       "  </thead>\n",
       "  <tbody>\n",
       "    <tr>\n",
       "      <td>0</td>\n",
       "      <td>log</td>\n",
       "      <td>0.758942</td>\n",
       "      <td>0.740280</td>\n",
       "      <td>0.0192</td>\n",
       "    </tr>\n",
       "    <tr>\n",
       "      <td>1</td>\n",
       "      <td>forest</td>\n",
       "      <td>0.808709</td>\n",
       "      <td>0.796267</td>\n",
       "      <td>0.1614</td>\n",
       "    </tr>\n",
       "    <tr>\n",
       "      <td>2</td>\n",
       "      <td>tree</td>\n",
       "      <td>0.785381</td>\n",
       "      <td>0.779160</td>\n",
       "      <td>0.0067</td>\n",
       "    </tr>\n",
       "  </tbody>\n",
       "</table>\n",
       "</div>"
      ],
      "text/plain": [
       "    model     valid      test   speed\n",
       "0     log  0.758942  0.740280  0.0192\n",
       "1  forest  0.808709  0.796267  0.1614\n",
       "2    tree  0.785381  0.779160  0.0067"
      ]
     },
     "execution_count": 13,
     "metadata": {},
     "output_type": "execute_result"
    }
   ],
   "source": [
    "df_models = pd.DataFrame([['log', result_log, result_log_test, 0.0192],\n",
    "                          ['forest', best_result_forest, result_forest_test, 0.1614],\n",
    "                          ['tree', best_result_tree, result_tree_test, 0.0067]], \n",
    "columns=['model','valid', 'test', 'speed'])\n",
    "\n",
    "df_models"
   ]
  },
  {
   "cell_type": "code",
   "execution_count": 14,
   "metadata": {},
   "outputs": [],
   "source": [
    "#отсоединю колонку \"скорость\", чтобы график показывал только качество\n",
    "\n",
    "df_accuracy = df_models.drop(['speed'], axis=1)\n",
    "df_speed = df_models[['model', 'speed']]"
   ]
  },
  {
   "cell_type": "code",
   "execution_count": 15,
   "metadata": {},
   "outputs": [
    {
     "data": {
      "text/plain": [
       "(array([0, 1, 2]), <a list of 3 Text xticklabel objects>)"
      ]
     },
     "execution_count": 15,
     "metadata": {},
     "output_type": "execute_result"
    },
    {
     "data": {
      "image/png": "[encoded data removed]",
      "text/plain": [
       "<Figure size 864x576 with 1 Axes>"
      ]
     },
     "metadata": {},
     "output_type": "display_data"
    }
   ],
   "source": [
    "df_accuracy.set_index('model',inplace=True)\n",
    "\n",
    "plt.style.use('ggplot')\n",
    "ax = df_accuracy.plot.bar(figsize=(12,8))\n",
    "\n",
    "ax.grid(True)\n",
    "ax.legend(['valid', 'test'])\n",
    "ax.set(ylabel='Accuracy', xlabel='Models', title='Сравнение качества моделей')\n",
    "plt.xticks(rotation=360)"
   ]
  },
  {
   "cell_type": "markdown",
   "metadata": {},
   "source": [
    "Модель \"Случайный лес\" получает более точный результат, но работает медленне всех. \"Решающее дерево\" показывает средний результат по качеству предсказаний, но работает быстрее всех."
   ]
  },
  {
   "cell_type": "markdown",
   "metadata": {},
   "source": [
    "# Посмотрю, как ошибался алгоритм \"Случайный лес\""
   ]
  },
  {
   "cell_type": "code",
   "execution_count": 17,
   "metadata": {},
   "outputs": [
    {
     "data": {
      "text/plain": [
       "<matplotlib.axes._subplots.AxesSubplot at 0x7f0445f71890>"
      ]
     },
     "execution_count": 17,
     "metadata": {},
     "output_type": "execute_result"
    },
    {
     "data": {
      "image/png": "[encoded data removed]",
      "text/plain": [
       "<Figure size 1152x504 with 2 Axes>"
      ]
     },
     "metadata": {},
     "output_type": "display_data"
    }
   ],
   "source": [
    "from sklearn.metrics import confusion_matrix\n",
    "import numpy as np\n",
    "import seaborn as sns\n",
    "\n",
    "matrix = confusion_matrix(target_test, predict_test_forest)\n",
    "matrix = matrix.astype('float') / matrix.sum(axis = 1)[:, np.newaxis]\n",
    "\n",
    "plt.figure(figsize=(16, 7))\n",
    "sns.set(font_scale=1.4)\n",
    "sns.heatmap(matrix, annot=True, annot_kws={'size':10}, cmap=plt.cm.Blues, linewidths=0.2)"
   ]
  },
  {
   "cell_type": "markdown",
   "metadata": {},
   "source": [
    "В 92% случаев алгоритм определил верно тариф \"Смарт\"(0), ошибся с тарифом \"Смарт\" в 8% случаев. С тарифом \"Ультра\"(1) он справился хуже и работал чуть лучше случайного подбора."
   ]
  },
  {
   "cell_type": "markdown",
   "metadata": {},
   "source": [
    "## Проверка моделей на адекватность"
   ]
  },
  {
   "cell_type": "code",
   "execution_count": 22,
   "metadata": {},
   "outputs": [
    {
     "name": "stdout",
     "output_type": "stream",
     "text": [
      "Качество dummy: 0.6842923794712286\n"
     ]
    }
   ],
   "source": [
    "model_dum = DummyClassifier(strategy='constant', constant= 0)\n",
    "# лучше задать model_dum = DummyClassifier(strategy='most_frequent', constant= 0)\n",
    "# тогда не придется задавать по какой константе оценивать: нулю или единице\n",
    "# также можно работать только с одной парой выборок, например, с тестовыми (как в примере в документации)\n",
    "\n",
    "model_dum.fit(features_train, target_train) \n",
    "predict_dum = model_dum.predict(features_train) \n",
    "result_dum = model_dum.score(features_test, target_test)\n",
    "\n",
    "print(\"Качество dummy:\", result_dum)"
   ]
  }
 ],
 "metadata": {
  "ExecuteTimeLog": [
   {
    "duration": 392,
    "start_time": "2021-06-25T21:31:09.593Z"
   },
   {
    "duration": 769,
    "start_time": "2021-06-25T21:31:11.957Z"
   },
   {
    "duration": 39,
    "start_time": "2021-06-25T21:31:13.662Z"
   },
   {
    "duration": 394,
    "start_time": "2021-06-25T21:31:31.722Z"
   },
   {
    "duration": 363,
    "start_time": "2021-06-25T21:31:35.852Z"
   },
   {
    "duration": 24,
    "start_time": "2021-06-25T21:31:39.735Z"
   },
   {
    "duration": 41,
    "start_time": "2021-06-25T21:31:48.030Z"
   },
   {
    "duration": 589,
    "start_time": "2021-06-25T21:37:33.428Z"
   },
   {
    "duration": 5,
    "start_time": "2021-06-25T21:44:24.774Z"
   },
   {
    "duration": 4,
    "start_time": "2021-06-25T21:56:08.631Z"
   },
   {
    "duration": 5,
    "start_time": "2021-06-25T21:56:11.975Z"
   },
   {
    "duration": 6,
    "start_time": "2021-06-25T21:56:13.522Z"
   },
   {
    "duration": 136,
    "start_time": "2021-06-25T21:56:18.501Z"
   },
   {
    "duration": 121,
    "start_time": "2021-06-25T22:01:59.730Z"
   },
   {
    "duration": 4,
    "start_time": "2021-06-25T22:02:04.126Z"
   },
   {
    "duration": 123,
    "start_time": "2021-06-25T22:02:06.065Z"
   },
   {
    "duration": 79,
    "start_time": "2021-06-25T22:02:13.366Z"
   },
   {
    "duration": 3,
    "start_time": "2021-06-25T22:02:17.184Z"
   },
   {
    "duration": 78,
    "start_time": "2021-06-25T22:02:26.599Z"
   },
   {
    "duration": 4,
    "start_time": "2021-06-25T22:02:41.764Z"
   },
   {
    "duration": 78,
    "start_time": "2021-06-25T22:02:45.082Z"
   },
   {
    "duration": 78,
    "start_time": "2021-06-25T22:02:54.108Z"
   },
   {
    "duration": 3,
    "start_time": "2021-06-25T22:02:57.908Z"
   },
   {
    "duration": 79,
    "start_time": "2021-06-25T22:02:59.542Z"
   },
   {
    "duration": 81,
    "start_time": "2021-06-25T22:03:29.051Z"
   },
   {
    "duration": 79,
    "start_time": "2021-06-25T22:03:44.165Z"
   },
   {
    "duration": 34,
    "start_time": "2021-06-25T22:07:24.174Z"
   },
   {
    "duration": 66,
    "start_time": "2021-06-25T22:07:31.298Z"
   },
   {
    "duration": 4,
    "start_time": "2021-06-25T22:07:33.985Z"
   },
   {
    "duration": 66,
    "start_time": "2021-06-25T22:07:35.742Z"
   },
   {
    "duration": 1410,
    "start_time": "2021-06-25T22:07:45.983Z"
   },
   {
    "duration": 43,
    "start_time": "2021-06-25T22:07:47.395Z"
   },
   {
    "duration": 5,
    "start_time": "2021-06-25T22:07:47.441Z"
   },
   {
    "duration": 20,
    "start_time": "2021-06-25T22:07:47.448Z"
   },
   {
    "duration": 6,
    "start_time": "2021-06-25T22:07:47.470Z"
   },
   {
    "duration": 90,
    "start_time": "2021-06-25T22:07:47.478Z"
   },
   {
    "duration": 4,
    "start_time": "2021-06-25T22:08:47.485Z"
   },
   {
    "duration": 1416,
    "start_time": "2021-06-25T22:08:54.582Z"
   },
   {
    "duration": 42,
    "start_time": "2021-06-25T22:08:56.001Z"
   },
   {
    "duration": 5,
    "start_time": "2021-06-25T22:08:56.046Z"
   },
   {
    "duration": 13,
    "start_time": "2021-06-25T22:08:56.054Z"
   },
   {
    "duration": 5,
    "start_time": "2021-06-25T22:08:56.070Z"
   },
   {
    "duration": 91,
    "start_time": "2021-06-25T22:08:56.078Z"
   },
   {
    "duration": 4,
    "start_time": "2021-06-25T22:12:48.496Z"
   },
   {
    "duration": 12270,
    "start_time": "2021-06-25T22:24:09.677Z"
   },
   {
    "duration": 4,
    "start_time": "2021-06-25T22:25:55.886Z"
   },
   {
    "duration": 19869,
    "start_time": "2021-06-25T22:26:00.719Z"
   },
   {
    "duration": 19271,
    "start_time": "2021-06-25T22:36:18.827Z"
   },
   {
    "duration": 84,
    "start_time": "2021-06-25T22:36:38.102Z"
   },
   {
    "duration": 19022,
    "start_time": "2021-06-25T22:41:27.433Z"
   },
   {
    "duration": 563,
    "start_time": "2021-06-25T22:44:31.082Z"
   },
   {
    "duration": 13,
    "start_time": "2021-06-25T22:44:56.493Z"
   },
   {
    "duration": 5,
    "start_time": "2021-06-25T22:47:47.158Z"
   },
   {
    "duration": 359,
    "start_time": "2021-06-25T22:48:40.997Z"
   },
   {
    "duration": 341,
    "start_time": "2021-06-25T22:49:40.743Z"
   },
   {
    "duration": 318,
    "start_time": "2021-06-25T22:49:46.653Z"
   },
   {
    "duration": 396,
    "start_time": "2021-06-25T22:53:45.074Z"
   },
   {
    "duration": 29411,
    "start_time": "2021-06-25T23:02:46.882Z"
   },
   {
    "duration": 5,
    "start_time": "2021-06-25T23:04:09.377Z"
   },
   {
    "duration": 331,
    "start_time": "2021-06-25T23:12:43.064Z"
   },
   {
    "duration": 14,
    "start_time": "2021-06-25T23:19:01.624Z"
   },
   {
    "duration": 404,
    "start_time": "2021-06-25T23:19:30.186Z"
   },
   {
    "duration": 6,
    "start_time": "2021-06-25T23:20:25.461Z"
   },
   {
    "duration": 15,
    "start_time": "2021-06-25T23:20:37.125Z"
   },
   {
    "duration": 361,
    "start_time": "2021-06-26T14:37:42.613Z"
   },
   {
    "duration": 1362,
    "start_time": "2021-06-26T14:38:22.400Z"
   },
   {
    "duration": 42,
    "start_time": "2021-06-26T14:38:23.764Z"
   },
   {
    "duration": 20,
    "start_time": "2021-06-26T14:38:23.809Z"
   },
   {
    "duration": 6,
    "start_time": "2021-06-26T14:38:23.832Z"
   },
   {
    "duration": 60,
    "start_time": "2021-06-26T14:38:23.841Z"
   },
   {
    "duration": 22,
    "start_time": "2021-06-26T14:38:23.903Z"
   },
   {
    "duration": 16556,
    "start_time": "2021-06-26T14:38:23.927Z"
   },
   {
    "duration": 10,
    "start_time": "2021-06-26T14:38:40.486Z"
   },
   {
    "duration": 32,
    "start_time": "2021-06-26T14:38:40.499Z"
   },
   {
    "duration": 422,
    "start_time": "2021-06-26T14:38:40.533Z"
   },
   {
    "duration": -2205,
    "start_time": "2021-06-26T14:38:43.163Z"
   },
   {
    "duration": -2205,
    "start_time": "2021-06-26T14:38:43.164Z"
   },
   {
    "duration": 5,
    "start_time": "2021-06-26T14:39:15.425Z"
   },
   {
    "duration": 96,
    "start_time": "2021-06-26T14:45:24.945Z"
   },
   {
    "duration": 94,
    "start_time": "2021-06-26T14:45:44.345Z"
   },
   {
    "duration": 2295,
    "start_time": "2021-06-26T14:46:38.473Z"
   },
   {
    "duration": 3950,
    "start_time": "2021-06-26T14:47:47.069Z"
   },
   {
    "duration": 2396,
    "start_time": "2021-06-26T14:48:02.289Z"
   },
   {
    "duration": 10718,
    "start_time": "2021-06-26T14:48:20.903Z"
   },
   {
    "duration": 59,
    "start_time": "2021-06-26T14:49:03.616Z"
   },
   {
    "duration": 4,
    "start_time": "2021-06-26T14:49:06.309Z"
   },
   {
    "duration": 87,
    "start_time": "2021-06-26T14:49:07.874Z"
   },
   {
    "duration": 333,
    "start_time": "2021-06-26T15:01:11.447Z"
   },
   {
    "duration": 12650,
    "start_time": "2021-06-26T15:01:42.736Z"
   },
   {
    "duration": 12478,
    "start_time": "2021-06-26T15:02:14.627Z"
   },
   {
    "duration": 318,
    "start_time": "2021-06-26T15:04:01.317Z"
   },
   {
    "duration": 9243,
    "start_time": "2021-06-26T15:07:12.354Z"
   },
   {
    "duration": 12533,
    "start_time": "2021-06-26T15:07:31.932Z"
   },
   {
    "duration": 9429,
    "start_time": "2021-06-26T15:08:47.964Z"
   },
   {
    "duration": 9225,
    "start_time": "2021-06-26T15:09:11.171Z"
   },
   {
    "duration": 81150,
    "start_time": "2021-06-26T15:09:49.601Z"
   },
   {
    "duration": 29495,
    "start_time": "2021-06-26T15:12:21.593Z"
   },
   {
    "duration": 12601,
    "start_time": "2021-06-26T15:21:11.325Z"
   },
   {
    "duration": 12759,
    "start_time": "2021-06-26T15:34:06.950Z"
   },
   {
    "duration": 14759,
    "start_time": "2021-06-26T15:34:56.091Z"
   },
   {
    "duration": 14733,
    "start_time": "2021-06-26T15:35:23.485Z"
   },
   {
    "duration": 5088,
    "start_time": "2021-06-26T15:35:51.424Z"
   },
   {
    "duration": 17374,
    "start_time": "2021-06-26T15:36:08.922Z"
   },
   {
    "duration": 4,
    "start_time": "2021-06-26T23:10:28.499Z"
   },
   {
    "duration": 307,
    "start_time": "2021-06-26T23:13:12.474Z"
   },
   {
    "duration": 1350,
    "start_time": "2021-06-26T23:13:22.742Z"
   },
   {
    "duration": 43,
    "start_time": "2021-06-26T23:13:24.094Z"
   },
   {
    "duration": 20,
    "start_time": "2021-06-26T23:13:24.140Z"
   },
   {
    "duration": 438,
    "start_time": "2021-06-26T23:13:24.162Z"
   },
   {
    "duration": 287,
    "start_time": "2021-06-26T23:13:38.304Z"
   },
   {
    "duration": 308,
    "start_time": "2021-06-26T23:13:48.531Z"
   },
   {
    "duration": 290,
    "start_time": "2021-06-26T23:13:59.175Z"
   },
   {
    "duration": 278,
    "start_time": "2021-06-26T23:14:11.645Z"
   },
   {
    "duration": 17202,
    "start_time": "2021-06-26T23:14:18.289Z"
   },
   {
    "duration": 42480,
    "start_time": "2021-06-26T23:14:47.067Z"
   },
   {
    "duration": 1555,
    "start_time": "2021-06-28T16:39:44.212Z"
   },
   {
    "duration": 505,
    "start_time": "2021-06-28T16:42:52.211Z"
   },
   {
    "duration": 1483,
    "start_time": "2021-06-28T16:43:01.775Z"
   },
   {
    "duration": 44,
    "start_time": "2021-06-28T16:43:03.261Z"
   },
   {
    "duration": 15,
    "start_time": "2021-06-28T16:43:03.308Z"
   },
   {
    "duration": 44654,
    "start_time": "2021-06-28T16:43:03.326Z"
   },
   {
    "duration": 40,
    "start_time": "2021-06-28T16:43:47.982Z"
   },
   {
    "duration": 5,
    "start_time": "2021-06-28T16:48:04.026Z"
   },
   {
    "duration": 1443,
    "start_time": "2021-06-28T16:48:11.617Z"
   },
   {
    "duration": 43,
    "start_time": "2021-06-28T16:48:13.063Z"
   },
   {
    "duration": 16,
    "start_time": "2021-06-28T16:48:13.109Z"
   },
   {
    "duration": 45623,
    "start_time": "2021-06-28T16:48:13.127Z"
   },
   {
    "duration": 29,
    "start_time": "2021-06-28T16:48:58.753Z"
   },
   {
    "duration": 487,
    "start_time": "2021-06-28T16:56:25.380Z"
   },
   {
    "duration": 36,
    "start_time": "2021-06-28T16:56:58.985Z"
   },
   {
    "duration": 80,
    "start_time": "2021-06-28T16:58:03.159Z"
   },
   {
    "duration": 81,
    "start_time": "2021-06-28T16:58:30.426Z"
   },
   {
    "duration": 18,
    "start_time": "2021-06-28T17:20:13.323Z"
   },
   {
    "duration": 359,
    "start_time": "2021-06-28T17:43:47.804Z"
   },
   {
    "duration": 26,
    "start_time": "2021-06-28T17:45:39.083Z"
   },
   {
    "duration": 25,
    "start_time": "2021-06-28T17:45:43.856Z"
   },
   {
    "duration": 393,
    "start_time": "2021-06-28T17:46:55.740Z"
   },
   {
    "duration": 26,
    "start_time": "2021-06-28T17:47:22.143Z"
   },
   {
    "duration": 25,
    "start_time": "2021-06-28T17:47:50.386Z"
   },
   {
    "duration": 22,
    "start_time": "2021-06-28T17:48:07.456Z"
   },
   {
    "duration": 1352,
    "start_time": "2021-06-28T22:41:43.489Z"
   },
   {
    "duration": 55,
    "start_time": "2021-06-28T22:41:44.843Z"
   },
   {
    "duration": 14,
    "start_time": "2021-06-28T22:41:44.901Z"
   },
   {
    "duration": 46380,
    "start_time": "2021-06-28T22:41:44.917Z"
   },
   {
    "duration": 26,
    "start_time": "2021-06-28T22:42:31.299Z"
   },
   {
    "duration": 108,
    "start_time": "2021-06-28T22:42:31.327Z"
   },
   {
    "duration": 25,
    "start_time": "2021-06-28T22:42:31.437Z"
   },
   {
    "duration": 29,
    "start_time": "2021-06-28T22:42:31.465Z"
   },
   {
    "duration": 14,
    "start_time": "2021-06-28T22:45:09.973Z"
   },
   {
    "duration": 19,
    "start_time": "2021-06-28T22:45:16.558Z"
   },
   {
    "duration": 14,
    "start_time": "2021-06-28T22:45:34.218Z"
   },
   {
    "duration": 179,
    "start_time": "2021-06-28T22:49:29.208Z"
   },
   {
    "duration": 4,
    "start_time": "2021-06-28T22:54:49.702Z"
   },
   {
    "duration": 423,
    "start_time": "2021-06-28T22:55:52.612Z"
   },
   {
    "duration": 13,
    "start_time": "2021-06-28T22:56:31.815Z"
   },
   {
    "duration": 13,
    "start_time": "2021-06-28T22:56:54.116Z"
   },
   {
    "duration": 13,
    "start_time": "2021-06-28T22:57:44.709Z"
   },
   {
    "duration": 13,
    "start_time": "2021-06-28T22:58:05.438Z"
   },
   {
    "duration": 27,
    "start_time": "2021-06-28T22:58:38.167Z"
   },
   {
    "duration": 173,
    "start_time": "2021-06-28T22:59:15.422Z"
   },
   {
    "duration": 1342,
    "start_time": "2021-06-28T22:59:25.051Z"
   },
   {
    "duration": 44,
    "start_time": "2021-06-28T22:59:26.396Z"
   },
   {
    "duration": 24,
    "start_time": "2021-06-28T22:59:26.443Z"
   },
   {
    "duration": 44375,
    "start_time": "2021-06-28T22:59:26.471Z"
   },
   {
    "duration": 29,
    "start_time": "2021-06-28T23:00:10.848Z"
   },
   {
    "duration": 99,
    "start_time": "2021-06-28T23:00:10.879Z"
   },
   {
    "duration": 12,
    "start_time": "2021-06-28T23:00:10.981Z"
   },
   {
    "duration": 33,
    "start_time": "2021-06-28T23:00:10.996Z"
   },
   {
    "duration": 167,
    "start_time": "2021-06-28T23:00:11.055Z"
   },
   {
    "duration": 17,
    "start_time": "2021-06-28T23:13:32.649Z"
   },
   {
    "duration": 13,
    "start_time": "2021-06-28T23:15:08.378Z"
   },
   {
    "duration": 388,
    "start_time": "2021-06-28T23:15:19.339Z"
   },
   {
    "duration": 298,
    "start_time": "2021-06-28T23:17:52.701Z"
   },
   {
    "duration": 483,
    "start_time": "2021-06-28T23:20:46.141Z"
   },
   {
    "duration": 1804,
    "start_time": "2021-06-28T23:21:14.922Z"
   },
   {
    "duration": 42,
    "start_time": "2021-06-28T23:21:16.729Z"
   },
   {
    "duration": 16,
    "start_time": "2021-06-28T23:21:16.779Z"
   },
   {
    "duration": 40814,
    "start_time": "2021-06-28T23:21:16.797Z"
   },
   {
    "duration": 26,
    "start_time": "2021-06-28T23:21:57.613Z"
   },
   {
    "duration": 82,
    "start_time": "2021-06-28T23:21:57.641Z"
   },
   {
    "duration": 34,
    "start_time": "2021-06-28T23:21:57.726Z"
   },
   {
    "duration": 28,
    "start_time": "2021-06-28T23:21:57.763Z"
   },
   {
    "duration": 190,
    "start_time": "2021-06-28T23:21:57.794Z"
   },
   {
    "duration": 383,
    "start_time": "2021-06-28T23:21:57.987Z"
   },
   {
    "duration": 479,
    "start_time": "2021-06-28T23:25:25.926Z"
   },
   {
    "duration": 5,
    "start_time": "2021-06-28T23:26:00.819Z"
   },
   {
    "duration": 409,
    "start_time": "2021-06-28T23:26:04.583Z"
   },
   {
    "duration": 460,
    "start_time": "2021-06-28T23:26:32.366Z"
   },
   {
    "duration": 440,
    "start_time": "2021-06-28T23:28:05.520Z"
   },
   {
    "duration": 454,
    "start_time": "2021-06-28T23:28:50.438Z"
   },
   {
    "duration": 302,
    "start_time": "2021-06-28T23:29:10.759Z"
   },
   {
    "duration": 13,
    "start_time": "2021-06-28T23:29:45.895Z"
   },
   {
    "duration": 437,
    "start_time": "2021-06-28T23:29:56.257Z"
   },
   {
    "duration": 258,
    "start_time": "2021-06-28T23:32:36.805Z"
   },
   {
    "duration": 1956,
    "start_time": "2021-06-28T23:33:01.221Z"
   },
   {
    "duration": 36,
    "start_time": "2021-06-28T23:33:03.180Z"
   },
   {
    "duration": 18,
    "start_time": "2021-06-28T23:33:03.219Z"
   },
   {
    "duration": 43231,
    "start_time": "2021-06-28T23:33:03.239Z"
   },
   {
    "duration": 28,
    "start_time": "2021-06-28T23:33:46.473Z"
   },
   {
    "duration": 104,
    "start_time": "2021-06-28T23:33:46.504Z"
   },
   {
    "duration": 13,
    "start_time": "2021-06-28T23:33:46.610Z"
   },
   {
    "duration": 51,
    "start_time": "2021-06-28T23:33:46.627Z"
   },
   {
    "duration": 173,
    "start_time": "2021-06-28T23:33:46.681Z"
   },
   {
    "duration": 18,
    "start_time": "2021-06-28T23:33:46.858Z"
   },
   {
    "duration": 7,
    "start_time": "2021-06-28T23:33:46.879Z"
   },
   {
    "duration": 490,
    "start_time": "2021-06-28T23:33:46.888Z"
   },
   {
    "duration": 415,
    "start_time": "2021-06-28T23:34:26.450Z"
   },
   {
    "duration": 5,
    "start_time": "2021-06-28T23:35:08.753Z"
   },
   {
    "duration": 473,
    "start_time": "2021-06-28T23:35:51.873Z"
   },
   {
    "duration": 1877,
    "start_time": "2021-06-28T23:36:06.089Z"
   },
   {
    "duration": 36,
    "start_time": "2021-06-28T23:36:07.970Z"
   },
   {
    "duration": 13,
    "start_time": "2021-06-28T23:36:08.010Z"
   },
   {
    "duration": 43052,
    "start_time": "2021-06-28T23:36:08.026Z"
   },
   {
    "duration": 27,
    "start_time": "2021-06-28T23:36:51.081Z"
   },
   {
    "duration": 104,
    "start_time": "2021-06-28T23:36:51.110Z"
   },
   {
    "duration": 13,
    "start_time": "2021-06-28T23:36:51.217Z"
   },
   {
    "duration": 45,
    "start_time": "2021-06-28T23:36:51.233Z"
   },
   {
    "duration": 189,
    "start_time": "2021-06-28T23:36:51.280Z"
   },
   {
    "duration": 14,
    "start_time": "2021-06-28T23:36:51.472Z"
   },
   {
    "duration": 9,
    "start_time": "2021-06-28T23:36:51.488Z"
   },
   {
    "duration": 547,
    "start_time": "2021-06-28T23:36:51.499Z"
   },
   {
    "duration": 417,
    "start_time": "2021-06-28T23:36:52.056Z"
   },
   {
    "duration": 10,
    "start_time": "2021-06-28T23:37:39.740Z"
   },
   {
    "duration": 1025,
    "start_time": "2021-06-28T23:40:24.129Z"
   },
   {
    "duration": 2141,
    "start_time": "2021-06-28T23:40:33.921Z"
   },
   {
    "duration": 37,
    "start_time": "2021-06-28T23:40:36.065Z"
   },
   {
    "duration": 14,
    "start_time": "2021-06-28T23:40:36.105Z"
   },
   {
    "duration": 43322,
    "start_time": "2021-06-28T23:40:36.121Z"
   },
   {
    "duration": 34,
    "start_time": "2021-06-28T23:41:19.445Z"
   },
   {
    "duration": 96,
    "start_time": "2021-06-28T23:41:19.481Z"
   },
   {
    "duration": 12,
    "start_time": "2021-06-28T23:41:19.580Z"
   },
   {
    "duration": 28,
    "start_time": "2021-06-28T23:41:19.596Z"
   },
   {
    "duration": 210,
    "start_time": "2021-06-28T23:41:19.626Z"
   },
   {
    "duration": 20,
    "start_time": "2021-06-28T23:41:19.838Z"
   },
   {
    "duration": 18,
    "start_time": "2021-06-28T23:41:19.861Z"
   },
   {
    "duration": 443,
    "start_time": "2021-06-28T23:41:19.881Z"
   },
   {
    "duration": 1067,
    "start_time": "2021-06-28T23:41:20.326Z"
   },
   {
    "duration": 1938,
    "start_time": "2021-06-29T21:51:27.912Z"
   },
   {
    "duration": 38,
    "start_time": "2021-06-29T21:51:29.852Z"
   },
   {
    "duration": 14,
    "start_time": "2021-06-29T21:51:29.893Z"
   },
   {
    "duration": 42531,
    "start_time": "2021-06-29T21:51:29.910Z"
   },
   {
    "duration": 34,
    "start_time": "2021-06-29T21:52:12.444Z"
   },
   {
    "duration": 97,
    "start_time": "2021-06-29T21:52:12.481Z"
   },
   {
    "duration": 15,
    "start_time": "2021-06-29T21:52:12.580Z"
   },
   {
    "duration": 57,
    "start_time": "2021-06-29T21:52:12.598Z"
   },
   {
    "duration": 175,
    "start_time": "2021-06-29T21:52:12.658Z"
   },
   {
    "duration": 21,
    "start_time": "2021-06-29T21:52:12.835Z"
   },
   {
    "duration": 13,
    "start_time": "2021-06-29T21:52:12.859Z"
   },
   {
    "duration": 426,
    "start_time": "2021-06-29T21:52:12.874Z"
   },
   {
    "duration": 1066,
    "start_time": "2021-06-29T21:52:13.303Z"
   },
   {
    "duration": 1876,
    "start_time": "2021-06-30T09:41:49.124Z"
   },
   {
    "duration": 34,
    "start_time": "2021-06-30T09:41:51.003Z"
   },
   {
    "duration": 13,
    "start_time": "2021-06-30T09:41:51.040Z"
   },
   {
    "duration": 43340,
    "start_time": "2021-06-30T09:41:51.056Z"
   },
   {
    "duration": 27,
    "start_time": "2021-06-30T09:42:34.398Z"
   },
   {
    "duration": 103,
    "start_time": "2021-06-30T09:42:34.428Z"
   },
   {
    "duration": 13,
    "start_time": "2021-06-30T09:42:34.533Z"
   },
   {
    "duration": 58,
    "start_time": "2021-06-30T09:42:34.549Z"
   },
   {
    "duration": 167,
    "start_time": "2021-06-30T09:42:34.610Z"
   },
   {
    "duration": 19,
    "start_time": "2021-06-30T09:42:34.779Z"
   },
   {
    "duration": 10,
    "start_time": "2021-06-30T09:42:34.801Z"
   },
   {
    "duration": 459,
    "start_time": "2021-06-30T09:42:34.813Z"
   },
   {
    "duration": 1173,
    "start_time": "2021-06-30T09:42:35.274Z"
   },
   {
    "duration": 2150,
    "start_time": "2021-06-30T18:39:21.102Z"
   },
   {
    "duration": 38,
    "start_time": "2021-06-30T18:39:23.254Z"
   },
   {
    "duration": 20,
    "start_time": "2021-06-30T18:39:23.295Z"
   },
   {
    "duration": 44492,
    "start_time": "2021-06-30T18:39:23.324Z"
   },
   {
    "duration": 27,
    "start_time": "2021-06-30T18:40:07.825Z"
   },
   {
    "duration": 100,
    "start_time": "2021-06-30T18:40:07.854Z"
   },
   {
    "duration": 15,
    "start_time": "2021-06-30T18:40:07.956Z"
   },
   {
    "duration": 59,
    "start_time": "2021-06-30T18:40:07.974Z"
   },
   {
    "duration": 191,
    "start_time": "2021-06-30T18:40:08.035Z"
   },
   {
    "duration": 14,
    "start_time": "2021-06-30T18:40:08.228Z"
   },
   {
    "duration": 9,
    "start_time": "2021-06-30T18:40:08.244Z"
   },
   {
    "duration": 768,
    "start_time": "2021-06-30T18:40:08.256Z"
   },
   {
    "duration": 1741,
    "start_time": "2021-06-30T18:40:09.027Z"
   },
   {
    "duration": 13,
    "start_time": "2021-06-30T20:32:19.792Z"
   },
   {
    "duration": 34,
    "start_time": "2021-06-30T20:32:35.429Z"
   },
   {
    "duration": 8,
    "start_time": "2021-06-30T20:43:47.243Z"
   },
   {
    "duration": 96,
    "start_time": "2021-06-30T20:50:30.147Z"
   },
   {
    "duration": 533,
    "start_time": "2021-06-30T20:50:38.976Z"
   },
   {
    "duration": 839,
    "start_time": "2021-06-30T20:51:45.329Z"
   },
   {
    "duration": 1519,
    "start_time": "2021-06-30T21:04:54.569Z"
   },
   {
    "duration": 30,
    "start_time": "2021-06-30T21:04:56.090Z"
   },
   {
    "duration": 5,
    "start_time": "2021-06-30T21:04:56.122Z"
   },
   {
    "duration": 23,
    "start_time": "2021-06-30T21:04:56.129Z"
   },
   {
    "duration": 9,
    "start_time": "2021-06-30T21:04:56.154Z"
   },
   {
    "duration": 19,
    "start_time": "2021-06-30T21:04:56.165Z"
   },
   {
    "duration": 27926,
    "start_time": "2021-06-30T21:04:56.186Z"
   },
   {
    "duration": 15,
    "start_time": "2021-06-30T21:05:24.114Z"
   },
   {
    "duration": 68,
    "start_time": "2021-06-30T21:05:24.131Z"
   },
   {
    "duration": 9,
    "start_time": "2021-06-30T21:05:24.201Z"
   },
   {
    "duration": 14,
    "start_time": "2021-06-30T21:05:24.212Z"
   },
   {
    "duration": 135,
    "start_time": "2021-06-30T21:05:24.227Z"
   },
   {
    "duration": 9,
    "start_time": "2021-06-30T21:05:24.364Z"
   },
   {
    "duration": 5,
    "start_time": "2021-06-30T21:05:24.385Z"
   },
   {
    "duration": 283,
    "start_time": "2021-06-30T21:05:24.391Z"
   },
   {
    "duration": 750,
    "start_time": "2021-06-30T21:05:24.677Z"
   },
   {
    "duration": 491,
    "start_time": "2021-06-30T21:05:25.429Z"
   },
   {
    "duration": 564,
    "start_time": "2021-07-01T12:51:36.778Z"
   },
   {
    "duration": 385,
    "start_time": "2021-07-01T12:59:50.711Z"
   },
   {
    "duration": 3289,
    "start_time": "2021-07-01T12:59:59.400Z"
   },
   {
    "duration": 40,
    "start_time": "2021-07-01T13:00:02.693Z"
   },
   {
    "duration": 9,
    "start_time": "2021-07-01T13:00:02.738Z"
   },
   {
    "duration": 44,
    "start_time": "2021-07-01T13:00:02.751Z"
   },
   {
    "duration": 37,
    "start_time": "2021-07-01T13:00:02.797Z"
   },
   {
    "duration": 20,
    "start_time": "2021-07-01T13:00:02.836Z"
   },
   {
    "duration": 45713,
    "start_time": "2021-07-01T13:00:02.859Z"
   },
   {
    "duration": 27,
    "start_time": "2021-07-01T13:00:48.575Z"
   },
   {
    "duration": 80,
    "start_time": "2021-07-01T13:00:48.625Z"
   },
   {
    "duration": 22,
    "start_time": "2021-07-01T13:00:48.707Z"
   },
   {
    "duration": 35,
    "start_time": "2021-07-01T13:00:48.732Z"
   },
   {
    "duration": 199,
    "start_time": "2021-07-01T13:00:48.769Z"
   },
   {
    "duration": 13,
    "start_time": "2021-07-01T13:00:48.970Z"
   },
   {
    "duration": 8,
    "start_time": "2021-07-01T13:00:48.986Z"
   },
   {
    "duration": 441,
    "start_time": "2021-07-01T13:00:48.996Z"
   },
   {
    "duration": 1061,
    "start_time": "2021-07-01T13:00:49.440Z"
   },
   {
    "duration": 698,
    "start_time": "2021-07-01T13:00:50.503Z"
   },
   {
    "duration": 538,
    "start_time": "2021-07-01T13:00:51.203Z"
   },
   {
    "duration": 327,
    "start_time": "2021-07-01T13:02:28.889Z"
   },
   {
    "duration": 299,
    "start_time": "2021-07-01T13:02:42.185Z"
   },
   {
    "duration": 379,
    "start_time": "2021-07-01T13:05:32.029Z"
   },
   {
    "duration": 278,
    "start_time": "2021-07-01T13:05:39.953Z"
   },
   {
    "duration": 281,
    "start_time": "2021-07-01T13:16:06.228Z"
   },
   {
    "duration": 291,
    "start_time": "2021-07-01T13:16:13.456Z"
   },
   {
    "duration": 306,
    "start_time": "2021-07-01T13:18:49.561Z"
   },
   {
    "duration": 296,
    "start_time": "2021-07-01T13:20:25.692Z"
   },
   {
    "duration": 306,
    "start_time": "2021-07-01T13:24:20.934Z"
   },
   {
    "duration": 283,
    "start_time": "2021-07-01T13:25:03.206Z"
   },
   {
    "duration": 278,
    "start_time": "2021-07-01T13:25:36.187Z"
   },
   {
    "duration": 293,
    "start_time": "2021-07-01T13:25:49.274Z"
   },
   {
    "duration": 368,
    "start_time": "2021-07-01T13:26:01.140Z"
   },
   {
    "duration": 318,
    "start_time": "2021-07-01T13:27:20.067Z"
   },
   {
    "duration": 277,
    "start_time": "2021-07-01T13:43:36.344Z"
   },
   {
    "duration": 289,
    "start_time": "2021-07-01T13:43:43.741Z"
   },
   {
    "duration": 1135,
    "start_time": "2021-07-01T13:44:02.475Z"
   },
   {
    "duration": 326,
    "start_time": "2021-07-01T13:44:14.199Z"
   },
   {
    "duration": 286,
    "start_time": "2021-07-01T13:44:28.662Z"
   },
   {
    "duration": 283,
    "start_time": "2021-07-01T13:44:37.547Z"
   },
   {
    "duration": 281,
    "start_time": "2021-07-01T13:45:57.196Z"
   },
   {
    "duration": 305,
    "start_time": "2021-07-01T13:46:25.336Z"
   },
   {
    "duration": 278,
    "start_time": "2021-07-01T13:51:04.788Z"
   },
   {
    "duration": 272,
    "start_time": "2021-07-01T14:09:12.571Z"
   },
   {
    "duration": 288,
    "start_time": "2021-07-01T14:10:06.145Z"
   },
   {
    "duration": 276,
    "start_time": "2021-07-01T14:10:33.021Z"
   },
   {
    "duration": 349,
    "start_time": "2021-07-01T14:10:42.811Z"
   },
   {
    "duration": 285,
    "start_time": "2021-07-01T14:11:14.490Z"
   },
   {
    "duration": 306,
    "start_time": "2021-07-01T14:11:55.011Z"
   },
   {
    "duration": 320,
    "start_time": "2021-07-01T14:16:40.035Z"
   },
   {
    "duration": 594,
    "start_time": "2021-07-01T14:18:17.576Z"
   },
   {
    "duration": 8,
    "start_time": "2021-07-01T14:21:56.814Z"
   },
   {
    "duration": 314,
    "start_time": "2021-07-01T14:43:18.760Z"
   },
   {
    "duration": 485,
    "start_time": "2021-07-01T14:43:41.900Z"
   },
   {
    "duration": 267,
    "start_time": "2021-07-01T14:43:43.786Z"
   },
   {
    "duration": 2012,
    "start_time": "2021-07-01T14:44:03.244Z"
   },
   {
    "duration": 43,
    "start_time": "2021-07-01T14:44:05.258Z"
   },
   {
    "duration": 9,
    "start_time": "2021-07-01T14:44:05.304Z"
   },
   {
    "duration": 47,
    "start_time": "2021-07-01T14:44:05.315Z"
   },
   {
    "duration": 12,
    "start_time": "2021-07-01T14:44:05.365Z"
   },
   {
    "duration": 16,
    "start_time": "2021-07-01T14:44:05.380Z"
   },
   {
    "duration": 41015,
    "start_time": "2021-07-01T14:44:05.398Z"
   },
   {
    "duration": 25,
    "start_time": "2021-07-01T14:44:46.415Z"
   },
   {
    "duration": 73,
    "start_time": "2021-07-01T14:44:46.458Z"
   },
   {
    "duration": 30,
    "start_time": "2021-07-01T14:44:46.533Z"
   },
   {
    "duration": 28,
    "start_time": "2021-07-01T14:44:46.565Z"
   },
   {
    "duration": 193,
    "start_time": "2021-07-01T14:44:46.596Z"
   },
   {
    "duration": 12,
    "start_time": "2021-07-01T14:44:46.792Z"
   },
   {
    "duration": 8,
    "start_time": "2021-07-01T14:44:46.806Z"
   },
   {
    "duration": 428,
    "start_time": "2021-07-01T14:44:46.816Z"
   },
   {
    "duration": 1012,
    "start_time": "2021-07-01T14:44:47.246Z"
   },
   {
    "duration": 655,
    "start_time": "2021-07-01T14:44:48.260Z"
   },
   {
    "duration": 4,
    "start_time": "2021-07-01T14:44:48.919Z"
   },
   {
    "duration": 489,
    "start_time": "2021-07-01T14:44:48.926Z"
   },
   {
    "duration": -196,
    "start_time": "2021-07-01T14:44:49.613Z"
   },
   {
    "duration": 955,
    "start_time": "2021-07-01T14:46:35.137Z"
   },
   {
    "duration": 9,
    "start_time": "2021-07-01T14:47:17.477Z"
   },
   {
    "duration": 274,
    "start_time": "2021-07-01T14:48:23.032Z"
   },
   {
    "duration": 268,
    "start_time": "2021-07-01T14:48:36.528Z"
   },
   {
    "duration": 259,
    "start_time": "2021-07-01T14:48:55.241Z"
   },
   {
    "duration": 9,
    "start_time": "2021-07-01T14:49:41.648Z"
   },
   {
    "duration": 8,
    "start_time": "2021-07-01T14:49:52.188Z"
   },
   {
    "duration": 254,
    "start_time": "2021-07-01T14:50:16.354Z"
   },
   {
    "duration": 297,
    "start_time": "2021-07-01T14:51:19.534Z"
   },
   {
    "duration": 8,
    "start_time": "2021-07-01T14:51:58.736Z"
   },
   {
    "duration": 7,
    "start_time": "2021-07-01T14:52:03.028Z"
   },
   {
    "duration": 270,
    "start_time": "2021-07-01T14:53:42.260Z"
   },
   {
    "duration": 1945,
    "start_time": "2021-07-01T14:54:12.478Z"
   },
   {
    "duration": 38,
    "start_time": "2021-07-01T14:54:14.425Z"
   },
   {
    "duration": 9,
    "start_time": "2021-07-01T14:54:14.466Z"
   },
   {
    "duration": 33,
    "start_time": "2021-07-01T14:54:14.479Z"
   },
   {
    "duration": 46,
    "start_time": "2021-07-01T14:54:14.515Z"
   },
   {
    "duration": 5,
    "start_time": "2021-07-01T14:54:14.564Z"
   },
   {
    "duration": 42884,
    "start_time": "2021-07-01T14:54:14.572Z"
   },
   {
    "duration": 26,
    "start_time": "2021-07-01T14:54:57.458Z"
   },
   {
    "duration": 99,
    "start_time": "2021-07-01T14:54:57.488Z"
   },
   {
    "duration": 13,
    "start_time": "2021-07-01T14:54:57.589Z"
   },
   {
    "duration": 52,
    "start_time": "2021-07-01T14:54:57.604Z"
   },
   {
    "duration": 166,
    "start_time": "2021-07-01T14:54:57.659Z"
   },
   {
    "duration": 28,
    "start_time": "2021-07-01T14:54:57.827Z"
   },
   {
    "duration": 5,
    "start_time": "2021-07-01T14:54:57.858Z"
   },
   {
    "duration": 411,
    "start_time": "2021-07-01T14:54:57.865Z"
   },
   {
    "duration": 1007,
    "start_time": "2021-07-01T14:54:58.278Z"
   },
   {
    "duration": 697,
    "start_time": "2021-07-01T14:54:59.288Z"
   },
   {
    "duration": 3,
    "start_time": "2021-07-01T14:54:59.987Z"
   },
   {
    "duration": 504,
    "start_time": "2021-07-01T14:54:59.993Z"
   },
   {
    "duration": -97,
    "start_time": "2021-07-01T14:55:00.596Z"
   },
   {
    "duration": -99,
    "start_time": "2021-07-01T14:55:00.600Z"
   },
   {
    "duration": 8,
    "start_time": "2021-07-01T14:56:10.845Z"
   },
   {
    "duration": 8,
    "start_time": "2021-07-01T14:56:12.645Z"
   },
   {
    "duration": 8,
    "start_time": "2021-07-01T14:59:29.864Z"
   }
  ],
  "kernelspec": {
   "display_name": "Python 3",
   "language": "python",
   "name": "python3"
  },
  "language_info": {
   "codemirror_mode": {
    "name": "ipython",
    "version": 3
   },
   "file_extension": ".py",
   "mimetype": "text/x-python",
   "name": "python",
   "nbconvert_exporter": "python",
   "pygments_lexer": "ipython3",
   "version": "3.8.5"
  },
  "toc": {
   "base_numbering": 1,
   "nav_menu": {},
   "number_sections": true,
   "sideBar": true,
   "skip_h1_title": true,
   "title_cell": "Table of Contents",
   "title_sidebar": "Contents",
   "toc_cell": false,
   "toc_position": {},
   "toc_section_display": true,
   "toc_window_display": false
  }
 },
 "nbformat": 4,
 "nbformat_minor": 2
}
