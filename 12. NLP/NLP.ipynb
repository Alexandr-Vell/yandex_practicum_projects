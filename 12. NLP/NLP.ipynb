{
 "cells": [
  {
   "cell_type": "markdown",
   "metadata": {},
   "source": [
    "# Проект для «Викишоп»"
   ]
  },
  {
   "cell_type": "markdown",
   "metadata": {},
   "source": [
    "Интернет-магазин «Викишоп» запускает новый сервис. Теперь пользователи могут редактировать и дополнять описания товаров, как в вики-сообществах. То есть клиенты предлагают свои правки и комментируют изменения других. Магазину нужен инструмент, который будет искать токсичные комментарии и отправлять их на модерацию. \n",
    "\n",
    "Обучите модель классифицировать комментарии на позитивные и негативные. В вашем распоряжении набор данных с разметкой о токсичности правок.\n",
    "\n",
    "Постройте модель со значением метрики качества *F1* не меньше 0.75. \n",
    "\n",
    "*toxic* — целевой признак."
   ]
  },
  {
   "cell_type": "markdown",
   "metadata": {},
   "source": [
    "## Подготовка"
   ]
  },
  {
   "cell_type": "code",
   "execution_count": 1,
   "metadata": {},
   "outputs": [],
   "source": [
    "import pandas as pd\n",
    "import numpy as np\n",
    "from pymystem3 import Mystem\n",
    "import nltk\n",
    "from nltk.corpus import stopwords as nltk_stopwords\n",
    "import re\n",
    "from sklearn.feature_extraction.text import TfidfVectorizer\n",
    "from sklearn.model_selection import train_test_split, cross_val_score, GridSearchCV\n",
    "from sklearn.linear_model import LogisticRegression\n",
    "from catboost import CatBoostClassifier\n",
    "from sklearn.metrics import f1_score, precision_score, recall_score, accuracy_score, roc_auc_score, roc_curve\n",
    "from sklearn.utils import shuffle\n",
    "import warnings\n",
    "warnings.filterwarnings('ignore')"
   ]
  },
  {
   "cell_type": "code",
   "execution_count": 2,
   "metadata": {},
   "outputs": [
    {
     "data": {
      "text/html": [
       "<div>\n",
       "<style scoped>\n",
       "    .dataframe tbody tr th:only-of-type {\n",
       "        vertical-align: middle;\n",
       "    }\n",
       "\n",
       "    .dataframe tbody tr th {\n",
       "        vertical-align: top;\n",
       "    }\n",
       "\n",
       "    .dataframe thead th {\n",
       "        text-align: right;\n",
       "    }\n",
       "</style>\n",
       "<table border=\"1\" class=\"dataframe\">\n",
       "  <thead>\n",
       "    <tr style=\"text-align: right;\">\n",
       "      <th></th>\n",
       "      <th>text</th>\n",
       "      <th>toxic</th>\n",
       "    </tr>\n",
       "  </thead>\n",
       "  <tbody>\n",
       "    <tr>\n",
       "      <td>0</td>\n",
       "      <td>Explanation\\nWhy the edits made under my usern...</td>\n",
       "      <td>0</td>\n",
       "    </tr>\n",
       "    <tr>\n",
       "      <td>1</td>\n",
       "      <td>D'aww! He matches this background colour I'm s...</td>\n",
       "      <td>0</td>\n",
       "    </tr>\n",
       "    <tr>\n",
       "      <td>2</td>\n",
       "      <td>Hey man, I'm really not trying to edit war. It...</td>\n",
       "      <td>0</td>\n",
       "    </tr>\n",
       "    <tr>\n",
       "      <td>3</td>\n",
       "      <td>\"\\nMore\\nI can't make any real suggestions on ...</td>\n",
       "      <td>0</td>\n",
       "    </tr>\n",
       "    <tr>\n",
       "      <td>4</td>\n",
       "      <td>You, sir, are my hero. Any chance you remember...</td>\n",
       "      <td>0</td>\n",
       "    </tr>\n",
       "    <tr>\n",
       "      <td>5</td>\n",
       "      <td>\"\\n\\nCongratulations from me as well, use the ...</td>\n",
       "      <td>0</td>\n",
       "    </tr>\n",
       "    <tr>\n",
       "      <td>6</td>\n",
       "      <td>COCKSUCKER BEFORE YOU PISS AROUND ON MY WORK</td>\n",
       "      <td>1</td>\n",
       "    </tr>\n",
       "    <tr>\n",
       "      <td>7</td>\n",
       "      <td>Your vandalism to the Matt Shirvington article...</td>\n",
       "      <td>0</td>\n",
       "    </tr>\n",
       "    <tr>\n",
       "      <td>8</td>\n",
       "      <td>Sorry if the word 'nonsense' was offensive to ...</td>\n",
       "      <td>0</td>\n",
       "    </tr>\n",
       "    <tr>\n",
       "      <td>9</td>\n",
       "      <td>alignment on this subject and which are contra...</td>\n",
       "      <td>0</td>\n",
       "    </tr>\n",
       "  </tbody>\n",
       "</table>\n",
       "</div>"
      ],
      "text/plain": [
       "                                                text  toxic\n",
       "0  Explanation\\nWhy the edits made under my usern...      0\n",
       "1  D'aww! He matches this background colour I'm s...      0\n",
       "2  Hey man, I'm really not trying to edit war. It...      0\n",
       "3  \"\\nMore\\nI can't make any real suggestions on ...      0\n",
       "4  You, sir, are my hero. Any chance you remember...      0\n",
       "5  \"\\n\\nCongratulations from me as well, use the ...      0\n",
       "6       COCKSUCKER BEFORE YOU PISS AROUND ON MY WORK      1\n",
       "7  Your vandalism to the Matt Shirvington article...      0\n",
       "8  Sorry if the word 'nonsense' was offensive to ...      0\n",
       "9  alignment on this subject and which are contra...      0"
      ]
     },
     "execution_count": 2,
     "metadata": {},
     "output_type": "execute_result"
    }
   ],
   "source": [
    "df = pd.read_csv('/datasets/toxic_comments.csv')\n",
    "df.head(10)"
   ]
  },
  {
   "cell_type": "markdown",
   "metadata": {},
   "source": [
    "Работать будем с английскими комментариями, видим, что есть разница в регистрах, учтем"
   ]
  },
  {
   "cell_type": "code",
   "execution_count": 3,
   "metadata": {},
   "outputs": [
    {
     "name": "stdout",
     "output_type": "stream",
     "text": [
      "<class 'pandas.core.frame.DataFrame'>\n",
      "RangeIndex: 159571 entries, 0 to 159570\n",
      "Data columns (total 2 columns):\n",
      "text     159571 non-null object\n",
      "toxic    159571 non-null int64\n",
      "dtypes: int64(1), object(1)\n",
      "memory usage: 2.4+ MB\n"
     ]
    }
   ],
   "source": [
    "df.info()"
   ]
  },
  {
   "cell_type": "markdown",
   "metadata": {},
   "source": [
    "Пропусков нет - супер! Типы данных адекватные"
   ]
  },
  {
   "cell_type": "code",
   "execution_count": 4,
   "metadata": {},
   "outputs": [
    {
     "data": {
      "text/plain": [
       "0    143346\n",
       "1     16225\n",
       "Name: toxic, dtype: int64"
      ]
     },
     "execution_count": 4,
     "metadata": {},
     "output_type": "execute_result"
    }
   ],
   "source": [
    "df['toxic'].value_counts()"
   ]
  },
  {
   "cell_type": "markdown",
   "metadata": {},
   "source": [
    "видим дисбаланс классов, это надо будет учесть при обучении модели"
   ]
  },
  {
   "cell_type": "code",
   "execution_count": 5,
   "metadata": {},
   "outputs": [],
   "source": [
    "m = Mystem()\n",
    "\n",
    "def lemmatize_text(text):\n",
    "    text = text.lower()\n",
    "    lemm_text = \"\".join(m.lemmatize(text))\n",
    "    clear = re.sub(r'[^a-zA-Z]', ' ', lemm_text) \n",
    "    return \" \".join(clear.split())"
   ]
  },
  {
   "cell_type": "code",
   "execution_count": 6,
   "metadata": {},
   "outputs": [
    {
     "name": "stdout",
     "output_type": "stream",
     "text": [
      "CPU times: user 40.1 s, sys: 7.74 s, total: 47.8 s\n",
      "Wall time: 1min 41s\n"
     ]
    }
   ],
   "source": [
    "%%time\n",
    "\n",
    "df['lemm'] = df['text'].apply(lemmatize_text)"
   ]
  },
  {
   "cell_type": "code",
   "execution_count": 7,
   "metadata": {},
   "outputs": [
    {
     "data": {
      "text/plain": [
       "text     0\n",
       "toxic    0\n",
       "lemm     0\n",
       "dtype: int64"
      ]
     },
     "execution_count": 7,
     "metadata": {},
     "output_type": "execute_result"
    }
   ],
   "source": [
    "df.isna().sum()"
   ]
  },
  {
   "cell_type": "markdown",
   "metadata": {},
   "source": [
    "просто на всякий случай проверил пропуски после лемматизации и добавления новой колонки"
   ]
  },
  {
   "cell_type": "code",
   "execution_count": 8,
   "metadata": {},
   "outputs": [],
   "source": [
    "df = df.drop(['text'], axis=1)"
   ]
  },
  {
   "cell_type": "markdown",
   "metadata": {},
   "source": [
    "эта колонка нам больше не нужна, дальше будем работать с леммами"
   ]
  },
  {
   "cell_type": "code",
   "execution_count": 9,
   "metadata": {},
   "outputs": [],
   "source": [
    "df2 = df.copy()"
   ]
  },
  {
   "cell_type": "markdown",
   "metadata": {},
   "source": [
    "перед тем, как проводить преобразования создаю копию, чтобы можно было в случае чего быстро вернуться к исходной таблице"
   ]
  },
  {
   "cell_type": "code",
   "execution_count": 10,
   "metadata": {},
   "outputs": [
    {
     "data": {
      "text/plain": [
       "(159571, 2)"
      ]
     },
     "execution_count": 10,
     "metadata": {},
     "output_type": "execute_result"
    }
   ],
   "source": [
    "df2.shape"
   ]
  },
  {
   "cell_type": "code",
   "execution_count": 11,
   "metadata": {},
   "outputs": [
    {
     "data": {
      "text/html": [
       "<div>\n",
       "<style scoped>\n",
       "    .dataframe tbody tr th:only-of-type {\n",
       "        vertical-align: middle;\n",
       "    }\n",
       "\n",
       "    .dataframe tbody tr th {\n",
       "        vertical-align: top;\n",
       "    }\n",
       "\n",
       "    .dataframe thead th {\n",
       "        text-align: right;\n",
       "    }\n",
       "</style>\n",
       "<table border=\"1\" class=\"dataframe\">\n",
       "  <thead>\n",
       "    <tr style=\"text-align: right;\">\n",
       "      <th></th>\n",
       "      <th>toxic</th>\n",
       "      <th>lemm</th>\n",
       "    </tr>\n",
       "  </thead>\n",
       "  <tbody>\n",
       "    <tr>\n",
       "      <td>0</td>\n",
       "      <td>0</td>\n",
       "      <td>explanation why the edits made under my userna...</td>\n",
       "    </tr>\n",
       "    <tr>\n",
       "      <td>1</td>\n",
       "      <td>0</td>\n",
       "      <td>d aww he matches this background colour i m se...</td>\n",
       "    </tr>\n",
       "    <tr>\n",
       "      <td>2</td>\n",
       "      <td>0</td>\n",
       "      <td>hey man i m really not trying to edit war it s...</td>\n",
       "    </tr>\n",
       "    <tr>\n",
       "      <td>3</td>\n",
       "      <td>0</td>\n",
       "      <td>more i can t make any real suggestions on impr...</td>\n",
       "    </tr>\n",
       "    <tr>\n",
       "      <td>4</td>\n",
       "      <td>0</td>\n",
       "      <td>you sir are my hero any chance you remember wh...</td>\n",
       "    </tr>\n",
       "  </tbody>\n",
       "</table>\n",
       "</div>"
      ],
      "text/plain": [
       "   toxic                                               lemm\n",
       "0      0  explanation why the edits made under my userna...\n",
       "1      0  d aww he matches this background colour i m se...\n",
       "2      0  hey man i m really not trying to edit war it s...\n",
       "3      0  more i can t make any real suggestions on impr...\n",
       "4      0  you sir are my hero any chance you remember wh..."
      ]
     },
     "execution_count": 11,
     "metadata": {},
     "output_type": "execute_result"
    }
   ],
   "source": [
    "df.head()"
   ]
  },
  {
   "cell_type": "code",
   "execution_count": 12,
   "metadata": {},
   "outputs": [
    {
     "name": "stdout",
     "output_type": "stream",
     "text": [
      "(127656,)\n",
      "(31915,)\n",
      "(127656,)\n",
      "(31915,)\n"
     ]
    }
   ],
   "source": [
    "features_train, features_test, target_train, target_test = train_test_split(df['lemm'], \n",
    "                                                                              df['toxic'], \n",
    "                                                                              test_size=0.2, \n",
    "                                                                              random_state=12345)\n",
    "\n",
    "\n",
    "print(features_train.shape)\n",
    "print(features_test.shape)\n",
    "print(target_train.shape)\n",
    "print(target_test.shape)"
   ]
  },
  {
   "cell_type": "markdown",
   "metadata": {},
   "source": [
    "### Создаем TF-IDF"
   ]
  },
  {
   "cell_type": "code",
   "execution_count": 13,
   "metadata": {},
   "outputs": [
    {
     "name": "stderr",
     "output_type": "stream",
     "text": [
      "[nltk_data] Downloading package stopwords to /home/jovyan/nltk_data...\n",
      "[nltk_data]   Unzipping corpora/stopwords.zip.\n"
     ]
    },
    {
     "data": {
      "text/plain": [
       "True"
      ]
     },
     "execution_count": 13,
     "metadata": {},
     "output_type": "execute_result"
    }
   ],
   "source": [
    "nltk.download('stopwords')"
   ]
  },
  {
   "cell_type": "code",
   "execution_count": 14,
   "metadata": {},
   "outputs": [],
   "source": [
    "stopwords = set(nltk_stopwords.words('english'))\n",
    "\n",
    "tf_idf = TfidfVectorizer(stop_words=stopwords)"
   ]
  },
  {
   "cell_type": "code",
   "execution_count": 15,
   "metadata": {},
   "outputs": [],
   "source": [
    "features_train = tf_idf.fit_transform(features_train.values.astype('U'))\n",
    "features_test = tf_idf.transform(features_test.values.astype('U'))"
   ]
  },
  {
   "cell_type": "markdown",
   "metadata": {},
   "source": [
    "я не стал создавать валидационную выборку, потому что как такового подбора параметров скорее всего делать не придется"
   ]
  },
  {
   "cell_type": "markdown",
   "metadata": {},
   "source": [
    "## Обучение"
   ]
  },
  {
   "cell_type": "markdown",
   "metadata": {},
   "source": [
    "### LogisticRegression"
   ]
  },
  {
   "cell_type": "raw",
   "metadata": {},
   "source": [
    "%%time\n",
    "\n",
    "log_model = LogisticRegression()\n",
    "cv_train = cross_val_score(log_model, \n",
    "                      features_train, \n",
    "                      target_train, \n",
    "                      cv=3, \n",
    "                      scoring='f1').mean()\n",
    "print('F1 на CV', cv_train)"
   ]
  },
  {
   "cell_type": "raw",
   "metadata": {},
   "source": [
    "%%time\n",
    "\n",
    "log_model = LogisticRegression(class_weight = 'balanced')\n",
    "cv_train = cross_val_score(log_model, \n",
    "                      features_train, \n",
    "                      target_train, \n",
    "                      cv=3, \n",
    "                      scoring='f1').mean()\n",
    "print('F1 на CV', cv_train)"
   ]
  },
  {
   "cell_type": "code",
   "execution_count": 16,
   "metadata": {},
   "outputs": [
    {
     "data": {
      "text/plain": [
       "8.834884437596301"
      ]
     },
     "execution_count": 16,
     "metadata": {},
     "output_type": "execute_result"
    }
   ],
   "source": [
    "weight = df['toxic'].value_counts()[0] / df['toxic'].value_counts()[1]\n",
    "\n",
    "weight"
   ]
  },
  {
   "cell_type": "markdown",
   "metadata": {},
   "source": [
    "посчитал соотношение классов, чтобы можно было сбалансировать через словарик"
   ]
  },
  {
   "cell_type": "raw",
   "metadata": {},
   "source": [
    "%%time\n",
    "\n",
    "dict_class = {0:1, 1:weight}\n",
    "\n",
    "log_model = LogisticRegression(class_weight = dict_class)\n",
    "cv_train = cross_val_score(log_model, \n",
    "                      features_train, \n",
    "                      target_train, \n",
    "                      cv=3, \n",
    "                      scoring='f1').mean()\n",
    "\n",
    "\n",
    "\n",
    "\n",
    "print('F1 на CV', cv_train)"
   ]
  },
  {
   "cell_type": "code",
   "execution_count": 18,
   "metadata": {},
   "outputs": [
    {
     "name": "stdout",
     "output_type": "stream",
     "text": [
      "F1 log_model2: 0.7575465196416264\n",
      "CPU times: user 8.13 s, sys: 7.23 s, total: 15.4 s\n",
      "Wall time: 15.4 s\n"
     ]
    }
   ],
   "source": [
    "%%time\n",
    "\n",
    "dict_class = {0:1, 1:weight}\n",
    "\n",
    "log_model2 = LogisticRegression(class_weight = dict_class)\n",
    "log_model2.fit(features_train, target_train)\n",
    "\n",
    "log2_predict = log_model2.predict(features_test)\n",
    "log2_f1 = f1_score(target_test, log2_predict)\n",
    "\n",
    "print('F1 log_model2:', log2_f1)"
   ]
  },
  {
   "cell_type": "markdown",
   "metadata": {},
   "source": [
    "### CatBoostClassifier"
   ]
  },
  {
   "cell_type": "code",
   "execution_count": 20,
   "metadata": {},
   "outputs": [
    {
     "name": "stdout",
     "output_type": "stream",
     "text": [
      "F1 на cv 0.7548799786670456\n",
      "F1 на тесте 0.7489325362937659\n",
      "CPU times: user 42min 20s, sys: 51.6 s, total: 43min 11s\n",
      "Wall time: 43min 17s\n"
     ]
    }
   ],
   "source": [
    "%%time\n",
    "\n",
    "cat_model2 = CatBoostClassifier(verbose=False, iterations=200, class_weights=[1, 8])\n",
    "cat_model2.fit(features_train, target_train)\n",
    "target_predict = cat_model2.predict(features_test)\n",
    "cv_cat2 = cross_val_score(cat_model2,\n",
    "                         features_train,\n",
    "                         target_train, \n",
    "                         cv=3,\n",
    "                         scoring='f1').mean()\n",
    "\n",
    "test2_f1 = f1_score(target_test, target_predict)\n",
    "print('F1 на cv', cv_cat2)\n",
    "print('F1 на тесте', test2_f1)"
   ]
  },
  {
   "cell_type": "markdown",
   "metadata": {},
   "source": [
    "## Выводы"
   ]
  },
  {
   "cell_type": "code",
   "execution_count": 21,
   "metadata": {},
   "outputs": [
    {
     "data": {
      "text/html": [
       "<div>\n",
       "<style scoped>\n",
       "    .dataframe tbody tr th:only-of-type {\n",
       "        vertical-align: middle;\n",
       "    }\n",
       "\n",
       "    .dataframe tbody tr th {\n",
       "        vertical-align: top;\n",
       "    }\n",
       "\n",
       "    .dataframe thead th {\n",
       "        text-align: right;\n",
       "    }\n",
       "</style>\n",
       "<table border=\"1\" class=\"dataframe\">\n",
       "  <thead>\n",
       "    <tr style=\"text-align: right;\">\n",
       "      <th></th>\n",
       "      <th>model</th>\n",
       "      <th>F1</th>\n",
       "    </tr>\n",
       "  </thead>\n",
       "  <tbody>\n",
       "    <tr>\n",
       "      <td>0</td>\n",
       "      <td>CatBoost</td>\n",
       "      <td>0.748933</td>\n",
       "    </tr>\n",
       "    <tr>\n",
       "      <td>1</td>\n",
       "      <td>LogisticRegression</td>\n",
       "      <td>0.757547</td>\n",
       "    </tr>\n",
       "  </tbody>\n",
       "</table>\n",
       "</div>"
      ],
      "text/plain": [
       "                model        F1\n",
       "0            CatBoost  0.748933\n",
       "1  LogisticRegression  0.757547"
      ]
     },
     "execution_count": 21,
     "metadata": {},
     "output_type": "execute_result"
    }
   ],
   "source": [
    "final = pd.DataFrame({'model' : ['CatBoost', 'LogisticRegression'], \n",
    "                      'F1' : [test2_f1, log2_f1]})\n",
    "\n",
    "final"
   ]
  },
  {
   "cell_type": "markdown",
   "metadata": {},
   "source": [
    "1. Данные подготовлены\n",
    "2. Выбраны модели для обучения и методы балансировки классов\n",
    "3. После TF-IDF создалось большое количество фич, что потребовало большого количества времени для обучения модели катбуст. Логистическая регрессия в свою очередь обучилась достаточно быстро, при этом показала более качественный результат.\n",
    "\n",
    "В данном проекте себя лучше показала логистическая регрессия, но справедливости ради стоит уточнить, что я не проводил каких-либо подборов параметров для катбуста, поэтому я уверен, что покрутив параметры через гридсерч мы могли бы получить более качественную метрику f1."
   ]
  },
  {
   "cell_type": "code",
   "execution_count": null,
   "metadata": {},
   "outputs": [],
   "source": []
  }
 ],
 "metadata": {
  "ExecuteTimeLog": [
   {
    "duration": 1642,
    "start_time": "2021-12-05T00:49:45.475Z"
   },
   {
    "duration": 856,
    "start_time": "2021-12-05T00:50:19.312Z"
   },
   {
    "duration": 36,
    "start_time": "2021-12-05T00:50:56.344Z"
   },
   {
    "duration": 8,
    "start_time": "2021-12-05T00:55:33.168Z"
   },
   {
    "duration": 834,
    "start_time": "2021-12-05T00:55:33.681Z"
   },
   {
    "duration": 32,
    "start_time": "2021-12-05T00:55:34.517Z"
   },
   {
    "duration": 12,
    "start_time": "2021-12-05T00:55:34.748Z"
   },
   {
    "duration": 6,
    "start_time": "2021-12-05T00:55:35.071Z"
   },
   {
    "duration": 159774,
    "start_time": "2021-12-05T00:55:35.256Z"
   },
   {
    "duration": 98,
    "start_time": "2021-12-05T00:58:15.032Z"
   },
   {
    "duration": 33,
    "start_time": "2021-12-05T00:58:15.134Z"
   },
   {
    "duration": 11,
    "start_time": "2021-12-05T00:58:15.170Z"
   },
   {
    "duration": 366,
    "start_time": "2021-12-05T00:58:15.183Z"
   },
   {
    "duration": -2223,
    "start_time": "2021-12-05T00:58:17.775Z"
   },
   {
    "duration": -2223,
    "start_time": "2021-12-05T00:58:17.777Z"
   },
   {
    "duration": -2236,
    "start_time": "2021-12-05T00:58:17.792Z"
   },
   {
    "duration": -2237,
    "start_time": "2021-12-05T00:58:17.794Z"
   },
   {
    "duration": -2236,
    "start_time": "2021-12-05T00:58:17.795Z"
   },
   {
    "duration": -2371,
    "start_time": "2021-12-05T00:58:17.931Z"
   },
   {
    "duration": -2371,
    "start_time": "2021-12-05T00:58:17.932Z"
   },
   {
    "duration": 6,
    "start_time": "2021-12-05T00:59:13.455Z"
   },
   {
    "duration": 121,
    "start_time": "2021-12-05T00:59:14.702Z"
   },
   {
    "duration": 244,
    "start_time": "2021-12-05T00:59:28.689Z"
   },
   {
    "duration": 1748,
    "start_time": "2021-12-05T01:00:01.336Z"
   },
   {
    "duration": 1412,
    "start_time": "2021-12-05T01:00:03.088Z"
   },
   {
    "duration": 34,
    "start_time": "2021-12-05T01:00:04.503Z"
   },
   {
    "duration": 30,
    "start_time": "2021-12-05T01:00:04.540Z"
   },
   {
    "duration": 5,
    "start_time": "2021-12-05T01:00:04.572Z"
   },
   {
    "duration": 159678,
    "start_time": "2021-12-05T01:00:04.579Z"
   },
   {
    "duration": 84,
    "start_time": "2021-12-05T01:02:44.260Z"
   },
   {
    "duration": 18,
    "start_time": "2021-12-05T01:02:44.369Z"
   },
   {
    "duration": 12,
    "start_time": "2021-12-05T01:02:44.392Z"
   },
   {
    "duration": 7,
    "start_time": "2021-12-05T01:02:44.407Z"
   },
   {
    "duration": 234,
    "start_time": "2021-12-05T01:02:44.417Z"
   },
   {
    "duration": 341,
    "start_time": "2021-12-05T01:04:03.079Z"
   },
   {
    "duration": 1629,
    "start_time": "2021-12-05T01:04:11.061Z"
   },
   {
    "duration": 1375,
    "start_time": "2021-12-05T01:04:12.693Z"
   },
   {
    "duration": 36,
    "start_time": "2021-12-05T01:04:14.071Z"
   },
   {
    "duration": 9,
    "start_time": "2021-12-05T01:04:14.110Z"
   },
   {
    "duration": 5,
    "start_time": "2021-12-05T01:04:14.122Z"
   },
   {
    "duration": 160246,
    "start_time": "2021-12-05T01:04:14.129Z"
   },
   {
    "duration": 95,
    "start_time": "2021-12-05T01:06:54.378Z"
   },
   {
    "duration": 17,
    "start_time": "2021-12-05T01:06:54.477Z"
   },
   {
    "duration": 13,
    "start_time": "2021-12-05T01:06:54.499Z"
   },
   {
    "duration": 5,
    "start_time": "2021-12-05T01:06:54.516Z"
   },
   {
    "duration": 159,
    "start_time": "2021-12-05T01:06:54.523Z"
   },
   {
    "duration": 1675,
    "start_time": "2021-12-05T01:09:15.614Z"
   },
   {
    "duration": 1508,
    "start_time": "2021-12-05T01:09:17.292Z"
   },
   {
    "duration": 33,
    "start_time": "2021-12-05T01:09:18.803Z"
   },
   {
    "duration": 31,
    "start_time": "2021-12-05T01:09:18.838Z"
   },
   {
    "duration": 10,
    "start_time": "2021-12-05T01:09:18.872Z"
   },
   {
    "duration": 170751,
    "start_time": "2021-12-05T01:09:20.425Z"
   },
   {
    "duration": 83,
    "start_time": "2021-12-05T01:13:30.488Z"
   },
   {
    "duration": 21,
    "start_time": "2021-12-05T01:13:33.108Z"
   },
   {
    "duration": 12,
    "start_time": "2021-12-05T01:13:33.407Z"
   },
   {
    "duration": 6,
    "start_time": "2021-12-05T01:13:34.717Z"
   },
   {
    "duration": 201,
    "start_time": "2021-12-05T01:13:38.339Z"
   },
   {
    "duration": 513,
    "start_time": "2021-12-05T01:14:58.328Z"
   },
   {
    "duration": 1845,
    "start_time": "2021-12-05T01:27:55.830Z"
   },
   {
    "duration": 1374,
    "start_time": "2021-12-05T01:27:57.680Z"
   },
   {
    "duration": 39,
    "start_time": "2021-12-05T01:27:59.057Z"
   },
   {
    "duration": 12,
    "start_time": "2021-12-05T01:27:59.099Z"
   },
   {
    "duration": 5,
    "start_time": "2021-12-05T01:27:59.114Z"
   },
   {
    "duration": 157286,
    "start_time": "2021-12-05T01:27:59.122Z"
   },
   {
    "duration": 90,
    "start_time": "2021-12-05T01:30:36.412Z"
   },
   {
    "duration": 18,
    "start_time": "2021-12-05T01:30:36.505Z"
   },
   {
    "duration": 14,
    "start_time": "2021-12-05T01:30:36.525Z"
   },
   {
    "duration": 26,
    "start_time": "2021-12-05T01:30:36.542Z"
   },
   {
    "duration": 120,
    "start_time": "2021-12-05T01:30:36.570Z"
   },
   {
    "duration": 1638,
    "start_time": "2021-12-05T01:41:07.239Z"
   },
   {
    "duration": 1351,
    "start_time": "2021-12-05T01:41:08.879Z"
   },
   {
    "duration": 41,
    "start_time": "2021-12-05T01:41:10.233Z"
   },
   {
    "duration": 10,
    "start_time": "2021-12-05T01:41:10.277Z"
   },
   {
    "duration": 5,
    "start_time": "2021-12-05T01:41:10.289Z"
   },
   {
    "duration": 159936,
    "start_time": "2021-12-05T01:41:10.297Z"
   },
   {
    "duration": 95,
    "start_time": "2021-12-05T01:43:50.236Z"
   },
   {
    "duration": 18,
    "start_time": "2021-12-05T01:43:50.334Z"
   },
   {
    "duration": 10,
    "start_time": "2021-12-05T01:43:50.368Z"
   },
   {
    "duration": 6,
    "start_time": "2021-12-05T01:43:50.381Z"
   },
   {
    "duration": 203,
    "start_time": "2021-12-05T01:43:50.390Z"
   },
   {
    "duration": 1715,
    "start_time": "2021-12-05T02:24:33.487Z"
   },
   {
    "duration": 1454,
    "start_time": "2021-12-05T02:24:35.205Z"
   },
   {
    "duration": 36,
    "start_time": "2021-12-05T02:24:36.667Z"
   },
   {
    "duration": 14,
    "start_time": "2021-12-05T02:24:36.706Z"
   },
   {
    "duration": 15,
    "start_time": "2021-12-05T02:24:36.722Z"
   },
   {
    "duration": 171437,
    "start_time": "2021-12-05T02:24:36.739Z"
   },
   {
    "duration": 98,
    "start_time": "2021-12-05T02:27:28.178Z"
   },
   {
    "duration": 21,
    "start_time": "2021-12-05T02:27:28.280Z"
   },
   {
    "duration": 9,
    "start_time": "2021-12-05T02:27:28.305Z"
   },
   {
    "duration": 7,
    "start_time": "2021-12-05T02:27:28.317Z"
   },
   {
    "duration": 193,
    "start_time": "2021-12-05T02:27:28.326Z"
   },
   {
    "duration": 344,
    "start_time": "2021-12-05T02:37:59.955Z"
   },
   {
    "duration": 1643,
    "start_time": "2021-12-05T02:40:32.616Z"
   },
   {
    "duration": 1469,
    "start_time": "2021-12-05T02:40:34.262Z"
   },
   {
    "duration": 40,
    "start_time": "2021-12-05T02:40:35.735Z"
   },
   {
    "duration": 11,
    "start_time": "2021-12-05T02:40:35.779Z"
   },
   {
    "duration": 4,
    "start_time": "2021-12-05T02:40:35.793Z"
   },
   {
    "duration": 166434,
    "start_time": "2021-12-05T02:40:35.800Z"
   },
   {
    "duration": 104,
    "start_time": "2021-12-05T02:43:22.237Z"
   },
   {
    "duration": 32,
    "start_time": "2021-12-05T02:43:22.345Z"
   },
   {
    "duration": 13,
    "start_time": "2021-12-05T02:43:22.381Z"
   },
   {
    "duration": 6,
    "start_time": "2021-12-05T02:43:22.396Z"
   },
   {
    "duration": 122,
    "start_time": "2021-12-05T02:43:22.404Z"
   },
   {
    "duration": 1670,
    "start_time": "2021-12-05T03:04:50.633Z"
   },
   {
    "duration": 1432,
    "start_time": "2021-12-05T03:04:52.306Z"
   },
   {
    "duration": 43,
    "start_time": "2021-12-05T03:04:53.741Z"
   },
   {
    "duration": 9,
    "start_time": "2021-12-05T03:04:53.787Z"
   },
   {
    "duration": 4,
    "start_time": "2021-12-05T03:04:53.798Z"
   },
   {
    "duration": 170047,
    "start_time": "2021-12-05T03:04:53.805Z"
   },
   {
    "duration": 93,
    "start_time": "2021-12-05T03:07:43.854Z"
   },
   {
    "duration": 27,
    "start_time": "2021-12-05T03:07:43.951Z"
   },
   {
    "duration": 13,
    "start_time": "2021-12-05T03:07:43.982Z"
   },
   {
    "duration": 6,
    "start_time": "2021-12-05T03:07:43.998Z"
   },
   {
    "duration": 195,
    "start_time": "2021-12-05T03:07:44.007Z"
   },
   {
    "duration": 337,
    "start_time": "2021-12-05T03:09:07.942Z"
   },
   {
    "duration": 1627,
    "start_time": "2021-12-05T03:14:44.657Z"
   },
   {
    "duration": 1380,
    "start_time": "2021-12-05T03:14:46.288Z"
   },
   {
    "duration": 35,
    "start_time": "2021-12-05T03:14:47.671Z"
   },
   {
    "duration": 10,
    "start_time": "2021-12-05T03:14:47.708Z"
   },
   {
    "duration": 5,
    "start_time": "2021-12-05T03:14:47.720Z"
   },
   {
    "duration": 157948,
    "start_time": "2021-12-05T03:14:47.727Z"
   },
   {
    "duration": 103,
    "start_time": "2021-12-05T03:17:25.678Z"
   },
   {
    "duration": 20,
    "start_time": "2021-12-05T03:17:25.787Z"
   },
   {
    "duration": 13,
    "start_time": "2021-12-05T03:17:25.811Z"
   },
   {
    "duration": 6,
    "start_time": "2021-12-05T03:17:25.827Z"
   },
   {
    "duration": 210,
    "start_time": "2021-12-05T03:17:25.868Z"
   },
   {
    "duration": 1692,
    "start_time": "2021-12-05T03:23:33.832Z"
   },
   {
    "duration": 1474,
    "start_time": "2021-12-05T03:23:35.526Z"
   },
   {
    "duration": 33,
    "start_time": "2021-12-05T03:23:37.004Z"
   },
   {
    "duration": 38,
    "start_time": "2021-12-05T03:23:37.040Z"
   },
   {
    "duration": 6,
    "start_time": "2021-12-05T03:23:37.081Z"
   },
   {
    "duration": 171448,
    "start_time": "2021-12-05T03:23:37.091Z"
   },
   {
    "duration": 102,
    "start_time": "2021-12-05T03:26:28.541Z"
   },
   {
    "duration": 22,
    "start_time": "2021-12-05T03:26:28.647Z"
   },
   {
    "duration": 15,
    "start_time": "2021-12-05T03:26:28.673Z"
   },
   {
    "duration": 6,
    "start_time": "2021-12-05T03:26:28.690Z"
   },
   {
    "duration": 204,
    "start_time": "2021-12-05T03:26:28.698Z"
   },
   {
    "duration": 1311,
    "start_time": "2021-12-05T15:55:42.921Z"
   },
   {
    "duration": 3166,
    "start_time": "2021-12-05T15:55:44.235Z"
   },
   {
    "duration": 26,
    "start_time": "2021-12-05T15:55:47.403Z"
   },
   {
    "duration": 6,
    "start_time": "2021-12-05T15:55:47.431Z"
   },
   {
    "duration": 2,
    "start_time": "2021-12-05T15:55:47.439Z"
   },
   {
    "duration": 109936,
    "start_time": "2021-12-05T15:55:47.467Z"
   },
   {
    "duration": 84,
    "start_time": "2021-12-05T15:57:37.405Z"
   },
   {
    "duration": 15,
    "start_time": "2021-12-05T15:57:37.491Z"
   },
   {
    "duration": 24,
    "start_time": "2021-12-05T15:57:37.509Z"
   },
   {
    "duration": 3,
    "start_time": "2021-12-05T15:57:37.535Z"
   },
   {
    "duration": 478,
    "start_time": "2021-12-05T15:57:37.540Z"
   },
   {
    "duration": 12145,
    "start_time": "2021-12-05T15:57:38.020Z"
   },
   {
    "duration": 6,
    "start_time": "2021-12-05T15:57:50.169Z"
   },
   {
    "duration": 15,
    "start_time": "2021-12-05T15:57:50.176Z"
   },
   {
    "duration": 22,
    "start_time": "2021-12-05T15:57:50.193Z"
   },
   {
    "duration": 74,
    "start_time": "2021-12-05T15:57:50.217Z"
   },
   {
    "duration": 24961,
    "start_time": "2021-12-05T15:57:50.293Z"
   },
   {
    "duration": 35869,
    "start_time": "2021-12-05T15:58:15.257Z"
   },
   {
    "duration": 8,
    "start_time": "2021-12-05T15:58:51.128Z"
   },
   {
    "duration": 44788,
    "start_time": "2021-12-05T15:58:51.138Z"
   },
   {
    "duration": 16408,
    "start_time": "2021-12-05T15:59:35.928Z"
   },
   {
    "duration": 3049637,
    "start_time": "2021-12-05T15:59:52.338Z"
   },
   {
    "duration": 8,
    "start_time": "2021-12-05T16:50:41.979Z"
   },
   {
    "duration": 74,
    "start_time": "2021-12-06T23:50:40.793Z"
   },
   {
    "duration": 61,
    "start_time": "2021-12-06T23:51:46.311Z"
   },
   {
    "duration": 53,
    "start_time": "2021-12-06T23:53:07.800Z"
   },
   {
    "duration": 59,
    "start_time": "2021-12-06T23:56:32.650Z"
   },
   {
    "duration": 1161,
    "start_time": "2021-12-07T00:14:56.622Z"
   },
   {
    "duration": 678,
    "start_time": "2021-12-07T00:14:59.550Z"
   },
   {
    "duration": 29,
    "start_time": "2021-12-07T00:15:02.232Z"
   },
   {
    "duration": 8,
    "start_time": "2021-12-07T00:15:02.561Z"
   },
   {
    "duration": 4,
    "start_time": "2021-12-07T00:15:04.452Z"
   },
   {
    "duration": 95009,
    "start_time": "2021-12-07T00:15:07.501Z"
   },
   {
    "duration": 61,
    "start_time": "2021-12-07T00:16:42.512Z"
   },
   {
    "duration": 26,
    "start_time": "2021-12-07T00:16:42.575Z"
   },
   {
    "duration": 10,
    "start_time": "2021-12-07T00:16:42.603Z"
   },
   {
    "duration": 4,
    "start_time": "2021-12-07T00:16:42.614Z"
   },
   {
    "duration": 6,
    "start_time": "2021-12-07T00:20:51.343Z"
   },
   {
    "duration": 3,
    "start_time": "2021-12-07T00:21:32.133Z"
   },
   {
    "duration": 269,
    "start_time": "2021-12-07T00:22:03.262Z"
   },
   {
    "duration": 3,
    "start_time": "2021-12-07T00:22:07.417Z"
   },
   {
    "duration": 4,
    "start_time": "2021-12-07T00:22:22.848Z"
   },
   {
    "duration": 33,
    "start_time": "2021-12-07T00:33:52.743Z"
   },
   {
    "duration": 39,
    "start_time": "2021-12-07T00:34:19.297Z"
   },
   {
    "duration": 1148,
    "start_time": "2021-12-07T01:13:40.126Z"
   },
   {
    "duration": 623,
    "start_time": "2021-12-07T01:13:42.741Z"
   },
   {
    "duration": 29,
    "start_time": "2021-12-07T01:13:46.153Z"
   },
   {
    "duration": 7,
    "start_time": "2021-12-07T01:13:46.962Z"
   },
   {
    "duration": 3,
    "start_time": "2021-12-07T01:13:48.240Z"
   },
   {
    "duration": 94273,
    "start_time": "2021-12-07T01:13:50.198Z"
   },
   {
    "duration": 81,
    "start_time": "2021-12-07T01:15:24.473Z"
   },
   {
    "duration": 16,
    "start_time": "2021-12-07T01:15:24.557Z"
   },
   {
    "duration": 22,
    "start_time": "2021-12-07T01:15:24.575Z"
   },
   {
    "duration": 6,
    "start_time": "2021-12-07T01:15:24.599Z"
   },
   {
    "duration": 10,
    "start_time": "2021-12-07T01:15:24.606Z"
   },
   {
    "duration": 5,
    "start_time": "2021-12-07T01:15:24.617Z"
   },
   {
    "duration": 37,
    "start_time": "2021-12-07T01:15:24.624Z"
   },
   {
    "duration": 1196,
    "start_time": "2021-12-07T01:19:57.880Z"
   },
   {
    "duration": 627,
    "start_time": "2021-12-07T01:19:59.118Z"
   },
   {
    "duration": 29,
    "start_time": "2021-12-07T01:20:01.500Z"
   },
   {
    "duration": 6,
    "start_time": "2021-12-07T01:20:02.534Z"
   },
   {
    "duration": 4,
    "start_time": "2021-12-07T01:20:12.057Z"
   },
   {
    "duration": 95223,
    "start_time": "2021-12-07T01:20:15.021Z"
   },
   {
    "duration": 75,
    "start_time": "2021-12-07T01:21:50.245Z"
   },
   {
    "duration": 14,
    "start_time": "2021-12-07T01:22:32.960Z"
   },
   {
    "duration": 9,
    "start_time": "2021-12-07T01:22:34.677Z"
   },
   {
    "duration": 5,
    "start_time": "2021-12-07T01:22:35.383Z"
   },
   {
    "duration": 9,
    "start_time": "2021-12-07T01:22:38.075Z"
   },
   {
    "duration": 4,
    "start_time": "2021-12-07T01:22:38.257Z"
   },
   {
    "duration": 34,
    "start_time": "2021-12-07T01:22:44.693Z"
   },
   {
    "duration": 1152,
    "start_time": "2021-12-07T12:21:14.990Z"
   },
   {
    "duration": 3256,
    "start_time": "2021-12-07T12:21:17.896Z"
   },
   {
    "duration": 23,
    "start_time": "2021-12-07T12:21:23.931Z"
   },
   {
    "duration": 7,
    "start_time": "2021-12-07T12:21:25.875Z"
   },
   {
    "duration": 3,
    "start_time": "2021-12-07T12:21:31.371Z"
   },
   {
    "duration": 101694,
    "start_time": "2021-12-07T12:21:37.931Z"
   },
   {
    "duration": 61,
    "start_time": "2021-12-07T12:23:19.627Z"
   },
   {
    "duration": 11,
    "start_time": "2021-12-07T12:23:19.690Z"
   },
   {
    "duration": 8,
    "start_time": "2021-12-07T12:23:19.702Z"
   },
   {
    "duration": 3,
    "start_time": "2021-12-07T12:23:19.712Z"
   },
   {
    "duration": 7,
    "start_time": "2021-12-07T12:23:34.208Z"
   },
   {
    "duration": 33,
    "start_time": "2021-12-07T12:23:44.397Z"
   },
   {
    "duration": 339,
    "start_time": "2021-12-07T12:23:46.106Z"
   },
   {
    "duration": 4,
    "start_time": "2021-12-07T12:24:46.011Z"
   },
   {
    "duration": 10269,
    "start_time": "2021-12-07T12:24:58.892Z"
   },
   {
    "duration": 7,
    "start_time": "2021-12-07T12:26:24.860Z"
   },
   {
    "duration": 255,
    "start_time": "2021-12-07T12:26:33.444Z"
   },
   {
    "duration": 15410,
    "start_time": "2021-12-07T12:26:50.824Z"
   },
   {
    "duration": 85,
    "start_time": "2021-12-07T12:28:12.977Z"
   },
   {
    "duration": 2597473,
    "start_time": "2021-12-07T12:30:37.880Z"
   },
   {
    "duration": 7,
    "start_time": "2021-12-07T13:14:39.205Z"
   }
  ],
  "kernelspec": {
   "display_name": "Python 3",
   "language": "python",
   "name": "python3"
  },
  "language_info": {
   "codemirror_mode": {
    "name": "ipython",
    "version": 3
   },
   "file_extension": ".py",
   "mimetype": "text/x-python",
   "name": "python",
   "nbconvert_exporter": "python",
   "pygments_lexer": "ipython3",
   "version": "3.8.5"
  },
  "toc": {
   "base_numbering": 1,
   "nav_menu": {},
   "number_sections": true,
   "sideBar": true,
   "skip_h1_title": true,
   "title_cell": "Содержание",
   "title_sidebar": "Contents",
   "toc_cell": true,
   "toc_position": {
    "height": "calc(100% - 180px)",
    "left": "10px",
    "top": "150px",
    "width": "302.391px"
   },
   "toc_section_display": true,
   "toc_window_display": false
  }
 },
 "nbformat": 4,
 "nbformat_minor": 2
}
