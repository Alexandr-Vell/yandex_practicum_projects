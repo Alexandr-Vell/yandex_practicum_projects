{
 "cells": [
  {
   "cell_type": "markdown",
   "metadata": {},
   "source": [
    "### contract\n",
    "\n",
    "begindate - дата начала  \n",
    "enddate - дата окончания  \n",
    "type - тип оплаты (раз в месяц, раз в год и тд)\n",
    "paperlessbilling - выставление счета  \n",
    "paymentmethod - способ оплаты  \n",
    "monthlycharge - ежемесячная оплата  \n",
    "totalcharges - обшая стоимость\n",
    "\n",
    "### internet\n",
    "\n",
    "internetservice - интернет сервис (предоставляемая услуга: DSL - модем(интернет через телефон), Fiber optic\t- оптика)  \n",
    "onlinesecurity - онлайн-безопасность  \n",
    "onlinebackup - резервное копирование  \n",
    "deviceprotection - защита устройства  \n",
    "techsupport - техподдержка  \n",
    "streamingtv - потоковое телевидение  \n",
    "streamingmovies - потоковые фильмы\n",
    "\n",
    "### personal\n",
    "\n",
    "gender - пол  \n",
    "seniorcitizen - пожилой человек (пенсионер)  \n",
    "partner - партнер  \n",
    "dependents - иждивенец (ребенок или тот за кого платит кто-то другой)\n",
    "\n",
    "### phone\n",
    "\n",
    "multiplelines - имеет несколько сим-карт / использует несколько предложений / несколько номеров"
   ]
  },
  {
   "cell_type": "code",
   "execution_count": 1,
   "metadata": {},
   "outputs": [
    {
     "name": "stdout",
     "output_type": "stream",
     "text": [
      "Requirement already satisfied: lifelines in c:\\users\\asus-admin\\anaconda3\\lib\\site-packages (0.26.4)\n",
      "Requirement already satisfied: numpy>=1.14.0 in c:\\users\\asus-admin\\anaconda3\\lib\\site-packages (from lifelines) (1.19.2)\n",
      "Requirement already satisfied: formulaic<0.3,>=0.2.2 in c:\\users\\asus-admin\\anaconda3\\lib\\site-packages (from lifelines) (0.2.4)\n",
      "Requirement already satisfied: pandas>=0.23.0 in c:\\users\\asus-admin\\anaconda3\\lib\\site-packages (from lifelines) (1.1.3)\n",
      "Requirement already satisfied: autograd-gamma>=0.3 in c:\\users\\asus-admin\\anaconda3\\lib\\site-packages (from lifelines) (0.5.0)\n",
      "Requirement already satisfied: scipy>=1.2.0 in c:\\users\\asus-admin\\anaconda3\\lib\\site-packages (from lifelines) (1.5.2)\n",
      "Requirement already satisfied: autograd>=1.3 in c:\\users\\asus-admin\\anaconda3\\lib\\site-packages (from lifelines) (1.3)\n",
      "Requirement already satisfied: matplotlib>=3.0 in c:\\users\\asus-admin\\anaconda3\\lib\\site-packages (from lifelines) (3.3.2)\n",
      "Requirement already satisfied: wrapt in c:\\users\\asus-admin\\anaconda3\\lib\\site-packages (from formulaic<0.3,>=0.2.2->lifelines) (1.11.2)\n",
      "Requirement already satisfied: interface-meta>=1.2 in c:\\users\\asus-admin\\anaconda3\\lib\\site-packages (from formulaic<0.3,>=0.2.2->lifelines) (1.2.4)\n",
      "Requirement already satisfied: astor in c:\\users\\asus-admin\\anaconda3\\lib\\site-packages (from formulaic<0.3,>=0.2.2->lifelines) (0.8.1)\n",
      "Requirement already satisfied: python-dateutil>=2.7.3 in c:\\users\\asus-admin\\anaconda3\\lib\\site-packages (from pandas>=0.23.0->lifelines) (2.8.1)\n",
      "Requirement already satisfied: pytz>=2017.2 in c:\\users\\asus-admin\\anaconda3\\lib\\site-packages (from pandas>=0.23.0->lifelines) (2020.1)\n",
      "Requirement already satisfied: future>=0.15.2 in c:\\users\\asus-admin\\anaconda3\\lib\\site-packages (from autograd>=1.3->lifelines) (0.18.2)\n",
      "Requirement already satisfied: pillow>=6.2.0 in c:\\users\\asus-admin\\anaconda3\\lib\\site-packages (from matplotlib>=3.0->lifelines) (8.0.1)\n",
      "Requirement already satisfied: certifi>=2020.06.20 in c:\\users\\asus-admin\\anaconda3\\lib\\site-packages (from matplotlib>=3.0->lifelines) (2020.6.20)\n",
      "Requirement already satisfied: pyparsing!=2.0.4,!=2.1.2,!=2.1.6,>=2.0.3 in c:\\users\\asus-admin\\anaconda3\\lib\\site-packages (from matplotlib>=3.0->lifelines) (2.4.7)\n",
      "Requirement already satisfied: cycler>=0.10 in c:\\users\\asus-admin\\anaconda3\\lib\\site-packages (from matplotlib>=3.0->lifelines) (0.10.0)\n",
      "Requirement already satisfied: kiwisolver>=1.0.1 in c:\\users\\asus-admin\\anaconda3\\lib\\site-packages (from matplotlib>=3.0->lifelines) (1.3.0)\n",
      "Requirement already satisfied: six>=1.5 in c:\\users\\asus-admin\\anaconda3\\lib\\site-packages (from python-dateutil>=2.7.3->pandas>=0.23.0->lifelines) (1.15.0)\n"
     ]
    }
   ],
   "source": [
    "!pip install lifelines"
   ]
  },
  {
   "cell_type": "code",
   "execution_count": 2,
   "metadata": {},
   "outputs": [],
   "source": [
    "import pandas as pd\n",
    "import numpy as np\n",
    "from datetime import datetime as dt\n",
    "import matplotlib.pyplot as plt\n",
    "from lifelines import KaplanMeierFitter\n",
    "from lifelines import CoxPHFitter\n",
    "from sklearn.preprocessing import StandardScaler\n",
    "from sklearn.utils import shuffle\n",
    "from sklearn.model_selection import train_test_split\n",
    "import lightgbm as lgb\n",
    "from sklearn.model_selection import GridSearchCV\n",
    "from sklearn.ensemble import RandomForestClassifier\n",
    "from sklearn.metrics import roc_auc_score\n",
    "from sklearn.metrics import roc_curve\n",
    "from catboost import CatBoostClassifier\n",
    "import seaborn as sns\n",
    "from sklearn.metrics import accuracy_score\n",
    "from sklearn.metrics import precision_score\n",
    "from sklearn.metrics import recall_score\n",
    "from sklearn.metrics import f1_score\n",
    "import lightgbm as lgb\n",
    "from lightgbm import LGBMClassifier\n",
    "from sklearn.metrics import confusion_matrix"
   ]
  },
  {
   "cell_type": "code",
   "execution_count": 3,
   "metadata": {},
   "outputs": [],
   "source": [
    "contract = pd.read_csv('contract.csv')\n",
    "internet = pd.read_csv('internet.csv')\n",
    "personal = pd.read_csv('personal.csv')\n",
    "phone = pd.read_csv('phone.csv')"
   ]
  },
  {
   "cell_type": "code",
   "execution_count": 4,
   "metadata": {},
   "outputs": [
    {
     "data": {
      "text/html": [
       "<div>\n",
       "<style scoped>\n",
       "    .dataframe tbody tr th:only-of-type {\n",
       "        vertical-align: middle;\n",
       "    }\n",
       "\n",
       "    .dataframe tbody tr th {\n",
       "        vertical-align: top;\n",
       "    }\n",
       "\n",
       "    .dataframe thead th {\n",
       "        text-align: right;\n",
       "    }\n",
       "</style>\n",
       "<table border=\"1\" class=\"dataframe\">\n",
       "  <thead>\n",
       "    <tr style=\"text-align: right;\">\n",
       "      <th></th>\n",
       "      <th>customerID</th>\n",
       "      <th>BeginDate</th>\n",
       "      <th>EndDate</th>\n",
       "      <th>Type</th>\n",
       "      <th>PaperlessBilling</th>\n",
       "      <th>PaymentMethod</th>\n",
       "      <th>MonthlyCharges</th>\n",
       "      <th>TotalCharges</th>\n",
       "    </tr>\n",
       "  </thead>\n",
       "  <tbody>\n",
       "    <tr>\n",
       "      <th>0</th>\n",
       "      <td>7590-VHVEG</td>\n",
       "      <td>2020-01-01</td>\n",
       "      <td>No</td>\n",
       "      <td>Month-to-month</td>\n",
       "      <td>Yes</td>\n",
       "      <td>Electronic check</td>\n",
       "      <td>29.85</td>\n",
       "      <td>29.85</td>\n",
       "    </tr>\n",
       "    <tr>\n",
       "      <th>1</th>\n",
       "      <td>5575-GNVDE</td>\n",
       "      <td>2017-04-01</td>\n",
       "      <td>No</td>\n",
       "      <td>One year</td>\n",
       "      <td>No</td>\n",
       "      <td>Mailed check</td>\n",
       "      <td>56.95</td>\n",
       "      <td>1889.5</td>\n",
       "    </tr>\n",
       "    <tr>\n",
       "      <th>2</th>\n",
       "      <td>3668-QPYBK</td>\n",
       "      <td>2019-10-01</td>\n",
       "      <td>2019-12-01 00:00:00</td>\n",
       "      <td>Month-to-month</td>\n",
       "      <td>Yes</td>\n",
       "      <td>Mailed check</td>\n",
       "      <td>53.85</td>\n",
       "      <td>108.15</td>\n",
       "    </tr>\n",
       "    <tr>\n",
       "      <th>3</th>\n",
       "      <td>7795-CFOCW</td>\n",
       "      <td>2016-05-01</td>\n",
       "      <td>No</td>\n",
       "      <td>One year</td>\n",
       "      <td>No</td>\n",
       "      <td>Bank transfer (automatic)</td>\n",
       "      <td>42.30</td>\n",
       "      <td>1840.75</td>\n",
       "    </tr>\n",
       "    <tr>\n",
       "      <th>4</th>\n",
       "      <td>9237-HQITU</td>\n",
       "      <td>2019-09-01</td>\n",
       "      <td>2019-11-01 00:00:00</td>\n",
       "      <td>Month-to-month</td>\n",
       "      <td>Yes</td>\n",
       "      <td>Electronic check</td>\n",
       "      <td>70.70</td>\n",
       "      <td>151.65</td>\n",
       "    </tr>\n",
       "    <tr>\n",
       "      <th>...</th>\n",
       "      <td>...</td>\n",
       "      <td>...</td>\n",
       "      <td>...</td>\n",
       "      <td>...</td>\n",
       "      <td>...</td>\n",
       "      <td>...</td>\n",
       "      <td>...</td>\n",
       "      <td>...</td>\n",
       "    </tr>\n",
       "    <tr>\n",
       "      <th>7038</th>\n",
       "      <td>6840-RESVB</td>\n",
       "      <td>2018-02-01</td>\n",
       "      <td>No</td>\n",
       "      <td>One year</td>\n",
       "      <td>Yes</td>\n",
       "      <td>Mailed check</td>\n",
       "      <td>84.80</td>\n",
       "      <td>1990.5</td>\n",
       "    </tr>\n",
       "    <tr>\n",
       "      <th>7039</th>\n",
       "      <td>2234-XADUH</td>\n",
       "      <td>2014-02-01</td>\n",
       "      <td>No</td>\n",
       "      <td>One year</td>\n",
       "      <td>Yes</td>\n",
       "      <td>Credit card (automatic)</td>\n",
       "      <td>103.20</td>\n",
       "      <td>7362.9</td>\n",
       "    </tr>\n",
       "    <tr>\n",
       "      <th>7040</th>\n",
       "      <td>4801-JZAZL</td>\n",
       "      <td>2019-03-01</td>\n",
       "      <td>No</td>\n",
       "      <td>Month-to-month</td>\n",
       "      <td>Yes</td>\n",
       "      <td>Electronic check</td>\n",
       "      <td>29.60</td>\n",
       "      <td>346.45</td>\n",
       "    </tr>\n",
       "    <tr>\n",
       "      <th>7041</th>\n",
       "      <td>8361-LTMKD</td>\n",
       "      <td>2019-07-01</td>\n",
       "      <td>2019-11-01 00:00:00</td>\n",
       "      <td>Month-to-month</td>\n",
       "      <td>Yes</td>\n",
       "      <td>Mailed check</td>\n",
       "      <td>74.40</td>\n",
       "      <td>306.6</td>\n",
       "    </tr>\n",
       "    <tr>\n",
       "      <th>7042</th>\n",
       "      <td>3186-AJIEK</td>\n",
       "      <td>2014-08-01</td>\n",
       "      <td>No</td>\n",
       "      <td>Two year</td>\n",
       "      <td>Yes</td>\n",
       "      <td>Bank transfer (automatic)</td>\n",
       "      <td>105.65</td>\n",
       "      <td>6844.5</td>\n",
       "    </tr>\n",
       "  </tbody>\n",
       "</table>\n",
       "<p>7043 rows × 8 columns</p>\n",
       "</div>"
      ],
      "text/plain": [
       "      customerID   BeginDate              EndDate            Type  \\\n",
       "0     7590-VHVEG  2020-01-01                   No  Month-to-month   \n",
       "1     5575-GNVDE  2017-04-01                   No        One year   \n",
       "2     3668-QPYBK  2019-10-01  2019-12-01 00:00:00  Month-to-month   \n",
       "3     7795-CFOCW  2016-05-01                   No        One year   \n",
       "4     9237-HQITU  2019-09-01  2019-11-01 00:00:00  Month-to-month   \n",
       "...          ...         ...                  ...             ...   \n",
       "7038  6840-RESVB  2018-02-01                   No        One year   \n",
       "7039  2234-XADUH  2014-02-01                   No        One year   \n",
       "7040  4801-JZAZL  2019-03-01                   No  Month-to-month   \n",
       "7041  8361-LTMKD  2019-07-01  2019-11-01 00:00:00  Month-to-month   \n",
       "7042  3186-AJIEK  2014-08-01                   No        Two year   \n",
       "\n",
       "     PaperlessBilling              PaymentMethod  MonthlyCharges TotalCharges  \n",
       "0                 Yes           Electronic check           29.85        29.85  \n",
       "1                  No               Mailed check           56.95       1889.5  \n",
       "2                 Yes               Mailed check           53.85       108.15  \n",
       "3                  No  Bank transfer (automatic)           42.30      1840.75  \n",
       "4                 Yes           Electronic check           70.70       151.65  \n",
       "...               ...                        ...             ...          ...  \n",
       "7038              Yes               Mailed check           84.80       1990.5  \n",
       "7039              Yes    Credit card (automatic)          103.20       7362.9  \n",
       "7040              Yes           Electronic check           29.60       346.45  \n",
       "7041              Yes               Mailed check           74.40        306.6  \n",
       "7042              Yes  Bank transfer (automatic)          105.65       6844.5  \n",
       "\n",
       "[7043 rows x 8 columns]"
      ]
     },
     "execution_count": 4,
     "metadata": {},
     "output_type": "execute_result"
    }
   ],
   "source": [
    "contract"
   ]
  },
  {
   "cell_type": "code",
   "execution_count": 5,
   "metadata": {},
   "outputs": [
    {
     "name": "stdout",
     "output_type": "stream",
     "text": [
      "<class 'pandas.core.frame.DataFrame'>\n",
      "RangeIndex: 7043 entries, 0 to 7042\n",
      "Data columns (total 8 columns):\n",
      " #   Column            Non-Null Count  Dtype  \n",
      "---  ------            --------------  -----  \n",
      " 0   customerID        7043 non-null   object \n",
      " 1   BeginDate         7043 non-null   object \n",
      " 2   EndDate           7043 non-null   object \n",
      " 3   Type              7043 non-null   object \n",
      " 4   PaperlessBilling  7043 non-null   object \n",
      " 5   PaymentMethod     7043 non-null   object \n",
      " 6   MonthlyCharges    7043 non-null   float64\n",
      " 7   TotalCharges      7043 non-null   object \n",
      "dtypes: float64(1), object(7)\n",
      "memory usage: 440.3+ KB\n"
     ]
    }
   ],
   "source": [
    "contract.info()"
   ]
  },
  {
   "cell_type": "code",
   "execution_count": 6,
   "metadata": {},
   "outputs": [],
   "source": [
    "contract.columns = contract.columns.str.lower()"
   ]
  },
  {
   "cell_type": "code",
   "execution_count": 7,
   "metadata": {},
   "outputs": [
    {
     "data": {
      "text/html": [
       "<div>\n",
       "<style scoped>\n",
       "    .dataframe tbody tr th:only-of-type {\n",
       "        vertical-align: middle;\n",
       "    }\n",
       "\n",
       "    .dataframe tbody tr th {\n",
       "        vertical-align: top;\n",
       "    }\n",
       "\n",
       "    .dataframe thead th {\n",
       "        text-align: right;\n",
       "    }\n",
       "</style>\n",
       "<table border=\"1\" class=\"dataframe\">\n",
       "  <thead>\n",
       "    <tr style=\"text-align: right;\">\n",
       "      <th></th>\n",
       "      <th>customerid</th>\n",
       "      <th>begindate</th>\n",
       "      <th>enddate</th>\n",
       "      <th>type</th>\n",
       "      <th>paperlessbilling</th>\n",
       "      <th>paymentmethod</th>\n",
       "      <th>monthlycharges</th>\n",
       "      <th>totalcharges</th>\n",
       "    </tr>\n",
       "  </thead>\n",
       "  <tbody>\n",
       "    <tr>\n",
       "      <th>0</th>\n",
       "      <td>7590-VHVEG</td>\n",
       "      <td>2020-01-01</td>\n",
       "      <td>No</td>\n",
       "      <td>Month-to-month</td>\n",
       "      <td>Yes</td>\n",
       "      <td>Electronic check</td>\n",
       "      <td>29.85</td>\n",
       "      <td>29.85</td>\n",
       "    </tr>\n",
       "    <tr>\n",
       "      <th>1</th>\n",
       "      <td>5575-GNVDE</td>\n",
       "      <td>2017-04-01</td>\n",
       "      <td>No</td>\n",
       "      <td>One year</td>\n",
       "      <td>No</td>\n",
       "      <td>Mailed check</td>\n",
       "      <td>56.95</td>\n",
       "      <td>1889.5</td>\n",
       "    </tr>\n",
       "    <tr>\n",
       "      <th>2</th>\n",
       "      <td>3668-QPYBK</td>\n",
       "      <td>2019-10-01</td>\n",
       "      <td>2019-12-01 00:00:00</td>\n",
       "      <td>Month-to-month</td>\n",
       "      <td>Yes</td>\n",
       "      <td>Mailed check</td>\n",
       "      <td>53.85</td>\n",
       "      <td>108.15</td>\n",
       "    </tr>\n",
       "    <tr>\n",
       "      <th>3</th>\n",
       "      <td>7795-CFOCW</td>\n",
       "      <td>2016-05-01</td>\n",
       "      <td>No</td>\n",
       "      <td>One year</td>\n",
       "      <td>No</td>\n",
       "      <td>Bank transfer (automatic)</td>\n",
       "      <td>42.30</td>\n",
       "      <td>1840.75</td>\n",
       "    </tr>\n",
       "    <tr>\n",
       "      <th>4</th>\n",
       "      <td>9237-HQITU</td>\n",
       "      <td>2019-09-01</td>\n",
       "      <td>2019-11-01 00:00:00</td>\n",
       "      <td>Month-to-month</td>\n",
       "      <td>Yes</td>\n",
       "      <td>Electronic check</td>\n",
       "      <td>70.70</td>\n",
       "      <td>151.65</td>\n",
       "    </tr>\n",
       "  </tbody>\n",
       "</table>\n",
       "</div>"
      ],
      "text/plain": [
       "   customerid   begindate              enddate            type  \\\n",
       "0  7590-VHVEG  2020-01-01                   No  Month-to-month   \n",
       "1  5575-GNVDE  2017-04-01                   No        One year   \n",
       "2  3668-QPYBK  2019-10-01  2019-12-01 00:00:00  Month-to-month   \n",
       "3  7795-CFOCW  2016-05-01                   No        One year   \n",
       "4  9237-HQITU  2019-09-01  2019-11-01 00:00:00  Month-to-month   \n",
       "\n",
       "  paperlessbilling              paymentmethod  monthlycharges totalcharges  \n",
       "0              Yes           Electronic check           29.85        29.85  \n",
       "1               No               Mailed check           56.95       1889.5  \n",
       "2              Yes               Mailed check           53.85       108.15  \n",
       "3               No  Bank transfer (automatic)           42.30      1840.75  \n",
       "4              Yes           Electronic check           70.70       151.65  "
      ]
     },
     "execution_count": 7,
     "metadata": {},
     "output_type": "execute_result"
    }
   ],
   "source": [
    "contract.head()"
   ]
  },
  {
   "cell_type": "code",
   "execution_count": 8,
   "metadata": {},
   "outputs": [],
   "source": [
    "contract['begindate'] = pd.to_datetime(contract['begindate'])"
   ]
  },
  {
   "cell_type": "code",
   "execution_count": 9,
   "metadata": {},
   "outputs": [
    {
     "name": "stdout",
     "output_type": "stream",
     "text": [
      "<class 'pandas.core.frame.DataFrame'>\n",
      "RangeIndex: 7043 entries, 0 to 7042\n",
      "Data columns (total 8 columns):\n",
      " #   Column            Non-Null Count  Dtype         \n",
      "---  ------            --------------  -----         \n",
      " 0   customerid        7043 non-null   object        \n",
      " 1   begindate         7043 non-null   datetime64[ns]\n",
      " 2   enddate           7043 non-null   object        \n",
      " 3   type              7043 non-null   object        \n",
      " 4   paperlessbilling  7043 non-null   object        \n",
      " 5   paymentmethod     7043 non-null   object        \n",
      " 6   monthlycharges    7043 non-null   float64       \n",
      " 7   totalcharges      7043 non-null   object        \n",
      "dtypes: datetime64[ns](1), float64(1), object(6)\n",
      "memory usage: 440.3+ KB\n"
     ]
    }
   ],
   "source": [
    "contract.info()"
   ]
  },
  {
   "cell_type": "code",
   "execution_count": 10,
   "metadata": {},
   "outputs": [
    {
     "data": {
      "text/html": [
       "<div>\n",
       "<style scoped>\n",
       "    .dataframe tbody tr th:only-of-type {\n",
       "        vertical-align: middle;\n",
       "    }\n",
       "\n",
       "    .dataframe tbody tr th {\n",
       "        vertical-align: top;\n",
       "    }\n",
       "\n",
       "    .dataframe thead th {\n",
       "        text-align: right;\n",
       "    }\n",
       "</style>\n",
       "<table border=\"1\" class=\"dataframe\">\n",
       "  <thead>\n",
       "    <tr style=\"text-align: right;\">\n",
       "      <th></th>\n",
       "      <th>customerid</th>\n",
       "      <th>begindate</th>\n",
       "      <th>enddate</th>\n",
       "      <th>type</th>\n",
       "      <th>paperlessbilling</th>\n",
       "      <th>paymentmethod</th>\n",
       "      <th>monthlycharges</th>\n",
       "      <th>totalcharges</th>\n",
       "      <th>year_begin</th>\n",
       "      <th>month_begin</th>\n",
       "      <th>day_begin</th>\n",
       "    </tr>\n",
       "  </thead>\n",
       "  <tbody>\n",
       "    <tr>\n",
       "      <th>0</th>\n",
       "      <td>7590-VHVEG</td>\n",
       "      <td>2020-01-01</td>\n",
       "      <td>No</td>\n",
       "      <td>Month-to-month</td>\n",
       "      <td>Yes</td>\n",
       "      <td>Electronic check</td>\n",
       "      <td>29.85</td>\n",
       "      <td>29.85</td>\n",
       "      <td>2020</td>\n",
       "      <td>1</td>\n",
       "      <td>1</td>\n",
       "    </tr>\n",
       "    <tr>\n",
       "      <th>1</th>\n",
       "      <td>5575-GNVDE</td>\n",
       "      <td>2017-04-01</td>\n",
       "      <td>No</td>\n",
       "      <td>One year</td>\n",
       "      <td>No</td>\n",
       "      <td>Mailed check</td>\n",
       "      <td>56.95</td>\n",
       "      <td>1889.5</td>\n",
       "      <td>2017</td>\n",
       "      <td>4</td>\n",
       "      <td>1</td>\n",
       "    </tr>\n",
       "    <tr>\n",
       "      <th>2</th>\n",
       "      <td>3668-QPYBK</td>\n",
       "      <td>2019-10-01</td>\n",
       "      <td>2019-12-01 00:00:00</td>\n",
       "      <td>Month-to-month</td>\n",
       "      <td>Yes</td>\n",
       "      <td>Mailed check</td>\n",
       "      <td>53.85</td>\n",
       "      <td>108.15</td>\n",
       "      <td>2019</td>\n",
       "      <td>10</td>\n",
       "      <td>1</td>\n",
       "    </tr>\n",
       "    <tr>\n",
       "      <th>3</th>\n",
       "      <td>7795-CFOCW</td>\n",
       "      <td>2016-05-01</td>\n",
       "      <td>No</td>\n",
       "      <td>One year</td>\n",
       "      <td>No</td>\n",
       "      <td>Bank transfer (automatic)</td>\n",
       "      <td>42.30</td>\n",
       "      <td>1840.75</td>\n",
       "      <td>2016</td>\n",
       "      <td>5</td>\n",
       "      <td>1</td>\n",
       "    </tr>\n",
       "    <tr>\n",
       "      <th>4</th>\n",
       "      <td>9237-HQITU</td>\n",
       "      <td>2019-09-01</td>\n",
       "      <td>2019-11-01 00:00:00</td>\n",
       "      <td>Month-to-month</td>\n",
       "      <td>Yes</td>\n",
       "      <td>Electronic check</td>\n",
       "      <td>70.70</td>\n",
       "      <td>151.65</td>\n",
       "      <td>2019</td>\n",
       "      <td>9</td>\n",
       "      <td>1</td>\n",
       "    </tr>\n",
       "  </tbody>\n",
       "</table>\n",
       "</div>"
      ],
      "text/plain": [
       "   customerid  begindate              enddate            type  \\\n",
       "0  7590-VHVEG 2020-01-01                   No  Month-to-month   \n",
       "1  5575-GNVDE 2017-04-01                   No        One year   \n",
       "2  3668-QPYBK 2019-10-01  2019-12-01 00:00:00  Month-to-month   \n",
       "3  7795-CFOCW 2016-05-01                   No        One year   \n",
       "4  9237-HQITU 2019-09-01  2019-11-01 00:00:00  Month-to-month   \n",
       "\n",
       "  paperlessbilling              paymentmethod  monthlycharges totalcharges  \\\n",
       "0              Yes           Electronic check           29.85        29.85   \n",
       "1               No               Mailed check           56.95       1889.5   \n",
       "2              Yes               Mailed check           53.85       108.15   \n",
       "3               No  Bank transfer (automatic)           42.30      1840.75   \n",
       "4              Yes           Electronic check           70.70       151.65   \n",
       "\n",
       "   year_begin  month_begin  day_begin  \n",
       "0        2020            1          1  \n",
       "1        2017            4          1  \n",
       "2        2019           10          1  \n",
       "3        2016            5          1  \n",
       "4        2019            9          1  "
      ]
     },
     "execution_count": 10,
     "metadata": {},
     "output_type": "execute_result"
    }
   ],
   "source": [
    "contract['year_begin'] = contract['begindate'].dt.year\n",
    "contract['month_begin'] = contract['begindate'].dt.month\n",
    "contract['day_begin'] = contract['begindate'].dt.day\n",
    "contract.head()"
   ]
  },
  {
   "cell_type": "code",
   "execution_count": 11,
   "metadata": {},
   "outputs": [
    {
     "data": {
      "text/plain": [
       "<AxesSubplot:title={'center':'Количество новых пользователей за месяц в 2019 году'}, xlabel='month_begin'>"
      ]
     },
     "execution_count": 11,
     "metadata": {},
     "output_type": "execute_result"
    },
    {
     "data": {
      "image/png": "[encoded data removed]",
      "text/plain": [
       "<Figure size 1008x720 with 1 Axes>"
      ]
     },
     "metadata": {
      "needs_background": "light"
     },
     "output_type": "display_data"
    }
   ],
   "source": [
    "contract.query('year_begin == 2019').pivot_table(\n",
    "    index='month_begin', values='customerid', aggfunc='count').plot.bar(\n",
    "    figsize=(14, 10), title='Количество новых пользователей за месяц в 2019 году'\n",
    ")"
   ]
  },
  {
   "cell_type": "markdown",
   "metadata": {},
   "source": [
    "Повышение количества новых пользователей можно отметить во всем 2019 году, но особенно активно новые пользователи начали приходить с сентятбря по декабрь. Можно предположить, что повышение количества новых пользователей в 2019 году связано с пандемией и локдаунами. Люди чаще сидели дома и активнее пользовались интернетом. Если в 2018 году новые пользователи ежемесячно приходили в районе 80-100 человек, то в 2019 году этот показатель не опускался ниже 110 и в пике был больше 200. "
   ]
  },
  {
   "cell_type": "code",
   "execution_count": 12,
   "metadata": {},
   "outputs": [
    {
     "data": {
      "text/plain": [
       "<AxesSubplot:title={'center':'Количество новых пользователей за месяц в 2018 году'}, xlabel='month_begin'>"
      ]
     },
     "execution_count": 12,
     "metadata": {},
     "output_type": "execute_result"
    },
    {
     "data": {
      "image/png": "[encoded data removed]",
      "text/plain": [
       "<Figure size 1008x720 with 1 Axes>"
      ]
     },
     "metadata": {
      "needs_background": "light"
     },
     "output_type": "display_data"
    }
   ],
   "source": [
    "contract.query('year_begin == 2018').pivot_table(\n",
    "    index='month_begin', values='customerid', aggfunc='count').plot.bar(\n",
    "    figsize=(14, 10), title='Количество новых пользователей за месяц в 2018 году'\n",
    ")"
   ]
  },
  {
   "cell_type": "code",
   "execution_count": 13,
   "metadata": {},
   "outputs": [
    {
     "data": {
      "text/plain": [
       "<AxesSubplot:title={'center':'Количество новых пользователей за год'}, xlabel='year_begin'>"
      ]
     },
     "execution_count": 13,
     "metadata": {},
     "output_type": "execute_result"
    },
    {
     "data": {
      "image/png": "[encoded data removed]",
      "text/plain": [
       "<Figure size 1008x720 with 1 Axes>"
      ]
     },
     "metadata": {
      "needs_background": "light"
     },
     "output_type": "display_data"
    }
   ],
   "source": [
    "contract.pivot_table(\n",
    "    index='year_begin', values='customerid', aggfunc='count').plot.bar(\n",
    "    figsize=(14, 10), title='Количество новых пользователей за год'\n",
    ")"
   ]
  },
  {
   "cell_type": "markdown",
   "metadata": {},
   "source": [
    "Предположение: небольшой спад после 2014 года. Интернет услуги к 2014 году активно развивались и к тому моменту бОльшинство заинтересованных в интернете людей уже подключили себе необходимые услуги, дальше уже приходили люди у которых изначально повышенного интереса или потребности в интернете не было, они начали узнавать о возможностях интернета и постепенно подключали его. Отсюда спад и меньшее количество новых пользователей после 2014 года и до 2019. Если мое предположение с пандемией верно, то в 2019 году внешние факторы послужили тому, чтобы люди активнее обратили внимание на наличие у них интернета (банально были вынуждены подключить, чтобы работать удаленно), количество пользователей снова выросло.  \n",
    "\n",
    "Это все предположения и если посмотреть по месяцам, то версия с пандемией не совсем подтверждается, потому что она началась в России в марте 2019 года, а активный рост в этом году приходится на сентябрь-декабрь, возможно имеет место быть вторая волна, которая как раз пришлась на конец лета-осень и люди после первой волны осознали необходимость интернета. Но опять же это только предположение"
   ]
  },
  {
   "cell_type": "code",
   "execution_count": 14,
   "metadata": {},
   "outputs": [
    {
     "data": {
      "text/plain": [
       "array([11, 10, 12], dtype=int64)"
      ]
     },
     "execution_count": 14,
     "metadata": {},
     "output_type": "execute_result"
    }
   ],
   "source": [
    "contract.query('year_begin == 2013').month_begin.unique()"
   ]
  },
  {
   "cell_type": "code",
   "execution_count": 15,
   "metadata": {},
   "outputs": [
    {
     "data": {
      "text/plain": [
       "array([1, 2], dtype=int64)"
      ]
     },
     "execution_count": 15,
     "metadata": {},
     "output_type": "execute_result"
    }
   ],
   "source": [
    "contract.query('year_begin == 2020').month_begin.unique()"
   ]
  },
  {
   "cell_type": "markdown",
   "metadata": {},
   "source": [
    "Не учитываем 2013 и 2020 год, потому что в эти года данные только за 2 и 3 месяца"
   ]
  },
  {
   "cell_type": "code",
   "execution_count": 17,
   "metadata": {},
   "outputs": [],
   "source": [
    "dict = []\n",
    "\n",
    "for i in range(2014, 2020):\n",
    "    \n",
    "    count = len(contract[(contract['year_begin'] == i) & (contract['enddate'] == 'No')])\n",
    "    dict.append(count)"
   ]
  },
  {
   "cell_type": "code",
   "execution_count": 18,
   "metadata": {},
   "outputs": [
    {
     "data": {
      "text/plain": [
       "[1246, 729, 618, 646, 715, 976]"
      ]
     },
     "execution_count": 18,
     "metadata": {},
     "output_type": "execute_result"
    }
   ],
   "source": [
    "dict"
   ]
  },
  {
   "cell_type": "code",
   "execution_count": 19,
   "metadata": {},
   "outputs": [
    {
     "data": {
      "text/html": [
       "<div>\n",
       "<style scoped>\n",
       "    .dataframe tbody tr th:only-of-type {\n",
       "        vertical-align: middle;\n",
       "    }\n",
       "\n",
       "    .dataframe tbody tr th {\n",
       "        vertical-align: top;\n",
       "    }\n",
       "\n",
       "    .dataframe thead th {\n",
       "        text-align: right;\n",
       "    }\n",
       "</style>\n",
       "<table border=\"1\" class=\"dataframe\">\n",
       "  <thead>\n",
       "    <tr style=\"text-align: right;\">\n",
       "      <th></th>\n",
       "      <th>year</th>\n",
       "      <th>count</th>\n",
       "    </tr>\n",
       "  </thead>\n",
       "  <tbody>\n",
       "    <tr>\n",
       "      <th>0</th>\n",
       "      <td>2014</td>\n",
       "      <td>1246</td>\n",
       "    </tr>\n",
       "    <tr>\n",
       "      <th>1</th>\n",
       "      <td>2015</td>\n",
       "      <td>729</td>\n",
       "    </tr>\n",
       "    <tr>\n",
       "      <th>2</th>\n",
       "      <td>2016</td>\n",
       "      <td>618</td>\n",
       "    </tr>\n",
       "    <tr>\n",
       "      <th>3</th>\n",
       "      <td>2017</td>\n",
       "      <td>646</td>\n",
       "    </tr>\n",
       "    <tr>\n",
       "      <th>4</th>\n",
       "      <td>2018</td>\n",
       "      <td>715</td>\n",
       "    </tr>\n",
       "    <tr>\n",
       "      <th>5</th>\n",
       "      <td>2019</td>\n",
       "      <td>976</td>\n",
       "    </tr>\n",
       "  </tbody>\n",
       "</table>\n",
       "</div>"
      ],
      "text/plain": [
       "   year  count\n",
       "0  2014   1246\n",
       "1  2015    729\n",
       "2  2016    618\n",
       "3  2017    646\n",
       "4  2018    715\n",
       "5  2019    976"
      ]
     },
     "execution_count": 19,
     "metadata": {},
     "output_type": "execute_result"
    }
   ],
   "source": [
    "df = pd.DataFrame({'year' : list(range(2014, 2020)),\n",
    "                   'count' : dict})\n",
    "df"
   ]
  },
  {
   "cell_type": "code",
   "execution_count": 20,
   "metadata": {},
   "outputs": [],
   "source": [
    "df = df.set_index('year')"
   ]
  },
  {
   "cell_type": "code",
   "execution_count": 21,
   "metadata": {},
   "outputs": [
    {
     "data": {
      "text/html": [
       "<div>\n",
       "<style scoped>\n",
       "    .dataframe tbody tr th:only-of-type {\n",
       "        vertical-align: middle;\n",
       "    }\n",
       "\n",
       "    .dataframe tbody tr th {\n",
       "        vertical-align: top;\n",
       "    }\n",
       "\n",
       "    .dataframe thead th {\n",
       "        text-align: right;\n",
       "    }\n",
       "</style>\n",
       "<table border=\"1\" class=\"dataframe\">\n",
       "  <thead>\n",
       "    <tr style=\"text-align: right;\">\n",
       "      <th></th>\n",
       "      <th>count</th>\n",
       "    </tr>\n",
       "    <tr>\n",
       "      <th>year</th>\n",
       "      <th></th>\n",
       "    </tr>\n",
       "  </thead>\n",
       "  <tbody>\n",
       "    <tr>\n",
       "      <th>2014</th>\n",
       "      <td>1246</td>\n",
       "    </tr>\n",
       "    <tr>\n",
       "      <th>2015</th>\n",
       "      <td>729</td>\n",
       "    </tr>\n",
       "    <tr>\n",
       "      <th>2016</th>\n",
       "      <td>618</td>\n",
       "    </tr>\n",
       "    <tr>\n",
       "      <th>2017</th>\n",
       "      <td>646</td>\n",
       "    </tr>\n",
       "    <tr>\n",
       "      <th>2018</th>\n",
       "      <td>715</td>\n",
       "    </tr>\n",
       "    <tr>\n",
       "      <th>2019</th>\n",
       "      <td>976</td>\n",
       "    </tr>\n",
       "  </tbody>\n",
       "</table>\n",
       "</div>"
      ],
      "text/plain": [
       "      count\n",
       "year       \n",
       "2014   1246\n",
       "2015    729\n",
       "2016    618\n",
       "2017    646\n",
       "2018    715\n",
       "2019    976"
      ]
     },
     "execution_count": 21,
     "metadata": {},
     "output_type": "execute_result"
    }
   ],
   "source": [
    "df"
   ]
  },
  {
   "cell_type": "code",
   "execution_count": 22,
   "metadata": {},
   "outputs": [
    {
     "data": {
      "text/plain": [
       "<AxesSubplot:title={'center':'Число фактических клиентов к концу года'}, xlabel='year'>"
      ]
     },
     "execution_count": 22,
     "metadata": {},
     "output_type": "execute_result"
    },
    {
     "data": {
      "image/png": "[encoded data removed]",
      "text/plain": [
       "<Figure size 1080x576 with 1 Axes>"
      ]
     },
     "metadata": {
      "needs_background": "light"
     },
     "output_type": "display_data"
    }
   ],
   "source": [
    "df.plot.bar(figsize=(15, 8), title='Число фактических клиентов к концу года')"
   ]
  },
  {
   "cell_type": "markdown",
   "metadata": {},
   "source": [
    "верхний график описывает не фактическое количество клиентов, а количество оставшихся клиентов из пришедших\n",
    "надо добавить в таблицу данные сколько человек в год приходит, сколько уходит и посчитать какой процент составляет\n",
    "ежегодный отток клиентов и остаемся ли мы в плюсе по новым клиентам"
   ]
  },
  {
   "cell_type": "code",
   "execution_count": 24,
   "metadata": {},
   "outputs": [],
   "source": [
    "# ставлю 0 тем, кто остался клиентом. 0 - клиент, 1 - ушел.\n",
    "\n",
    "contract['end'] = contract['enddate'].apply(lambda x: 0 if x == 'No' else 1)"
   ]
  },
  {
   "cell_type": "code",
   "execution_count": 25,
   "metadata": {},
   "outputs": [],
   "source": [
    "contract = contract.drop('day_begin', axis=1)"
   ]
  },
  {
   "cell_type": "code",
   "execution_count": 26,
   "metadata": {},
   "outputs": [
    {
     "data": {
      "text/html": [
       "<div>\n",
       "<style scoped>\n",
       "    .dataframe tbody tr th:only-of-type {\n",
       "        vertical-align: middle;\n",
       "    }\n",
       "\n",
       "    .dataframe tbody tr th {\n",
       "        vertical-align: top;\n",
       "    }\n",
       "\n",
       "    .dataframe thead th {\n",
       "        text-align: right;\n",
       "    }\n",
       "</style>\n",
       "<table border=\"1\" class=\"dataframe\">\n",
       "  <thead>\n",
       "    <tr style=\"text-align: right;\">\n",
       "      <th></th>\n",
       "      <th>customerid</th>\n",
       "      <th>begindate</th>\n",
       "      <th>enddate</th>\n",
       "      <th>type</th>\n",
       "      <th>paperlessbilling</th>\n",
       "      <th>paymentmethod</th>\n",
       "      <th>monthlycharges</th>\n",
       "      <th>totalcharges</th>\n",
       "      <th>year_begin</th>\n",
       "      <th>month_begin</th>\n",
       "      <th>end</th>\n",
       "    </tr>\n",
       "  </thead>\n",
       "  <tbody>\n",
       "    <tr>\n",
       "      <th>0</th>\n",
       "      <td>7590-VHVEG</td>\n",
       "      <td>2020-01-01</td>\n",
       "      <td>No</td>\n",
       "      <td>Month-to-month</td>\n",
       "      <td>Yes</td>\n",
       "      <td>Electronic check</td>\n",
       "      <td>29.85</td>\n",
       "      <td>29.85</td>\n",
       "      <td>2020</td>\n",
       "      <td>1</td>\n",
       "      <td>0</td>\n",
       "    </tr>\n",
       "    <tr>\n",
       "      <th>1</th>\n",
       "      <td>5575-GNVDE</td>\n",
       "      <td>2017-04-01</td>\n",
       "      <td>No</td>\n",
       "      <td>One year</td>\n",
       "      <td>No</td>\n",
       "      <td>Mailed check</td>\n",
       "      <td>56.95</td>\n",
       "      <td>1889.5</td>\n",
       "      <td>2017</td>\n",
       "      <td>4</td>\n",
       "      <td>0</td>\n",
       "    </tr>\n",
       "    <tr>\n",
       "      <th>2</th>\n",
       "      <td>3668-QPYBK</td>\n",
       "      <td>2019-10-01</td>\n",
       "      <td>2019-12-01 00:00:00</td>\n",
       "      <td>Month-to-month</td>\n",
       "      <td>Yes</td>\n",
       "      <td>Mailed check</td>\n",
       "      <td>53.85</td>\n",
       "      <td>108.15</td>\n",
       "      <td>2019</td>\n",
       "      <td>10</td>\n",
       "      <td>1</td>\n",
       "    </tr>\n",
       "    <tr>\n",
       "      <th>3</th>\n",
       "      <td>7795-CFOCW</td>\n",
       "      <td>2016-05-01</td>\n",
       "      <td>No</td>\n",
       "      <td>One year</td>\n",
       "      <td>No</td>\n",
       "      <td>Bank transfer (automatic)</td>\n",
       "      <td>42.30</td>\n",
       "      <td>1840.75</td>\n",
       "      <td>2016</td>\n",
       "      <td>5</td>\n",
       "      <td>0</td>\n",
       "    </tr>\n",
       "    <tr>\n",
       "      <th>4</th>\n",
       "      <td>9237-HQITU</td>\n",
       "      <td>2019-09-01</td>\n",
       "      <td>2019-11-01 00:00:00</td>\n",
       "      <td>Month-to-month</td>\n",
       "      <td>Yes</td>\n",
       "      <td>Electronic check</td>\n",
       "      <td>70.70</td>\n",
       "      <td>151.65</td>\n",
       "      <td>2019</td>\n",
       "      <td>9</td>\n",
       "      <td>1</td>\n",
       "    </tr>\n",
       "  </tbody>\n",
       "</table>\n",
       "</div>"
      ],
      "text/plain": [
       "   customerid  begindate              enddate            type  \\\n",
       "0  7590-VHVEG 2020-01-01                   No  Month-to-month   \n",
       "1  5575-GNVDE 2017-04-01                   No        One year   \n",
       "2  3668-QPYBK 2019-10-01  2019-12-01 00:00:00  Month-to-month   \n",
       "3  7795-CFOCW 2016-05-01                   No        One year   \n",
       "4  9237-HQITU 2019-09-01  2019-11-01 00:00:00  Month-to-month   \n",
       "\n",
       "  paperlessbilling              paymentmethod  monthlycharges totalcharges  \\\n",
       "0              Yes           Electronic check           29.85        29.85   \n",
       "1               No               Mailed check           56.95       1889.5   \n",
       "2              Yes               Mailed check           53.85       108.15   \n",
       "3               No  Bank transfer (automatic)           42.30      1840.75   \n",
       "4              Yes           Electronic check           70.70       151.65   \n",
       "\n",
       "   year_begin  month_begin  end  \n",
       "0        2020            1    0  \n",
       "1        2017            4    0  \n",
       "2        2019           10    1  \n",
       "3        2016            5    0  \n",
       "4        2019            9    1  "
      ]
     },
     "execution_count": 26,
     "metadata": {},
     "output_type": "execute_result"
    }
   ],
   "source": [
    "contract.head()"
   ]
  },
  {
   "cell_type": "code",
   "execution_count": 27,
   "metadata": {},
   "outputs": [],
   "source": [
    "# замена No в колонке дат ухода клиентов на актуальную дату данных\n",
    "# 2020-02-01\n",
    "\n",
    "contract['enddate'] = contract['enddate'].apply(lambda x: '2020-02-01' if x == 'No' else x)"
   ]
  },
  {
   "cell_type": "code",
   "execution_count": 28,
   "metadata": {},
   "outputs": [
    {
     "data": {
      "text/html": [
       "<div>\n",
       "<style scoped>\n",
       "    .dataframe tbody tr th:only-of-type {\n",
       "        vertical-align: middle;\n",
       "    }\n",
       "\n",
       "    .dataframe tbody tr th {\n",
       "        vertical-align: top;\n",
       "    }\n",
       "\n",
       "    .dataframe thead th {\n",
       "        text-align: right;\n",
       "    }\n",
       "</style>\n",
       "<table border=\"1\" class=\"dataframe\">\n",
       "  <thead>\n",
       "    <tr style=\"text-align: right;\">\n",
       "      <th></th>\n",
       "      <th>customerid</th>\n",
       "      <th>begindate</th>\n",
       "      <th>enddate</th>\n",
       "      <th>type</th>\n",
       "      <th>paperlessbilling</th>\n",
       "      <th>paymentmethod</th>\n",
       "      <th>monthlycharges</th>\n",
       "      <th>totalcharges</th>\n",
       "      <th>year_begin</th>\n",
       "      <th>month_begin</th>\n",
       "      <th>end</th>\n",
       "    </tr>\n",
       "  </thead>\n",
       "  <tbody>\n",
       "    <tr>\n",
       "      <th>0</th>\n",
       "      <td>7590-VHVEG</td>\n",
       "      <td>2020-01-01</td>\n",
       "      <td>2020-02-01</td>\n",
       "      <td>Month-to-month</td>\n",
       "      <td>Yes</td>\n",
       "      <td>Electronic check</td>\n",
       "      <td>29.85</td>\n",
       "      <td>29.85</td>\n",
       "      <td>2020</td>\n",
       "      <td>1</td>\n",
       "      <td>0</td>\n",
       "    </tr>\n",
       "    <tr>\n",
       "      <th>1</th>\n",
       "      <td>5575-GNVDE</td>\n",
       "      <td>2017-04-01</td>\n",
       "      <td>2020-02-01</td>\n",
       "      <td>One year</td>\n",
       "      <td>No</td>\n",
       "      <td>Mailed check</td>\n",
       "      <td>56.95</td>\n",
       "      <td>1889.5</td>\n",
       "      <td>2017</td>\n",
       "      <td>4</td>\n",
       "      <td>0</td>\n",
       "    </tr>\n",
       "    <tr>\n",
       "      <th>2</th>\n",
       "      <td>3668-QPYBK</td>\n",
       "      <td>2019-10-01</td>\n",
       "      <td>2019-12-01 00:00:00</td>\n",
       "      <td>Month-to-month</td>\n",
       "      <td>Yes</td>\n",
       "      <td>Mailed check</td>\n",
       "      <td>53.85</td>\n",
       "      <td>108.15</td>\n",
       "      <td>2019</td>\n",
       "      <td>10</td>\n",
       "      <td>1</td>\n",
       "    </tr>\n",
       "    <tr>\n",
       "      <th>3</th>\n",
       "      <td>7795-CFOCW</td>\n",
       "      <td>2016-05-01</td>\n",
       "      <td>2020-02-01</td>\n",
       "      <td>One year</td>\n",
       "      <td>No</td>\n",
       "      <td>Bank transfer (automatic)</td>\n",
       "      <td>42.30</td>\n",
       "      <td>1840.75</td>\n",
       "      <td>2016</td>\n",
       "      <td>5</td>\n",
       "      <td>0</td>\n",
       "    </tr>\n",
       "    <tr>\n",
       "      <th>4</th>\n",
       "      <td>9237-HQITU</td>\n",
       "      <td>2019-09-01</td>\n",
       "      <td>2019-11-01 00:00:00</td>\n",
       "      <td>Month-to-month</td>\n",
       "      <td>Yes</td>\n",
       "      <td>Electronic check</td>\n",
       "      <td>70.70</td>\n",
       "      <td>151.65</td>\n",
       "      <td>2019</td>\n",
       "      <td>9</td>\n",
       "      <td>1</td>\n",
       "    </tr>\n",
       "  </tbody>\n",
       "</table>\n",
       "</div>"
      ],
      "text/plain": [
       "   customerid  begindate              enddate            type  \\\n",
       "0  7590-VHVEG 2020-01-01           2020-02-01  Month-to-month   \n",
       "1  5575-GNVDE 2017-04-01           2020-02-01        One year   \n",
       "2  3668-QPYBK 2019-10-01  2019-12-01 00:00:00  Month-to-month   \n",
       "3  7795-CFOCW 2016-05-01           2020-02-01        One year   \n",
       "4  9237-HQITU 2019-09-01  2019-11-01 00:00:00  Month-to-month   \n",
       "\n",
       "  paperlessbilling              paymentmethod  monthlycharges totalcharges  \\\n",
       "0              Yes           Electronic check           29.85        29.85   \n",
       "1               No               Mailed check           56.95       1889.5   \n",
       "2              Yes               Mailed check           53.85       108.15   \n",
       "3               No  Bank transfer (automatic)           42.30      1840.75   \n",
       "4              Yes           Electronic check           70.70       151.65   \n",
       "\n",
       "   year_begin  month_begin  end  \n",
       "0        2020            1    0  \n",
       "1        2017            4    0  \n",
       "2        2019           10    1  \n",
       "3        2016            5    0  \n",
       "4        2019            9    1  "
      ]
     },
     "execution_count": 28,
     "metadata": {},
     "output_type": "execute_result"
    }
   ],
   "source": [
    "contract.head()"
   ]
  },
  {
   "cell_type": "code",
   "execution_count": 29,
   "metadata": {},
   "outputs": [],
   "source": [
    "# посчитаю количество месяцев, которое клиент пользовался услугами, перед этим надо перевести тип данных в datetime64\n",
    "\n",
    "contract['enddate'] = pd.to_datetime(contract['enddate'])"
   ]
  },
  {
   "cell_type": "code",
   "execution_count": 30,
   "metadata": {},
   "outputs": [
    {
     "name": "stdout",
     "output_type": "stream",
     "text": [
      "<class 'pandas.core.frame.DataFrame'>\n",
      "RangeIndex: 7043 entries, 0 to 7042\n",
      "Data columns (total 11 columns):\n",
      " #   Column            Non-Null Count  Dtype         \n",
      "---  ------            --------------  -----         \n",
      " 0   customerid        7043 non-null   object        \n",
      " 1   begindate         7043 non-null   datetime64[ns]\n",
      " 2   enddate           7043 non-null   datetime64[ns]\n",
      " 3   type              7043 non-null   object        \n",
      " 4   paperlessbilling  7043 non-null   object        \n",
      " 5   paymentmethod     7043 non-null   object        \n",
      " 6   monthlycharges    7043 non-null   float64       \n",
      " 7   totalcharges      7043 non-null   object        \n",
      " 8   year_begin        7043 non-null   int64         \n",
      " 9   month_begin       7043 non-null   int64         \n",
      " 10  end               7043 non-null   int64         \n",
      "dtypes: datetime64[ns](2), float64(1), int64(3), object(5)\n",
      "memory usage: 605.4+ KB\n"
     ]
    }
   ],
   "source": [
    "contract.info()"
   ]
  },
  {
   "cell_type": "code",
   "execution_count": 31,
   "metadata": {},
   "outputs": [],
   "source": [
    "contract['count_days'] = (contract.enddate - contract.begindate).dt.days"
   ]
  },
  {
   "cell_type": "code",
   "execution_count": 32,
   "metadata": {},
   "outputs": [],
   "source": [
    "contract['count_months'] = ((contract.enddate - contract.begindate)/np.timedelta64(1, 'M')).astype('int')"
   ]
  },
  {
   "cell_type": "code",
   "execution_count": 33,
   "metadata": {},
   "outputs": [
    {
     "data": {
      "text/html": [
       "<div>\n",
       "<style scoped>\n",
       "    .dataframe tbody tr th:only-of-type {\n",
       "        vertical-align: middle;\n",
       "    }\n",
       "\n",
       "    .dataframe tbody tr th {\n",
       "        vertical-align: top;\n",
       "    }\n",
       "\n",
       "    .dataframe thead th {\n",
       "        text-align: right;\n",
       "    }\n",
       "</style>\n",
       "<table border=\"1\" class=\"dataframe\">\n",
       "  <thead>\n",
       "    <tr style=\"text-align: right;\">\n",
       "      <th></th>\n",
       "      <th>customerid</th>\n",
       "      <th>begindate</th>\n",
       "      <th>enddate</th>\n",
       "      <th>type</th>\n",
       "      <th>paperlessbilling</th>\n",
       "      <th>paymentmethod</th>\n",
       "      <th>monthlycharges</th>\n",
       "      <th>totalcharges</th>\n",
       "      <th>year_begin</th>\n",
       "      <th>month_begin</th>\n",
       "      <th>end</th>\n",
       "      <th>count_days</th>\n",
       "      <th>count_months</th>\n",
       "    </tr>\n",
       "  </thead>\n",
       "  <tbody>\n",
       "    <tr>\n",
       "      <th>0</th>\n",
       "      <td>7590-VHVEG</td>\n",
       "      <td>2020-01-01</td>\n",
       "      <td>2020-02-01</td>\n",
       "      <td>Month-to-month</td>\n",
       "      <td>Yes</td>\n",
       "      <td>Electronic check</td>\n",
       "      <td>29.85</td>\n",
       "      <td>29.85</td>\n",
       "      <td>2020</td>\n",
       "      <td>1</td>\n",
       "      <td>0</td>\n",
       "      <td>31</td>\n",
       "      <td>1</td>\n",
       "    </tr>\n",
       "    <tr>\n",
       "      <th>1</th>\n",
       "      <td>5575-GNVDE</td>\n",
       "      <td>2017-04-01</td>\n",
       "      <td>2020-02-01</td>\n",
       "      <td>One year</td>\n",
       "      <td>No</td>\n",
       "      <td>Mailed check</td>\n",
       "      <td>56.95</td>\n",
       "      <td>1889.5</td>\n",
       "      <td>2017</td>\n",
       "      <td>4</td>\n",
       "      <td>0</td>\n",
       "      <td>1036</td>\n",
       "      <td>34</td>\n",
       "    </tr>\n",
       "    <tr>\n",
       "      <th>2</th>\n",
       "      <td>3668-QPYBK</td>\n",
       "      <td>2019-10-01</td>\n",
       "      <td>2019-12-01</td>\n",
       "      <td>Month-to-month</td>\n",
       "      <td>Yes</td>\n",
       "      <td>Mailed check</td>\n",
       "      <td>53.85</td>\n",
       "      <td>108.15</td>\n",
       "      <td>2019</td>\n",
       "      <td>10</td>\n",
       "      <td>1</td>\n",
       "      <td>61</td>\n",
       "      <td>2</td>\n",
       "    </tr>\n",
       "    <tr>\n",
       "      <th>3</th>\n",
       "      <td>7795-CFOCW</td>\n",
       "      <td>2016-05-01</td>\n",
       "      <td>2020-02-01</td>\n",
       "      <td>One year</td>\n",
       "      <td>No</td>\n",
       "      <td>Bank transfer (automatic)</td>\n",
       "      <td>42.30</td>\n",
       "      <td>1840.75</td>\n",
       "      <td>2016</td>\n",
       "      <td>5</td>\n",
       "      <td>0</td>\n",
       "      <td>1371</td>\n",
       "      <td>45</td>\n",
       "    </tr>\n",
       "    <tr>\n",
       "      <th>4</th>\n",
       "      <td>9237-HQITU</td>\n",
       "      <td>2019-09-01</td>\n",
       "      <td>2019-11-01</td>\n",
       "      <td>Month-to-month</td>\n",
       "      <td>Yes</td>\n",
       "      <td>Electronic check</td>\n",
       "      <td>70.70</td>\n",
       "      <td>151.65</td>\n",
       "      <td>2019</td>\n",
       "      <td>9</td>\n",
       "      <td>1</td>\n",
       "      <td>61</td>\n",
       "      <td>2</td>\n",
       "    </tr>\n",
       "  </tbody>\n",
       "</table>\n",
       "</div>"
      ],
      "text/plain": [
       "   customerid  begindate    enddate            type paperlessbilling  \\\n",
       "0  7590-VHVEG 2020-01-01 2020-02-01  Month-to-month              Yes   \n",
       "1  5575-GNVDE 2017-04-01 2020-02-01        One year               No   \n",
       "2  3668-QPYBK 2019-10-01 2019-12-01  Month-to-month              Yes   \n",
       "3  7795-CFOCW 2016-05-01 2020-02-01        One year               No   \n",
       "4  9237-HQITU 2019-09-01 2019-11-01  Month-to-month              Yes   \n",
       "\n",
       "               paymentmethod  monthlycharges totalcharges  year_begin  \\\n",
       "0           Electronic check           29.85        29.85        2020   \n",
       "1               Mailed check           56.95       1889.5        2017   \n",
       "2               Mailed check           53.85       108.15        2019   \n",
       "3  Bank transfer (automatic)           42.30      1840.75        2016   \n",
       "4           Electronic check           70.70       151.65        2019   \n",
       "\n",
       "   month_begin  end  count_days  count_months  \n",
       "0            1    0          31             1  \n",
       "1            4    0        1036            34  \n",
       "2           10    1          61             2  \n",
       "3            5    0        1371            45  \n",
       "4            9    1          61             2  "
      ]
     },
     "execution_count": 33,
     "metadata": {},
     "output_type": "execute_result"
    }
   ],
   "source": [
    "contract.head()"
   ]
  },
  {
   "cell_type": "code",
   "execution_count": 34,
   "metadata": {},
   "outputs": [
    {
     "data": {
      "text/html": [
       "<div>\n",
       "<style scoped>\n",
       "    .dataframe tbody tr th:only-of-type {\n",
       "        vertical-align: middle;\n",
       "    }\n",
       "\n",
       "    .dataframe tbody tr th {\n",
       "        vertical-align: top;\n",
       "    }\n",
       "\n",
       "    .dataframe thead th {\n",
       "        text-align: right;\n",
       "    }\n",
       "</style>\n",
       "<table border=\"1\" class=\"dataframe\">\n",
       "  <thead>\n",
       "    <tr style=\"text-align: right;\">\n",
       "      <th></th>\n",
       "      <th>customerid</th>\n",
       "      <th>begindate</th>\n",
       "      <th>enddate</th>\n",
       "      <th>type</th>\n",
       "      <th>paperlessbilling</th>\n",
       "      <th>paymentmethod</th>\n",
       "      <th>monthlycharges</th>\n",
       "      <th>totalcharges</th>\n",
       "      <th>year_begin</th>\n",
       "      <th>month_begin</th>\n",
       "      <th>end</th>\n",
       "      <th>count_days</th>\n",
       "      <th>count_months</th>\n",
       "    </tr>\n",
       "  </thead>\n",
       "  <tbody>\n",
       "    <tr>\n",
       "      <th>0</th>\n",
       "      <td>7590-VHVEG</td>\n",
       "      <td>2020-01-01</td>\n",
       "      <td>2020-02-01</td>\n",
       "      <td>Month-to-month</td>\n",
       "      <td>1</td>\n",
       "      <td>Electronic check</td>\n",
       "      <td>29.85</td>\n",
       "      <td>29.85</td>\n",
       "      <td>2020</td>\n",
       "      <td>1</td>\n",
       "      <td>0</td>\n",
       "      <td>31</td>\n",
       "      <td>1</td>\n",
       "    </tr>\n",
       "    <tr>\n",
       "      <th>1</th>\n",
       "      <td>5575-GNVDE</td>\n",
       "      <td>2017-04-01</td>\n",
       "      <td>2020-02-01</td>\n",
       "      <td>One year</td>\n",
       "      <td>0</td>\n",
       "      <td>Mailed check</td>\n",
       "      <td>56.95</td>\n",
       "      <td>1889.5</td>\n",
       "      <td>2017</td>\n",
       "      <td>4</td>\n",
       "      <td>0</td>\n",
       "      <td>1036</td>\n",
       "      <td>34</td>\n",
       "    </tr>\n",
       "    <tr>\n",
       "      <th>2</th>\n",
       "      <td>3668-QPYBK</td>\n",
       "      <td>2019-10-01</td>\n",
       "      <td>2019-12-01</td>\n",
       "      <td>Month-to-month</td>\n",
       "      <td>1</td>\n",
       "      <td>Mailed check</td>\n",
       "      <td>53.85</td>\n",
       "      <td>108.15</td>\n",
       "      <td>2019</td>\n",
       "      <td>10</td>\n",
       "      <td>1</td>\n",
       "      <td>61</td>\n",
       "      <td>2</td>\n",
       "    </tr>\n",
       "    <tr>\n",
       "      <th>3</th>\n",
       "      <td>7795-CFOCW</td>\n",
       "      <td>2016-05-01</td>\n",
       "      <td>2020-02-01</td>\n",
       "      <td>One year</td>\n",
       "      <td>0</td>\n",
       "      <td>Bank transfer (automatic)</td>\n",
       "      <td>42.30</td>\n",
       "      <td>1840.75</td>\n",
       "      <td>2016</td>\n",
       "      <td>5</td>\n",
       "      <td>0</td>\n",
       "      <td>1371</td>\n",
       "      <td>45</td>\n",
       "    </tr>\n",
       "    <tr>\n",
       "      <th>4</th>\n",
       "      <td>9237-HQITU</td>\n",
       "      <td>2019-09-01</td>\n",
       "      <td>2019-11-01</td>\n",
       "      <td>Month-to-month</td>\n",
       "      <td>1</td>\n",
       "      <td>Electronic check</td>\n",
       "      <td>70.70</td>\n",
       "      <td>151.65</td>\n",
       "      <td>2019</td>\n",
       "      <td>9</td>\n",
       "      <td>1</td>\n",
       "      <td>61</td>\n",
       "      <td>2</td>\n",
       "    </tr>\n",
       "  </tbody>\n",
       "</table>\n",
       "</div>"
      ],
      "text/plain": [
       "   customerid  begindate    enddate            type  paperlessbilling  \\\n",
       "0  7590-VHVEG 2020-01-01 2020-02-01  Month-to-month                 1   \n",
       "1  5575-GNVDE 2017-04-01 2020-02-01        One year                 0   \n",
       "2  3668-QPYBK 2019-10-01 2019-12-01  Month-to-month                 1   \n",
       "3  7795-CFOCW 2016-05-01 2020-02-01        One year                 0   \n",
       "4  9237-HQITU 2019-09-01 2019-11-01  Month-to-month                 1   \n",
       "\n",
       "               paymentmethod  monthlycharges totalcharges  year_begin  \\\n",
       "0           Electronic check           29.85        29.85        2020   \n",
       "1               Mailed check           56.95       1889.5        2017   \n",
       "2               Mailed check           53.85       108.15        2019   \n",
       "3  Bank transfer (automatic)           42.30      1840.75        2016   \n",
       "4           Electronic check           70.70       151.65        2019   \n",
       "\n",
       "   month_begin  end  count_days  count_months  \n",
       "0            1    0          31             1  \n",
       "1            4    0        1036            34  \n",
       "2           10    1          61             2  \n",
       "3            5    0        1371            45  \n",
       "4            9    1          61             2  "
      ]
     },
     "execution_count": 34,
     "metadata": {},
     "output_type": "execute_result"
    }
   ],
   "source": [
    "contract['paperlessbilling'] = contract['paperlessbilling'].apply(lambda x: 1 if x == 'Yes' else 0)\n",
    "contract.head()"
   ]
  },
  {
   "cell_type": "code",
   "execution_count": 35,
   "metadata": {},
   "outputs": [
    {
     "data": {
      "text/plain": [
       "array([1, 0], dtype=int64)"
      ]
     },
     "execution_count": 35,
     "metadata": {},
     "output_type": "execute_result"
    }
   ],
   "source": [
    "contract.paperlessbilling.unique()"
   ]
  },
  {
   "cell_type": "code",
   "execution_count": 36,
   "metadata": {},
   "outputs": [],
   "source": [
    "c_mm = contract.query('type == \"Month-to-month\" & 2013 < year_begin').drop('type', axis=1)\n",
    "c_oy = contract.query('type == \"One year\" & 2013 < year_begin').drop('type', axis=1)\n",
    "c_ty = contract.query('type == \"Two year\" & 2013 < year_begin').drop('type', axis=1)"
   ]
  },
  {
   "cell_type": "code",
   "execution_count": 37,
   "metadata": {},
   "outputs": [
    {
     "name": "stdout",
     "output_type": "stream",
     "text": [
      "Количество человек на месячной подписке: 3875\n",
      "Количество человек на годовой подписке: 1472\n",
      "Количество человек на двухгодовой подписке: 1688\n"
     ]
    }
   ],
   "source": [
    "print('Количество человек на месячной подписке:', c_mm.shape[0])\n",
    "print('Количество человек на годовой подписке:', c_oy.shape[0])\n",
    "print('Количество человек на двухгодовой подписке:', c_ty.shape[0])"
   ]
  },
  {
   "cell_type": "markdown",
   "metadata": {},
   "source": [
    "##  Анализ выживаемости"
   ]
  },
  {
   "cell_type": "code",
   "execution_count": 38,
   "metadata": {},
   "outputs": [
    {
     "data": {
      "image/png": "[encoded data removed]",
      "text/plain": [
       "<Figure size 1080x720 with 1 Axes>"
      ]
     },
     "metadata": {
      "needs_background": "light"
     },
     "output_type": "display_data"
    }
   ],
   "source": [
    "km = KaplanMeierFitter()\n",
    "\n",
    "km.fit(c_mm['count_months'], c_mm['end'], label='Month-to-month')\n",
    "ax = km.plot()\n",
    "\n",
    "km.fit(c_oy['count_months'], c_oy['end'], label='One year')\n",
    "ax1 = km.plot(ax=ax)\n",
    "\n",
    "km.fit(c_ty['count_months'], c_ty['end'], label='Two year')\n",
    "km.plot(ax=ax1, figsize=(15, 10));"
   ]
  },
  {
   "cell_type": "markdown",
   "metadata": {},
   "source": [
    "График разделен на 3. Оплата помесячная, 1 раз в год, 1 раз в 2 года. Это сделано, потому что очевидно отток таких пользователей будет разным. У пользователей, которые оплачивают раз в месяц намного больше моментов для принятия решения продлевать/нет. Исходя из этого мы видим, что среди \"ежемесячных\" пользователей отток происходит сильнее. В первые месяцы видим резкий уход клиентов, т.е. много пользователей после использования услуги 1-2 месяца принимают решение уйти. Возможно это связано с какими-то пробными бесплатными подписками по истечению которых люди не продлевают на платной основе. Доверительный интервал увеличивается с продолжительностью, это также логично. Если бы мы увидели данные выходящие за него, то это было бы уже поводом срочно анализировать, что произошло и пользователи в большом количестве решили уйти. До определенного момента помесячный график можно назвать практически линейным, т.е. мы понимаем, что каждый месяц от нас уходило примерно одно и тоже количество пользователей, среднее значение можно принять за норму. Люди умирают, уходят в армию и другие ситуации на котрые мы не можем повлиять. С годовой и двухгодовой подпиской ситуация немного другая, там отток меньше и вероятно такими подписками пользуются люди, которые уже протестировали продукт на месячной подписке и перешли из соображений экономии на более длительные подписки. Т.е. такими подписками пользуются люди, которым нравится наш продукт и с их оттоком надо работат серьезнее, потому что просто так довольный клиент не уйдет. Также есть смысл предлагать людям на помесячной подписке которые уже продолжительное время пользуются нашими услугами предлагать переход на год или два. По графику видим что за почти 6 лет (5 лет и 8 месяцев) из тех клиентов, которые мы взяли изначально для анализа от нас ушло > 80% из помесячной подписки, ~ 40% из годовой подписки и\n",
    " < 10% из двух годовой <br />\n"
   ]
  },
  {
   "cell_type": "code",
   "execution_count": 39,
   "metadata": {},
   "outputs": [
    {
     "data": {
      "text/plain": [
       "<AxesSubplot:title={'center':'Среднее количество месяцев \"жизни\" клиента на разных подписках'}, xlabel='type'>"
      ]
     },
     "execution_count": 39,
     "metadata": {},
     "output_type": "execute_result"
    },
    {
     "data": {
      "image/png": "[encoded data removed]",
      "text/plain": [
       "<Figure size 864x576 with 1 Axes>"
      ]
     },
     "metadata": {
      "needs_background": "light"
     },
     "output_type": "display_data"
    }
   ],
   "source": [
    "mean_count_manths = pd.DataFrame({'type' : ['Month-to-month', 'One year', 'Two year'],\n",
    "                                  'mean_months' : [c_mm['count_months'].mean(), c_oy['count_months'].mean(), c_ty['count_months'].mean()]})\n",
    "\n",
    "mean_count_manths = mean_count_manths.set_index('type')\n",
    "mean_count_manths.plot.bar(figsize=(12, 8), title='Среднее количество месяцев \"жизни\" клиента на разных подписках')"
   ]
  },
  {
   "cell_type": "code",
   "execution_count": 40,
   "metadata": {},
   "outputs": [
    {
     "data": {
      "text/html": [
       "<div>\n",
       "<style scoped>\n",
       "    .dataframe tbody tr th:only-of-type {\n",
       "        vertical-align: middle;\n",
       "    }\n",
       "\n",
       "    .dataframe tbody tr th {\n",
       "        vertical-align: top;\n",
       "    }\n",
       "\n",
       "    .dataframe thead th {\n",
       "        text-align: right;\n",
       "    }\n",
       "</style>\n",
       "<table border=\"1\" class=\"dataframe\">\n",
       "  <thead>\n",
       "    <tr style=\"text-align: right;\">\n",
       "      <th></th>\n",
       "      <th>mean_months</th>\n",
       "    </tr>\n",
       "    <tr>\n",
       "      <th>type</th>\n",
       "      <th></th>\n",
       "    </tr>\n",
       "  </thead>\n",
       "  <tbody>\n",
       "    <tr>\n",
       "      <th>Month-to-month</th>\n",
       "      <td>17.833290</td>\n",
       "    </tr>\n",
       "    <tr>\n",
       "      <th>One year</th>\n",
       "      <td>41.889946</td>\n",
       "    </tr>\n",
       "    <tr>\n",
       "      <th>Two year</th>\n",
       "      <td>56.412322</td>\n",
       "    </tr>\n",
       "  </tbody>\n",
       "</table>\n",
       "</div>"
      ],
      "text/plain": [
       "                mean_months\n",
       "type                       \n",
       "Month-to-month    17.833290\n",
       "One year          41.889946\n",
       "Two year          56.412322"
      ]
     },
     "execution_count": 40,
     "metadata": {},
     "output_type": "execute_result"
    }
   ],
   "source": [
    "mean_count_manths"
   ]
  },
  {
   "cell_type": "code",
   "execution_count": 41,
   "metadata": {},
   "outputs": [
    {
     "data": {
      "text/plain": [
       "array(['2020-02-01T00:00:00.000000000', '2019-12-01T00:00:00.000000000',\n",
       "       '2019-11-01T00:00:00.000000000', '2019-10-01T00:00:00.000000000',\n",
       "       '2020-01-01T00:00:00.000000000'], dtype='datetime64[ns]')"
      ]
     },
     "execution_count": 41,
     "metadata": {},
     "output_type": "execute_result"
    }
   ],
   "source": [
    "contract.enddate.unique()"
   ]
  },
  {
   "cell_type": "markdown",
   "metadata": {},
   "source": [
    "Для такого диапазона мало дат оттока клиентов. Возможно это связано с появлением конкурента."
   ]
  },
  {
   "cell_type": "code",
   "execution_count": 42,
   "metadata": {},
   "outputs": [
    {
     "data": {
      "text/plain": [
       "0    5174\n",
       "1    1869\n",
       "Name: end, dtype: int64"
      ]
     },
     "execution_count": 42,
     "metadata": {},
     "output_type": "execute_result"
    }
   ],
   "source": [
    "contract.end.value_counts()"
   ]
  },
  {
   "cell_type": "markdown",
   "metadata": {},
   "source": [
    "Дисбаланс классов"
   ]
  },
  {
   "cell_type": "code",
   "execution_count": 43,
   "metadata": {},
   "outputs": [
    {
     "data": {
      "text/html": [
       "<div>\n",
       "<style scoped>\n",
       "    .dataframe tbody tr th:only-of-type {\n",
       "        vertical-align: middle;\n",
       "    }\n",
       "\n",
       "    .dataframe tbody tr th {\n",
       "        vertical-align: top;\n",
       "    }\n",
       "\n",
       "    .dataframe thead th {\n",
       "        text-align: right;\n",
       "    }\n",
       "</style>\n",
       "<table border=\"1\" class=\"dataframe\">\n",
       "  <thead>\n",
       "    <tr style=\"text-align: right;\">\n",
       "      <th></th>\n",
       "      <th>customerID</th>\n",
       "      <th>InternetService</th>\n",
       "      <th>OnlineSecurity</th>\n",
       "      <th>OnlineBackup</th>\n",
       "      <th>DeviceProtection</th>\n",
       "      <th>TechSupport</th>\n",
       "      <th>StreamingTV</th>\n",
       "      <th>StreamingMovies</th>\n",
       "    </tr>\n",
       "  </thead>\n",
       "  <tbody>\n",
       "    <tr>\n",
       "      <th>0</th>\n",
       "      <td>7590-VHVEG</td>\n",
       "      <td>DSL</td>\n",
       "      <td>No</td>\n",
       "      <td>Yes</td>\n",
       "      <td>No</td>\n",
       "      <td>No</td>\n",
       "      <td>No</td>\n",
       "      <td>No</td>\n",
       "    </tr>\n",
       "    <tr>\n",
       "      <th>1</th>\n",
       "      <td>5575-GNVDE</td>\n",
       "      <td>DSL</td>\n",
       "      <td>Yes</td>\n",
       "      <td>No</td>\n",
       "      <td>Yes</td>\n",
       "      <td>No</td>\n",
       "      <td>No</td>\n",
       "      <td>No</td>\n",
       "    </tr>\n",
       "    <tr>\n",
       "      <th>2</th>\n",
       "      <td>3668-QPYBK</td>\n",
       "      <td>DSL</td>\n",
       "      <td>Yes</td>\n",
       "      <td>Yes</td>\n",
       "      <td>No</td>\n",
       "      <td>No</td>\n",
       "      <td>No</td>\n",
       "      <td>No</td>\n",
       "    </tr>\n",
       "    <tr>\n",
       "      <th>3</th>\n",
       "      <td>7795-CFOCW</td>\n",
       "      <td>DSL</td>\n",
       "      <td>Yes</td>\n",
       "      <td>No</td>\n",
       "      <td>Yes</td>\n",
       "      <td>Yes</td>\n",
       "      <td>No</td>\n",
       "      <td>No</td>\n",
       "    </tr>\n",
       "    <tr>\n",
       "      <th>4</th>\n",
       "      <td>9237-HQITU</td>\n",
       "      <td>Fiber optic</td>\n",
       "      <td>No</td>\n",
       "      <td>No</td>\n",
       "      <td>No</td>\n",
       "      <td>No</td>\n",
       "      <td>No</td>\n",
       "      <td>No</td>\n",
       "    </tr>\n",
       "  </tbody>\n",
       "</table>\n",
       "</div>"
      ],
      "text/plain": [
       "   customerID InternetService OnlineSecurity OnlineBackup DeviceProtection  \\\n",
       "0  7590-VHVEG             DSL             No          Yes               No   \n",
       "1  5575-GNVDE             DSL            Yes           No              Yes   \n",
       "2  3668-QPYBK             DSL            Yes          Yes               No   \n",
       "3  7795-CFOCW             DSL            Yes           No              Yes   \n",
       "4  9237-HQITU     Fiber optic             No           No               No   \n",
       "\n",
       "  TechSupport StreamingTV StreamingMovies  \n",
       "0          No          No              No  \n",
       "1          No          No              No  \n",
       "2          No          No              No  \n",
       "3         Yes          No              No  \n",
       "4          No          No              No  "
      ]
     },
     "execution_count": 43,
     "metadata": {},
     "output_type": "execute_result"
    }
   ],
   "source": [
    "internet.head()"
   ]
  },
  {
   "cell_type": "code",
   "execution_count": 44,
   "metadata": {},
   "outputs": [
    {
     "name": "stdout",
     "output_type": "stream",
     "text": [
      "<class 'pandas.core.frame.DataFrame'>\n",
      "RangeIndex: 5517 entries, 0 to 5516\n",
      "Data columns (total 8 columns):\n",
      " #   Column            Non-Null Count  Dtype \n",
      "---  ------            --------------  ----- \n",
      " 0   customerID        5517 non-null   object\n",
      " 1   InternetService   5517 non-null   object\n",
      " 2   OnlineSecurity    5517 non-null   object\n",
      " 3   OnlineBackup      5517 non-null   object\n",
      " 4   DeviceProtection  5517 non-null   object\n",
      " 5   TechSupport       5517 non-null   object\n",
      " 6   StreamingTV       5517 non-null   object\n",
      " 7   StreamingMovies   5517 non-null   object\n",
      "dtypes: object(8)\n",
      "memory usage: 344.9+ KB\n"
     ]
    }
   ],
   "source": [
    "internet.info()"
   ]
  },
  {
   "cell_type": "code",
   "execution_count": 45,
   "metadata": {},
   "outputs": [],
   "source": [
    "internet.columns = internet.columns.str.lower()"
   ]
  },
  {
   "cell_type": "code",
   "execution_count": 46,
   "metadata": {},
   "outputs": [],
   "source": [
    "col = ['onlinesecurity', 'onlinebackup',\n",
    "       'deviceprotection', 'techsupport', 'streamingtv', 'streamingmovies']"
   ]
  },
  {
   "cell_type": "code",
   "execution_count": 47,
   "metadata": {},
   "outputs": [],
   "source": [
    "for i in list(col):\n",
    "    internet[i] = internet[i].apply(lambda x: 0 if x == 'No' else 1)"
   ]
  },
  {
   "cell_type": "code",
   "execution_count": 48,
   "metadata": {},
   "outputs": [
    {
     "data": {
      "text/html": [
       "<div>\n",
       "<style scoped>\n",
       "    .dataframe tbody tr th:only-of-type {\n",
       "        vertical-align: middle;\n",
       "    }\n",
       "\n",
       "    .dataframe tbody tr th {\n",
       "        vertical-align: top;\n",
       "    }\n",
       "\n",
       "    .dataframe thead th {\n",
       "        text-align: right;\n",
       "    }\n",
       "</style>\n",
       "<table border=\"1\" class=\"dataframe\">\n",
       "  <thead>\n",
       "    <tr style=\"text-align: right;\">\n",
       "      <th></th>\n",
       "      <th>customerid</th>\n",
       "      <th>internetservice</th>\n",
       "      <th>onlinesecurity</th>\n",
       "      <th>onlinebackup</th>\n",
       "      <th>deviceprotection</th>\n",
       "      <th>techsupport</th>\n",
       "      <th>streamingtv</th>\n",
       "      <th>streamingmovies</th>\n",
       "    </tr>\n",
       "  </thead>\n",
       "  <tbody>\n",
       "    <tr>\n",
       "      <th>0</th>\n",
       "      <td>7590-VHVEG</td>\n",
       "      <td>DSL</td>\n",
       "      <td>0</td>\n",
       "      <td>1</td>\n",
       "      <td>0</td>\n",
       "      <td>0</td>\n",
       "      <td>0</td>\n",
       "      <td>0</td>\n",
       "    </tr>\n",
       "    <tr>\n",
       "      <th>1</th>\n",
       "      <td>5575-GNVDE</td>\n",
       "      <td>DSL</td>\n",
       "      <td>1</td>\n",
       "      <td>0</td>\n",
       "      <td>1</td>\n",
       "      <td>0</td>\n",
       "      <td>0</td>\n",
       "      <td>0</td>\n",
       "    </tr>\n",
       "    <tr>\n",
       "      <th>2</th>\n",
       "      <td>3668-QPYBK</td>\n",
       "      <td>DSL</td>\n",
       "      <td>1</td>\n",
       "      <td>1</td>\n",
       "      <td>0</td>\n",
       "      <td>0</td>\n",
       "      <td>0</td>\n",
       "      <td>0</td>\n",
       "    </tr>\n",
       "    <tr>\n",
       "      <th>3</th>\n",
       "      <td>7795-CFOCW</td>\n",
       "      <td>DSL</td>\n",
       "      <td>1</td>\n",
       "      <td>0</td>\n",
       "      <td>1</td>\n",
       "      <td>1</td>\n",
       "      <td>0</td>\n",
       "      <td>0</td>\n",
       "    </tr>\n",
       "    <tr>\n",
       "      <th>4</th>\n",
       "      <td>9237-HQITU</td>\n",
       "      <td>Fiber optic</td>\n",
       "      <td>0</td>\n",
       "      <td>0</td>\n",
       "      <td>0</td>\n",
       "      <td>0</td>\n",
       "      <td>0</td>\n",
       "      <td>0</td>\n",
       "    </tr>\n",
       "  </tbody>\n",
       "</table>\n",
       "</div>"
      ],
      "text/plain": [
       "   customerid internetservice  onlinesecurity  onlinebackup  deviceprotection  \\\n",
       "0  7590-VHVEG             DSL               0             1                 0   \n",
       "1  5575-GNVDE             DSL               1             0                 1   \n",
       "2  3668-QPYBK             DSL               1             1                 0   \n",
       "3  7795-CFOCW             DSL               1             0                 1   \n",
       "4  9237-HQITU     Fiber optic               0             0                 0   \n",
       "\n",
       "   techsupport  streamingtv  streamingmovies  \n",
       "0            0            0                0  \n",
       "1            0            0                0  \n",
       "2            0            0                0  \n",
       "3            1            0                0  \n",
       "4            0            0                0  "
      ]
     },
     "execution_count": 48,
     "metadata": {},
     "output_type": "execute_result"
    }
   ],
   "source": [
    "#все \"yes\" = 1, \"no\" = 0\n",
    "internet.head()"
   ]
  },
  {
   "cell_type": "code",
   "execution_count": 49,
   "metadata": {},
   "outputs": [],
   "source": [
    "internet[col] = internet[col].astype('int64')"
   ]
  },
  {
   "cell_type": "code",
   "execution_count": 50,
   "metadata": {},
   "outputs": [
    {
     "name": "stdout",
     "output_type": "stream",
     "text": [
      "<class 'pandas.core.frame.DataFrame'>\n",
      "RangeIndex: 5517 entries, 0 to 5516\n",
      "Data columns (total 8 columns):\n",
      " #   Column            Non-Null Count  Dtype \n",
      "---  ------            --------------  ----- \n",
      " 0   customerid        5517 non-null   object\n",
      " 1   internetservice   5517 non-null   object\n",
      " 2   onlinesecurity    5517 non-null   int64 \n",
      " 3   onlinebackup      5517 non-null   int64 \n",
      " 4   deviceprotection  5517 non-null   int64 \n",
      " 5   techsupport       5517 non-null   int64 \n",
      " 6   streamingtv       5517 non-null   int64 \n",
      " 7   streamingmovies   5517 non-null   int64 \n",
      "dtypes: int64(6), object(2)\n",
      "memory usage: 344.9+ KB\n"
     ]
    }
   ],
   "source": [
    "internet.info()"
   ]
  },
  {
   "cell_type": "code",
   "execution_count": 51,
   "metadata": {},
   "outputs": [
    {
     "data": {
      "text/html": [
       "<div>\n",
       "<style scoped>\n",
       "    .dataframe tbody tr th:only-of-type {\n",
       "        vertical-align: middle;\n",
       "    }\n",
       "\n",
       "    .dataframe tbody tr th {\n",
       "        vertical-align: top;\n",
       "    }\n",
       "\n",
       "    .dataframe thead th {\n",
       "        text-align: right;\n",
       "    }\n",
       "</style>\n",
       "<table border=\"1\" class=\"dataframe\">\n",
       "  <thead>\n",
       "    <tr style=\"text-align: right;\">\n",
       "      <th></th>\n",
       "      <th>customerID</th>\n",
       "      <th>gender</th>\n",
       "      <th>SeniorCitizen</th>\n",
       "      <th>Partner</th>\n",
       "      <th>Dependents</th>\n",
       "    </tr>\n",
       "  </thead>\n",
       "  <tbody>\n",
       "    <tr>\n",
       "      <th>0</th>\n",
       "      <td>7590-VHVEG</td>\n",
       "      <td>Female</td>\n",
       "      <td>0</td>\n",
       "      <td>Yes</td>\n",
       "      <td>No</td>\n",
       "    </tr>\n",
       "    <tr>\n",
       "      <th>1</th>\n",
       "      <td>5575-GNVDE</td>\n",
       "      <td>Male</td>\n",
       "      <td>0</td>\n",
       "      <td>No</td>\n",
       "      <td>No</td>\n",
       "    </tr>\n",
       "    <tr>\n",
       "      <th>2</th>\n",
       "      <td>3668-QPYBK</td>\n",
       "      <td>Male</td>\n",
       "      <td>0</td>\n",
       "      <td>No</td>\n",
       "      <td>No</td>\n",
       "    </tr>\n",
       "    <tr>\n",
       "      <th>3</th>\n",
       "      <td>7795-CFOCW</td>\n",
       "      <td>Male</td>\n",
       "      <td>0</td>\n",
       "      <td>No</td>\n",
       "      <td>No</td>\n",
       "    </tr>\n",
       "    <tr>\n",
       "      <th>4</th>\n",
       "      <td>9237-HQITU</td>\n",
       "      <td>Female</td>\n",
       "      <td>0</td>\n",
       "      <td>No</td>\n",
       "      <td>No</td>\n",
       "    </tr>\n",
       "  </tbody>\n",
       "</table>\n",
       "</div>"
      ],
      "text/plain": [
       "   customerID  gender  SeniorCitizen Partner Dependents\n",
       "0  7590-VHVEG  Female              0     Yes         No\n",
       "1  5575-GNVDE    Male              0      No         No\n",
       "2  3668-QPYBK    Male              0      No         No\n",
       "3  7795-CFOCW    Male              0      No         No\n",
       "4  9237-HQITU  Female              0      No         No"
      ]
     },
     "execution_count": 51,
     "metadata": {},
     "output_type": "execute_result"
    }
   ],
   "source": [
    "personal.head()"
   ]
  },
  {
   "cell_type": "code",
   "execution_count": 52,
   "metadata": {},
   "outputs": [
    {
     "name": "stdout",
     "output_type": "stream",
     "text": [
      "<class 'pandas.core.frame.DataFrame'>\n",
      "RangeIndex: 7043 entries, 0 to 7042\n",
      "Data columns (total 5 columns):\n",
      " #   Column         Non-Null Count  Dtype \n",
      "---  ------         --------------  ----- \n",
      " 0   customerID     7043 non-null   object\n",
      " 1   gender         7043 non-null   object\n",
      " 2   SeniorCitizen  7043 non-null   int64 \n",
      " 3   Partner        7043 non-null   object\n",
      " 4   Dependents     7043 non-null   object\n",
      "dtypes: int64(1), object(4)\n",
      "memory usage: 275.2+ KB\n"
     ]
    }
   ],
   "source": [
    "personal.info()"
   ]
  },
  {
   "cell_type": "code",
   "execution_count": 53,
   "metadata": {},
   "outputs": [
    {
     "data": {
      "text/plain": [
       "customerID       0\n",
       "gender           0\n",
       "SeniorCitizen    0\n",
       "Partner          0\n",
       "Dependents       0\n",
       "dtype: int64"
      ]
     },
     "execution_count": 53,
     "metadata": {},
     "output_type": "execute_result"
    }
   ],
   "source": [
    "personal.isna().sum()"
   ]
  },
  {
   "cell_type": "markdown",
   "metadata": {},
   "source": [
    "Количество объектов совпадает с contract"
   ]
  },
  {
   "cell_type": "code",
   "execution_count": 54,
   "metadata": {},
   "outputs": [],
   "source": [
    "personal.columns = personal.columns.str.lower()"
   ]
  },
  {
   "cell_type": "code",
   "execution_count": 55,
   "metadata": {},
   "outputs": [],
   "source": [
    "personal.rename(columns={'gender': 'gender_m'}, inplace=True)"
   ]
  },
  {
   "cell_type": "code",
   "execution_count": 56,
   "metadata": {},
   "outputs": [
    {
     "data": {
      "text/html": [
       "<div>\n",
       "<style scoped>\n",
       "    .dataframe tbody tr th:only-of-type {\n",
       "        vertical-align: middle;\n",
       "    }\n",
       "\n",
       "    .dataframe tbody tr th {\n",
       "        vertical-align: top;\n",
       "    }\n",
       "\n",
       "    .dataframe thead th {\n",
       "        text-align: right;\n",
       "    }\n",
       "</style>\n",
       "<table border=\"1\" class=\"dataframe\">\n",
       "  <thead>\n",
       "    <tr style=\"text-align: right;\">\n",
       "      <th></th>\n",
       "      <th>customerid</th>\n",
       "      <th>gender_m</th>\n",
       "      <th>seniorcitizen</th>\n",
       "      <th>partner</th>\n",
       "      <th>dependents</th>\n",
       "    </tr>\n",
       "  </thead>\n",
       "  <tbody>\n",
       "    <tr>\n",
       "      <th>0</th>\n",
       "      <td>7590-VHVEG</td>\n",
       "      <td>Female</td>\n",
       "      <td>0</td>\n",
       "      <td>Yes</td>\n",
       "      <td>No</td>\n",
       "    </tr>\n",
       "    <tr>\n",
       "      <th>1</th>\n",
       "      <td>5575-GNVDE</td>\n",
       "      <td>Male</td>\n",
       "      <td>0</td>\n",
       "      <td>No</td>\n",
       "      <td>No</td>\n",
       "    </tr>\n",
       "    <tr>\n",
       "      <th>2</th>\n",
       "      <td>3668-QPYBK</td>\n",
       "      <td>Male</td>\n",
       "      <td>0</td>\n",
       "      <td>No</td>\n",
       "      <td>No</td>\n",
       "    </tr>\n",
       "    <tr>\n",
       "      <th>3</th>\n",
       "      <td>7795-CFOCW</td>\n",
       "      <td>Male</td>\n",
       "      <td>0</td>\n",
       "      <td>No</td>\n",
       "      <td>No</td>\n",
       "    </tr>\n",
       "    <tr>\n",
       "      <th>4</th>\n",
       "      <td>9237-HQITU</td>\n",
       "      <td>Female</td>\n",
       "      <td>0</td>\n",
       "      <td>No</td>\n",
       "      <td>No</td>\n",
       "    </tr>\n",
       "  </tbody>\n",
       "</table>\n",
       "</div>"
      ],
      "text/plain": [
       "   customerid gender_m  seniorcitizen partner dependents\n",
       "0  7590-VHVEG   Female              0     Yes         No\n",
       "1  5575-GNVDE     Male              0      No         No\n",
       "2  3668-QPYBK     Male              0      No         No\n",
       "3  7795-CFOCW     Male              0      No         No\n",
       "4  9237-HQITU   Female              0      No         No"
      ]
     },
     "execution_count": 56,
     "metadata": {},
     "output_type": "execute_result"
    }
   ],
   "source": [
    "personal.head()"
   ]
  },
  {
   "cell_type": "code",
   "execution_count": 57,
   "metadata": {},
   "outputs": [],
   "source": [
    "col_per = ['partner', 'dependents']\n",
    "\n",
    "for i in list(col_per):\n",
    "    personal[i] = personal[i].apply(lambda x: 0 if x == 'No' else 1)"
   ]
  },
  {
   "cell_type": "code",
   "execution_count": 58,
   "metadata": {},
   "outputs": [],
   "source": [
    "personal['gender_m'] = personal['gender_m'].apply(lambda x: 0 if x == 'Female' else 1)"
   ]
  },
  {
   "cell_type": "code",
   "execution_count": 59,
   "metadata": {},
   "outputs": [
    {
     "data": {
      "text/html": [
       "<div>\n",
       "<style scoped>\n",
       "    .dataframe tbody tr th:only-of-type {\n",
       "        vertical-align: middle;\n",
       "    }\n",
       "\n",
       "    .dataframe tbody tr th {\n",
       "        vertical-align: top;\n",
       "    }\n",
       "\n",
       "    .dataframe thead th {\n",
       "        text-align: right;\n",
       "    }\n",
       "</style>\n",
       "<table border=\"1\" class=\"dataframe\">\n",
       "  <thead>\n",
       "    <tr style=\"text-align: right;\">\n",
       "      <th></th>\n",
       "      <th>customerid</th>\n",
       "      <th>gender_m</th>\n",
       "      <th>seniorcitizen</th>\n",
       "      <th>partner</th>\n",
       "      <th>dependents</th>\n",
       "    </tr>\n",
       "  </thead>\n",
       "  <tbody>\n",
       "    <tr>\n",
       "      <th>0</th>\n",
       "      <td>7590-VHVEG</td>\n",
       "      <td>0</td>\n",
       "      <td>0</td>\n",
       "      <td>1</td>\n",
       "      <td>0</td>\n",
       "    </tr>\n",
       "    <tr>\n",
       "      <th>1</th>\n",
       "      <td>5575-GNVDE</td>\n",
       "      <td>1</td>\n",
       "      <td>0</td>\n",
       "      <td>0</td>\n",
       "      <td>0</td>\n",
       "    </tr>\n",
       "    <tr>\n",
       "      <th>2</th>\n",
       "      <td>3668-QPYBK</td>\n",
       "      <td>1</td>\n",
       "      <td>0</td>\n",
       "      <td>0</td>\n",
       "      <td>0</td>\n",
       "    </tr>\n",
       "    <tr>\n",
       "      <th>3</th>\n",
       "      <td>7795-CFOCW</td>\n",
       "      <td>1</td>\n",
       "      <td>0</td>\n",
       "      <td>0</td>\n",
       "      <td>0</td>\n",
       "    </tr>\n",
       "    <tr>\n",
       "      <th>4</th>\n",
       "      <td>9237-HQITU</td>\n",
       "      <td>0</td>\n",
       "      <td>0</td>\n",
       "      <td>0</td>\n",
       "      <td>0</td>\n",
       "    </tr>\n",
       "  </tbody>\n",
       "</table>\n",
       "</div>"
      ],
      "text/plain": [
       "   customerid  gender_m  seniorcitizen  partner  dependents\n",
       "0  7590-VHVEG         0              0        1           0\n",
       "1  5575-GNVDE         1              0        0           0\n",
       "2  3668-QPYBK         1              0        0           0\n",
       "3  7795-CFOCW         1              0        0           0\n",
       "4  9237-HQITU         0              0        0           0"
      ]
     },
     "execution_count": 59,
     "metadata": {},
     "output_type": "execute_result"
    }
   ],
   "source": [
    "personal.head()"
   ]
  },
  {
   "cell_type": "code",
   "execution_count": 60,
   "metadata": {},
   "outputs": [
    {
     "name": "stdout",
     "output_type": "stream",
     "text": [
      "<class 'pandas.core.frame.DataFrame'>\n",
      "RangeIndex: 7043 entries, 0 to 7042\n",
      "Data columns (total 5 columns):\n",
      " #   Column         Non-Null Count  Dtype \n",
      "---  ------         --------------  ----- \n",
      " 0   customerid     7043 non-null   object\n",
      " 1   gender_m       7043 non-null   int64 \n",
      " 2   seniorcitizen  7043 non-null   int64 \n",
      " 3   partner        7043 non-null   int64 \n",
      " 4   dependents     7043 non-null   int64 \n",
      "dtypes: int64(4), object(1)\n",
      "memory usage: 275.2+ KB\n"
     ]
    }
   ],
   "source": [
    "personal.info()"
   ]
  },
  {
   "cell_type": "code",
   "execution_count": 61,
   "metadata": {},
   "outputs": [
    {
     "data": {
      "text/html": [
       "<div>\n",
       "<style scoped>\n",
       "    .dataframe tbody tr th:only-of-type {\n",
       "        vertical-align: middle;\n",
       "    }\n",
       "\n",
       "    .dataframe tbody tr th {\n",
       "        vertical-align: top;\n",
       "    }\n",
       "\n",
       "    .dataframe thead th {\n",
       "        text-align: right;\n",
       "    }\n",
       "</style>\n",
       "<table border=\"1\" class=\"dataframe\">\n",
       "  <thead>\n",
       "    <tr style=\"text-align: right;\">\n",
       "      <th></th>\n",
       "      <th>customerID</th>\n",
       "      <th>MultipleLines</th>\n",
       "    </tr>\n",
       "  </thead>\n",
       "  <tbody>\n",
       "    <tr>\n",
       "      <th>0</th>\n",
       "      <td>5575-GNVDE</td>\n",
       "      <td>No</td>\n",
       "    </tr>\n",
       "    <tr>\n",
       "      <th>1</th>\n",
       "      <td>3668-QPYBK</td>\n",
       "      <td>No</td>\n",
       "    </tr>\n",
       "    <tr>\n",
       "      <th>2</th>\n",
       "      <td>9237-HQITU</td>\n",
       "      <td>No</td>\n",
       "    </tr>\n",
       "    <tr>\n",
       "      <th>3</th>\n",
       "      <td>9305-CDSKC</td>\n",
       "      <td>Yes</td>\n",
       "    </tr>\n",
       "    <tr>\n",
       "      <th>4</th>\n",
       "      <td>1452-KIOVK</td>\n",
       "      <td>Yes</td>\n",
       "    </tr>\n",
       "  </tbody>\n",
       "</table>\n",
       "</div>"
      ],
      "text/plain": [
       "   customerID MultipleLines\n",
       "0  5575-GNVDE            No\n",
       "1  3668-QPYBK            No\n",
       "2  9237-HQITU            No\n",
       "3  9305-CDSKC           Yes\n",
       "4  1452-KIOVK           Yes"
      ]
     },
     "execution_count": 61,
     "metadata": {},
     "output_type": "execute_result"
    }
   ],
   "source": [
    "phone.head()"
   ]
  },
  {
   "cell_type": "code",
   "execution_count": 62,
   "metadata": {},
   "outputs": [
    {
     "name": "stdout",
     "output_type": "stream",
     "text": [
      "<class 'pandas.core.frame.DataFrame'>\n",
      "RangeIndex: 6361 entries, 0 to 6360\n",
      "Data columns (total 2 columns):\n",
      " #   Column         Non-Null Count  Dtype \n",
      "---  ------         --------------  ----- \n",
      " 0   customerID     6361 non-null   object\n",
      " 1   MultipleLines  6361 non-null   object\n",
      "dtypes: object(2)\n",
      "memory usage: 99.5+ KB\n"
     ]
    }
   ],
   "source": [
    "phone.info()"
   ]
  },
  {
   "cell_type": "code",
   "execution_count": 63,
   "metadata": {},
   "outputs": [
    {
     "data": {
      "text/plain": [
       "customerID       0\n",
       "MultipleLines    0\n",
       "dtype: int64"
      ]
     },
     "execution_count": 63,
     "metadata": {},
     "output_type": "execute_result"
    }
   ],
   "source": [
    "phone.isna().sum()"
   ]
  },
  {
   "cell_type": "markdown",
   "metadata": {},
   "source": [
    "тут тоже видим меньше объектов"
   ]
  },
  {
   "cell_type": "code",
   "execution_count": 64,
   "metadata": {},
   "outputs": [],
   "source": [
    "phone.columns = phone.columns.str.lower()"
   ]
  },
  {
   "cell_type": "code",
   "execution_count": 65,
   "metadata": {},
   "outputs": [
    {
     "data": {
      "text/html": [
       "<div>\n",
       "<style scoped>\n",
       "    .dataframe tbody tr th:only-of-type {\n",
       "        vertical-align: middle;\n",
       "    }\n",
       "\n",
       "    .dataframe tbody tr th {\n",
       "        vertical-align: top;\n",
       "    }\n",
       "\n",
       "    .dataframe thead th {\n",
       "        text-align: right;\n",
       "    }\n",
       "</style>\n",
       "<table border=\"1\" class=\"dataframe\">\n",
       "  <thead>\n",
       "    <tr style=\"text-align: right;\">\n",
       "      <th></th>\n",
       "      <th>customerid</th>\n",
       "      <th>multiplelines</th>\n",
       "    </tr>\n",
       "  </thead>\n",
       "  <tbody>\n",
       "    <tr>\n",
       "      <th>0</th>\n",
       "      <td>5575-GNVDE</td>\n",
       "      <td>No</td>\n",
       "    </tr>\n",
       "    <tr>\n",
       "      <th>1</th>\n",
       "      <td>3668-QPYBK</td>\n",
       "      <td>No</td>\n",
       "    </tr>\n",
       "    <tr>\n",
       "      <th>2</th>\n",
       "      <td>9237-HQITU</td>\n",
       "      <td>No</td>\n",
       "    </tr>\n",
       "    <tr>\n",
       "      <th>3</th>\n",
       "      <td>9305-CDSKC</td>\n",
       "      <td>Yes</td>\n",
       "    </tr>\n",
       "    <tr>\n",
       "      <th>4</th>\n",
       "      <td>1452-KIOVK</td>\n",
       "      <td>Yes</td>\n",
       "    </tr>\n",
       "  </tbody>\n",
       "</table>\n",
       "</div>"
      ],
      "text/plain": [
       "   customerid multiplelines\n",
       "0  5575-GNVDE            No\n",
       "1  3668-QPYBK            No\n",
       "2  9237-HQITU            No\n",
       "3  9305-CDSKC           Yes\n",
       "4  1452-KIOVK           Yes"
      ]
     },
     "execution_count": 65,
     "metadata": {},
     "output_type": "execute_result"
    }
   ],
   "source": [
    "phone.head()"
   ]
  },
  {
   "cell_type": "code",
   "execution_count": 66,
   "metadata": {},
   "outputs": [
    {
     "data": {
      "text/html": [
       "<div>\n",
       "<style scoped>\n",
       "    .dataframe tbody tr th:only-of-type {\n",
       "        vertical-align: middle;\n",
       "    }\n",
       "\n",
       "    .dataframe tbody tr th {\n",
       "        vertical-align: top;\n",
       "    }\n",
       "\n",
       "    .dataframe thead th {\n",
       "        text-align: right;\n",
       "    }\n",
       "</style>\n",
       "<table border=\"1\" class=\"dataframe\">\n",
       "  <thead>\n",
       "    <tr style=\"text-align: right;\">\n",
       "      <th></th>\n",
       "      <th>customerid</th>\n",
       "      <th>multiplelines</th>\n",
       "    </tr>\n",
       "  </thead>\n",
       "  <tbody>\n",
       "    <tr>\n",
       "      <th>0</th>\n",
       "      <td>5575-GNVDE</td>\n",
       "      <td>0</td>\n",
       "    </tr>\n",
       "    <tr>\n",
       "      <th>1</th>\n",
       "      <td>3668-QPYBK</td>\n",
       "      <td>0</td>\n",
       "    </tr>\n",
       "    <tr>\n",
       "      <th>2</th>\n",
       "      <td>9237-HQITU</td>\n",
       "      <td>0</td>\n",
       "    </tr>\n",
       "    <tr>\n",
       "      <th>3</th>\n",
       "      <td>9305-CDSKC</td>\n",
       "      <td>1</td>\n",
       "    </tr>\n",
       "    <tr>\n",
       "      <th>4</th>\n",
       "      <td>1452-KIOVK</td>\n",
       "      <td>1</td>\n",
       "    </tr>\n",
       "  </tbody>\n",
       "</table>\n",
       "</div>"
      ],
      "text/plain": [
       "   customerid  multiplelines\n",
       "0  5575-GNVDE              0\n",
       "1  3668-QPYBK              0\n",
       "2  9237-HQITU              0\n",
       "3  9305-CDSKC              1\n",
       "4  1452-KIOVK              1"
      ]
     },
     "execution_count": 66,
     "metadata": {},
     "output_type": "execute_result"
    }
   ],
   "source": [
    "phone['multiplelines'] = phone['multiplelines'].apply(lambda x: 0 if x == 'No' else 1)\n",
    "phone.head()"
   ]
  },
  {
   "cell_type": "code",
   "execution_count": 67,
   "metadata": {},
   "outputs": [
    {
     "name": "stdout",
     "output_type": "stream",
     "text": [
      "<class 'pandas.core.frame.DataFrame'>\n",
      "RangeIndex: 6361 entries, 0 to 6360\n",
      "Data columns (total 2 columns):\n",
      " #   Column         Non-Null Count  Dtype \n",
      "---  ------         --------------  ----- \n",
      " 0   customerid     6361 non-null   object\n",
      " 1   multiplelines  6361 non-null   int64 \n",
      "dtypes: int64(1), object(1)\n",
      "memory usage: 99.5+ KB\n"
     ]
    }
   ],
   "source": [
    "phone.info()"
   ]
  },
  {
   "cell_type": "code",
   "execution_count": 68,
   "metadata": {},
   "outputs": [
    {
     "data": {
      "text/plain": [
       "0    3390\n",
       "1    2971\n",
       "Name: multiplelines, dtype: int64"
      ]
     },
     "execution_count": 68,
     "metadata": {},
     "output_type": "execute_result"
    }
   ],
   "source": [
    "phone.multiplelines.value_counts()"
   ]
  },
  {
   "cell_type": "markdown",
   "metadata": {},
   "source": [
    "# Объединение таблиц"
   ]
  },
  {
   "cell_type": "code",
   "execution_count": 69,
   "metadata": {},
   "outputs": [],
   "source": [
    "df_1 = contract.merge(internet, on='customerid', how='left')"
   ]
  },
  {
   "cell_type": "code",
   "execution_count": 70,
   "metadata": {},
   "outputs": [],
   "source": [
    "df_1 = df_1.merge(personal, on='customerid', how='left')"
   ]
  },
  {
   "cell_type": "code",
   "execution_count": 71,
   "metadata": {},
   "outputs": [],
   "source": [
    "df_1 = df_1.merge(phone, on='customerid', how='left')"
   ]
  },
  {
   "cell_type": "code",
   "execution_count": 72,
   "metadata": {},
   "outputs": [
    {
     "data": {
      "text/plain": [
       "customerid             0\n",
       "begindate              0\n",
       "enddate                0\n",
       "type                   0\n",
       "paperlessbilling       0\n",
       "paymentmethod          0\n",
       "monthlycharges         0\n",
       "totalcharges           0\n",
       "year_begin             0\n",
       "month_begin            0\n",
       "end                    0\n",
       "count_days             0\n",
       "count_months           0\n",
       "internetservice     1526\n",
       "onlinesecurity      1526\n",
       "onlinebackup        1526\n",
       "deviceprotection    1526\n",
       "techsupport         1526\n",
       "streamingtv         1526\n",
       "streamingmovies     1526\n",
       "gender_m               0\n",
       "seniorcitizen          0\n",
       "partner                0\n",
       "dependents             0\n",
       "multiplelines        682\n",
       "dtype: int64"
      ]
     },
     "execution_count": 72,
     "metadata": {},
     "output_type": "execute_result"
    }
   ],
   "source": [
    "df_1.isna().sum()"
   ]
  },
  {
   "cell_type": "markdown",
   "metadata": {},
   "source": [
    "internetservice - сделать булевыми (1, 0), пропуски заполнить 0  \n",
    "onlinesecurity - преобразовать тип данных в int, пропуски заполнить 0  \n",
    "onlinebackup - преобразовать тип данных в int, пропуски заполнить 0  \n",
    "deviceprotection - преобразовать тип данных в int, пропуски заполнить 0  \n",
    "techsupport - преобразовать тип данных в int, пропуски заполнить 0  \n",
    "streamingtv - преобразовать тип данных в int, пропуски заполнить 0  \n",
    "streamingmovies - преобразовать тип данных в int, пропуски заполнить 0  \n",
    "multiplelines - преобразовать тип данных в int, пропуски заполнить 0"
   ]
  },
  {
   "cell_type": "code",
   "execution_count": 73,
   "metadata": {},
   "outputs": [
    {
     "data": {
      "text/plain": [
       "array(['DSL', 'Fiber optic', nan], dtype=object)"
      ]
     },
     "execution_count": 73,
     "metadata": {},
     "output_type": "execute_result"
    }
   ],
   "source": [
    "df_1.internetservice.unique()"
   ]
  },
  {
   "cell_type": "code",
   "execution_count": 74,
   "metadata": {},
   "outputs": [],
   "source": [
    "# DSL - 1, Fiber optic - 0, NaN - 0\n",
    "\n",
    "df_1['internetservice'] = df_1['internetservice'].apply(lambda x: 1 if x == 'DSL' else 0)"
   ]
  },
  {
   "cell_type": "code",
   "execution_count": 75,
   "metadata": {},
   "outputs": [],
   "source": [
    "df_1 = df_1.fillna(0)"
   ]
  },
  {
   "cell_type": "code",
   "execution_count": 76,
   "metadata": {},
   "outputs": [
    {
     "data": {
      "text/plain": [
       "customerid          0\n",
       "begindate           0\n",
       "enddate             0\n",
       "type                0\n",
       "paperlessbilling    0\n",
       "paymentmethod       0\n",
       "monthlycharges      0\n",
       "totalcharges        0\n",
       "year_begin          0\n",
       "month_begin         0\n",
       "end                 0\n",
       "count_days          0\n",
       "count_months        0\n",
       "internetservice     0\n",
       "onlinesecurity      0\n",
       "onlinebackup        0\n",
       "deviceprotection    0\n",
       "techsupport         0\n",
       "streamingtv         0\n",
       "streamingmovies     0\n",
       "gender_m            0\n",
       "seniorcitizen       0\n",
       "partner             0\n",
       "dependents          0\n",
       "multiplelines       0\n",
       "dtype: int64"
      ]
     },
     "execution_count": 76,
     "metadata": {},
     "output_type": "execute_result"
    }
   ],
   "source": [
    "df_1.isna().sum()"
   ]
  },
  {
   "cell_type": "code",
   "execution_count": 77,
   "metadata": {},
   "outputs": [
    {
     "name": "stdout",
     "output_type": "stream",
     "text": [
      "<class 'pandas.core.frame.DataFrame'>\n",
      "Int64Index: 7043 entries, 0 to 7042\n",
      "Data columns (total 25 columns):\n",
      " #   Column            Non-Null Count  Dtype         \n",
      "---  ------            --------------  -----         \n",
      " 0   customerid        7043 non-null   object        \n",
      " 1   begindate         7043 non-null   datetime64[ns]\n",
      " 2   enddate           7043 non-null   datetime64[ns]\n",
      " 3   type              7043 non-null   object        \n",
      " 4   paperlessbilling  7043 non-null   int64         \n",
      " 5   paymentmethod     7043 non-null   object        \n",
      " 6   monthlycharges    7043 non-null   float64       \n",
      " 7   totalcharges      7043 non-null   object        \n",
      " 8   year_begin        7043 non-null   int64         \n",
      " 9   month_begin       7043 non-null   int64         \n",
      " 10  end               7043 non-null   int64         \n",
      " 11  count_days        7043 non-null   int64         \n",
      " 12  count_months      7043 non-null   int32         \n",
      " 13  internetservice   7043 non-null   int64         \n",
      " 14  onlinesecurity    7043 non-null   float64       \n",
      " 15  onlinebackup      7043 non-null   float64       \n",
      " 16  deviceprotection  7043 non-null   float64       \n",
      " 17  techsupport       7043 non-null   float64       \n",
      " 18  streamingtv       7043 non-null   float64       \n",
      " 19  streamingmovies   7043 non-null   float64       \n",
      " 20  gender_m          7043 non-null   int64         \n",
      " 21  seniorcitizen     7043 non-null   int64         \n",
      " 22  partner           7043 non-null   int64         \n",
      " 23  dependents        7043 non-null   int64         \n",
      " 24  multiplelines     7043 non-null   float64       \n",
      "dtypes: datetime64[ns](2), float64(8), int32(1), int64(10), object(4)\n",
      "memory usage: 1.4+ MB\n"
     ]
    }
   ],
   "source": [
    "df_1.info()"
   ]
  },
  {
   "cell_type": "code",
   "execution_count": 78,
   "metadata": {},
   "outputs": [],
   "source": [
    "df_1[['onlinesecurity', 'onlinebackup', 'deviceprotection',\n",
    "      'techsupport', 'streamingtv', 'streamingmovies', 'multiplelines']] = df_1[['onlinesecurity', 'onlinebackup', 'deviceprotection',\n",
    "                                                                                 'techsupport', 'streamingtv', 'streamingmovies', 'multiplelines']].astype('int64')"
   ]
  },
  {
   "cell_type": "code",
   "execution_count": 79,
   "metadata": {},
   "outputs": [
    {
     "name": "stdout",
     "output_type": "stream",
     "text": [
      "<class 'pandas.core.frame.DataFrame'>\n",
      "Int64Index: 7043 entries, 0 to 7042\n",
      "Data columns (total 25 columns):\n",
      " #   Column            Non-Null Count  Dtype         \n",
      "---  ------            --------------  -----         \n",
      " 0   customerid        7043 non-null   object        \n",
      " 1   begindate         7043 non-null   datetime64[ns]\n",
      " 2   enddate           7043 non-null   datetime64[ns]\n",
      " 3   type              7043 non-null   object        \n",
      " 4   paperlessbilling  7043 non-null   int64         \n",
      " 5   paymentmethod     7043 non-null   object        \n",
      " 6   monthlycharges    7043 non-null   float64       \n",
      " 7   totalcharges      7043 non-null   object        \n",
      " 8   year_begin        7043 non-null   int64         \n",
      " 9   month_begin       7043 non-null   int64         \n",
      " 10  end               7043 non-null   int64         \n",
      " 11  count_days        7043 non-null   int64         \n",
      " 12  count_months      7043 non-null   int32         \n",
      " 13  internetservice   7043 non-null   int64         \n",
      " 14  onlinesecurity    7043 non-null   int64         \n",
      " 15  onlinebackup      7043 non-null   int64         \n",
      " 16  deviceprotection  7043 non-null   int64         \n",
      " 17  techsupport       7043 non-null   int64         \n",
      " 18  streamingtv       7043 non-null   int64         \n",
      " 19  streamingmovies   7043 non-null   int64         \n",
      " 20  gender_m          7043 non-null   int64         \n",
      " 21  seniorcitizen     7043 non-null   int64         \n",
      " 22  partner           7043 non-null   int64         \n",
      " 23  dependents        7043 non-null   int64         \n",
      " 24  multiplelines     7043 non-null   int64         \n",
      "dtypes: datetime64[ns](2), float64(1), int32(1), int64(17), object(4)\n",
      "memory usage: 1.4+ MB\n"
     ]
    }
   ],
   "source": [
    "df_1.info()"
   ]
  },
  {
   "cell_type": "code",
   "execution_count": 80,
   "metadata": {},
   "outputs": [
    {
     "data": {
      "text/plain": [
       "20.2       11\n",
       "           11\n",
       "19.75       9\n",
       "19.65       8\n",
       "19.9        8\n",
       "           ..\n",
       "2896.55     1\n",
       "1790.6      1\n",
       "302.45      1\n",
       "384.25      1\n",
       "3834.4      1\n",
       "Name: totalcharges, Length: 6531, dtype: int64"
      ]
     },
     "execution_count": 80,
     "metadata": {},
     "output_type": "execute_result"
    }
   ],
   "source": [
    "df_1.totalcharges.value_counts()"
   ]
  },
  {
   "cell_type": "markdown",
   "metadata": {},
   "source": [
    "Нашлись объекты в totalcharges которые являются просто пробелом. Поскольку их всего 11шт, можно удалить без каких-либо последствий"
   ]
  },
  {
   "cell_type": "code",
   "execution_count": 81,
   "metadata": {},
   "outputs": [],
   "source": [
    "df = df_1.query('totalcharges != \" \"')"
   ]
  },
  {
   "cell_type": "code",
   "execution_count": 82,
   "metadata": {},
   "outputs": [
    {
     "data": {
      "text/plain": [
       "7032"
      ]
     },
     "execution_count": 82,
     "metadata": {},
     "output_type": "execute_result"
    }
   ],
   "source": [
    "len(df)"
   ]
  },
  {
   "cell_type": "code",
   "execution_count": 83,
   "metadata": {},
   "outputs": [
    {
     "name": "stdout",
     "output_type": "stream",
     "text": [
      "<class 'pandas.core.frame.DataFrame'>\n",
      "Int64Index: 7032 entries, 0 to 7042\n",
      "Data columns (total 25 columns):\n",
      " #   Column            Non-Null Count  Dtype         \n",
      "---  ------            --------------  -----         \n",
      " 0   customerid        7032 non-null   object        \n",
      " 1   begindate         7032 non-null   datetime64[ns]\n",
      " 2   enddate           7032 non-null   datetime64[ns]\n",
      " 3   type              7032 non-null   object        \n",
      " 4   paperlessbilling  7032 non-null   int64         \n",
      " 5   paymentmethod     7032 non-null   object        \n",
      " 6   monthlycharges    7032 non-null   float64       \n",
      " 7   totalcharges      7032 non-null   float64       \n",
      " 8   year_begin        7032 non-null   int64         \n",
      " 9   month_begin       7032 non-null   int64         \n",
      " 10  end               7032 non-null   int64         \n",
      " 11  count_days        7032 non-null   int64         \n",
      " 12  count_months      7032 non-null   int32         \n",
      " 13  internetservice   7032 non-null   int64         \n",
      " 14  onlinesecurity    7032 non-null   int64         \n",
      " 15  onlinebackup      7032 non-null   int64         \n",
      " 16  deviceprotection  7032 non-null   int64         \n",
      " 17  techsupport       7032 non-null   int64         \n",
      " 18  streamingtv       7032 non-null   int64         \n",
      " 19  streamingmovies   7032 non-null   int64         \n",
      " 20  gender_m          7032 non-null   int64         \n",
      " 21  seniorcitizen     7032 non-null   int64         \n",
      " 22  partner           7032 non-null   int64         \n",
      " 23  dependents        7032 non-null   int64         \n",
      " 24  multiplelines     7032 non-null   int64         \n",
      "dtypes: datetime64[ns](2), float64(2), int32(1), int64(17), object(3)\n",
      "memory usage: 1.4+ MB\n"
     ]
    },
    {
     "name": "stderr",
     "output_type": "stream",
     "text": [
      "C:\\Users\\ASUS-ADMIN\\anaconda3\\lib\\site-packages\\pandas\\core\\generic.py:5168: SettingWithCopyWarning: \n",
      "A value is trying to be set on a copy of a slice from a DataFrame.\n",
      "Try using .loc[row_indexer,col_indexer] = value instead\n",
      "\n",
      "See the caveats in the documentation: https://pandas.pydata.org/pandas-docs/stable/user_guide/indexing.html#returning-a-view-versus-a-copy\n",
      "  self[name] = value\n"
     ]
    }
   ],
   "source": [
    "df.totalcharges = df.totalcharges.astype('float64')\n",
    "df.info()"
   ]
  },
  {
   "cell_type": "markdown",
   "metadata": {},
   "source": [
    "# OHE и масштабирование"
   ]
  },
  {
   "cell_type": "code",
   "execution_count": 84,
   "metadata": {},
   "outputs": [],
   "source": [
    "df2 = df.copy()"
   ]
  },
  {
   "cell_type": "code",
   "execution_count": 85,
   "metadata": {},
   "outputs": [],
   "source": [
    "df2 = df2.drop('customerid', axis=1)"
   ]
  },
  {
   "cell_type": "code",
   "execution_count": 86,
   "metadata": {},
   "outputs": [
    {
     "data": {
      "text/html": [
       "<div>\n",
       "<style scoped>\n",
       "    .dataframe tbody tr th:only-of-type {\n",
       "        vertical-align: middle;\n",
       "    }\n",
       "\n",
       "    .dataframe tbody tr th {\n",
       "        vertical-align: top;\n",
       "    }\n",
       "\n",
       "    .dataframe thead th {\n",
       "        text-align: right;\n",
       "    }\n",
       "</style>\n",
       "<table border=\"1\" class=\"dataframe\">\n",
       "  <thead>\n",
       "    <tr style=\"text-align: right;\">\n",
       "      <th></th>\n",
       "      <th>begindate</th>\n",
       "      <th>enddate</th>\n",
       "      <th>paperlessbilling</th>\n",
       "      <th>monthlycharges</th>\n",
       "      <th>totalcharges</th>\n",
       "      <th>year_begin</th>\n",
       "      <th>month_begin</th>\n",
       "      <th>end</th>\n",
       "      <th>count_days</th>\n",
       "      <th>count_months</th>\n",
       "      <th>...</th>\n",
       "      <th>gender_m</th>\n",
       "      <th>seniorcitizen</th>\n",
       "      <th>partner</th>\n",
       "      <th>dependents</th>\n",
       "      <th>multiplelines</th>\n",
       "      <th>type_One year</th>\n",
       "      <th>type_Two year</th>\n",
       "      <th>paymentmethod_Credit card (automatic)</th>\n",
       "      <th>paymentmethod_Electronic check</th>\n",
       "      <th>paymentmethod_Mailed check</th>\n",
       "    </tr>\n",
       "  </thead>\n",
       "  <tbody>\n",
       "    <tr>\n",
       "      <th>0</th>\n",
       "      <td>2020-01-01</td>\n",
       "      <td>2020-02-01</td>\n",
       "      <td>1</td>\n",
       "      <td>29.85</td>\n",
       "      <td>29.85</td>\n",
       "      <td>2020</td>\n",
       "      <td>1</td>\n",
       "      <td>0</td>\n",
       "      <td>31</td>\n",
       "      <td>1</td>\n",
       "      <td>...</td>\n",
       "      <td>0</td>\n",
       "      <td>0</td>\n",
       "      <td>1</td>\n",
       "      <td>0</td>\n",
       "      <td>0</td>\n",
       "      <td>0</td>\n",
       "      <td>0</td>\n",
       "      <td>0</td>\n",
       "      <td>1</td>\n",
       "      <td>0</td>\n",
       "    </tr>\n",
       "    <tr>\n",
       "      <th>1</th>\n",
       "      <td>2017-04-01</td>\n",
       "      <td>2020-02-01</td>\n",
       "      <td>0</td>\n",
       "      <td>56.95</td>\n",
       "      <td>1889.50</td>\n",
       "      <td>2017</td>\n",
       "      <td>4</td>\n",
       "      <td>0</td>\n",
       "      <td>1036</td>\n",
       "      <td>34</td>\n",
       "      <td>...</td>\n",
       "      <td>1</td>\n",
       "      <td>0</td>\n",
       "      <td>0</td>\n",
       "      <td>0</td>\n",
       "      <td>0</td>\n",
       "      <td>1</td>\n",
       "      <td>0</td>\n",
       "      <td>0</td>\n",
       "      <td>0</td>\n",
       "      <td>1</td>\n",
       "    </tr>\n",
       "    <tr>\n",
       "      <th>2</th>\n",
       "      <td>2019-10-01</td>\n",
       "      <td>2019-12-01</td>\n",
       "      <td>1</td>\n",
       "      <td>53.85</td>\n",
       "      <td>108.15</td>\n",
       "      <td>2019</td>\n",
       "      <td>10</td>\n",
       "      <td>1</td>\n",
       "      <td>61</td>\n",
       "      <td>2</td>\n",
       "      <td>...</td>\n",
       "      <td>1</td>\n",
       "      <td>0</td>\n",
       "      <td>0</td>\n",
       "      <td>0</td>\n",
       "      <td>0</td>\n",
       "      <td>0</td>\n",
       "      <td>0</td>\n",
       "      <td>0</td>\n",
       "      <td>0</td>\n",
       "      <td>1</td>\n",
       "    </tr>\n",
       "    <tr>\n",
       "      <th>3</th>\n",
       "      <td>2016-05-01</td>\n",
       "      <td>2020-02-01</td>\n",
       "      <td>0</td>\n",
       "      <td>42.30</td>\n",
       "      <td>1840.75</td>\n",
       "      <td>2016</td>\n",
       "      <td>5</td>\n",
       "      <td>0</td>\n",
       "      <td>1371</td>\n",
       "      <td>45</td>\n",
       "      <td>...</td>\n",
       "      <td>1</td>\n",
       "      <td>0</td>\n",
       "      <td>0</td>\n",
       "      <td>0</td>\n",
       "      <td>0</td>\n",
       "      <td>1</td>\n",
       "      <td>0</td>\n",
       "      <td>0</td>\n",
       "      <td>0</td>\n",
       "      <td>0</td>\n",
       "    </tr>\n",
       "    <tr>\n",
       "      <th>4</th>\n",
       "      <td>2019-09-01</td>\n",
       "      <td>2019-11-01</td>\n",
       "      <td>1</td>\n",
       "      <td>70.70</td>\n",
       "      <td>151.65</td>\n",
       "      <td>2019</td>\n",
       "      <td>9</td>\n",
       "      <td>1</td>\n",
       "      <td>61</td>\n",
       "      <td>2</td>\n",
       "      <td>...</td>\n",
       "      <td>0</td>\n",
       "      <td>0</td>\n",
       "      <td>0</td>\n",
       "      <td>0</td>\n",
       "      <td>0</td>\n",
       "      <td>0</td>\n",
       "      <td>0</td>\n",
       "      <td>0</td>\n",
       "      <td>1</td>\n",
       "      <td>0</td>\n",
       "    </tr>\n",
       "  </tbody>\n",
       "</table>\n",
       "<p>5 rows × 27 columns</p>\n",
       "</div>"
      ],
      "text/plain": [
       "   begindate    enddate  paperlessbilling  monthlycharges  totalcharges  \\\n",
       "0 2020-01-01 2020-02-01                 1           29.85         29.85   \n",
       "1 2017-04-01 2020-02-01                 0           56.95       1889.50   \n",
       "2 2019-10-01 2019-12-01                 1           53.85        108.15   \n",
       "3 2016-05-01 2020-02-01                 0           42.30       1840.75   \n",
       "4 2019-09-01 2019-11-01                 1           70.70        151.65   \n",
       "\n",
       "   year_begin  month_begin  end  count_days  count_months  ...  gender_m  \\\n",
       "0        2020            1    0          31             1  ...         0   \n",
       "1        2017            4    0        1036            34  ...         1   \n",
       "2        2019           10    1          61             2  ...         1   \n",
       "3        2016            5    0        1371            45  ...         1   \n",
       "4        2019            9    1          61             2  ...         0   \n",
       "\n",
       "   seniorcitizen  partner  dependents  multiplelines  type_One year  \\\n",
       "0              0        1           0              0              0   \n",
       "1              0        0           0              0              1   \n",
       "2              0        0           0              0              0   \n",
       "3              0        0           0              0              1   \n",
       "4              0        0           0              0              0   \n",
       "\n",
       "   type_Two year  paymentmethod_Credit card (automatic)  \\\n",
       "0              0                                      0   \n",
       "1              0                                      0   \n",
       "2              0                                      0   \n",
       "3              0                                      0   \n",
       "4              0                                      0   \n",
       "\n",
       "   paymentmethod_Electronic check  paymentmethod_Mailed check  \n",
       "0                               1                           0  \n",
       "1                               0                           1  \n",
       "2                               0                           1  \n",
       "3                               0                           0  \n",
       "4                               1                           0  \n",
       "\n",
       "[5 rows x 27 columns]"
      ]
     },
     "execution_count": 86,
     "metadata": {},
     "output_type": "execute_result"
    }
   ],
   "source": [
    "df2 = pd.get_dummies(df2, drop_first=True)\n",
    "df2.head()"
   ]
  },
  {
   "cell_type": "markdown",
   "metadata": {},
   "source": [
    "Удалю признаки которые могут подсказать модели верное предсказание, такими являются все даты. Оставлю только количество месяцев, которое клиент провел с компанией. А также срежу данные по году и оставлю только 2014-2019, потому что 2013 и 2020 года не полные."
   ]
  },
  {
   "cell_type": "code",
   "execution_count": 87,
   "metadata": {},
   "outputs": [
    {
     "data": {
      "text/plain": [
       "6791"
      ]
     },
     "execution_count": 87,
     "metadata": {},
     "output_type": "execute_result"
    }
   ],
   "source": [
    "df2 = df2.query('2013 < year_begin < 2020')\n",
    "len(df2)"
   ]
  },
  {
   "cell_type": "code",
   "execution_count": 88,
   "metadata": {},
   "outputs": [],
   "source": [
    "df2 = df2.drop(['begindate', 'enddate', 'year_begin', 'month_begin'], axis=1)\n"
   ]
  },
  {
   "cell_type": "code",
   "execution_count": 89,
   "metadata": {},
   "outputs": [
    {
     "name": "stdout",
     "output_type": "stream",
     "text": [
      "<class 'pandas.core.frame.DataFrame'>\n",
      "Int64Index: 6791 entries, 1 to 7042\n",
      "Data columns (total 23 columns):\n",
      " #   Column                                 Non-Null Count  Dtype  \n",
      "---  ------                                 --------------  -----  \n",
      " 0   paperlessbilling                       6791 non-null   int64  \n",
      " 1   monthlycharges                         6791 non-null   float64\n",
      " 2   totalcharges                           6791 non-null   float64\n",
      " 3   end                                    6791 non-null   int64  \n",
      " 4   count_days                             6791 non-null   int64  \n",
      " 5   count_months                           6791 non-null   int32  \n",
      " 6   internetservice                        6791 non-null   int64  \n",
      " 7   onlinesecurity                         6791 non-null   int64  \n",
      " 8   onlinebackup                           6791 non-null   int64  \n",
      " 9   deviceprotection                       6791 non-null   int64  \n",
      " 10  techsupport                            6791 non-null   int64  \n",
      " 11  streamingtv                            6791 non-null   int64  \n",
      " 12  streamingmovies                        6791 non-null   int64  \n",
      " 13  gender_m                               6791 non-null   int64  \n",
      " 14  seniorcitizen                          6791 non-null   int64  \n",
      " 15  partner                                6791 non-null   int64  \n",
      " 16  dependents                             6791 non-null   int64  \n",
      " 17  multiplelines                          6791 non-null   int64  \n",
      " 18  type_One year                          6791 non-null   uint8  \n",
      " 19  type_Two year                          6791 non-null   uint8  \n",
      " 20  paymentmethod_Credit card (automatic)  6791 non-null   uint8  \n",
      " 21  paymentmethod_Electronic check         6791 non-null   uint8  \n",
      " 22  paymentmethod_Mailed check             6791 non-null   uint8  \n",
      "dtypes: float64(2), int32(1), int64(15), uint8(5)\n",
      "memory usage: 1014.7 KB\n"
     ]
    }
   ],
   "source": [
    "df2.info()"
   ]
  },
  {
   "cell_type": "code",
   "execution_count": 90,
   "metadata": {},
   "outputs": [
    {
     "data": {
      "text/html": [
       "<div>\n",
       "<style scoped>\n",
       "    .dataframe tbody tr th:only-of-type {\n",
       "        vertical-align: middle;\n",
       "    }\n",
       "\n",
       "    .dataframe tbody tr th {\n",
       "        vertical-align: top;\n",
       "    }\n",
       "\n",
       "    .dataframe thead th {\n",
       "        text-align: right;\n",
       "    }\n",
       "</style>\n",
       "<table border=\"1\" class=\"dataframe\">\n",
       "  <thead>\n",
       "    <tr style=\"text-align: right;\">\n",
       "      <th></th>\n",
       "      <th>paperlessbilling</th>\n",
       "      <th>monthlycharges</th>\n",
       "      <th>totalcharges</th>\n",
       "      <th>end</th>\n",
       "      <th>count_days</th>\n",
       "      <th>count_months</th>\n",
       "      <th>internetservice</th>\n",
       "      <th>onlinesecurity</th>\n",
       "      <th>onlinebackup</th>\n",
       "      <th>deviceprotection</th>\n",
       "      <th>...</th>\n",
       "      <th>gender_m</th>\n",
       "      <th>seniorcitizen</th>\n",
       "      <th>partner</th>\n",
       "      <th>dependents</th>\n",
       "      <th>multiplelines</th>\n",
       "      <th>type_One year</th>\n",
       "      <th>type_Two year</th>\n",
       "      <th>paymentmethod_Credit card (automatic)</th>\n",
       "      <th>paymentmethod_Electronic check</th>\n",
       "      <th>paymentmethod_Mailed check</th>\n",
       "    </tr>\n",
       "  </thead>\n",
       "  <tbody>\n",
       "    <tr>\n",
       "      <th>1</th>\n",
       "      <td>0</td>\n",
       "      <td>56.95</td>\n",
       "      <td>1889.50</td>\n",
       "      <td>0</td>\n",
       "      <td>1036</td>\n",
       "      <td>34</td>\n",
       "      <td>1</td>\n",
       "      <td>1</td>\n",
       "      <td>0</td>\n",
       "      <td>1</td>\n",
       "      <td>...</td>\n",
       "      <td>1</td>\n",
       "      <td>0</td>\n",
       "      <td>0</td>\n",
       "      <td>0</td>\n",
       "      <td>0</td>\n",
       "      <td>1</td>\n",
       "      <td>0</td>\n",
       "      <td>0</td>\n",
       "      <td>0</td>\n",
       "      <td>1</td>\n",
       "    </tr>\n",
       "    <tr>\n",
       "      <th>2</th>\n",
       "      <td>1</td>\n",
       "      <td>53.85</td>\n",
       "      <td>108.15</td>\n",
       "      <td>1</td>\n",
       "      <td>61</td>\n",
       "      <td>2</td>\n",
       "      <td>1</td>\n",
       "      <td>1</td>\n",
       "      <td>1</td>\n",
       "      <td>0</td>\n",
       "      <td>...</td>\n",
       "      <td>1</td>\n",
       "      <td>0</td>\n",
       "      <td>0</td>\n",
       "      <td>0</td>\n",
       "      <td>0</td>\n",
       "      <td>0</td>\n",
       "      <td>0</td>\n",
       "      <td>0</td>\n",
       "      <td>0</td>\n",
       "      <td>1</td>\n",
       "    </tr>\n",
       "    <tr>\n",
       "      <th>3</th>\n",
       "      <td>0</td>\n",
       "      <td>42.30</td>\n",
       "      <td>1840.75</td>\n",
       "      <td>0</td>\n",
       "      <td>1371</td>\n",
       "      <td>45</td>\n",
       "      <td>1</td>\n",
       "      <td>1</td>\n",
       "      <td>0</td>\n",
       "      <td>1</td>\n",
       "      <td>...</td>\n",
       "      <td>1</td>\n",
       "      <td>0</td>\n",
       "      <td>0</td>\n",
       "      <td>0</td>\n",
       "      <td>0</td>\n",
       "      <td>1</td>\n",
       "      <td>0</td>\n",
       "      <td>0</td>\n",
       "      <td>0</td>\n",
       "      <td>0</td>\n",
       "    </tr>\n",
       "    <tr>\n",
       "      <th>4</th>\n",
       "      <td>1</td>\n",
       "      <td>70.70</td>\n",
       "      <td>151.65</td>\n",
       "      <td>1</td>\n",
       "      <td>61</td>\n",
       "      <td>2</td>\n",
       "      <td>0</td>\n",
       "      <td>0</td>\n",
       "      <td>0</td>\n",
       "      <td>0</td>\n",
       "      <td>...</td>\n",
       "      <td>0</td>\n",
       "      <td>0</td>\n",
       "      <td>0</td>\n",
       "      <td>0</td>\n",
       "      <td>0</td>\n",
       "      <td>0</td>\n",
       "      <td>0</td>\n",
       "      <td>0</td>\n",
       "      <td>1</td>\n",
       "      <td>0</td>\n",
       "    </tr>\n",
       "    <tr>\n",
       "      <th>5</th>\n",
       "      <td>1</td>\n",
       "      <td>99.65</td>\n",
       "      <td>820.50</td>\n",
       "      <td>1</td>\n",
       "      <td>245</td>\n",
       "      <td>8</td>\n",
       "      <td>0</td>\n",
       "      <td>0</td>\n",
       "      <td>0</td>\n",
       "      <td>1</td>\n",
       "      <td>...</td>\n",
       "      <td>0</td>\n",
       "      <td>0</td>\n",
       "      <td>0</td>\n",
       "      <td>0</td>\n",
       "      <td>1</td>\n",
       "      <td>0</td>\n",
       "      <td>0</td>\n",
       "      <td>0</td>\n",
       "      <td>1</td>\n",
       "      <td>0</td>\n",
       "    </tr>\n",
       "  </tbody>\n",
       "</table>\n",
       "<p>5 rows × 23 columns</p>\n",
       "</div>"
      ],
      "text/plain": [
       "   paperlessbilling  monthlycharges  totalcharges  end  count_days  \\\n",
       "1                 0           56.95       1889.50    0        1036   \n",
       "2                 1           53.85        108.15    1          61   \n",
       "3                 0           42.30       1840.75    0        1371   \n",
       "4                 1           70.70        151.65    1          61   \n",
       "5                 1           99.65        820.50    1         245   \n",
       "\n",
       "   count_months  internetservice  onlinesecurity  onlinebackup  \\\n",
       "1            34                1               1             0   \n",
       "2             2                1               1             1   \n",
       "3            45                1               1             0   \n",
       "4             2                0               0             0   \n",
       "5             8                0               0             0   \n",
       "\n",
       "   deviceprotection  ...  gender_m  seniorcitizen  partner  dependents  \\\n",
       "1                 1  ...         1              0        0           0   \n",
       "2                 0  ...         1              0        0           0   \n",
       "3                 1  ...         1              0        0           0   \n",
       "4                 0  ...         0              0        0           0   \n",
       "5                 1  ...         0              0        0           0   \n",
       "\n",
       "   multiplelines  type_One year  type_Two year  \\\n",
       "1              0              1              0   \n",
       "2              0              0              0   \n",
       "3              0              1              0   \n",
       "4              0              0              0   \n",
       "5              1              0              0   \n",
       "\n",
       "   paymentmethod_Credit card (automatic)  paymentmethod_Electronic check  \\\n",
       "1                                      0                               0   \n",
       "2                                      0                               0   \n",
       "3                                      0                               0   \n",
       "4                                      0                               1   \n",
       "5                                      0                               1   \n",
       "\n",
       "   paymentmethod_Mailed check  \n",
       "1                           1  \n",
       "2                           1  \n",
       "3                           0  \n",
       "4                           0  \n",
       "5                           0  \n",
       "\n",
       "[5 rows x 23 columns]"
      ]
     },
     "execution_count": 90,
     "metadata": {},
     "output_type": "execute_result"
    }
   ],
   "source": [
    "df2.head()"
   ]
  },
  {
   "cell_type": "raw",
   "metadata": {},
   "source": [
    "numeric = ['monthlycharges', 'totalcharges', 'count_months']\n",
    "\n",
    "scaler = StandardScaler()\n",
    "scaler.fit(features[numeric])\n",
    "features[numeric] = scaler.transform(features[numeric])"
   ]
  },
  {
   "cell_type": "markdown",
   "metadata": {},
   "source": [
    "У меня появились сомнения, что тут нужна стандартизация"
   ]
  },
  {
   "cell_type": "markdown",
   "metadata": {},
   "source": [
    "# Выделю ключевые признаки для обучения модели"
   ]
  },
  {
   "cell_type": "code",
   "execution_count": 91,
   "metadata": {},
   "outputs": [
    {
     "name": "stderr",
     "output_type": "stream",
     "text": [
      "C:\\Users\\ASUS-ADMIN\\anaconda3\\lib\\site-packages\\lifelines\\fitters\\coxph_fitter.py:1601: ConvergenceWarning: Newton-Rhaphson failed to converge sufficiently. Please see the following tips in the lifelines documentation: https://lifelines.readthedocs.io/en/latest/Examples.html#problems-with-convergence-in-the-cox-proportional-hazard-model\n",
      "  warnings.warn(\n"
     ]
    },
    {
     "data": {
      "text/html": [
       "<div>\n",
       "<style scoped>\n",
       "    .dataframe tbody tr th:only-of-type {\n",
       "        vertical-align: middle;\n",
       "    }\n",
       "\n",
       "    .dataframe tbody tr th {\n",
       "        vertical-align: top;\n",
       "    }\n",
       "\n",
       "    .dataframe thead th {\n",
       "        text-align: right;\n",
       "    }\n",
       "</style>\n",
       "<table border=\"1\" class=\"dataframe\">\n",
       "  <tbody>\n",
       "    <tr>\n",
       "      <th>model</th>\n",
       "      <td>lifelines.CoxPHFitter</td>\n",
       "    </tr>\n",
       "    <tr>\n",
       "      <th>duration col</th>\n",
       "      <td>'count_months'</td>\n",
       "    </tr>\n",
       "    <tr>\n",
       "      <th>event col</th>\n",
       "      <td>'end'</td>\n",
       "    </tr>\n",
       "    <tr>\n",
       "      <th>baseline estimation</th>\n",
       "      <td>breslow</td>\n",
       "    </tr>\n",
       "    <tr>\n",
       "      <th>number of observations</th>\n",
       "      <td>6791</td>\n",
       "    </tr>\n",
       "    <tr>\n",
       "      <th>number of events observed</th>\n",
       "      <td>1861</td>\n",
       "    </tr>\n",
       "    <tr>\n",
       "      <th>partial log-likelihood</th>\n",
       "      <td>-10506.16</td>\n",
       "    </tr>\n",
       "    <tr>\n",
       "      <th>time fit was run</th>\n",
       "      <td>2022-02-06 12:43:47 UTC</td>\n",
       "    </tr>\n",
       "  </tbody>\n",
       "</table>\n",
       "</div><table border=\"1\" class=\"dataframe\">\n",
       "  <thead>\n",
       "    <tr style=\"text-align: right;\">\n",
       "      <th style=\"min-width: 12px;\"></th>\n",
       "      <th style=\"min-width: 12px;\">coef</th>\n",
       "      <th style=\"min-width: 12px;\">exp(coef)</th>\n",
       "      <th style=\"min-width: 12px;\">se(coef)</th>\n",
       "      <th style=\"min-width: 12px;\">coef lower 95%</th>\n",
       "      <th style=\"min-width: 12px;\">coef upper 95%</th>\n",
       "      <th style=\"min-width: 12px;\">exp(coef) lower 95%</th>\n",
       "      <th style=\"min-width: 12px;\">exp(coef) upper 95%</th>\n",
       "      <th style=\"min-width: 12px;\">z</th>\n",
       "      <th style=\"min-width: 12px;\">p</th>\n",
       "      <th style=\"min-width: 12px;\">-log2(p)</th>\n",
       "    </tr>\n",
       "  </thead>\n",
       "  <tbody>\n",
       "    <tr>\n",
       "      <th>paperlessbilling</th>\n",
       "      <td>0.25</td>\n",
       "      <td>1.28</td>\n",
       "      <td>0.06</td>\n",
       "      <td>0.13</td>\n",
       "      <td>0.36</td>\n",
       "      <td>1.14</td>\n",
       "      <td>1.43</td>\n",
       "      <td>4.33</td>\n",
       "      <td>&lt;0.005</td>\n",
       "      <td>16.02</td>\n",
       "    </tr>\n",
       "    <tr>\n",
       "      <th>monthlycharges</th>\n",
       "      <td>0.01</td>\n",
       "      <td>1.01</td>\n",
       "      <td>0.00</td>\n",
       "      <td>0.01</td>\n",
       "      <td>0.01</td>\n",
       "      <td>1.01</td>\n",
       "      <td>1.01</td>\n",
       "      <td>4.50</td>\n",
       "      <td>&lt;0.005</td>\n",
       "      <td>17.17</td>\n",
       "    </tr>\n",
       "    <tr>\n",
       "      <th>totalcharges</th>\n",
       "      <td>0.00</td>\n",
       "      <td>1.00</td>\n",
       "      <td>0.00</td>\n",
       "      <td>0.00</td>\n",
       "      <td>0.00</td>\n",
       "      <td>1.00</td>\n",
       "      <td>1.00</td>\n",
       "      <td>6.39</td>\n",
       "      <td>&lt;0.005</td>\n",
       "      <td>32.52</td>\n",
       "    </tr>\n",
       "    <tr>\n",
       "      <th>count_days</th>\n",
       "      <td>-0.01</td>\n",
       "      <td>0.99</td>\n",
       "      <td>0.00</td>\n",
       "      <td>-0.01</td>\n",
       "      <td>-0.01</td>\n",
       "      <td>0.99</td>\n",
       "      <td>0.99</td>\n",
       "      <td>-37.16</td>\n",
       "      <td>&lt;0.005</td>\n",
       "      <td>1001.48</td>\n",
       "    </tr>\n",
       "    <tr>\n",
       "      <th>internetservice</th>\n",
       "      <td>0.14</td>\n",
       "      <td>1.16</td>\n",
       "      <td>0.07</td>\n",
       "      <td>0.00</td>\n",
       "      <td>0.29</td>\n",
       "      <td>1.00</td>\n",
       "      <td>1.33</td>\n",
       "      <td>1.99</td>\n",
       "      <td>0.05</td>\n",
       "      <td>4.42</td>\n",
       "    </tr>\n",
       "    <tr>\n",
       "      <th>onlinesecurity</th>\n",
       "      <td>-0.38</td>\n",
       "      <td>0.69</td>\n",
       "      <td>0.07</td>\n",
       "      <td>-0.51</td>\n",
       "      <td>-0.24</td>\n",
       "      <td>0.60</td>\n",
       "      <td>0.79</td>\n",
       "      <td>-5.42</td>\n",
       "      <td>&lt;0.005</td>\n",
       "      <td>23.99</td>\n",
       "    </tr>\n",
       "    <tr>\n",
       "      <th>onlinebackup</th>\n",
       "      <td>-0.18</td>\n",
       "      <td>0.84</td>\n",
       "      <td>0.06</td>\n",
       "      <td>-0.29</td>\n",
       "      <td>-0.06</td>\n",
       "      <td>0.75</td>\n",
       "      <td>0.94</td>\n",
       "      <td>-3.07</td>\n",
       "      <td>&lt;0.005</td>\n",
       "      <td>8.86</td>\n",
       "    </tr>\n",
       "    <tr>\n",
       "      <th>deviceprotection</th>\n",
       "      <td>-0.09</td>\n",
       "      <td>0.91</td>\n",
       "      <td>0.06</td>\n",
       "      <td>-0.21</td>\n",
       "      <td>0.02</td>\n",
       "      <td>0.81</td>\n",
       "      <td>1.02</td>\n",
       "      <td>-1.58</td>\n",
       "      <td>0.12</td>\n",
       "      <td>3.12</td>\n",
       "    </tr>\n",
       "    <tr>\n",
       "      <th>techsupport</th>\n",
       "      <td>-0.36</td>\n",
       "      <td>0.70</td>\n",
       "      <td>0.07</td>\n",
       "      <td>-0.50</td>\n",
       "      <td>-0.22</td>\n",
       "      <td>0.61</td>\n",
       "      <td>0.80</td>\n",
       "      <td>-5.15</td>\n",
       "      <td>&lt;0.005</td>\n",
       "      <td>21.90</td>\n",
       "    </tr>\n",
       "    <tr>\n",
       "      <th>streamingtv</th>\n",
       "      <td>-0.04</td>\n",
       "      <td>0.96</td>\n",
       "      <td>0.06</td>\n",
       "      <td>-0.16</td>\n",
       "      <td>0.08</td>\n",
       "      <td>0.86</td>\n",
       "      <td>1.09</td>\n",
       "      <td>-0.61</td>\n",
       "      <td>0.54</td>\n",
       "      <td>0.89</td>\n",
       "    </tr>\n",
       "    <tr>\n",
       "      <th>streamingmovies</th>\n",
       "      <td>-0.00</td>\n",
       "      <td>1.00</td>\n",
       "      <td>0.06</td>\n",
       "      <td>-0.12</td>\n",
       "      <td>0.12</td>\n",
       "      <td>0.89</td>\n",
       "      <td>1.12</td>\n",
       "      <td>-0.05</td>\n",
       "      <td>0.96</td>\n",
       "      <td>0.06</td>\n",
       "    </tr>\n",
       "    <tr>\n",
       "      <th>gender_m</th>\n",
       "      <td>0.01</td>\n",
       "      <td>1.01</td>\n",
       "      <td>0.05</td>\n",
       "      <td>-0.09</td>\n",
       "      <td>0.10</td>\n",
       "      <td>0.92</td>\n",
       "      <td>1.10</td>\n",
       "      <td>0.13</td>\n",
       "      <td>0.90</td>\n",
       "      <td>0.16</td>\n",
       "    </tr>\n",
       "    <tr>\n",
       "      <th>seniorcitizen</th>\n",
       "      <td>0.12</td>\n",
       "      <td>1.13</td>\n",
       "      <td>0.06</td>\n",
       "      <td>0.01</td>\n",
       "      <td>0.23</td>\n",
       "      <td>1.01</td>\n",
       "      <td>1.26</td>\n",
       "      <td>2.13</td>\n",
       "      <td>0.03</td>\n",
       "      <td>4.92</td>\n",
       "    </tr>\n",
       "    <tr>\n",
       "      <th>partner</th>\n",
       "      <td>-0.03</td>\n",
       "      <td>0.97</td>\n",
       "      <td>0.06</td>\n",
       "      <td>-0.14</td>\n",
       "      <td>0.08</td>\n",
       "      <td>0.87</td>\n",
       "      <td>1.08</td>\n",
       "      <td>-0.53</td>\n",
       "      <td>0.60</td>\n",
       "      <td>0.74</td>\n",
       "    </tr>\n",
       "    <tr>\n",
       "      <th>dependents</th>\n",
       "      <td>-0.10</td>\n",
       "      <td>0.91</td>\n",
       "      <td>0.07</td>\n",
       "      <td>-0.23</td>\n",
       "      <td>0.04</td>\n",
       "      <td>0.79</td>\n",
       "      <td>1.04</td>\n",
       "      <td>-1.42</td>\n",
       "      <td>0.16</td>\n",
       "      <td>2.68</td>\n",
       "    </tr>\n",
       "    <tr>\n",
       "      <th>multiplelines</th>\n",
       "      <td>0.01</td>\n",
       "      <td>1.01</td>\n",
       "      <td>0.06</td>\n",
       "      <td>-0.11</td>\n",
       "      <td>0.12</td>\n",
       "      <td>0.90</td>\n",
       "      <td>1.12</td>\n",
       "      <td>0.10</td>\n",
       "      <td>0.92</td>\n",
       "      <td>0.12</td>\n",
       "    </tr>\n",
       "    <tr>\n",
       "      <th>type_One year</th>\n",
       "      <td>-0.64</td>\n",
       "      <td>0.53</td>\n",
       "      <td>0.09</td>\n",
       "      <td>-0.82</td>\n",
       "      <td>-0.46</td>\n",
       "      <td>0.44</td>\n",
       "      <td>0.63</td>\n",
       "      <td>-7.05</td>\n",
       "      <td>&lt;0.005</td>\n",
       "      <td>39.01</td>\n",
       "    </tr>\n",
       "    <tr>\n",
       "      <th>type_Two year</th>\n",
       "      <td>-0.98</td>\n",
       "      <td>0.37</td>\n",
       "      <td>0.14</td>\n",
       "      <td>-1.26</td>\n",
       "      <td>-0.70</td>\n",
       "      <td>0.28</td>\n",
       "      <td>0.49</td>\n",
       "      <td>-6.90</td>\n",
       "      <td>&lt;0.005</td>\n",
       "      <td>37.48</td>\n",
       "    </tr>\n",
       "    <tr>\n",
       "      <th>paymentmethod_Credit card (automatic)</th>\n",
       "      <td>-0.07</td>\n",
       "      <td>0.93</td>\n",
       "      <td>0.09</td>\n",
       "      <td>-0.24</td>\n",
       "      <td>0.10</td>\n",
       "      <td>0.78</td>\n",
       "      <td>1.11</td>\n",
       "      <td>-0.79</td>\n",
       "      <td>0.43</td>\n",
       "      <td>1.22</td>\n",
       "    </tr>\n",
       "    <tr>\n",
       "      <th>paymentmethod_Electronic check</th>\n",
       "      <td>0.22</td>\n",
       "      <td>1.24</td>\n",
       "      <td>0.07</td>\n",
       "      <td>0.08</td>\n",
       "      <td>0.36</td>\n",
       "      <td>1.08</td>\n",
       "      <td>1.43</td>\n",
       "      <td>3.05</td>\n",
       "      <td>&lt;0.005</td>\n",
       "      <td>8.76</td>\n",
       "    </tr>\n",
       "    <tr>\n",
       "      <th>paymentmethod_Mailed check</th>\n",
       "      <td>-0.03</td>\n",
       "      <td>0.97</td>\n",
       "      <td>0.09</td>\n",
       "      <td>-0.21</td>\n",
       "      <td>0.14</td>\n",
       "      <td>0.81</td>\n",
       "      <td>1.15</td>\n",
       "      <td>-0.39</td>\n",
       "      <td>0.70</td>\n",
       "      <td>0.51</td>\n",
       "    </tr>\n",
       "  </tbody>\n",
       "</table><br><div>\n",
       "<style scoped>\n",
       "    .dataframe tbody tr th:only-of-type {\n",
       "        vertical-align: middle;\n",
       "    }\n",
       "\n",
       "    .dataframe tbody tr th {\n",
       "        vertical-align: top;\n",
       "    }\n",
       "\n",
       "    .dataframe thead th {\n",
       "        text-align: right;\n",
       "    }\n",
       "</style>\n",
       "<table border=\"1\" class=\"dataframe\">\n",
       "  <tbody>\n",
       "    <tr>\n",
       "      <th>Concordance</th>\n",
       "      <td>0.99</td>\n",
       "    </tr>\n",
       "    <tr>\n",
       "      <th>Partial AIC</th>\n",
       "      <td>21054.32</td>\n",
       "    </tr>\n",
       "    <tr>\n",
       "      <th>log-likelihood ratio test</th>\n",
       "      <td>10182.35 on 21 df</td>\n",
       "    </tr>\n",
       "    <tr>\n",
       "      <th>-log2(p) of ll-ratio test</th>\n",
       "      <td>inf</td>\n",
       "    </tr>\n",
       "  </tbody>\n",
       "</table>\n",
       "</div>"
      ],
      "text/latex": [
       "\\begin{tabular}{lrrrrrrrrrr}\n",
       "\\toprule\n",
       "{} &  coef &  exp(coef) &  se(coef) &  coef lower 95\\% &  coef upper 95\\% &  exp(coef) lower 95\\% &  exp(coef) upper 95\\% &      z &    p &  -log2(p) \\\\\n",
       "covariate                             &       &            &           &                 &                 &                      &                      &        &      &           \\\\\n",
       "\\midrule\n",
       "paperlessbilling                      &  0.25 &       1.28 &      0.06 &            0.13 &            0.36 &                 1.14 &                 1.43 &   4.33 & 0.00 &     16.02 \\\\\n",
       "monthlycharges                        &  0.01 &       1.01 &      0.00 &            0.01 &            0.01 &                 1.01 &                 1.01 &   4.50 & 0.00 &     17.17 \\\\\n",
       "totalcharges                          &  0.00 &       1.00 &      0.00 &            0.00 &            0.00 &                 1.00 &                 1.00 &   6.39 & 0.00 &     32.52 \\\\\n",
       "count\\_days                            & -0.01 &       0.99 &      0.00 &           -0.01 &           -0.01 &                 0.99 &                 0.99 & -37.16 & 0.00 &   1001.48 \\\\\n",
       "internetservice                       &  0.14 &       1.16 &      0.07 &            0.00 &            0.29 &                 1.00 &                 1.33 &   1.99 & 0.05 &      4.42 \\\\\n",
       "onlinesecurity                        & -0.38 &       0.69 &      0.07 &           -0.51 &           -0.24 &                 0.60 &                 0.79 &  -5.42 & 0.00 &     23.99 \\\\\n",
       "onlinebackup                          & -0.18 &       0.84 &      0.06 &           -0.29 &           -0.06 &                 0.75 &                 0.94 &  -3.07 & 0.00 &      8.86 \\\\\n",
       "deviceprotection                      & -0.09 &       0.91 &      0.06 &           -0.21 &            0.02 &                 0.81 &                 1.02 &  -1.58 & 0.12 &      3.12 \\\\\n",
       "techsupport                           & -0.36 &       0.70 &      0.07 &           -0.50 &           -0.22 &                 0.61 &                 0.80 &  -5.15 & 0.00 &     21.90 \\\\\n",
       "streamingtv                           & -0.04 &       0.96 &      0.06 &           -0.16 &            0.08 &                 0.86 &                 1.09 &  -0.61 & 0.54 &      0.89 \\\\\n",
       "streamingmovies                       & -0.00 &       1.00 &      0.06 &           -0.12 &            0.12 &                 0.89 &                 1.12 &  -0.05 & 0.96 &      0.06 \\\\\n",
       "gender\\_m                              &  0.01 &       1.01 &      0.05 &           -0.09 &            0.10 &                 0.92 &                 1.10 &   0.13 & 0.90 &      0.16 \\\\\n",
       "seniorcitizen                         &  0.12 &       1.13 &      0.06 &            0.01 &            0.23 &                 1.01 &                 1.26 &   2.13 & 0.03 &      4.92 \\\\\n",
       "partner                               & -0.03 &       0.97 &      0.06 &           -0.14 &            0.08 &                 0.87 &                 1.08 &  -0.53 & 0.60 &      0.74 \\\\\n",
       "dependents                            & -0.10 &       0.91 &      0.07 &           -0.23 &            0.04 &                 0.79 &                 1.04 &  -1.42 & 0.16 &      2.68 \\\\\n",
       "multiplelines                         &  0.01 &       1.01 &      0.06 &           -0.11 &            0.12 &                 0.90 &                 1.12 &   0.10 & 0.92 &      0.12 \\\\\n",
       "type\\_One year                         & -0.64 &       0.53 &      0.09 &           -0.82 &           -0.46 &                 0.44 &                 0.63 &  -7.05 & 0.00 &     39.01 \\\\\n",
       "type\\_Two year                         & -0.98 &       0.37 &      0.14 &           -1.26 &           -0.70 &                 0.28 &                 0.49 &  -6.90 & 0.00 &     37.48 \\\\\n",
       "paymentmethod\\_Credit card (automatic) & -0.07 &       0.93 &      0.09 &           -0.24 &            0.10 &                 0.78 &                 1.11 &  -0.79 & 0.43 &      1.22 \\\\\n",
       "paymentmethod\\_Electronic check        &  0.22 &       1.24 &      0.07 &            0.08 &            0.36 &                 1.08 &                 1.43 &   3.05 & 0.00 &      8.76 \\\\\n",
       "paymentmethod\\_Mailed check            & -0.03 &       0.97 &      0.09 &           -0.21 &            0.14 &                 0.81 &                 1.15 &  -0.39 & 0.70 &      0.51 \\\\\n",
       "\\bottomrule\n",
       "\\end{tabular}\n"
      ],
      "text/plain": [
       "<lifelines.CoxPHFitter: fitted with 6791 total observations, 4930 right-censored observations>\n",
       "             duration col = 'count_months'\n",
       "                event col = 'end'\n",
       "      baseline estimation = breslow\n",
       "   number of observations = 6791\n",
       "number of events observed = 1861\n",
       "   partial log-likelihood = -10506.16\n",
       "         time fit was run = 2022-02-06 12:43:47 UTC\n",
       "\n",
       "---\n",
       "                                        coef  exp(coef)   se(coef)   coef lower 95%   coef upper 95%  exp(coef) lower 95%  exp(coef) upper 95%\n",
       "covariate                                                                                                                                     \n",
       "paperlessbilling                        0.25       1.28       0.06             0.13             0.36                 1.14                 1.43\n",
       "monthlycharges                          0.01       1.01       0.00             0.01             0.01                 1.01                 1.01\n",
       "totalcharges                            0.00       1.00       0.00             0.00             0.00                 1.00                 1.00\n",
       "count_days                             -0.01       0.99       0.00            -0.01            -0.01                 0.99                 0.99\n",
       "internetservice                         0.14       1.16       0.07             0.00             0.29                 1.00                 1.33\n",
       "onlinesecurity                         -0.38       0.69       0.07            -0.51            -0.24                 0.60                 0.79\n",
       "onlinebackup                           -0.18       0.84       0.06            -0.29            -0.06                 0.75                 0.94\n",
       "deviceprotection                       -0.09       0.91       0.06            -0.21             0.02                 0.81                 1.02\n",
       "techsupport                            -0.36       0.70       0.07            -0.50            -0.22                 0.61                 0.80\n",
       "streamingtv                            -0.04       0.96       0.06            -0.16             0.08                 0.86                 1.09\n",
       "streamingmovies                        -0.00       1.00       0.06            -0.12             0.12                 0.89                 1.12\n",
       "gender_m                                0.01       1.01       0.05            -0.09             0.10                 0.92                 1.10\n",
       "seniorcitizen                           0.12       1.13       0.06             0.01             0.23                 1.01                 1.26\n",
       "partner                                -0.03       0.97       0.06            -0.14             0.08                 0.87                 1.08\n",
       "dependents                             -0.10       0.91       0.07            -0.23             0.04                 0.79                 1.04\n",
       "multiplelines                           0.01       1.01       0.06            -0.11             0.12                 0.90                 1.12\n",
       "type_One year                          -0.64       0.53       0.09            -0.82            -0.46                 0.44                 0.63\n",
       "type_Two year                          -0.98       0.37       0.14            -1.26            -0.70                 0.28                 0.49\n",
       "paymentmethod_Credit card (automatic)  -0.07       0.93       0.09            -0.24             0.10                 0.78                 1.11\n",
       "paymentmethod_Electronic check          0.22       1.24       0.07             0.08             0.36                 1.08                 1.43\n",
       "paymentmethod_Mailed check             -0.03       0.97       0.09            -0.21             0.14                 0.81                 1.15\n",
       "\n",
       "                                           z      p   -log2(p)\n",
       "covariate                                                     \n",
       "paperlessbilling                        4.33 <0.005      16.02\n",
       "monthlycharges                          4.50 <0.005      17.17\n",
       "totalcharges                            6.39 <0.005      32.52\n",
       "count_days                            -37.16 <0.005    1001.48\n",
       "internetservice                         1.99   0.05       4.42\n",
       "onlinesecurity                         -5.42 <0.005      23.99\n",
       "onlinebackup                           -3.07 <0.005       8.86\n",
       "deviceprotection                       -1.58   0.12       3.12\n",
       "techsupport                            -5.15 <0.005      21.90\n",
       "streamingtv                            -0.61   0.54       0.89\n",
       "streamingmovies                        -0.05   0.96       0.06\n",
       "gender_m                                0.13   0.90       0.16\n",
       "seniorcitizen                           2.13   0.03       4.92\n",
       "partner                                -0.53   0.60       0.74\n",
       "dependents                             -1.42   0.16       2.68\n",
       "multiplelines                           0.10   0.92       0.12\n",
       "type_One year                          -7.05 <0.005      39.01\n",
       "type_Two year                          -6.90 <0.005      37.48\n",
       "paymentmethod_Credit card (automatic)  -0.79   0.43       1.22\n",
       "paymentmethod_Electronic check          3.05 <0.005       8.76\n",
       "paymentmethod_Mailed check             -0.39   0.70       0.51\n",
       "---\n",
       "Concordance = 0.99\n",
       "Partial AIC = 21054.32\n",
       "log-likelihood ratio test = 10182.35 on 21 df\n",
       "-log2(p) of ll-ratio test = inf"
      ]
     },
     "metadata": {},
     "output_type": "display_data"
    }
   ],
   "source": [
    "cph = CoxPHFitter()\n",
    "\n",
    "cph.fit(df2, 'count_months', event_col ='end')\n",
    "cph.print_summary()"
   ]
  },
  {
   "cell_type": "code",
   "execution_count": 92,
   "metadata": {},
   "outputs": [
    {
     "data": {
      "image/png": "[encoded data removed]",
      "text/plain": [
       "<Figure size 1080x720 with 1 Axes>"
      ]
     },
     "metadata": {
      "needs_background": "light"
     },
     "output_type": "display_data"
    }
   ],
   "source": [
    "plt.figure(figsize=(15, 10))\n",
    "plt.grid(True)\n",
    "cph.plot();"
   ]
  },
  {
   "cell_type": "code",
   "execution_count": 93,
   "metadata": {},
   "outputs": [
    {
     "data": {
      "text/plain": [
       "<AxesSubplot:>"
      ]
     },
     "execution_count": 93,
     "metadata": {},
     "output_type": "execute_result"
    },
    {
     "data": {
      "image/png": "[encoded data removed]",
      "text/plain": [
       "<Figure size 1440x1080 with 2 Axes>"
      ]
     },
     "metadata": {
      "needs_background": "light"
     },
     "output_type": "display_data"
    }
   ],
   "source": [
    "plt.figure(figsize=(20, 15))\n",
    "sns.heatmap(df2.corr(), annot=True, cmap=\"Blues\", fmt='.2f')"
   ]
  },
  {
   "cell_type": "code",
   "execution_count": 94,
   "metadata": {},
   "outputs": [
    {
     "data": {
      "text/plain": [
       "(6791, 23)"
      ]
     },
     "execution_count": 94,
     "metadata": {},
     "output_type": "execute_result"
    }
   ],
   "source": [
    "df2.shape"
   ]
  },
  {
   "cell_type": "markdown",
   "metadata": {},
   "source": [
    "Избавлюсь от мультиколлинеарности"
   ]
  },
  {
   "cell_type": "code",
   "execution_count": 95,
   "metadata": {},
   "outputs": [],
   "source": [
    "df2 = df2.drop(['monthlycharges', 'count_months'], axis = 1)\n"
   ]
  },
  {
   "cell_type": "code",
   "execution_count": 96,
   "metadata": {},
   "outputs": [
    {
     "data": {
      "text/plain": [
       "(6791, 21)"
      ]
     },
     "execution_count": 96,
     "metadata": {},
     "output_type": "execute_result"
    }
   ],
   "source": [
    "df2.shape"
   ]
  },
  {
   "cell_type": "markdown",
   "metadata": {},
   "source": [
    "# Дисбаланс классов"
   ]
  },
  {
   "cell_type": "code",
   "execution_count": 98,
   "metadata": {},
   "outputs": [
    {
     "data": {
      "text/plain": [
       "0    0.725961\n",
       "1    0.274039\n",
       "Name: end, dtype: float64"
      ]
     },
     "execution_count": 98,
     "metadata": {},
     "output_type": "execute_result"
    }
   ],
   "source": [
    "df2.end.value_counts(normalize=True)"
   ]
  },
  {
   "cell_type": "markdown",
   "metadata": {},
   "source": [
    "Надо домножить на 2.64, но нужно целое число, поэтому домножу на 3"
   ]
  },
  {
   "cell_type": "code",
   "execution_count": 99,
   "metadata": {},
   "outputs": [
    {
     "name": "stdout",
     "output_type": "stream",
     "text": [
      "(6791, 20)\n",
      "(6791,)\n"
     ]
    }
   ],
   "source": [
    "features = df2.drop('end', axis=1)\n",
    "target = df2['end']\n",
    "\n",
    "print(features.shape)\n",
    "print(target.shape)"
   ]
  },
  {
   "cell_type": "code",
   "execution_count": 100,
   "metadata": {},
   "outputs": [],
   "source": [
    "features_train, features_test, target_train, target_test = train_test_split(\n",
    "    features, target, test_size=0.2, random_state=12345)"
   ]
  },
  {
   "cell_type": "code",
   "execution_count": 101,
   "metadata": {},
   "outputs": [
    {
     "name": "stdout",
     "output_type": "stream",
     "text": [
      "(5432, 20) (1359, 20) (5432,) (1359,)\n"
     ]
    }
   ],
   "source": [
    "print(features_train.shape, features_test.shape, target_train.shape, target_test.shape)"
   ]
  },
  {
   "cell_type": "code",
   "execution_count": 102,
   "metadata": {},
   "outputs": [],
   "source": [
    "lgbm_train_new = features_train.copy()\n",
    "lgbm_test_new = features_test.copy()\n",
    "\n",
    "lgbm_target_train_new = target_train.copy()\n",
    "lgbm_target_test_new = target_test.copy()"
   ]
  },
  {
   "cell_type": "code",
   "execution_count": 103,
   "metadata": {},
   "outputs": [],
   "source": [
    "features_zeros = features_train[target_train == 0]\n",
    "features_ones = features_train[target_train == 1]\n",
    "\n",
    "target_zeros = target_train[target_train == 0]\n",
    "target_ones = target_train[target_train == 1]\n",
    "\n",
    "repeat = 3\n",
    "features_upsampled = pd.concat([features_zeros] + [features_ones] * repeat)\n",
    "target_upsampled = pd.concat([target_zeros] + [target_ones] * repeat)\n",
    "\n",
    "features_train, target_train = shuffle(features_upsampled, target_upsampled, random_state=12345)"
   ]
  },
  {
   "cell_type": "code",
   "execution_count": 104,
   "metadata": {},
   "outputs": [
    {
     "data": {
      "text/plain": [
       "<AxesSubplot:>"
      ]
     },
     "execution_count": 104,
     "metadata": {},
     "output_type": "execute_result"
    },
    {
     "data": {
      "image/png": "[encoded data removed]",
      "text/plain": [
       "<Figure size 432x288 with 1 Axes>"
      ]
     },
     "metadata": {
      "needs_background": "light"
     },
     "output_type": "display_data"
    }
   ],
   "source": [
    "target_train.value_counts(normalize=True).plot.bar()"
   ]
  },
  {
   "cell_type": "markdown",
   "metadata": {},
   "source": [
    "Теперь дисбаланс минимальный"
   ]
  },
  {
   "cell_type": "markdown",
   "metadata": {},
   "source": [
    "# Подбор параметров для моделей"
   ]
  },
  {
   "cell_type": "code",
   "execution_count": 105,
   "metadata": {},
   "outputs": [
    {
     "data": {
      "image/png": "[encoded data removed]",
      "text/plain": [
       "<Figure size 1152x1008 with 1 Axes>"
      ]
     },
     "metadata": {
      "needs_background": "light"
     },
     "output_type": "display_data"
    }
   ],
   "source": [
    "model_forest = RandomForestClassifier()\n",
    "model_forest.fit(features_train, target_train)\n",
    "\n",
    "imp = pd.Series(model_forest.feature_importances_, features_train.columns)\n",
    "\n",
    "fig, ax = plt.subplots(figsize=(16,14))\n",
    "imp.plot.bar(ax=ax)\n",
    "ax.set_title(\"Важность признаков\")\n",
    "ax.set_ylabel('Важность')\n",
    "fig.tight_layout()"
   ]
  },
  {
   "cell_type": "markdown",
   "metadata": {},
   "source": [
    "Я попробовал убрать слабые признаки, но метрики либо остались такими же, либо при еще одном изменении признаков метрики падали"
   ]
  },
  {
   "cell_type": "code",
   "execution_count": 106,
   "metadata": {},
   "outputs": [
    {
     "data": {
      "text/plain": [
       "(8448, 20)"
      ]
     },
     "execution_count": 106,
     "metadata": {},
     "output_type": "execute_result"
    }
   ],
   "source": [
    "features_train.shape"
   ]
  },
  {
   "cell_type": "code",
   "execution_count": 107,
   "metadata": {},
   "outputs": [
    {
     "data": {
      "text/plain": [
       "Index(['paperlessbilling', 'totalcharges', 'count_days', 'internetservice',\n",
       "       'onlinesecurity', 'onlinebackup', 'deviceprotection', 'techsupport',\n",
       "       'streamingtv', 'streamingmovies', 'gender_m', 'seniorcitizen',\n",
       "       'partner', 'dependents', 'multiplelines', 'type_One year',\n",
       "       'type_Two year', 'paymentmethod_Credit card (automatic)',\n",
       "       'paymentmethod_Electronic check', 'paymentmethod_Mailed check'],\n",
       "      dtype='object')"
      ]
     },
     "execution_count": 107,
     "metadata": {},
     "output_type": "execute_result"
    }
   ],
   "source": [
    "features_train.columns"
   ]
  },
  {
   "cell_type": "raw",
   "metadata": {},
   "source": [
    "forest_train = features_train[['monthlycharges', 'count_months',\n",
    "                              'internetservice', 'onlinesecurity', 'techsupport',\n",
    "                              'gender_m', 'partner', 'type_One year', 'type_Two year',\n",
    "                              'paymentmethod_Electronic check', 'paymentmethod_Mailed check',\n",
    "                              'paymentmethod_Credit card (automatic)']]\n",
    "\n",
    "forest_test = features_test[['monthlycharges', 'count_months',\n",
    "                              'internetservice', 'onlinesecurity', 'techsupport',\n",
    "                              'gender_m', 'partner', 'type_One year', 'type_Two year',\n",
    "                              'paymentmethod_Electronic check', 'paymentmethod_Mailed check',\n",
    "                              'paymentmethod_Credit card (automatic)']]\n",
    "\n",
    "print(forest_train.shape, forest_test.shape)"
   ]
  },
  {
   "cell_type": "markdown",
   "metadata": {},
   "source": [
    "# RandomForestClassifier"
   ]
  },
  {
   "cell_type": "code",
   "execution_count": 108,
   "metadata": {},
   "outputs": [
    {
     "name": "stdout",
     "output_type": "stream",
     "text": [
      "Лучшие параметры {'max_depth': 16, 'n_estimators': 800}\n",
      "ROC-AUC на тренировочной выборке: 0.9842772849673471\n"
     ]
    }
   ],
   "source": [
    "model_rf = RandomForestClassifier(random_state=12345)\n",
    "\n",
    "params_rf = {'max_depth' : [6, 10, 14, 16],\n",
    "               'n_estimators' : [120, 200, 500, 800]}\n",
    "grid_rf = GridSearchCV(model_rf, params_rf, scoring='roc_auc', cv = 5)\n",
    "grid_rf.fit(features_train, target_train)\n",
    "\n",
    "print('Лучшие параметры', grid_rf.best_params_)\n",
    "print('ROC-AUC на тренировочной выборке:', grid_rf.best_score_)"
   ]
  },
  {
   "cell_type": "code",
   "execution_count": 109,
   "metadata": {},
   "outputs": [
    {
     "name": "stdout",
     "output_type": "stream",
     "text": [
      "ROC-AUC случайного леса на тестовой выборке: 0.8807438654193818\n",
      "Accuracy на тестовой выборке: 0.8278145695364238\n",
      "Точность (Precision): 0.6586666666666666\n",
      "Полнота (Recall): 0.6997167138810199\n",
      "F1: 0.6785714285714285\n"
     ]
    }
   ],
   "source": [
    "model = RandomForestClassifier(random_state=12345, max_depth=16, n_estimators=800)\n",
    "\n",
    "model.fit(features_train, target_train)\n",
    "predict_proba = model.predict_proba(features_test)\n",
    "pred = model.predict(features_test)\n",
    "\n",
    "print('ROC-AUC случайного леса на тестовой выборке:', roc_auc_score(target_test, predict_proba[:, 1]))\n",
    "print('Accuracy на тестовой выборке:', accuracy_score(target_test, pred))\n",
    "print('Точность (Precision):', precision_score(target_test, pred))\n",
    "print('Полнота (Recall):', recall_score(target_test, pred))\n",
    "print('F1:', f1_score(target_test, pred))"
   ]
  },
  {
   "cell_type": "code",
   "execution_count": 110,
   "metadata": {},
   "outputs": [],
   "source": [
    "def plot_roc_curve(fpr, tpr):\n",
    "    plt.figure(figsize=(15, 10))\n",
    "    plt.plot(fpr, tpr, color='orange', label='ROC')\n",
    "    plt.plot([0, 1], [0, 1], color='darkblue', linestyle='--')\n",
    "    plt.xlabel('False Positive Rate')\n",
    "    plt.ylabel('True Positive Rate')\n",
    "    plt.title('Receiver Operating Characteristic (ROC) Curve')\n",
    "    plt.legend()\n",
    "    plt.show()"
   ]
  },
  {
   "cell_type": "code",
   "execution_count": 111,
   "metadata": {},
   "outputs": [
    {
     "data": {
      "image/png": "[encoded data removed]",
      "text/plain": [
       "<Figure size 1080x720 with 1 Axes>"
      ]
     },
     "metadata": {
      "needs_background": "light"
     },
     "output_type": "display_data"
    }
   ],
   "source": [
    "fpr, tpr, thresholds = roc_curve(target_test, predict_proba[:, 1])\n",
    "plot_roc_curve(fpr, tpr)"
   ]
  },
  {
   "cell_type": "markdown",
   "metadata": {},
   "source": [
    "\n",
    "# CatBoostClassifier"
   ]
  },
  {
   "cell_type": "raw",
   "metadata": {},
   "source": [
    "model_c = CatBoostClassifier()\n",
    "model_c.fit(features_train, target_train, verbose=False)\n",
    "\n",
    "imp = pd.Series(model_c.feature_importances_, features_train.columns)\n",
    "\n",
    "fig, ax = plt.subplots(figsize=(16,14))\n",
    "imp.plot.bar(ax=ax)\n",
    "ax.set_title(\"Важность признаков\")\n",
    "ax.set_ylabel('Важность')\n",
    "fig.tight_layout()"
   ]
  },
  {
   "cell_type": "raw",
   "metadata": {},
   "source": [
    "cat_train = features_train[['monthlycharges', 'count_months',\n",
    "                            'internetservice', 'onlinesecurity', 'techsupport',\n",
    "                            'gender_m', 'partner', 'type_One year', 'type_Two year',\n",
    "                            'paymentmethod_Electronic check', 'paymentmethod_Mailed check',\n",
    "                            'paymentmethod_Credit card (automatic)']]\n",
    "\n",
    "cat_test = features_test[['monthlycharges', 'count_months',\n",
    "                          'internetservice', 'onlinesecurity', 'techsupport',\n",
    "                          'gender_m', 'partner', 'type_One year', 'type_Two year',\n",
    "                          'paymentmethod_Electronic check', 'paymentmethod_Mailed check',\n",
    "                          'paymentmethod_Credit card (automatic)']]\n",
    "\n",
    "print(cat_train.shape, cat_test.shape)"
   ]
  },
  {
   "cell_type": "raw",
   "metadata": {
    "scrolled": false
   },
   "source": [
    "%%time\n",
    "\n",
    "model_cat = CatBoostClassifier(random_state=12345)\n",
    "params_cat = {'iterations' : [500, 800], 'depth' : [10, 12], 'learning_rate' : [0.15, 0.2], 'verbose' : [False]}\n",
    "grid_cat = GridSearchCV(model_cat, params_cat, scoring='roc_auc', cv = 5)\n",
    "grid_cat.fit(features_train, target_train)\n",
    "\n",
    "\n",
    "print('Лучшие параметры', grid_cat.best_params_)\n",
    "print('ROC-AUC на тренировочной выборке:', grid_cat.best_score_)"
   ]
  },
  {
   "cell_type": "raw",
   "metadata": {},
   "source": [
    "model = CatBoostClassifier(random_state=12345, depth=12, iterations=800, learning_rate=0.2, verbose=False)\n",
    "\n",
    "model.fit(features_train, target_train, plot=True)\n",
    "predict_cat = model.predict_proba(features_test)\n",
    "pred_cat = model.predict(features_test)\n",
    "\n",
    "print('ROC-AUC CatBoost на тестовой выборке:', roc_auc_score(target_test, predict_cat[:, 1]))\n",
    "print('Accuracy на тестовой выборке:', accuracy_score(target_test, pred_cat))\n",
    "print('Точность (Precision):', precision_score(target_test, pred_cat))\n",
    "print('Полнота (Recall):', recall_score(target_test, pred_cat))\n",
    "print('F1:', f1_score(target_test, pred_cat))"
   ]
  },
  {
   "cell_type": "raw",
   "metadata": {},
   "source": [
    "fpr_cat, tpr_cat, thresholds_cat = roc_curve(target_test, predict_cat[:, 1])\n",
    "plot_roc_curve(fpr_cat, tpr_cat)"
   ]
  },
  {
   "cell_type": "markdown",
   "metadata": {},
   "source": [
    "# LGBMClassifier"
   ]
  },
  {
   "cell_type": "code",
   "execution_count": 112,
   "metadata": {},
   "outputs": [
    {
     "data": {
      "image/png": "[encoded data removed]",
      "text/plain": [
       "<Figure size 1152x1008 with 1 Axes>"
      ]
     },
     "metadata": {
      "needs_background": "light"
     },
     "output_type": "display_data"
    }
   ],
   "source": [
    "model_lgbm = LGBMClassifier(random_state=12345, objective=\"binary\")\n",
    "model_lgbm.fit(features_train, target_train)\n",
    "\n",
    "imp = pd.Series(model_lgbm.feature_importances_, features_train.columns)\n",
    "\n",
    "fig, ax = plt.subplots(figsize=(16,14))\n",
    "imp.plot.bar(ax=ax)\n",
    "ax.set_title(\"Важность признаков\")\n",
    "ax.set_ylabel('Важность')\n",
    "fig.tight_layout()"
   ]
  },
  {
   "cell_type": "code",
   "execution_count": 113,
   "metadata": {},
   "outputs": [],
   "source": [
    "lgbm_train = features_train.copy()\n",
    "lgbm_test = features_test.copy()"
   ]
  },
  {
   "cell_type": "code",
   "execution_count": 114,
   "metadata": {},
   "outputs": [
    {
     "name": "stdout",
     "output_type": "stream",
     "text": [
      "Лучшие параметры {'learning_rate': 0.2, 'max_depth': 10, 'n_estimators': 600}\n",
      "ROC-AUC на тренировочной выборке: 0.9929406573026578\n",
      "Wall time: 4min 7s\n"
     ]
    }
   ],
   "source": [
    "%%time\n",
    "\n",
    "lgbm = LGBMClassifier(random_state=12345, objective=\"binary\", is_unbalance=True)\n",
    "\n",
    "params = {'n_estimators' : [450, 600, 800, 1000], 'max_depth' : [6, 10, 12, 14], 'learning_rate' : [0.1, 0.15, 0.2]}\n",
    "grid_lgbm = GridSearchCV(lgbm, params, scoring='roc_auc', cv = 5)\n",
    "grid_lgbm.fit(lgbm_train, target_train)\n",
    "\n",
    "print('Лучшие параметры', grid_lgbm.best_params_)\n",
    "print('ROC-AUC на тренировочной выборке:', grid_lgbm.best_score_)"
   ]
  },
  {
   "cell_type": "code",
   "execution_count": 123,
   "metadata": {},
   "outputs": [
    {
     "name": "stdout",
     "output_type": "stream",
     "text": [
      "ROC-AUC LGBM на тестовой выборке: 0.9293896676597638\n",
      "Accuracy на тестовой выборке: 0.8910963944076526\n",
      "Точность (Precision): 0.8233438485804416\n",
      "Полнота (Recall): 0.7393767705382436\n",
      "F1: 0.7791044776119401\n"
     ]
    }
   ],
   "source": [
    "lgbm = LGBMClassifier(random_state=12345, n_estimators=600, max_depth=10,\n",
    "                      learning_rate=0.2, objective=\"binary\", is_unbalance=True)\n",
    "\n",
    "lgbm.fit(lgbm_train, target_train)\n",
    "predict_proba_lgbm = lgbm.predict_proba(lgbm_test)\n",
    "pred_lgbm = lgbm.predict(lgbm_test)\n",
    "\n",
    "print('ROC-AUC LGBM на тестовой выборке:', roc_auc_score(target_test, predict_proba_lgbm[:, 1]))\n",
    "print('Accuracy на тестовой выборке:', accuracy_score(target_test, pred_lgbm))\n",
    "print('Точность (Precision):', precision_score(target_test, pred_lgbm))\n",
    "print('Полнота (Recall):', recall_score(target_test, pred_lgbm))\n",
    "print('F1:', f1_score(target_test, pred_lgbm))"
   ]
  },
  {
   "cell_type": "code",
   "execution_count": 124,
   "metadata": {},
   "outputs": [
    {
     "data": {
      "image/png": "[encoded data removed]",
      "text/plain": [
       "<Figure size 1080x720 with 1 Axes>"
      ]
     },
     "metadata": {},
     "output_type": "display_data"
    }
   ],
   "source": [
    "fpr_lgbm, tpr_lgbm, thresholds_lgbm = roc_curve(target_test, predict_proba_lgbm[:, 1])\n",
    "plot_roc_curve(fpr_lgbm, tpr_lgbm)"
   ]
  },
  {
   "cell_type": "code",
   "execution_count": 125,
   "metadata": {},
   "outputs": [
    {
     "data": {
      "text/plain": [
       "<AxesSubplot:>"
      ]
     },
     "execution_count": 125,
     "metadata": {},
     "output_type": "execute_result"
    },
    {
     "data": {
      "image/png": "[encoded data removed]",
      "text/plain": [
       "<Figure size 1152x504 with 2 Axes>"
      ]
     },
     "metadata": {},
     "output_type": "display_data"
    }
   ],
   "source": [
    "matrix = confusion_matrix(target_test, pred_lgbm)\n",
    "matrix = matrix.astype('float') / matrix.sum(axis = 1)[:, np.newaxis]\n",
    "\n",
    "plt.figure(figsize=(16, 7))\n",
    "sns.set(font_scale=1.4)\n",
    "sns.heatmap(matrix, annot=True, annot_kws={'size':10}, cmap=plt.cm.Reds, linewidths=0.2)"
   ]
  },
  {
   "cell_type": "markdown",
   "metadata": {},
   "source": [
    "Моделька вполне неплохо предсказывает - 0 (клиентов которые не ушли), верно предсказывает 94%  \n",
    "1 (клиентов которые ушли) предсказывает похуже 74%"
   ]
  },
  {
   "cell_type": "code",
   "execution_count": 126,
   "metadata": {},
   "outputs": [],
   "source": [
    "final = pd.DataFrame({'model' : ['randon forest', 'LGBM'],\n",
    "                      'roc-auc' : [0.880, 0.929],\n",
    "                      'accuracy' : [0.827, 0.891],\n",
    "                      'precision' : [0.658, 0.823],\n",
    "                      'recall' : [0.699, 0.739],\n",
    "                      'f1' : [0.678, 0.779]})\n"
   ]
  },
  {
   "cell_type": "code",
   "execution_count": 129,
   "metadata": {},
   "outputs": [
    {
     "data": {
      "text/plain": [
       "<AxesSubplot:xlabel='model'>"
      ]
     },
     "execution_count": 129,
     "metadata": {},
     "output_type": "execute_result"
    },
    {
     "data": {
      "image/png": "[encoded data removed]",
      "text/plain": [
       "<Figure size 1152x576 with 1 Axes>"
      ]
     },
     "metadata": {},
     "output_type": "display_data"
    }
   ],
   "source": [
    "final.set_index('model').plot.bar(figsize=(16, 8))"
   ]
  },
  {
   "cell_type": "code",
   "execution_count": 130,
   "metadata": {},
   "outputs": [
    {
     "data": {
      "text/html": [
       "<div>\n",
       "<style scoped>\n",
       "    .dataframe tbody tr th:only-of-type {\n",
       "        vertical-align: middle;\n",
       "    }\n",
       "\n",
       "    .dataframe tbody tr th {\n",
       "        vertical-align: top;\n",
       "    }\n",
       "\n",
       "    .dataframe thead th {\n",
       "        text-align: right;\n",
       "    }\n",
       "</style>\n",
       "<table border=\"1\" class=\"dataframe\">\n",
       "  <thead>\n",
       "    <tr style=\"text-align: right;\">\n",
       "      <th></th>\n",
       "      <th>model</th>\n",
       "      <th>roc-auc</th>\n",
       "      <th>accuracy</th>\n",
       "      <th>precision</th>\n",
       "      <th>recall</th>\n",
       "      <th>f1</th>\n",
       "    </tr>\n",
       "  </thead>\n",
       "  <tbody>\n",
       "    <tr>\n",
       "      <th>0</th>\n",
       "      <td>randon forest</td>\n",
       "      <td>0.880</td>\n",
       "      <td>0.827</td>\n",
       "      <td>0.658</td>\n",
       "      <td>0.699</td>\n",
       "      <td>0.678</td>\n",
       "    </tr>\n",
       "    <tr>\n",
       "      <th>1</th>\n",
       "      <td>LGBM</td>\n",
       "      <td>0.929</td>\n",
       "      <td>0.891</td>\n",
       "      <td>0.823</td>\n",
       "      <td>0.739</td>\n",
       "      <td>0.779</td>\n",
       "    </tr>\n",
       "  </tbody>\n",
       "</table>\n",
       "</div>"
      ],
      "text/plain": [
       "           model  roc-auc  accuracy  precision  recall     f1\n",
       "0  randon forest    0.880     0.827      0.658   0.699  0.678\n",
       "1           LGBM    0.929     0.891      0.823   0.739  0.779"
      ]
     },
     "execution_count": 130,
     "metadata": {},
     "output_type": "execute_result"
    }
   ],
   "source": [
    "final"
   ]
  },
  {
   "cell_type": "markdown",
   "metadata": {},
   "source": [
    "# Вывод"
   ]
  },
  {
   "cell_type": "markdown",
   "metadata": {},
   "source": [
    "В ходе проекта было выполнено:  \n",
    "1. Подготовка данных  \n",
    "2. Исследование данных, поиск признаков влияющих на отток и удержание клиентов  \n",
    "3. Сделан анализ выживаемости клиентов. Из него видно, когда стоит делать специальные предложения, чтобы не потерять пользователя.  \n",
    "4. Протестированны две модели для прогноза оттока пользователей. RandomForest и LGBM. Обе модели достигли необходимого показателя метрики. LGBM оказался сильнее, быстро работает и показывает лучшую метрику roc-auc = 0.929"
   ]
  }
 ],
 "metadata": {
  "ExecuteTimeLog": [
   {
    "duration": 850,
    "start_time": "2022-02-04T13:58:49.601Z"
   },
   {
    "duration": 28229,
    "start_time": "2022-02-04T13:59:31.046Z"
   },
   {
    "duration": 528,
    "start_time": "2022-02-04T14:00:46.085Z"
   },
   {
    "duration": 98,
    "start_time": "2022-02-04T14:00:49.633Z"
   },
   {
    "duration": 18,
    "start_time": "2022-02-04T14:00:52.815Z"
   },
   {
    "duration": 8,
    "start_time": "2022-02-04T14:00:53.396Z"
   },
   {
    "duration": 3,
    "start_time": "2022-02-04T14:00:54.034Z"
   },
   {
    "duration": 10,
    "start_time": "2022-02-04T14:00:54.741Z"
   },
   {
    "duration": 7,
    "start_time": "2022-02-04T14:00:55.449Z"
   },
   {
    "duration": 8,
    "start_time": "2022-02-04T14:00:59.710Z"
   },
   {
    "duration": 17,
    "start_time": "2022-02-04T14:01:00.293Z"
   },
   {
    "duration": 327,
    "start_time": "2022-02-04T14:01:00.912Z"
   },
   {
    "duration": 323,
    "start_time": "2022-02-04T14:01:02.700Z"
   },
   {
    "duration": 312,
    "start_time": "2022-02-04T14:01:03.303Z"
   },
   {
    "duration": 8,
    "start_time": "2022-02-04T14:01:05.308Z"
   },
   {
    "duration": 7,
    "start_time": "2022-02-04T14:01:05.528Z"
   },
   {
    "duration": 3,
    "start_time": "2022-02-04T14:01:09.054Z"
   },
   {
    "duration": 15,
    "start_time": "2022-02-04T14:01:09.223Z"
   },
   {
    "duration": 3,
    "start_time": "2022-02-04T14:01:09.404Z"
   },
   {
    "duration": 7,
    "start_time": "2022-02-04T14:01:09.563Z"
   },
   {
    "duration": 4,
    "start_time": "2022-02-04T14:01:10.068Z"
   },
   {
    "duration": 6,
    "start_time": "2022-02-04T14:01:10.235Z"
   },
   {
    "duration": 344,
    "start_time": "2022-02-04T14:01:10.487Z"
   },
   {
    "duration": 2,
    "start_time": "2022-02-04T14:01:10.835Z"
   },
   {
    "duration": 7,
    "start_time": "2022-02-04T14:01:11.011Z"
   },
   {
    "duration": 6,
    "start_time": "2022-02-04T14:01:11.181Z"
   },
   {
    "duration": 12,
    "start_time": "2022-02-04T14:01:11.357Z"
   },
   {
    "duration": 5,
    "start_time": "2022-02-04T14:01:11.510Z"
   },
   {
    "duration": 11,
    "start_time": "2022-02-04T14:01:11.670Z"
   },
   {
    "duration": 7,
    "start_time": "2022-02-04T14:01:11.841Z"
   },
   {
    "duration": 10,
    "start_time": "2022-02-04T14:01:11.984Z"
   },
   {
    "duration": 6,
    "start_time": "2022-02-04T14:01:12.143Z"
   },
   {
    "duration": 13,
    "start_time": "2022-02-04T14:01:12.307Z"
   },
   {
    "duration": 15,
    "start_time": "2022-02-04T14:01:12.503Z"
   },
   {
    "duration": 5,
    "start_time": "2022-02-04T14:01:12.739Z"
   },
   {
    "duration": 19,
    "start_time": "2022-02-04T14:01:12.913Z"
   },
   {
    "duration": 3,
    "start_time": "2022-02-04T14:01:13.535Z"
   },
   {
    "duration": 10281,
    "start_time": "2022-02-04T18:39:05.593Z"
   },
   {
    "duration": 1752,
    "start_time": "2022-02-04T18:39:15.877Z"
   },
   {
    "duration": 111,
    "start_time": "2022-02-04T18:39:17.633Z"
   },
   {
    "duration": 30,
    "start_time": "2022-02-04T18:39:17.747Z"
   },
   {
    "duration": 11,
    "start_time": "2022-02-04T18:39:17.779Z"
   },
   {
    "duration": 4,
    "start_time": "2022-02-04T18:39:17.793Z"
   },
   {
    "duration": 40,
    "start_time": "2022-02-04T18:39:17.799Z"
   },
   {
    "duration": 9,
    "start_time": "2022-02-04T18:39:17.843Z"
   },
   {
    "duration": 11,
    "start_time": "2022-02-04T18:39:17.855Z"
   },
   {
    "duration": 84,
    "start_time": "2022-02-04T18:39:17.869Z"
   },
   {
    "duration": 570,
    "start_time": "2022-02-04T18:39:17.956Z"
   },
   {
    "duration": 547,
    "start_time": "2022-02-04T18:39:18.529Z"
   },
   {
    "duration": 532,
    "start_time": "2022-02-04T18:39:19.078Z"
   },
   {
    "duration": 17,
    "start_time": "2022-02-04T18:39:19.613Z"
   },
   {
    "duration": 21,
    "start_time": "2022-02-04T18:39:19.633Z"
   },
   {
    "duration": 6,
    "start_time": "2022-02-04T18:39:19.657Z"
   },
   {
    "duration": 22,
    "start_time": "2022-02-04T18:39:19.665Z"
   },
   {
    "duration": 39,
    "start_time": "2022-02-04T18:39:19.689Z"
   },
   {
    "duration": 21,
    "start_time": "2022-02-04T18:39:19.731Z"
   },
   {
    "duration": 9,
    "start_time": "2022-02-04T18:39:19.755Z"
   },
   {
    "duration": 116,
    "start_time": "2022-02-04T18:39:19.768Z"
   },
   {
    "duration": 643,
    "start_time": "2022-02-04T18:39:19.888Z"
   },
   {
    "duration": 3,
    "start_time": "2022-02-04T18:39:20.542Z"
   },
   {
    "duration": 14,
    "start_time": "2022-02-04T18:39:20.551Z"
   },
   {
    "duration": 15,
    "start_time": "2022-02-04T18:39:20.568Z"
   },
   {
    "duration": 56,
    "start_time": "2022-02-04T18:39:20.586Z"
   },
   {
    "duration": 9,
    "start_time": "2022-02-04T18:39:20.646Z"
   },
   {
    "duration": 30,
    "start_time": "2022-02-04T18:39:20.658Z"
   },
   {
    "duration": 37,
    "start_time": "2022-02-04T18:39:20.692Z"
   },
   {
    "duration": 33,
    "start_time": "2022-02-04T18:39:20.732Z"
   },
   {
    "duration": 11,
    "start_time": "2022-02-04T18:39:20.768Z"
   },
   {
    "duration": 48,
    "start_time": "2022-02-04T18:39:20.781Z"
   },
   {
    "duration": 40,
    "start_time": "2022-02-04T18:39:20.832Z"
   },
   {
    "duration": 9,
    "start_time": "2022-02-04T18:39:20.875Z"
   },
   {
    "duration": 61,
    "start_time": "2022-02-04T18:39:20.887Z"
   },
   {
    "duration": 7,
    "start_time": "2022-02-04T18:39:20.951Z"
   },
   {
    "duration": 706,
    "start_time": "2022-02-04T18:39:20.962Z"
   },
   {
    "duration": 436,
    "start_time": "2022-02-04T18:39:21.671Z"
   },
   {
    "duration": 15,
    "start_time": "2022-02-04T18:39:22.110Z"
   },
   {
    "duration": 24,
    "start_time": "2022-02-04T18:39:22.129Z"
   },
   {
    "duration": 9,
    "start_time": "2022-02-04T18:39:22.155Z"
   },
   {
    "duration": 17,
    "start_time": "2022-02-04T18:39:22.166Z"
   },
   {
    "duration": 40,
    "start_time": "2022-02-04T18:39:22.186Z"
   },
   {
    "duration": 15,
    "start_time": "2022-02-04T18:39:22.229Z"
   },
   {
    "duration": 4,
    "start_time": "2022-02-04T18:39:22.247Z"
   },
   {
    "duration": 27,
    "start_time": "2022-02-04T18:39:22.253Z"
   },
   {
    "duration": 50,
    "start_time": "2022-02-04T18:39:22.283Z"
   },
   {
    "duration": 12,
    "start_time": "2022-02-04T18:39:22.336Z"
   },
   {
    "duration": 9,
    "start_time": "2022-02-04T18:39:22.351Z"
   },
   {
    "duration": 14,
    "start_time": "2022-02-04T18:39:22.363Z"
   },
   {
    "duration": 51,
    "start_time": "2022-02-04T18:39:22.380Z"
   },
   {
    "duration": 28,
    "start_time": "2022-02-04T18:39:22.434Z"
   },
   {
    "duration": 4,
    "start_time": "2022-02-04T18:39:22.464Z"
   },
   {
    "duration": 9,
    "start_time": "2022-02-04T18:39:22.471Z"
   },
   {
    "duration": 43,
    "start_time": "2022-02-04T18:39:22.483Z"
   },
   {
    "duration": 20,
    "start_time": "2022-02-04T18:39:22.528Z"
   },
   {
    "duration": 9,
    "start_time": "2022-02-04T18:39:22.551Z"
   },
   {
    "duration": 18,
    "start_time": "2022-02-04T18:39:22.562Z"
   },
   {
    "duration": 12,
    "start_time": "2022-02-04T18:39:22.582Z"
   },
   {
    "duration": 13,
    "start_time": "2022-02-04T18:39:22.624Z"
   },
   {
    "duration": 19,
    "start_time": "2022-02-04T18:39:22.640Z"
   },
   {
    "duration": 7,
    "start_time": "2022-02-04T18:39:22.661Z"
   },
   {
    "duration": 5,
    "start_time": "2022-02-04T18:39:22.671Z"
   },
   {
    "duration": 47,
    "start_time": "2022-02-04T18:39:22.678Z"
   },
   {
    "duration": 28,
    "start_time": "2022-02-04T18:39:22.727Z"
   },
   {
    "duration": 8,
    "start_time": "2022-02-04T18:39:22.758Z"
   },
   {
    "duration": 17,
    "start_time": "2022-02-04T18:39:22.769Z"
   },
   {
    "duration": 47,
    "start_time": "2022-02-04T18:39:22.796Z"
   },
   {
    "duration": 17,
    "start_time": "2022-02-04T18:39:22.847Z"
   },
   {
    "duration": 16,
    "start_time": "2022-02-04T18:39:22.866Z"
   },
   {
    "duration": 46,
    "start_time": "2022-02-04T18:39:22.884Z"
   },
   {
    "duration": 17,
    "start_time": "2022-02-04T18:39:22.933Z"
   },
   {
    "duration": 12,
    "start_time": "2022-02-04T18:39:22.952Z"
   },
   {
    "duration": 9,
    "start_time": "2022-02-04T18:39:22.967Z"
   },
   {
    "duration": 9,
    "start_time": "2022-02-04T18:39:22.979Z"
   },
   {
    "duration": 52,
    "start_time": "2022-02-04T18:39:22.990Z"
   },
   {
    "duration": 10,
    "start_time": "2022-02-04T18:39:23.045Z"
   },
   {
    "duration": 15,
    "start_time": "2022-02-04T18:39:23.057Z"
   },
   {
    "duration": 14,
    "start_time": "2022-02-04T18:39:23.074Z"
   },
   {
    "duration": 17,
    "start_time": "2022-02-04T18:39:23.124Z"
   },
   {
    "duration": 9,
    "start_time": "2022-02-04T18:39:23.144Z"
   },
   {
    "duration": 20,
    "start_time": "2022-02-04T18:39:23.156Z"
   },
   {
    "duration": 6,
    "start_time": "2022-02-04T18:39:23.179Z"
   },
   {
    "duration": 8,
    "start_time": "2022-02-04T18:39:23.223Z"
   },
   {
    "duration": 62,
    "start_time": "2022-02-04T18:39:23.234Z"
   },
   {
    "duration": 26,
    "start_time": "2022-02-04T18:39:23.299Z"
   },
   {
    "duration": 8,
    "start_time": "2022-02-04T18:39:23.329Z"
   },
   {
    "duration": 16,
    "start_time": "2022-02-04T18:39:23.340Z"
   },
   {
    "duration": 69,
    "start_time": "2022-02-04T18:39:23.359Z"
   },
   {
    "duration": 2094,
    "start_time": "2022-02-04T18:39:23.431Z"
   },
   {
    "duration": 605,
    "start_time": "2022-02-04T18:39:25.528Z"
   },
   {
    "duration": 6,
    "start_time": "2022-02-04T18:39:26.137Z"
   },
   {
    "duration": 7,
    "start_time": "2022-02-04T18:39:26.145Z"
   },
   {
    "duration": 8,
    "start_time": "2022-02-04T18:39:26.154Z"
   },
   {
    "duration": 7,
    "start_time": "2022-02-04T18:39:26.165Z"
   },
   {
    "duration": 54,
    "start_time": "2022-02-04T18:39:26.174Z"
   },
   {
    "duration": 11,
    "start_time": "2022-02-04T18:39:26.231Z"
   },
   {
    "duration": 16,
    "start_time": "2022-02-04T18:39:26.244Z"
   },
   {
    "duration": 235,
    "start_time": "2022-02-04T18:39:26.262Z"
   },
   {
    "duration": 23,
    "start_time": "2022-02-04T18:39:26.500Z"
   },
   {
    "duration": 6,
    "start_time": "2022-02-04T18:39:26.526Z"
   },
   {
    "duration": 5621,
    "start_time": "2022-02-04T18:39:26.534Z"
   },
   {
    "duration": 485,
    "start_time": "2022-02-04T18:39:32.158Z"
   },
   {
    "duration": 6,
    "start_time": "2022-02-04T18:39:32.646Z"
   },
   {
    "duration": 545,
    "start_time": "2022-02-04T18:39:32.655Z"
   },
   {
    "duration": 231501,
    "start_time": "2022-02-04T18:39:33.202Z"
   },
   {
    "duration": 28096,
    "start_time": "2022-02-04T18:43:24.705Z"
   },
   {
    "duration": 497,
    "start_time": "2022-02-04T18:43:52.804Z"
   },
   {
    "duration": 5,
    "start_time": "2022-02-04T18:43:53.303Z"
   },
   {
    "duration": 389,
    "start_time": "2022-02-04T18:43:53.310Z"
   },
   {
    "duration": 10,
    "start_time": "2022-02-04T18:43:53.701Z"
   },
   {
    "duration": 11524,
    "start_time": "2022-02-05T11:18:50.612Z"
   },
   {
    "duration": 2264,
    "start_time": "2022-02-05T11:19:04.372Z"
   },
   {
    "duration": 116,
    "start_time": "2022-02-05T11:19:09.923Z"
   },
   {
    "duration": 28,
    "start_time": "2022-02-05T11:19:10.894Z"
   },
   {
    "duration": 11,
    "start_time": "2022-02-05T11:19:13.751Z"
   },
   {
    "duration": 4,
    "start_time": "2022-02-05T11:19:14.736Z"
   },
   {
    "duration": 17,
    "start_time": "2022-02-05T11:19:15.040Z"
   },
   {
    "duration": 10,
    "start_time": "2022-02-05T11:19:17.808Z"
   },
   {
    "duration": 16,
    "start_time": "2022-02-05T11:19:18.059Z"
   },
   {
    "duration": 34,
    "start_time": "2022-02-05T11:19:18.233Z"
   },
   {
    "duration": 552,
    "start_time": "2022-02-05T11:19:27.779Z"
   },
   {
    "duration": 690,
    "start_time": "2022-02-05T11:19:28.778Z"
   },
   {
    "duration": 549,
    "start_time": "2022-02-05T11:19:33.861Z"
   },
   {
    "duration": 14,
    "start_time": "2022-02-05T11:19:37.388Z"
   },
   {
    "duration": 12,
    "start_time": "2022-02-05T11:19:38.407Z"
   },
   {
    "duration": 3,
    "start_time": "2022-02-05T11:19:51.559Z"
   },
   {
    "duration": 22,
    "start_time": "2022-02-05T11:19:52.397Z"
   },
   {
    "duration": 5,
    "start_time": "2022-02-05T11:19:54.775Z"
   },
   {
    "duration": 12,
    "start_time": "2022-02-05T11:19:55.372Z"
   },
   {
    "duration": 5,
    "start_time": "2022-02-05T11:20:01.471Z"
   },
   {
    "duration": 8,
    "start_time": "2022-02-05T11:20:02.307Z"
   },
   {
    "duration": 483,
    "start_time": "2022-02-05T11:20:04.051Z"
   },
   {
    "duration": 3,
    "start_time": "2022-02-05T11:20:05.413Z"
   },
   {
    "duration": 8,
    "start_time": "2022-02-05T11:20:06.585Z"
   },
   {
    "duration": 7,
    "start_time": "2022-02-05T11:20:07.239Z"
   },
   {
    "duration": 19,
    "start_time": "2022-02-05T11:20:08.174Z"
   },
   {
    "duration": 8,
    "start_time": "2022-02-05T11:20:10.496Z"
   },
   {
    "duration": 18,
    "start_time": "2022-02-05T11:20:11.571Z"
   },
   {
    "duration": 8,
    "start_time": "2022-02-05T11:20:13.695Z"
   },
   {
    "duration": 15,
    "start_time": "2022-02-05T11:20:13.910Z"
   },
   {
    "duration": 8,
    "start_time": "2022-02-05T11:20:14.812Z"
   },
   {
    "duration": 24,
    "start_time": "2022-02-05T11:20:17.808Z"
   },
   {
    "duration": 25,
    "start_time": "2022-02-05T11:20:18.732Z"
   },
   {
    "duration": 8,
    "start_time": "2022-02-05T11:20:21.668Z"
   },
   {
    "duration": 24,
    "start_time": "2022-02-05T11:20:22.396Z"
   },
   {
    "duration": 6,
    "start_time": "2022-02-05T11:20:25.849Z"
   },
   {
    "duration": 624,
    "start_time": "2022-02-05T11:20:27.128Z"
   },
   {
    "duration": 396,
    "start_time": "2022-02-05T11:20:36.859Z"
   },
   {
    "duration": 13,
    "start_time": "2022-02-05T11:20:45.102Z"
   },
   {
    "duration": 8,
    "start_time": "2022-02-05T11:20:45.647Z"
   },
   {
    "duration": 9,
    "start_time": "2022-02-05T11:20:50.481Z"
   },
   {
    "duration": 16,
    "start_time": "2022-02-05T11:20:51.977Z"
   },
   {
    "duration": 11,
    "start_time": "2022-02-05T11:20:52.865Z"
   },
   {
    "duration": 5,
    "start_time": "2022-02-05T11:20:55.232Z"
   },
   {
    "duration": 4,
    "start_time": "2022-02-05T11:20:55.511Z"
   },
   {
    "duration": 41,
    "start_time": "2022-02-05T11:20:55.724Z"
   },
   {
    "duration": 21,
    "start_time": "2022-02-05T11:20:56.280Z"
   },
   {
    "duration": 11,
    "start_time": "2022-02-05T11:20:57.941Z"
   },
   {
    "duration": 10,
    "start_time": "2022-02-05T11:20:58.715Z"
   },
   {
    "duration": 12,
    "start_time": "2022-02-05T11:21:00.523Z"
   },
   {
    "duration": 11,
    "start_time": "2022-02-05T11:21:00.692Z"
   },
   {
    "duration": 10,
    "start_time": "2022-02-05T11:21:00.953Z"
   },
   {
    "duration": 4,
    "start_time": "2022-02-05T11:21:03.414Z"
   },
   {
    "duration": 6,
    "start_time": "2022-02-05T11:21:03.584Z"
   },
   {
    "duration": 18,
    "start_time": "2022-02-05T11:21:03.795Z"
   },
   {
    "duration": 47,
    "start_time": "2022-02-05T11:21:04.553Z"
   },
   {
    "duration": 13,
    "start_time": "2022-02-05T11:21:04.948Z"
   },
   {
    "duration": 12,
    "start_time": "2022-02-05T11:21:05.165Z"
   },
   {
    "duration": 10,
    "start_time": "2022-02-05T11:21:08.191Z"
   },
   {
    "duration": 10,
    "start_time": "2022-02-05T11:21:08.601Z"
   },
   {
    "duration": 8,
    "start_time": "2022-02-05T11:21:09.314Z"
   },
   {
    "duration": 10,
    "start_time": "2022-02-05T11:21:09.775Z"
   },
   {
    "duration": 4,
    "start_time": "2022-02-05T11:21:13.279Z"
   },
   {
    "duration": 18,
    "start_time": "2022-02-05T11:21:13.286Z"
   },
   {
    "duration": 14,
    "start_time": "2022-02-05T11:21:13.307Z"
   },
   {
    "duration": 9,
    "start_time": "2022-02-05T11:21:14.587Z"
   },
   {
    "duration": 8,
    "start_time": "2022-02-05T11:21:17.481Z"
   },
   {
    "duration": 19,
    "start_time": "2022-02-05T11:21:18.667Z"
   },
   {
    "duration": 22,
    "start_time": "2022-02-05T11:21:19.066Z"
   },
   {
    "duration": 18,
    "start_time": "2022-02-05T11:21:19.757Z"
   },
   {
    "duration": 14,
    "start_time": "2022-02-05T11:21:20.404Z"
   },
   {
    "duration": 6,
    "start_time": "2022-02-05T11:21:23.529Z"
   },
   {
    "duration": 8,
    "start_time": "2022-02-05T11:21:23.952Z"
   },
   {
    "duration": 13,
    "start_time": "2022-02-05T11:21:24.648Z"
   },
   {
    "duration": 10,
    "start_time": "2022-02-05T11:21:25.277Z"
   },
   {
    "duration": 13,
    "start_time": "2022-02-05T11:21:27.081Z"
   },
   {
    "duration": 11,
    "start_time": "2022-02-05T11:21:27.848Z"
   },
   {
    "duration": 15,
    "start_time": "2022-02-05T11:21:29.973Z"
   },
   {
    "duration": 14,
    "start_time": "2022-02-05T11:21:30.156Z"
   },
   {
    "duration": 8,
    "start_time": "2022-02-05T11:21:31.455Z"
   },
   {
    "duration": 6,
    "start_time": "2022-02-05T11:21:32.116Z"
   },
   {
    "duration": 25,
    "start_time": "2022-02-05T11:21:34.182Z"
   },
   {
    "duration": 5,
    "start_time": "2022-02-05T11:21:40.774Z"
   },
   {
    "duration": 8,
    "start_time": "2022-02-05T11:21:40.945Z"
   },
   {
    "duration": 69,
    "start_time": "2022-02-05T11:21:41.134Z"
   },
   {
    "duration": 18,
    "start_time": "2022-02-05T11:21:42.693Z"
   },
   {
    "duration": 7,
    "start_time": "2022-02-05T11:21:44.935Z"
   },
   {
    "duration": 18,
    "start_time": "2022-02-05T11:21:45.381Z"
   },
   {
    "duration": 27,
    "start_time": "2022-02-05T11:21:48.505Z"
   },
   {
    "duration": 2320,
    "start_time": "2022-02-05T11:21:57.416Z"
   },
   {
    "duration": 822,
    "start_time": "2022-02-05T11:21:59.739Z"
   },
   {
    "duration": 7,
    "start_time": "2022-02-05T11:22:15.956Z"
   },
   {
    "duration": 8,
    "start_time": "2022-02-05T11:22:17.320Z"
   },
   {
    "duration": 6,
    "start_time": "2022-02-05T11:22:18.288Z"
   },
   {
    "duration": 6,
    "start_time": "2022-02-05T11:22:18.992Z"
   },
   {
    "duration": 9,
    "start_time": "2022-02-05T11:22:25.844Z"
   },
   {
    "duration": 8,
    "start_time": "2022-02-05T11:22:29.792Z"
   },
   {
    "duration": 679,
    "start_time": "2022-02-05T11:22:30.661Z"
   },
   {
    "duration": 9,
    "start_time": "2022-02-05T11:22:58.285Z"
   },
   {
    "duration": 8,
    "start_time": "2022-02-05T11:23:04.722Z"
   },
   {
    "duration": 14,
    "start_time": "2022-02-05T11:23:19.068Z"
   },
   {
    "duration": 302,
    "start_time": "2022-02-05T11:23:21.453Z"
   },
   {
    "duration": 7162,
    "start_time": "2022-02-05T11:23:37.153Z"
   },
   {
    "duration": 627,
    "start_time": "2022-02-05T11:24:00.680Z"
   },
   {
    "duration": 6,
    "start_time": "2022-02-05T11:24:38.529Z"
   },
   {
    "duration": 697,
    "start_time": "2022-02-05T11:24:39.937Z"
   },
   {
    "duration": 253178,
    "start_time": "2022-02-05T11:25:06.987Z"
   },
   {
    "duration": 28518,
    "start_time": "2022-02-05T11:30:04.569Z"
   },
   {
    "duration": 26677,
    "start_time": "2022-02-06T12:13:49.686Z"
   },
   {
    "duration": 1349,
    "start_time": "2022-02-06T12:14:16.365Z"
   },
   {
    "duration": 2093,
    "start_time": "2022-02-06T12:14:17.717Z"
   },
   {
    "duration": -2712,
    "start_time": "2022-02-06T12:14:22.527Z"
   },
   {
    "duration": -2720,
    "start_time": "2022-02-06T12:14:22.536Z"
   },
   {
    "duration": -2723,
    "start_time": "2022-02-06T12:14:22.540Z"
   },
   {
    "duration": -2729,
    "start_time": "2022-02-06T12:14:22.546Z"
   },
   {
    "duration": -2733,
    "start_time": "2022-02-06T12:14:22.551Z"
   },
   {
    "duration": -2737,
    "start_time": "2022-02-06T12:14:22.556Z"
   },
   {
    "duration": -2742,
    "start_time": "2022-02-06T12:14:22.562Z"
   },
   {
    "duration": -2748,
    "start_time": "2022-02-06T12:14:22.569Z"
   },
   {
    "duration": -2752,
    "start_time": "2022-02-06T12:14:22.574Z"
   },
   {
    "duration": -2756,
    "start_time": "2022-02-06T12:14:22.579Z"
   },
   {
    "duration": -2759,
    "start_time": "2022-02-06T12:14:22.583Z"
   },
   {
    "duration": -2767,
    "start_time": "2022-02-06T12:14:22.591Z"
   },
   {
    "duration": -2771,
    "start_time": "2022-02-06T12:14:22.596Z"
   },
   {
    "duration": -2775,
    "start_time": "2022-02-06T12:14:22.602Z"
   },
   {
    "duration": -2779,
    "start_time": "2022-02-06T12:14:22.606Z"
   },
   {
    "duration": -2783,
    "start_time": "2022-02-06T12:14:22.611Z"
   },
   {
    "duration": -2788,
    "start_time": "2022-02-06T12:14:22.618Z"
   },
   {
    "duration": -2792,
    "start_time": "2022-02-06T12:14:22.623Z"
   },
   {
    "duration": -2795,
    "start_time": "2022-02-06T12:14:22.627Z"
   },
   {
    "duration": -2803,
    "start_time": "2022-02-06T12:14:22.636Z"
   },
   {
    "duration": -2807,
    "start_time": "2022-02-06T12:14:22.641Z"
   },
   {
    "duration": -2810,
    "start_time": "2022-02-06T12:14:22.645Z"
   },
   {
    "duration": -2817,
    "start_time": "2022-02-06T12:14:22.653Z"
   },
   {
    "duration": -2822,
    "start_time": "2022-02-06T12:14:22.659Z"
   },
   {
    "duration": -2827,
    "start_time": "2022-02-06T12:14:22.665Z"
   },
   {
    "duration": -2832,
    "start_time": "2022-02-06T12:14:22.671Z"
   },
   {
    "duration": -2835,
    "start_time": "2022-02-06T12:14:22.675Z"
   },
   {
    "duration": -2839,
    "start_time": "2022-02-06T12:14:22.680Z"
   },
   {
    "duration": -2842,
    "start_time": "2022-02-06T12:14:22.684Z"
   },
   {
    "duration": -2845,
    "start_time": "2022-02-06T12:14:22.689Z"
   },
   {
    "duration": -2848,
    "start_time": "2022-02-06T12:14:22.693Z"
   },
   {
    "duration": -2852,
    "start_time": "2022-02-06T12:14:22.698Z"
   },
   {
    "duration": -2858,
    "start_time": "2022-02-06T12:14:22.705Z"
   },
   {
    "duration": -2864,
    "start_time": "2022-02-06T12:14:22.712Z"
   },
   {
    "duration": -2867,
    "start_time": "2022-02-06T12:14:22.716Z"
   },
   {
    "duration": -2871,
    "start_time": "2022-02-06T12:14:22.721Z"
   },
   {
    "duration": -2829,
    "start_time": "2022-02-06T12:14:22.727Z"
   },
   {
    "duration": -2833,
    "start_time": "2022-02-06T12:14:22.732Z"
   },
   {
    "duration": -2836,
    "start_time": "2022-02-06T12:14:22.737Z"
   },
   {
    "duration": -2840,
    "start_time": "2022-02-06T12:14:22.742Z"
   },
   {
    "duration": -2843,
    "start_time": "2022-02-06T12:14:22.746Z"
   },
   {
    "duration": -2851,
    "start_time": "2022-02-06T12:14:22.755Z"
   },
   {
    "duration": -2854,
    "start_time": "2022-02-06T12:14:22.759Z"
   },
   {
    "duration": -2857,
    "start_time": "2022-02-06T12:14:22.763Z"
   },
   {
    "duration": -2862,
    "start_time": "2022-02-06T12:14:22.769Z"
   },
   {
    "duration": -2865,
    "start_time": "2022-02-06T12:14:22.773Z"
   },
   {
    "duration": -2869,
    "start_time": "2022-02-06T12:14:22.778Z"
   },
   {
    "duration": -2875,
    "start_time": "2022-02-06T12:14:22.785Z"
   },
   {
    "duration": -2878,
    "start_time": "2022-02-06T12:14:22.789Z"
   },
   {
    "duration": -2880,
    "start_time": "2022-02-06T12:14:22.793Z"
   },
   {
    "duration": -2884,
    "start_time": "2022-02-06T12:14:22.798Z"
   },
   {
    "duration": -2887,
    "start_time": "2022-02-06T12:14:22.802Z"
   },
   {
    "duration": -2891,
    "start_time": "2022-02-06T12:14:22.806Z"
   },
   {
    "duration": -2895,
    "start_time": "2022-02-06T12:14:22.811Z"
   },
   {
    "duration": -2898,
    "start_time": "2022-02-06T12:14:22.815Z"
   },
   {
    "duration": -2902,
    "start_time": "2022-02-06T12:14:22.820Z"
   },
   {
    "duration": -2904,
    "start_time": "2022-02-06T12:14:22.823Z"
   },
   {
    "duration": -2908,
    "start_time": "2022-02-06T12:14:22.828Z"
   },
   {
    "duration": -2912,
    "start_time": "2022-02-06T12:14:22.833Z"
   },
   {
    "duration": -2916,
    "start_time": "2022-02-06T12:14:22.838Z"
   },
   {
    "duration": -2919,
    "start_time": "2022-02-06T12:14:22.842Z"
   },
   {
    "duration": -2922,
    "start_time": "2022-02-06T12:14:22.846Z"
   },
   {
    "duration": -2925,
    "start_time": "2022-02-06T12:14:22.850Z"
   },
   {
    "duration": -2929,
    "start_time": "2022-02-06T12:14:22.855Z"
   },
   {
    "duration": -2932,
    "start_time": "2022-02-06T12:14:22.859Z"
   },
   {
    "duration": -2942,
    "start_time": "2022-02-06T12:14:22.870Z"
   },
   {
    "duration": -2950,
    "start_time": "2022-02-06T12:14:22.879Z"
   },
   {
    "duration": -2956,
    "start_time": "2022-02-06T12:14:22.886Z"
   },
   {
    "duration": -2960,
    "start_time": "2022-02-06T12:14:22.891Z"
   },
   {
    "duration": -2963,
    "start_time": "2022-02-06T12:14:22.895Z"
   },
   {
    "duration": -2968,
    "start_time": "2022-02-06T12:14:22.901Z"
   },
   {
    "duration": -2972,
    "start_time": "2022-02-06T12:14:22.906Z"
   },
   {
    "duration": -2912,
    "start_time": "2022-02-06T12:14:22.910Z"
   },
   {
    "duration": -2918,
    "start_time": "2022-02-06T12:14:22.917Z"
   },
   {
    "duration": -2923,
    "start_time": "2022-02-06T12:14:22.923Z"
   },
   {
    "duration": -2930,
    "start_time": "2022-02-06T12:14:22.932Z"
   },
   {
    "duration": -2934,
    "start_time": "2022-02-06T12:14:22.937Z"
   },
   {
    "duration": -2945,
    "start_time": "2022-02-06T12:14:22.949Z"
   },
   {
    "duration": -2955,
    "start_time": "2022-02-06T12:14:22.960Z"
   },
   {
    "duration": -2980,
    "start_time": "2022-02-06T12:14:22.986Z"
   },
   {
    "duration": -3002,
    "start_time": "2022-02-06T12:14:23.009Z"
   },
   {
    "duration": -3016,
    "start_time": "2022-02-06T12:14:23.024Z"
   },
   {
    "duration": -3025,
    "start_time": "2022-02-06T12:14:23.034Z"
   },
   {
    "duration": -3034,
    "start_time": "2022-02-06T12:14:23.044Z"
   },
   {
    "duration": -3045,
    "start_time": "2022-02-06T12:14:23.056Z"
   },
   {
    "duration": -3051,
    "start_time": "2022-02-06T12:14:23.064Z"
   },
   {
    "duration": -3056,
    "start_time": "2022-02-06T12:14:23.070Z"
   },
   {
    "duration": -3062,
    "start_time": "2022-02-06T12:14:23.076Z"
   },
   {
    "duration": -3066,
    "start_time": "2022-02-06T12:14:23.082Z"
   },
   {
    "duration": -3073,
    "start_time": "2022-02-06T12:14:23.090Z"
   },
   {
    "duration": -3077,
    "start_time": "2022-02-06T12:14:23.095Z"
   },
   {
    "duration": -3084,
    "start_time": "2022-02-06T12:14:23.103Z"
   },
   {
    "duration": -3089,
    "start_time": "2022-02-06T12:14:23.109Z"
   },
   {
    "duration": -3097,
    "start_time": "2022-02-06T12:14:23.118Z"
   },
   {
    "duration": -3104,
    "start_time": "2022-02-06T12:14:23.126Z"
   },
   {
    "duration": -3114,
    "start_time": "2022-02-06T12:14:23.138Z"
   },
   {
    "duration": -3119,
    "start_time": "2022-02-06T12:14:23.143Z"
   },
   {
    "duration": -3126,
    "start_time": "2022-02-06T12:14:23.152Z"
   },
   {
    "duration": -3132,
    "start_time": "2022-02-06T12:14:23.159Z"
   },
   {
    "duration": -3138,
    "start_time": "2022-02-06T12:14:23.166Z"
   },
   {
    "duration": -3141,
    "start_time": "2022-02-06T12:14:23.170Z"
   },
   {
    "duration": -3146,
    "start_time": "2022-02-06T12:14:23.176Z"
   },
   {
    "duration": -3150,
    "start_time": "2022-02-06T12:14:23.181Z"
   },
   {
    "duration": -3155,
    "start_time": "2022-02-06T12:14:23.187Z"
   },
   {
    "duration": -3164,
    "start_time": "2022-02-06T12:14:23.197Z"
   },
   {
    "duration": -3170,
    "start_time": "2022-02-06T12:14:23.204Z"
   },
   {
    "duration": -3179,
    "start_time": "2022-02-06T12:14:23.215Z"
   },
   {
    "duration": -3185,
    "start_time": "2022-02-06T12:14:23.222Z"
   },
   {
    "duration": -3190,
    "start_time": "2022-02-06T12:14:23.228Z"
   },
   {
    "duration": -3139,
    "start_time": "2022-02-06T12:14:23.237Z"
   },
   {
    "duration": -3145,
    "start_time": "2022-02-06T12:14:23.244Z"
   },
   {
    "duration": -3149,
    "start_time": "2022-02-06T12:14:23.250Z"
   },
   {
    "duration": -3153,
    "start_time": "2022-02-06T12:14:23.255Z"
   },
   {
    "duration": -3158,
    "start_time": "2022-02-06T12:14:23.261Z"
   },
   {
    "duration": -3162,
    "start_time": "2022-02-06T12:14:23.266Z"
   }
  ],
  "kernelspec": {
   "display_name": "Python 3",
   "language": "python",
   "name": "python3"
  },
  "language_info": {
   "codemirror_mode": {
    "name": "ipython",
    "version": 3
   },
   "file_extension": ".py",
   "mimetype": "text/x-python",
   "name": "python",
   "nbconvert_exporter": "python",
   "pygments_lexer": "ipython3",
   "version": "3.8.5"
  },
  "toc": {
   "base_numbering": 1,
   "nav_menu": {},
   "number_sections": true,
   "sideBar": true,
   "skip_h1_title": true,
   "title_cell": "Table of Contents",
   "title_sidebar": "Contents",
   "toc_cell": false,
   "toc_position": {},
   "toc_section_display": true,
   "toc_window_display": false
  }
 },
 "nbformat": 4,
 "nbformat_minor": 4
}
