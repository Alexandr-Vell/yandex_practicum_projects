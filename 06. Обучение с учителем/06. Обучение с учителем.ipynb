{
 "cells": [
  {
   "cell_type": "markdown",
   "metadata": {},
   "source": [
    "# Отток клиентов"
   ]
  },
  {
   "cell_type": "markdown",
   "metadata": {},
   "source": [
    "Из «Бета-Банка» стали уходить клиенты. Каждый месяц. Немного, но заметно. Банковские маркетологи посчитали: сохранять текущих клиентов дешевле, чем привлекать новых.\n",
    "\n",
    "Нужно спрогнозировать, уйдёт клиент из банка в ближайшее время или нет. Вам предоставлены исторические данные о поведении клиентов и расторжении договоров с банком."
   ]
  },
  {
   "cell_type": "markdown",
   "metadata": {},
   "source": [
    "### Признаки\n",
    "\n",
    "• RowNumber — индекс строки в данных  \n",
    "• CustomerId — уникальный идентификатор клиента  \n",
    "• Surname — фамилия  \n",
    "• CreditScore — кредитный рейтинг  \n",
    "• Geography — страна проживания\n",
    "• Gender — пол  \n",
    "• Age — возраст  \n",
    "• Tenure — количество недвижимости у клиента  \n",
    "• Balance — баланс на счёте  \n",
    "• NumOfProducts — количество продуктов банка, используемых клиентом  \n",
    "• HasCrCard — наличие кредитной карты  \n",
    "• IsActiveMember — активность клиента  \n",
    "• EstimatedSalary — предполагаемая зарплата"
   ]
  },
  {
   "cell_type": "markdown",
   "metadata": {},
   "source": [
    "## Подготовка данных"
   ]
  },
  {
   "cell_type": "code",
   "execution_count": 1,
   "metadata": {},
   "outputs": [],
   "source": [
    "import pandas as pd\n",
    "from sklearn.preprocessing import StandardScaler\n",
    "from sklearn.model_selection import train_test_split\n",
    "from sklearn.ensemble import RandomForestClassifier\n",
    "from sklearn.tree import DecisionTreeClassifier\n",
    "from sklearn.linear_model import LogisticRegression\n",
    "from sklearn.metrics import accuracy_score\n",
    "from sklearn.metrics import confusion_matrix\n",
    "import numpy as np\n",
    "import seaborn as sns\n",
    "import matplotlib.pyplot as plt\n",
    "from sklearn.metrics import recall_score\n",
    "from sklearn.metrics import precision_score\n",
    "from sklearn.metrics import f1_score \n",
    "from sklearn.utils import shuffle\n",
    "from sklearn.metrics import precision_score, recall_score\n",
    "from sklearn.metrics import precision_recall_curve\n",
    "from sklearn.metrics import roc_curve \n",
    "from sklearn.metrics import roc_auc_score"
   ]
  },
  {
   "cell_type": "code",
   "execution_count": 2,
   "metadata": {},
   "outputs": [
    {
     "data": {
      "text/html": [
       "<div>\n",
       "<style scoped>\n",
       "    .dataframe tbody tr th:only-of-type {\n",
       "        vertical-align: middle;\n",
       "    }\n",
       "\n",
       "    .dataframe tbody tr th {\n",
       "        vertical-align: top;\n",
       "    }\n",
       "\n",
       "    .dataframe thead th {\n",
       "        text-align: right;\n",
       "    }\n",
       "</style>\n",
       "<table border=\"1\" class=\"dataframe\">\n",
       "  <thead>\n",
       "    <tr style=\"text-align: right;\">\n",
       "      <th></th>\n",
       "      <th>RowNumber</th>\n",
       "      <th>CustomerId</th>\n",
       "      <th>Surname</th>\n",
       "      <th>CreditScore</th>\n",
       "      <th>Geography</th>\n",
       "      <th>Gender</th>\n",
       "      <th>Age</th>\n",
       "      <th>Tenure</th>\n",
       "      <th>Balance</th>\n",
       "      <th>NumOfProducts</th>\n",
       "      <th>HasCrCard</th>\n",
       "      <th>IsActiveMember</th>\n",
       "      <th>EstimatedSalary</th>\n",
       "      <th>Exited</th>\n",
       "    </tr>\n",
       "  </thead>\n",
       "  <tbody>\n",
       "    <tr>\n",
       "      <td>0</td>\n",
       "      <td>1</td>\n",
       "      <td>15634602</td>\n",
       "      <td>Hargrave</td>\n",
       "      <td>619</td>\n",
       "      <td>France</td>\n",
       "      <td>Female</td>\n",
       "      <td>42</td>\n",
       "      <td>2.0</td>\n",
       "      <td>0.00</td>\n",
       "      <td>1</td>\n",
       "      <td>1</td>\n",
       "      <td>1</td>\n",
       "      <td>101348.88</td>\n",
       "      <td>1</td>\n",
       "    </tr>\n",
       "    <tr>\n",
       "      <td>1</td>\n",
       "      <td>2</td>\n",
       "      <td>15647311</td>\n",
       "      <td>Hill</td>\n",
       "      <td>608</td>\n",
       "      <td>Spain</td>\n",
       "      <td>Female</td>\n",
       "      <td>41</td>\n",
       "      <td>1.0</td>\n",
       "      <td>83807.86</td>\n",
       "      <td>1</td>\n",
       "      <td>0</td>\n",
       "      <td>1</td>\n",
       "      <td>112542.58</td>\n",
       "      <td>0</td>\n",
       "    </tr>\n",
       "    <tr>\n",
       "      <td>2</td>\n",
       "      <td>3</td>\n",
       "      <td>15619304</td>\n",
       "      <td>Onio</td>\n",
       "      <td>502</td>\n",
       "      <td>France</td>\n",
       "      <td>Female</td>\n",
       "      <td>42</td>\n",
       "      <td>8.0</td>\n",
       "      <td>159660.80</td>\n",
       "      <td>3</td>\n",
       "      <td>1</td>\n",
       "      <td>0</td>\n",
       "      <td>113931.57</td>\n",
       "      <td>1</td>\n",
       "    </tr>\n",
       "    <tr>\n",
       "      <td>3</td>\n",
       "      <td>4</td>\n",
       "      <td>15701354</td>\n",
       "      <td>Boni</td>\n",
       "      <td>699</td>\n",
       "      <td>France</td>\n",
       "      <td>Female</td>\n",
       "      <td>39</td>\n",
       "      <td>1.0</td>\n",
       "      <td>0.00</td>\n",
       "      <td>2</td>\n",
       "      <td>0</td>\n",
       "      <td>0</td>\n",
       "      <td>93826.63</td>\n",
       "      <td>0</td>\n",
       "    </tr>\n",
       "    <tr>\n",
       "      <td>4</td>\n",
       "      <td>5</td>\n",
       "      <td>15737888</td>\n",
       "      <td>Mitchell</td>\n",
       "      <td>850</td>\n",
       "      <td>Spain</td>\n",
       "      <td>Female</td>\n",
       "      <td>43</td>\n",
       "      <td>2.0</td>\n",
       "      <td>125510.82</td>\n",
       "      <td>1</td>\n",
       "      <td>1</td>\n",
       "      <td>1</td>\n",
       "      <td>79084.10</td>\n",
       "      <td>0</td>\n",
       "    </tr>\n",
       "    <tr>\n",
       "      <td>5</td>\n",
       "      <td>6</td>\n",
       "      <td>15574012</td>\n",
       "      <td>Chu</td>\n",
       "      <td>645</td>\n",
       "      <td>Spain</td>\n",
       "      <td>Male</td>\n",
       "      <td>44</td>\n",
       "      <td>8.0</td>\n",
       "      <td>113755.78</td>\n",
       "      <td>2</td>\n",
       "      <td>1</td>\n",
       "      <td>0</td>\n",
       "      <td>149756.71</td>\n",
       "      <td>1</td>\n",
       "    </tr>\n",
       "    <tr>\n",
       "      <td>6</td>\n",
       "      <td>7</td>\n",
       "      <td>15592531</td>\n",
       "      <td>Bartlett</td>\n",
       "      <td>822</td>\n",
       "      <td>France</td>\n",
       "      <td>Male</td>\n",
       "      <td>50</td>\n",
       "      <td>7.0</td>\n",
       "      <td>0.00</td>\n",
       "      <td>2</td>\n",
       "      <td>1</td>\n",
       "      <td>1</td>\n",
       "      <td>10062.80</td>\n",
       "      <td>0</td>\n",
       "    </tr>\n",
       "    <tr>\n",
       "      <td>7</td>\n",
       "      <td>8</td>\n",
       "      <td>15656148</td>\n",
       "      <td>Obinna</td>\n",
       "      <td>376</td>\n",
       "      <td>Germany</td>\n",
       "      <td>Female</td>\n",
       "      <td>29</td>\n",
       "      <td>4.0</td>\n",
       "      <td>115046.74</td>\n",
       "      <td>4</td>\n",
       "      <td>1</td>\n",
       "      <td>0</td>\n",
       "      <td>119346.88</td>\n",
       "      <td>1</td>\n",
       "    </tr>\n",
       "    <tr>\n",
       "      <td>8</td>\n",
       "      <td>9</td>\n",
       "      <td>15792365</td>\n",
       "      <td>He</td>\n",
       "      <td>501</td>\n",
       "      <td>France</td>\n",
       "      <td>Male</td>\n",
       "      <td>44</td>\n",
       "      <td>4.0</td>\n",
       "      <td>142051.07</td>\n",
       "      <td>2</td>\n",
       "      <td>0</td>\n",
       "      <td>1</td>\n",
       "      <td>74940.50</td>\n",
       "      <td>0</td>\n",
       "    </tr>\n",
       "    <tr>\n",
       "      <td>9</td>\n",
       "      <td>10</td>\n",
       "      <td>15592389</td>\n",
       "      <td>H?</td>\n",
       "      <td>684</td>\n",
       "      <td>France</td>\n",
       "      <td>Male</td>\n",
       "      <td>27</td>\n",
       "      <td>2.0</td>\n",
       "      <td>134603.88</td>\n",
       "      <td>1</td>\n",
       "      <td>1</td>\n",
       "      <td>1</td>\n",
       "      <td>71725.73</td>\n",
       "      <td>0</td>\n",
       "    </tr>\n",
       "  </tbody>\n",
       "</table>\n",
       "</div>"
      ],
      "text/plain": [
       "   RowNumber  CustomerId   Surname  CreditScore Geography  Gender  Age  \\\n",
       "0          1    15634602  Hargrave          619    France  Female   42   \n",
       "1          2    15647311      Hill          608     Spain  Female   41   \n",
       "2          3    15619304      Onio          502    France  Female   42   \n",
       "3          4    15701354      Boni          699    France  Female   39   \n",
       "4          5    15737888  Mitchell          850     Spain  Female   43   \n",
       "5          6    15574012       Chu          645     Spain    Male   44   \n",
       "6          7    15592531  Bartlett          822    France    Male   50   \n",
       "7          8    15656148    Obinna          376   Germany  Female   29   \n",
       "8          9    15792365        He          501    France    Male   44   \n",
       "9         10    15592389        H?          684    France    Male   27   \n",
       "\n",
       "   Tenure    Balance  NumOfProducts  HasCrCard  IsActiveMember  \\\n",
       "0     2.0       0.00              1          1               1   \n",
       "1     1.0   83807.86              1          0               1   \n",
       "2     8.0  159660.80              3          1               0   \n",
       "3     1.0       0.00              2          0               0   \n",
       "4     2.0  125510.82              1          1               1   \n",
       "5     8.0  113755.78              2          1               0   \n",
       "6     7.0       0.00              2          1               1   \n",
       "7     4.0  115046.74              4          1               0   \n",
       "8     4.0  142051.07              2          0               1   \n",
       "9     2.0  134603.88              1          1               1   \n",
       "\n",
       "   EstimatedSalary  Exited  \n",
       "0        101348.88       1  \n",
       "1        112542.58       0  \n",
       "2        113931.57       1  \n",
       "3         93826.63       0  \n",
       "4         79084.10       0  \n",
       "5        149756.71       1  \n",
       "6         10062.80       0  \n",
       "7        119346.88       1  \n",
       "8         74940.50       0  \n",
       "9         71725.73       0  "
      ]
     },
     "execution_count": 2,
     "metadata": {},
     "output_type": "execute_result"
    }
   ],
   "source": [
    "df = pd.read_csv('/datasets/Churn.csv')\n",
    "df.head(10)"
   ]
  },
  {
   "cell_type": "code",
   "execution_count": 3,
   "metadata": {},
   "outputs": [
    {
     "name": "stdout",
     "output_type": "stream",
     "text": [
      "<class 'pandas.core.frame.DataFrame'>\n",
      "RangeIndex: 10000 entries, 0 to 9999\n",
      "Data columns (total 14 columns):\n",
      "RowNumber          10000 non-null int64\n",
      "CustomerId         10000 non-null int64\n",
      "Surname            10000 non-null object\n",
      "CreditScore        10000 non-null int64\n",
      "Geography          10000 non-null object\n",
      "Gender             10000 non-null object\n",
      "Age                10000 non-null int64\n",
      "Tenure             9091 non-null float64\n",
      "Balance            10000 non-null float64\n",
      "NumOfProducts      10000 non-null int64\n",
      "HasCrCard          10000 non-null int64\n",
      "IsActiveMember     10000 non-null int64\n",
      "EstimatedSalary    10000 non-null float64\n",
      "Exited             10000 non-null int64\n",
      "dtypes: float64(3), int64(8), object(3)\n",
      "memory usage: 1.1+ MB\n"
     ]
    }
   ],
   "source": [
    "df.info()"
   ]
  },
  {
   "cell_type": "markdown",
   "metadata": {},
   "source": [
    "Видим пропуски в колонке \"Tenure\"(сколько лет человек является клиентом банка). Поскольку единица измерения колонки это годы, то возможно это клиенты, которые работают с этим банком менее 1 года. Вероятно их можно заполнить единицами, но я бы все равно заполнил медианой, т.к. если мое предположение неверно, то медианные значения меньше повлияют на результат"
   ]
  },
  {
   "cell_type": "code",
   "execution_count": 4,
   "metadata": {},
   "outputs": [
    {
     "data": {
      "text/html": [
       "<div>\n",
       "<style scoped>\n",
       "    .dataframe tbody tr th:only-of-type {\n",
       "        vertical-align: middle;\n",
       "    }\n",
       "\n",
       "    .dataframe tbody tr th {\n",
       "        vertical-align: top;\n",
       "    }\n",
       "\n",
       "    .dataframe thead th {\n",
       "        text-align: right;\n",
       "    }\n",
       "</style>\n",
       "<table border=\"1\" class=\"dataframe\">\n",
       "  <thead>\n",
       "    <tr style=\"text-align: right;\">\n",
       "      <th></th>\n",
       "      <th>rownumber</th>\n",
       "      <th>customerid</th>\n",
       "      <th>surname</th>\n",
       "      <th>creditscore</th>\n",
       "      <th>geography</th>\n",
       "      <th>gender</th>\n",
       "      <th>age</th>\n",
       "      <th>tenure</th>\n",
       "      <th>balance</th>\n",
       "      <th>numofproducts</th>\n",
       "      <th>hascrcard</th>\n",
       "      <th>isactivemember</th>\n",
       "      <th>estimatedsalary</th>\n",
       "      <th>exited</th>\n",
       "    </tr>\n",
       "  </thead>\n",
       "  <tbody>\n",
       "    <tr>\n",
       "      <td>0</td>\n",
       "      <td>1</td>\n",
       "      <td>15634602</td>\n",
       "      <td>Hargrave</td>\n",
       "      <td>619</td>\n",
       "      <td>France</td>\n",
       "      <td>Female</td>\n",
       "      <td>42</td>\n",
       "      <td>2.0</td>\n",
       "      <td>0.00</td>\n",
       "      <td>1</td>\n",
       "      <td>1</td>\n",
       "      <td>1</td>\n",
       "      <td>101348.88</td>\n",
       "      <td>1</td>\n",
       "    </tr>\n",
       "    <tr>\n",
       "      <td>1</td>\n",
       "      <td>2</td>\n",
       "      <td>15647311</td>\n",
       "      <td>Hill</td>\n",
       "      <td>608</td>\n",
       "      <td>Spain</td>\n",
       "      <td>Female</td>\n",
       "      <td>41</td>\n",
       "      <td>1.0</td>\n",
       "      <td>83807.86</td>\n",
       "      <td>1</td>\n",
       "      <td>0</td>\n",
       "      <td>1</td>\n",
       "      <td>112542.58</td>\n",
       "      <td>0</td>\n",
       "    </tr>\n",
       "    <tr>\n",
       "      <td>2</td>\n",
       "      <td>3</td>\n",
       "      <td>15619304</td>\n",
       "      <td>Onio</td>\n",
       "      <td>502</td>\n",
       "      <td>France</td>\n",
       "      <td>Female</td>\n",
       "      <td>42</td>\n",
       "      <td>8.0</td>\n",
       "      <td>159660.80</td>\n",
       "      <td>3</td>\n",
       "      <td>1</td>\n",
       "      <td>0</td>\n",
       "      <td>113931.57</td>\n",
       "      <td>1</td>\n",
       "    </tr>\n",
       "    <tr>\n",
       "      <td>3</td>\n",
       "      <td>4</td>\n",
       "      <td>15701354</td>\n",
       "      <td>Boni</td>\n",
       "      <td>699</td>\n",
       "      <td>France</td>\n",
       "      <td>Female</td>\n",
       "      <td>39</td>\n",
       "      <td>1.0</td>\n",
       "      <td>0.00</td>\n",
       "      <td>2</td>\n",
       "      <td>0</td>\n",
       "      <td>0</td>\n",
       "      <td>93826.63</td>\n",
       "      <td>0</td>\n",
       "    </tr>\n",
       "    <tr>\n",
       "      <td>4</td>\n",
       "      <td>5</td>\n",
       "      <td>15737888</td>\n",
       "      <td>Mitchell</td>\n",
       "      <td>850</td>\n",
       "      <td>Spain</td>\n",
       "      <td>Female</td>\n",
       "      <td>43</td>\n",
       "      <td>2.0</td>\n",
       "      <td>125510.82</td>\n",
       "      <td>1</td>\n",
       "      <td>1</td>\n",
       "      <td>1</td>\n",
       "      <td>79084.10</td>\n",
       "      <td>0</td>\n",
       "    </tr>\n",
       "  </tbody>\n",
       "</table>\n",
       "</div>"
      ],
      "text/plain": [
       "   rownumber  customerid   surname  creditscore geography  gender  age  \\\n",
       "0          1    15634602  Hargrave          619    France  Female   42   \n",
       "1          2    15647311      Hill          608     Spain  Female   41   \n",
       "2          3    15619304      Onio          502    France  Female   42   \n",
       "3          4    15701354      Boni          699    France  Female   39   \n",
       "4          5    15737888  Mitchell          850     Spain  Female   43   \n",
       "\n",
       "   tenure    balance  numofproducts  hascrcard  isactivemember  \\\n",
       "0     2.0       0.00              1          1               1   \n",
       "1     1.0   83807.86              1          0               1   \n",
       "2     8.0  159660.80              3          1               0   \n",
       "3     1.0       0.00              2          0               0   \n",
       "4     2.0  125510.82              1          1               1   \n",
       "\n",
       "   estimatedsalary  exited  \n",
       "0        101348.88       1  \n",
       "1        112542.58       0  \n",
       "2        113931.57       1  \n",
       "3         93826.63       0  \n",
       "4         79084.10       0  "
      ]
     },
     "execution_count": 4,
     "metadata": {},
     "output_type": "execute_result"
    }
   ],
   "source": [
    "df.columns = df.columns.str.lower()\n",
    "df.head()"
   ]
  },
  {
   "cell_type": "code",
   "execution_count": 5,
   "metadata": {},
   "outputs": [
    {
     "data": {
      "text/plain": [
       "rownumber            int64\n",
       "customerid           int64\n",
       "surname             object\n",
       "creditscore          int64\n",
       "geography           object\n",
       "gender              object\n",
       "age                  int64\n",
       "tenure             float64\n",
       "balance            float64\n",
       "numofproducts        int64\n",
       "hascrcard            int64\n",
       "isactivemember       int64\n",
       "estimatedsalary    float64\n",
       "exited               int64\n",
       "dtype: object"
      ]
     },
     "execution_count": 5,
     "metadata": {},
     "output_type": "execute_result"
    }
   ],
   "source": [
    "t = df.dtypes\n",
    "t"
   ]
  },
  {
   "cell_type": "markdown",
   "metadata": {},
   "source": [
    "Для удобства перевел названия колонок в нижний регистр"
   ]
  },
  {
   "cell_type": "code",
   "execution_count": 6,
   "metadata": {},
   "outputs": [
    {
     "data": {
      "text/plain": [
       "rownumber            0\n",
       "customerid           0\n",
       "surname              0\n",
       "creditscore          0\n",
       "geography            0\n",
       "gender               0\n",
       "age                  0\n",
       "tenure             909\n",
       "balance              0\n",
       "numofproducts        0\n",
       "hascrcard            0\n",
       "isactivemember       0\n",
       "estimatedsalary      0\n",
       "exited               0\n",
       "dtype: int64"
      ]
     },
     "execution_count": 6,
     "metadata": {},
     "output_type": "execute_result"
    }
   ],
   "source": [
    "df.isnull().sum()"
   ]
  },
  {
   "cell_type": "code",
   "execution_count": 7,
   "metadata": {},
   "outputs": [
    {
     "data": {
      "text/plain": [
       "rownumber          0\n",
       "customerid         0\n",
       "surname            0\n",
       "creditscore        0\n",
       "geography          0\n",
       "gender             0\n",
       "age                0\n",
       "tenure             0\n",
       "balance            0\n",
       "numofproducts      0\n",
       "hascrcard          0\n",
       "isactivemember     0\n",
       "estimatedsalary    0\n",
       "exited             0\n",
       "dtype: int64"
      ]
     },
     "execution_count": 7,
     "metadata": {},
     "output_type": "execute_result"
    }
   ],
   "source": [
    "df['tenure'] = df['tenure'].fillna(df['tenure'].median())\n",
    "\n",
    "df.isnull().sum()"
   ]
  },
  {
   "cell_type": "markdown",
   "metadata": {},
   "source": [
    "Заполнил пропуски медианой, проверил"
   ]
  },
  {
   "cell_type": "code",
   "execution_count": 8,
   "metadata": {},
   "outputs": [
    {
     "name": "stdout",
     "output_type": "stream",
     "text": [
      "<class 'pandas.core.frame.DataFrame'>\n",
      "RangeIndex: 10000 entries, 0 to 9999\n",
      "Data columns (total 14 columns):\n",
      "rownumber          10000 non-null object\n",
      "customerid         10000 non-null object\n",
      "surname            10000 non-null object\n",
      "creditscore        10000 non-null object\n",
      "geography          10000 non-null object\n",
      "gender             10000 non-null object\n",
      "age                10000 non-null object\n",
      "tenure             10000 non-null object\n",
      "balance            10000 non-null object\n",
      "numofproducts      10000 non-null object\n",
      "hascrcard          10000 non-null object\n",
      "isactivemember     10000 non-null object\n",
      "estimatedsalary    10000 non-null object\n",
      "exited             10000 non-null object\n",
      "dtypes: object(14)\n",
      "memory usage: 1.1+ MB\n"
     ]
    }
   ],
   "source": [
    "df = df.astype(str).apply(lambda x: x.str.lower())\n",
    "df.info()"
   ]
  },
  {
   "cell_type": "code",
   "execution_count": 9,
   "metadata": {},
   "outputs": [
    {
     "data": {
      "text/plain": [
       "rownumber            int64\n",
       "customerid           int64\n",
       "surname             object\n",
       "creditscore          int64\n",
       "geography           object\n",
       "gender              object\n",
       "age                  int64\n",
       "tenure             float64\n",
       "balance            float64\n",
       "numofproducts        int64\n",
       "hascrcard            int64\n",
       "isactivemember       int64\n",
       "estimatedsalary    float64\n",
       "exited               int64\n",
       "dtype: object"
      ]
     },
     "execution_count": 9,
     "metadata": {},
     "output_type": "execute_result"
    }
   ],
   "source": [
    "df = df.astype(t)\n",
    "\n",
    "df.dtypes"
   ]
  },
  {
   "cell_type": "markdown",
   "metadata": {},
   "source": [
    "Перевел все данные в таблице в нижний регистр, чтобы ничего не выпало при анализе и подготовке к обучению. Тип данных везде изменился на object, верну старые типы данных"
   ]
  },
  {
   "cell_type": "code",
   "execution_count": 10,
   "metadata": {},
   "outputs": [
    {
     "data": {
      "text/plain": [
       "Index(['creditscore', 'geography', 'gender', 'age', 'tenure', 'balance',\n",
       "       'numofproducts', 'hascrcard', 'isactivemember', 'estimatedsalary',\n",
       "       'exited'],\n",
       "      dtype='object')"
      ]
     },
     "execution_count": 10,
     "metadata": {},
     "output_type": "execute_result"
    }
   ],
   "source": [
    "df_crop = df.drop(['rownumber', 'customerid', 'surname'], axis=1)\n",
    "df_crop.columns"
   ]
  },
  {
   "cell_type": "code",
   "execution_count": 11,
   "metadata": {},
   "outputs": [
    {
     "name": "stdout",
     "output_type": "stream",
     "text": [
      "<class 'pandas.core.frame.DataFrame'>\n",
      "RangeIndex: 10000 entries, 0 to 9999\n",
      "Data columns (total 11 columns):\n",
      "creditscore        10000 non-null int64\n",
      "geography          10000 non-null object\n",
      "gender             10000 non-null object\n",
      "age                10000 non-null int64\n",
      "tenure             10000 non-null float64\n",
      "balance            10000 non-null float64\n",
      "numofproducts      10000 non-null int64\n",
      "hascrcard          10000 non-null int64\n",
      "isactivemember     10000 non-null int64\n",
      "estimatedsalary    10000 non-null float64\n",
      "exited             10000 non-null int64\n",
      "dtypes: float64(3), int64(6), object(2)\n",
      "memory usage: 859.5+ KB\n"
     ]
    }
   ],
   "source": [
    "df_crop.info()"
   ]
  },
  {
   "cell_type": "code",
   "execution_count": 12,
   "metadata": {},
   "outputs": [
    {
     "data": {
      "text/html": [
       "<div>\n",
       "<style scoped>\n",
       "    .dataframe tbody tr th:only-of-type {\n",
       "        vertical-align: middle;\n",
       "    }\n",
       "\n",
       "    .dataframe tbody tr th {\n",
       "        vertical-align: top;\n",
       "    }\n",
       "\n",
       "    .dataframe thead th {\n",
       "        text-align: right;\n",
       "    }\n",
       "</style>\n",
       "<table border=\"1\" class=\"dataframe\">\n",
       "  <thead>\n",
       "    <tr style=\"text-align: right;\">\n",
       "      <th></th>\n",
       "      <th>creditscore</th>\n",
       "      <th>age</th>\n",
       "      <th>tenure</th>\n",
       "      <th>balance</th>\n",
       "      <th>numofproducts</th>\n",
       "      <th>hascrcard</th>\n",
       "      <th>isactivemember</th>\n",
       "      <th>estimatedsalary</th>\n",
       "      <th>exited</th>\n",
       "      <th>geography_germany</th>\n",
       "      <th>geography_spain</th>\n",
       "      <th>gender_male</th>\n",
       "    </tr>\n",
       "  </thead>\n",
       "  <tbody>\n",
       "    <tr>\n",
       "      <td>0</td>\n",
       "      <td>619</td>\n",
       "      <td>42</td>\n",
       "      <td>2.0</td>\n",
       "      <td>0.00</td>\n",
       "      <td>1</td>\n",
       "      <td>1</td>\n",
       "      <td>1</td>\n",
       "      <td>101348.88</td>\n",
       "      <td>1</td>\n",
       "      <td>0</td>\n",
       "      <td>0</td>\n",
       "      <td>0</td>\n",
       "    </tr>\n",
       "    <tr>\n",
       "      <td>1</td>\n",
       "      <td>608</td>\n",
       "      <td>41</td>\n",
       "      <td>1.0</td>\n",
       "      <td>83807.86</td>\n",
       "      <td>1</td>\n",
       "      <td>0</td>\n",
       "      <td>1</td>\n",
       "      <td>112542.58</td>\n",
       "      <td>0</td>\n",
       "      <td>0</td>\n",
       "      <td>1</td>\n",
       "      <td>0</td>\n",
       "    </tr>\n",
       "    <tr>\n",
       "      <td>2</td>\n",
       "      <td>502</td>\n",
       "      <td>42</td>\n",
       "      <td>8.0</td>\n",
       "      <td>159660.80</td>\n",
       "      <td>3</td>\n",
       "      <td>1</td>\n",
       "      <td>0</td>\n",
       "      <td>113931.57</td>\n",
       "      <td>1</td>\n",
       "      <td>0</td>\n",
       "      <td>0</td>\n",
       "      <td>0</td>\n",
       "    </tr>\n",
       "    <tr>\n",
       "      <td>3</td>\n",
       "      <td>699</td>\n",
       "      <td>39</td>\n",
       "      <td>1.0</td>\n",
       "      <td>0.00</td>\n",
       "      <td>2</td>\n",
       "      <td>0</td>\n",
       "      <td>0</td>\n",
       "      <td>93826.63</td>\n",
       "      <td>0</td>\n",
       "      <td>0</td>\n",
       "      <td>0</td>\n",
       "      <td>0</td>\n",
       "    </tr>\n",
       "    <tr>\n",
       "      <td>4</td>\n",
       "      <td>850</td>\n",
       "      <td>43</td>\n",
       "      <td>2.0</td>\n",
       "      <td>125510.82</td>\n",
       "      <td>1</td>\n",
       "      <td>1</td>\n",
       "      <td>1</td>\n",
       "      <td>79084.10</td>\n",
       "      <td>0</td>\n",
       "      <td>0</td>\n",
       "      <td>1</td>\n",
       "      <td>0</td>\n",
       "    </tr>\n",
       "  </tbody>\n",
       "</table>\n",
       "</div>"
      ],
      "text/plain": [
       "   creditscore  age  tenure    balance  numofproducts  hascrcard  \\\n",
       "0          619   42     2.0       0.00              1          1   \n",
       "1          608   41     1.0   83807.86              1          0   \n",
       "2          502   42     8.0  159660.80              3          1   \n",
       "3          699   39     1.0       0.00              2          0   \n",
       "4          850   43     2.0  125510.82              1          1   \n",
       "\n",
       "   isactivemember  estimatedsalary  exited  geography_germany  \\\n",
       "0               1        101348.88       1                  0   \n",
       "1               1        112542.58       0                  0   \n",
       "2               0        113931.57       1                  0   \n",
       "3               0         93826.63       0                  0   \n",
       "4               1         79084.10       0                  0   \n",
       "\n",
       "   geography_spain  gender_male  \n",
       "0                0            0  \n",
       "1                1            0  \n",
       "2                0            0  \n",
       "3                0            0  \n",
       "4                1            0  "
      ]
     },
     "execution_count": 12,
     "metadata": {},
     "output_type": "execute_result"
    }
   ],
   "source": [
    "df_ohe = pd.get_dummies(df_crop, drop_first=True)\n",
    "df_ohe.head()"
   ]
  },
  {
   "cell_type": "code",
   "execution_count": 13,
   "metadata": {},
   "outputs": [
    {
     "name": "stdout",
     "output_type": "stream",
     "text": [
      "<class 'pandas.core.frame.DataFrame'>\n",
      "RangeIndex: 10000 entries, 0 to 9999\n",
      "Data columns (total 12 columns):\n",
      "creditscore          10000 non-null int64\n",
      "age                  10000 non-null int64\n",
      "tenure               10000 non-null float64\n",
      "balance              10000 non-null float64\n",
      "numofproducts        10000 non-null int64\n",
      "hascrcard            10000 non-null int64\n",
      "isactivemember       10000 non-null int64\n",
      "estimatedsalary      10000 non-null float64\n",
      "exited               10000 non-null int64\n",
      "geography_germany    10000 non-null uint8\n",
      "geography_spain      10000 non-null uint8\n",
      "gender_male          10000 non-null uint8\n",
      "dtypes: float64(3), int64(6), uint8(3)\n",
      "memory usage: 732.5 KB\n"
     ]
    }
   ],
   "source": [
    "df_ohe.info()"
   ]
  },
  {
   "cell_type": "code",
   "execution_count": 14,
   "metadata": {},
   "outputs": [
    {
     "name": "stdout",
     "output_type": "stream",
     "text": [
      "<class 'pandas.core.frame.DataFrame'>\n",
      "RangeIndex: 10000 entries, 0 to 9999\n",
      "Data columns (total 14 columns):\n",
      "rownumber          10000 non-null int64\n",
      "customerid         10000 non-null int64\n",
      "surname            10000 non-null object\n",
      "creditscore        10000 non-null int64\n",
      "geography          10000 non-null object\n",
      "gender             10000 non-null object\n",
      "age                10000 non-null int64\n",
      "tenure             10000 non-null float64\n",
      "balance            10000 non-null float64\n",
      "numofproducts      10000 non-null int64\n",
      "hascrcard          10000 non-null int64\n",
      "isactivemember     10000 non-null int64\n",
      "estimatedsalary    10000 non-null float64\n",
      "exited             10000 non-null int64\n",
      "dtypes: float64(3), int64(8), object(3)\n",
      "memory usage: 1.1+ MB\n",
      "\n",
      "(6000, 11)\n",
      "(2000, 11)\n",
      "(2000, 11)\n",
      "(6000,)\n",
      "(2000,)\n",
      "(2000,)\n"
     ]
    }
   ],
   "source": [
    "target = df_ohe['exited']\n",
    "features = df_ohe.drop('exited', axis=1)\n",
    "\n",
    "features_train, features_valid, target_train, target_valid = train_test_split(\n",
    "    features, target, test_size=0.4, random_state=12345)\n",
    "\n",
    "features_valid, features_test, target_valid, target_test = train_test_split(\n",
    "    features_valid, target_valid, test_size=0.5, random_state=12345)\n",
    "\n",
    "df.info()\n",
    "\n",
    "\n",
    "print()\n",
    "print(features_train.shape)\n",
    "print(features_valid.shape)\n",
    "print(features_test.shape)\n",
    "print(target_train.shape)\n",
    "print(target_valid.shape)\n",
    "print(target_test.shape)"
   ]
  },
  {
   "cell_type": "markdown",
   "metadata": {},
   "source": [
    "Применил OHE к таблице, разделил выборку: Обучающая 60%, Валидационная 20%, Тестовая 20%"
   ]
  },
  {
   "cell_type": "code",
   "execution_count": 15,
   "metadata": {
    "scrolled": false
   },
   "outputs": [
    {
     "name": "stderr",
     "output_type": "stream",
     "text": [
      "/opt/conda/lib/python3.7/site-packages/ipykernel_launcher.py:7: SettingWithCopyWarning: \n",
      "A value is trying to be set on a copy of a slice from a DataFrame.\n",
      "Try using .loc[row_indexer,col_indexer] = value instead\n",
      "\n",
      "See the caveats in the documentation: http://pandas.pydata.org/pandas-docs/stable/user_guide/indexing.html#returning-a-view-versus-a-copy\n",
      "  import sys\n",
      "/opt/conda/lib/python3.7/site-packages/pandas/core/indexing.py:494: SettingWithCopyWarning: \n",
      "A value is trying to be set on a copy of a slice from a DataFrame.\n",
      "Try using .loc[row_indexer,col_indexer] = value instead\n",
      "\n",
      "See the caveats in the documentation: http://pandas.pydata.org/pandas-docs/stable/user_guide/indexing.html#returning-a-view-versus-a-copy\n",
      "  self.obj[item] = s\n"
     ]
    },
    {
     "data": {
      "text/html": [
       "<div>\n",
       "<style scoped>\n",
       "    .dataframe tbody tr th:only-of-type {\n",
       "        vertical-align: middle;\n",
       "    }\n",
       "\n",
       "    .dataframe tbody tr th {\n",
       "        vertical-align: top;\n",
       "    }\n",
       "\n",
       "    .dataframe thead th {\n",
       "        text-align: right;\n",
       "    }\n",
       "</style>\n",
       "<table border=\"1\" class=\"dataframe\">\n",
       "  <thead>\n",
       "    <tr style=\"text-align: right;\">\n",
       "      <th></th>\n",
       "      <th>creditscore</th>\n",
       "      <th>age</th>\n",
       "      <th>tenure</th>\n",
       "      <th>balance</th>\n",
       "      <th>numofproducts</th>\n",
       "      <th>hascrcard</th>\n",
       "      <th>isactivemember</th>\n",
       "      <th>estimatedsalary</th>\n",
       "      <th>geography_germany</th>\n",
       "      <th>geography_spain</th>\n",
       "      <th>gender_male</th>\n",
       "    </tr>\n",
       "  </thead>\n",
       "  <tbody>\n",
       "    <tr>\n",
       "      <td>7479</td>\n",
       "      <td>-0.886751</td>\n",
       "      <td>-0.373192</td>\n",
       "      <td>1.082277</td>\n",
       "      <td>1.232271</td>\n",
       "      <td>-0.891560</td>\n",
       "      <td>0.642466</td>\n",
       "      <td>-1.055187</td>\n",
       "      <td>-0.187705</td>\n",
       "      <td>0</td>\n",
       "      <td>1</td>\n",
       "      <td>1</td>\n",
       "    </tr>\n",
       "    <tr>\n",
       "      <td>3411</td>\n",
       "      <td>0.608663</td>\n",
       "      <td>-0.183385</td>\n",
       "      <td>1.082277</td>\n",
       "      <td>0.600563</td>\n",
       "      <td>-0.891560</td>\n",
       "      <td>-1.556504</td>\n",
       "      <td>-1.055187</td>\n",
       "      <td>-0.333945</td>\n",
       "      <td>0</td>\n",
       "      <td>0</td>\n",
       "      <td>0</td>\n",
       "    </tr>\n",
       "    <tr>\n",
       "      <td>6027</td>\n",
       "      <td>2.052152</td>\n",
       "      <td>0.480939</td>\n",
       "      <td>-0.737696</td>\n",
       "      <td>1.027098</td>\n",
       "      <td>0.830152</td>\n",
       "      <td>-1.556504</td>\n",
       "      <td>0.947699</td>\n",
       "      <td>1.503095</td>\n",
       "      <td>1</td>\n",
       "      <td>0</td>\n",
       "      <td>1</td>\n",
       "    </tr>\n",
       "    <tr>\n",
       "      <td>1247</td>\n",
       "      <td>-1.457915</td>\n",
       "      <td>-1.417129</td>\n",
       "      <td>0.354288</td>\n",
       "      <td>-1.233163</td>\n",
       "      <td>0.830152</td>\n",
       "      <td>0.642466</td>\n",
       "      <td>-1.055187</td>\n",
       "      <td>-1.071061</td>\n",
       "      <td>0</td>\n",
       "      <td>0</td>\n",
       "      <td>1</td>\n",
       "    </tr>\n",
       "    <tr>\n",
       "      <td>3716</td>\n",
       "      <td>0.130961</td>\n",
       "      <td>-1.132419</td>\n",
       "      <td>-1.101690</td>\n",
       "      <td>1.140475</td>\n",
       "      <td>-0.891560</td>\n",
       "      <td>-1.556504</td>\n",
       "      <td>-1.055187</td>\n",
       "      <td>1.524268</td>\n",
       "      <td>1</td>\n",
       "      <td>0</td>\n",
       "      <td>0</td>\n",
       "    </tr>\n",
       "  </tbody>\n",
       "</table>\n",
       "</div>"
      ],
      "text/plain": [
       "      creditscore       age    tenure   balance  numofproducts  hascrcard  \\\n",
       "7479    -0.886751 -0.373192  1.082277  1.232271      -0.891560   0.642466   \n",
       "3411     0.608663 -0.183385  1.082277  0.600563      -0.891560  -1.556504   \n",
       "6027     2.052152  0.480939 -0.737696  1.027098       0.830152  -1.556504   \n",
       "1247    -1.457915 -1.417129  0.354288 -1.233163       0.830152   0.642466   \n",
       "3716     0.130961 -1.132419 -1.101690  1.140475      -0.891560  -1.556504   \n",
       "\n",
       "      isactivemember  estimatedsalary  geography_germany  geography_spain  \\\n",
       "7479       -1.055187        -0.187705                  0                1   \n",
       "3411       -1.055187        -0.333945                  0                0   \n",
       "6027        0.947699         1.503095                  1                0   \n",
       "1247       -1.055187        -1.071061                  0                0   \n",
       "3716       -1.055187         1.524268                  1                0   \n",
       "\n",
       "      gender_male  \n",
       "7479            1  \n",
       "3411            0  \n",
       "6027            1  \n",
       "1247            1  \n",
       "3716            0  "
      ]
     },
     "execution_count": 15,
     "metadata": {},
     "output_type": "execute_result"
    }
   ],
   "source": [
    "scaler = StandardScaler()\n",
    "\n",
    "numeric = ['creditscore', 'age', 'numofproducts', 'hascrcard',\n",
    "           'isactivemember', 'estimatedsalary', 'balance', 'tenure']\n",
    "\n",
    "scaler.fit(features_train[numeric])\n",
    "features_train[numeric] = scaler.transform(features_train[numeric])\n",
    "features_valid[numeric] = scaler.transform(features_valid[numeric])\n",
    "features_test[numeric] = scaler.transform(features_test[numeric])\n",
    "\n",
    "pd.options.mode.chained_assignment = None\n",
    "\n",
    "features_train.head()"
   ]
  },
  {
   "cell_type": "markdown",
   "metadata": {},
   "source": [
    "## Исследование задачи"
   ]
  },
  {
   "cell_type": "code",
   "execution_count": 16,
   "metadata": {
    "scrolled": false
   },
   "outputs": [
    {
     "name": "stderr",
     "output_type": "stream",
     "text": [
      "/opt/conda/lib/python3.7/site-packages/sklearn/metrics/classification.py:1437: UndefinedMetricWarning: F-score is ill-defined and being set to 0.0 due to no predicted samples.\n",
      "  'precision', 'predicted', average, warn_for)\n",
      "/opt/conda/lib/python3.7/site-packages/sklearn/metrics/classification.py:1437: UndefinedMetricWarning: F-score is ill-defined and being set to 0.0 due to no predicted samples.\n",
      "  'precision', 'predicted', average, warn_for)\n",
      "/opt/conda/lib/python3.7/site-packages/sklearn/metrics/classification.py:1437: UndefinedMetricWarning: F-score is ill-defined and being set to 0.0 due to no predicted samples.\n",
      "  'precision', 'predicted', average, warn_for)\n",
      "/opt/conda/lib/python3.7/site-packages/sklearn/metrics/classification.py:1437: UndefinedMetricWarning: F-score is ill-defined and being set to 0.0 due to no predicted samples.\n",
      "  'precision', 'predicted', average, warn_for)\n",
      "/opt/conda/lib/python3.7/site-packages/sklearn/metrics/classification.py:1437: UndefinedMetricWarning: F-score is ill-defined and being set to 0.0 due to no predicted samples.\n",
      "  'precision', 'predicted', average, warn_for)\n",
      "/opt/conda/lib/python3.7/site-packages/sklearn/metrics/classification.py:1437: UndefinedMetricWarning: F-score is ill-defined and being set to 0.0 due to no predicted samples.\n",
      "  'precision', 'predicted', average, warn_for)\n",
      "/opt/conda/lib/python3.7/site-packages/sklearn/metrics/classification.py:1437: UndefinedMetricWarning: F-score is ill-defined and being set to 0.0 due to no predicted samples.\n",
      "  'precision', 'predicted', average, warn_for)\n",
      "/opt/conda/lib/python3.7/site-packages/sklearn/metrics/classification.py:1437: UndefinedMetricWarning: F-score is ill-defined and being set to 0.0 due to no predicted samples.\n",
      "  'precision', 'predicted', average, warn_for)\n",
      "/opt/conda/lib/python3.7/site-packages/sklearn/metrics/classification.py:1437: UndefinedMetricWarning: F-score is ill-defined and being set to 0.0 due to no predicted samples.\n",
      "  'precision', 'predicted', average, warn_for)\n",
      "/opt/conda/lib/python3.7/site-packages/sklearn/metrics/classification.py:1437: UndefinedMetricWarning: F-score is ill-defined and being set to 0.0 due to no predicted samples.\n",
      "  'precision', 'predicted', average, warn_for)\n",
      "/opt/conda/lib/python3.7/site-packages/sklearn/metrics/classification.py:1437: UndefinedMetricWarning: F-score is ill-defined and being set to 0.0 due to no predicted samples.\n",
      "  'precision', 'predicted', average, warn_for)\n",
      "/opt/conda/lib/python3.7/site-packages/sklearn/metrics/classification.py:1437: UndefinedMetricWarning: F-score is ill-defined and being set to 0.0 due to no predicted samples.\n",
      "  'precision', 'predicted', average, warn_for)\n",
      "/opt/conda/lib/python3.7/site-packages/sklearn/metrics/classification.py:1437: UndefinedMetricWarning: F-score is ill-defined and being set to 0.0 due to no predicted samples.\n",
      "  'precision', 'predicted', average, warn_for)\n",
      "/opt/conda/lib/python3.7/site-packages/sklearn/metrics/classification.py:1437: UndefinedMetricWarning: F-score is ill-defined and being set to 0.0 due to no predicted samples.\n",
      "  'precision', 'predicted', average, warn_for)\n",
      "/opt/conda/lib/python3.7/site-packages/sklearn/metrics/classification.py:1437: UndefinedMetricWarning: F-score is ill-defined and being set to 0.0 due to no predicted samples.\n",
      "  'precision', 'predicted', average, warn_for)\n"
     ]
    },
    {
     "name": "stdout",
     "output_type": "stream",
     "text": [
      "F1 наилучшей модели на валидационной выборке: 0.5941176470588235 , Лучший est: 15 , Глубина: 14\n",
      "Accuracy: 0.859\n"
     ]
    }
   ],
   "source": [
    "best_model = None\n",
    "best_depth = 0\n",
    "best_est = 0\n",
    "best_result = 0\n",
    "\n",
    "for est in range(10, 81, 5):\n",
    "    for depth in range(1, 21, 1):\n",
    "        \n",
    "        model = RandomForestClassifier(random_state=12345, n_estimators=est, max_depth=depth)\n",
    "        model.fit(features_train, target_train)\n",
    "        predicted = model.predict(features_valid)\n",
    "        result = f1_score(target_valid, predicted)\n",
    "        \n",
    "        if result > best_result:\n",
    "            best_model = model\n",
    "            best_depth = depth\n",
    "            best_est = est\n",
    "            best_result = result\n",
    "            \n",
    "print(\"F1 наилучшей модели на валидационной выборке:\", best_result, ', Лучший est:', best_est, ', Глубина:', best_depth)\n",
    "print('Accuracy:', accuracy_score(target_valid, predicted))"
   ]
  },
  {
   "cell_type": "markdown",
   "metadata": {},
   "source": [
    "Качество модели оставляет желать лучшего, предполагаю, что дело в дисбалансе классов целевого признака. Не стал пробовать на остальных моделях, потому что ожидаемо там будет также плохой результат, лучше сразу проверю свое предположение"
   ]
  },
  {
   "cell_type": "code",
   "execution_count": 17,
   "metadata": {},
   "outputs": [
    {
     "data": {
      "text/plain": [
       "<matplotlib.axes._subplots.AxesSubplot at 0x7f8a70615550>"
      ]
     },
     "execution_count": 17,
     "metadata": {},
     "output_type": "execute_result"
    },
    {
     "data": {
      "image/png": "[encoded data removed]",
      "text/plain": [
       "<Figure size 1152x504 with 2 Axes>"
      ]
     },
     "metadata": {
      "needs_background": "light"
     },
     "output_type": "display_data"
    }
   ],
   "source": [
    "matrix = confusion_matrix(target_valid, predicted)\n",
    "matrix = matrix.astype('float') / matrix.sum(axis = 1)[:, np.newaxis]\n",
    "\n",
    "plt.figure(figsize=(16, 7))\n",
    "sns.set(font_scale=1.4)\n",
    "sns.heatmap(matrix, annot=True, annot_kws={'size':10}, cmap=plt.cm.Blues, linewidths=0.2)"
   ]
  },
  {
   "cell_type": "markdown",
   "metadata": {},
   "source": [
    "По матрице видим, что модель не справляется с прогнозом позитивных ответов"
   ]
  },
  {
   "cell_type": "code",
   "execution_count": 18,
   "metadata": {},
   "outputs": [
    {
     "data": {
      "text/plain": [
       "0.45933014354066987"
      ]
     },
     "execution_count": 18,
     "metadata": {},
     "output_type": "execute_result"
    }
   ],
   "source": [
    "#Полнота - доля TP-ответов среди всех, у которых истинная метка 1 tp/tp+fn\n",
    "\n",
    "recall_score(target_valid, predicted)"
   ]
  },
  {
   "cell_type": "code",
   "execution_count": 19,
   "metadata": {},
   "outputs": [
    {
     "data": {
      "text/plain": [
       "0.7741935483870968"
      ]
     },
     "execution_count": 19,
     "metadata": {},
     "output_type": "execute_result"
    }
   ],
   "source": [
    "#Точность определяет, как много отрицательных ответов нашла модель, пока искала положительные.\n",
    "#Чем больше отрицательных, тем ниже точность.\n",
    "\n",
    "precision_score(target_valid, predicted)"
   ]
  },
  {
   "cell_type": "code",
   "execution_count": 20,
   "metadata": {},
   "outputs": [
    {
     "data": {
      "text/plain": [
       "0.5765765765765767"
      ]
     },
     "execution_count": 20,
     "metadata": {},
     "output_type": "execute_result"
    }
   ],
   "source": [
    "#Среднее гармоническое полноты и точности.\n",
    "\n",
    "f1_score(target_valid, predicted)"
   ]
  },
  {
   "cell_type": "code",
   "execution_count": 21,
   "metadata": {},
   "outputs": [
    {
     "name": "stdout",
     "output_type": "stream",
     "text": [
      "\n",
      "AxesSubplot(0.125,0.125;0.775x0.755)\n"
     ]
    },
    {
     "data": {
      "image/png": "[encoded data removed]",
      "text/plain": [
       "<Figure size 432x288 with 1 Axes>"
      ]
     },
     "metadata": {},
     "output_type": "display_data"
    }
   ],
   "source": [
    "class_balance = target_train.value_counts(normalize=True).plot.bar()\n",
    "\n",
    "print()\n",
    "print(class_balance)"
   ]
  },
  {
   "cell_type": "markdown",
   "metadata": {},
   "source": [
    "По метрикам видно, что модель отлично предсказывает нулевые значения (True Negative), но ужасно справляется с единицами (True positive). Причины этого могут быть совершенно разные, но я бы в первую очередь обратил внимание на дисбаланс классов, его мы видим на последней гистограме."
   ]
  },
  {
   "cell_type": "markdown",
   "metadata": {},
   "source": [
    "## Борьба с дисбалансом"
   ]
  },
  {
   "cell_type": "markdown",
   "metadata": {},
   "source": [
    "# Случайный лес"
   ]
  },
  {
   "cell_type": "markdown",
   "metadata": {},
   "source": [
    "class_weight"
   ]
  },
  {
   "cell_type": "code",
   "execution_count": 22,
   "metadata": {},
   "outputs": [
    {
     "name": "stdout",
     "output_type": "stream",
     "text": [
      "F1 наилучшей модели на валидационной выборке: 0.6337543053960963 , est: 80 , depth: 9\n",
      "Accuracy: 0.8595\n"
     ]
    }
   ],
   "source": [
    "best_model = None\n",
    "best_depth = 0\n",
    "best_est = 0\n",
    "best_result = 0\n",
    "\n",
    "for est in range(10, 81, 5):\n",
    "    for depth in range(1, 21, 1):\n",
    "        \n",
    "        model = RandomForestClassifier(random_state=12345, class_weight='balanced', n_estimators=est, max_depth=depth)\n",
    "        model.fit(features_train, target_train)\n",
    "        predicted = model.predict(features_valid)\n",
    "        result = f1_score(target_valid, predicted)\n",
    "        \n",
    "        if result > best_result:\n",
    "            best_model = model\n",
    "            best_depth = depth\n",
    "            best_est = est\n",
    "            best_result = result\n",
    "            \n",
    "print(\"F1 наилучшей модели на валидационной выборке:\", best_result, ', est:', best_est, ', depth:', best_depth)\n",
    "print('Accuracy:', accuracy_score(target_valid, predicted))"
   ]
  },
  {
   "cell_type": "code",
   "execution_count": 23,
   "metadata": {},
   "outputs": [
    {
     "data": {
      "image/png": "[encoded data removed]",
      "text/plain": [
       "<Figure size 432x288 with 1 Axes>"
      ]
     },
     "metadata": {},
     "output_type": "display_data"
    }
   ],
   "source": [
    "features_zeros = features_train[target_train == 0]\n",
    "features_ones = features_train[target_train == 1]\n",
    "\n",
    "target_zeros = target_train[target_train == 0]\n",
    "target_ones = target_train[target_train == 1]\n",
    "\n",
    "repeat = 4\n",
    "features_upsampled = pd.concat([features_zeros] + [features_ones] * repeat)\n",
    "target_upsampled = pd.concat([target_zeros] + [target_ones] * repeat)\n",
    "\n",
    "features_upsampled, target_upsampled = shuffle(features_upsampled, target_upsampled, random_state=12345)\n",
    "\n",
    "class_balance_upsample = target_upsampled.value_counts(normalize=True).plot.bar()"
   ]
  },
  {
   "cell_type": "markdown",
   "metadata": {},
   "source": [
    "Сбалансировал данные методом unsampling"
   ]
  },
  {
   "cell_type": "code",
   "execution_count": 24,
   "metadata": {},
   "outputs": [
    {
     "data": {
      "image/png": "[encoded data removed]",
      "text/plain": [
       "<Figure size 432x288 with 1 Axes>"
      ]
     },
     "metadata": {},
     "output_type": "display_data"
    }
   ],
   "source": [
    "features_downsampled = pd.concat(\n",
    "    [features_zeros.sample(frac=0.25, random_state=12345)] + [features_ones])\n",
    "    \n",
    "target_downsampled = pd.concat(\n",
    "    [target_zeros.sample(frac=0.25, random_state=12345)] + [target_ones])\n",
    "    \n",
    "features_downsampled, target_downsampled = shuffle(\n",
    "    features_downsampled, target_downsampled, random_state=12345)\n",
    "\n",
    "class_balance_downsampled = target_downsampled.value_counts(normalize=True).plot.bar()"
   ]
  },
  {
   "cell_type": "markdown",
   "metadata": {},
   "source": [
    "Сбалансировал данные методом downsampling"
   ]
  },
  {
   "cell_type": "markdown",
   "metadata": {},
   "source": [
    "upsampling"
   ]
  },
  {
   "cell_type": "code",
   "execution_count": 25,
   "metadata": {},
   "outputs": [
    {
     "name": "stdout",
     "output_type": "stream",
     "text": [
      "F1 наилучшей модели на валидационной выборке: 0.6291179596174282 , est: 70 , depth: 9\n",
      "Accuracy: 0.847\n"
     ]
    }
   ],
   "source": [
    "best_model = None\n",
    "best_depth = 0\n",
    "best_est = 0\n",
    "best_result = 0\n",
    "\n",
    "for est in range(10, 81, 5):\n",
    "    for depth in range(1, 21, 1):\n",
    "        \n",
    "        model = RandomForestClassifier(random_state=12345, n_estimators=est, max_depth=depth)\n",
    "        model.fit(features_upsampled, target_upsampled)\n",
    "        predicted = model.predict(features_valid)\n",
    "        result = f1_score(target_valid, predicted)\n",
    "        \n",
    "        if result > best_result:\n",
    "            best_model = model\n",
    "            best_depth = depth\n",
    "            best_est = est\n",
    "            best_result = result\n",
    "            \n",
    "print(\"F1 наилучшей модели на валидационной выборке:\", best_result, ', est:', best_est, ', depth:', best_depth)\n",
    "print('Accuracy:', accuracy_score(target_valid, predicted))"
   ]
  },
  {
   "cell_type": "markdown",
   "metadata": {},
   "source": [
    "downsampling"
   ]
  },
  {
   "cell_type": "code",
   "execution_count": 26,
   "metadata": {},
   "outputs": [
    {
     "name": "stdout",
     "output_type": "stream",
     "text": [
      "F1 наилучшей модели на валидационной выборке: 0.6092184368737475 , est: 10 , depth: 4\n",
      "Accuracy: 0.7685\n"
     ]
    }
   ],
   "source": [
    "best_model = None\n",
    "best_depth = 0\n",
    "best_est = 0\n",
    "best_result = 0\n",
    "\n",
    "for est in range(10, 81, 5):\n",
    "    for depth in range(1, 21, 1):\n",
    "        \n",
    "        model = RandomForestClassifier(random_state=12345, n_estimators=est, max_depth=depth)\n",
    "        model.fit(features_downsampled, target_downsampled)\n",
    "        predicted = model.predict(features_valid)\n",
    "        result = f1_score(target_valid, predicted)\n",
    "        \n",
    "        if result > best_result:\n",
    "            best_model = model\n",
    "            best_depth = depth\n",
    "            best_est = est\n",
    "            best_result = result\n",
    "            \n",
    "print(\"F1 наилучшей модели на валидационной выборке:\", best_result, ', est:', best_est, ', depth:', best_depth)\n",
    "print('Accuracy:', accuracy_score(target_valid, predicted))"
   ]
  },
  {
   "cell_type": "markdown",
   "metadata": {},
   "source": [
    "Случайный лес обычно показывает лучшее качество прогнозов, поэтому протестировал методы именно на этой модели в первую очередь. С учетом дисбаланса модель стала работать лучше. Лучший результат у случайного леса получился с применением метода class_weight"
   ]
  },
  {
   "cell_type": "markdown",
   "metadata": {},
   "source": [
    "# Дерево решений"
   ]
  },
  {
   "cell_type": "markdown",
   "metadata": {},
   "source": [
    "class_weight"
   ]
  },
  {
   "cell_type": "code",
   "execution_count": 27,
   "metadata": {},
   "outputs": [
    {
     "name": "stdout",
     "output_type": "stream",
     "text": [
      "F1 наилучшей модели на валидационной выборке: 0.5963791267305644 , Лучший depth: 5\n",
      "Accuracy: 0.7885\n"
     ]
    }
   ],
   "source": [
    "best_model_tree = None\n",
    "best_result_tree = 0\n",
    "best_depth_tree = 0\n",
    "\n",
    "for depth in range(1, 31, 1):\n",
    "    \n",
    "    model_tree = DecisionTreeClassifier(random_state=12345, max_depth=depth, class_weight='balanced')\n",
    "    model_tree.fit(features_train, target_train)\n",
    "    predicted_tree = model_tree.predict(features_valid)\n",
    "    result_tree = f1_score(target_valid, predicted_tree)\n",
    "    \n",
    "    if result_tree > best_result_tree:\n",
    "        best_result_tree = result_tree\n",
    "        best_model_tree = model_tree\n",
    "        best_depth_tree = depth\n",
    "        \n",
    "print('F1 наилучшей модели на валидационной выборке:', best_result_tree, ', Лучший depth:', best_depth_tree)\n",
    "print('Accuracy:', accuracy_score(target_valid, predicted_tree))\n",
    "        "
   ]
  },
  {
   "cell_type": "markdown",
   "metadata": {},
   "source": [
    "upsampling"
   ]
  },
  {
   "cell_type": "code",
   "execution_count": 28,
   "metadata": {},
   "outputs": [
    {
     "name": "stdout",
     "output_type": "stream",
     "text": [
      "F1 наилучшей модели на валидационной выборке: 0.5963791267305644 , Лучший depth: 5\n",
      "Accuracy: 0.789\n"
     ]
    }
   ],
   "source": [
    "best_model_tree = None\n",
    "best_result_tree = 0\n",
    "best_depth_tree = 0\n",
    "\n",
    "for depth in range(1, 31, 1):\n",
    "    \n",
    "    model_tree = DecisionTreeClassifier(random_state=12345, max_depth=depth)\n",
    "    model_tree.fit(features_upsampled, target_upsampled)\n",
    "    predicted_tree = model_tree.predict(features_valid)\n",
    "    result_tree = f1_score(target_valid, predicted_tree)\n",
    "    \n",
    "    if result_tree > best_result_tree:\n",
    "        best_result_tree = result_tree\n",
    "        best_model_tree = model_tree\n",
    "        best_depth_tree = depth\n",
    "        \n",
    "print('F1 наилучшей модели на валидационной выборке:', best_result_tree, ', Лучший depth:', best_depth_tree)\n",
    "print('Accuracy:', accuracy_score(target_valid, predicted_tree))\n",
    "        "
   ]
  },
  {
   "cell_type": "markdown",
   "metadata": {},
   "source": [
    "downsampling"
   ]
  },
  {
   "cell_type": "code",
   "execution_count": 29,
   "metadata": {},
   "outputs": [
    {
     "name": "stdout",
     "output_type": "stream",
     "text": [
      "F1 наилучшей модели на валидационной выборке: 0.5943204868154158 , Лучший depth: 5\n",
      "Accuracy: 0.6935\n"
     ]
    }
   ],
   "source": [
    "best_model_tree = None\n",
    "best_result_tree = 0\n",
    "best_depth_tree = 0\n",
    "\n",
    "for depth in range(1, 31, 1):\n",
    "    \n",
    "    model_tree = DecisionTreeClassifier(random_state=12345, max_depth=depth)\n",
    "    model_tree.fit(features_downsampled, target_downsampled)\n",
    "    predicted_tree = model_tree.predict(features_valid)\n",
    "    result_tree = f1_score(target_valid, predicted_tree)\n",
    "    \n",
    "    if result_tree > best_result_tree:\n",
    "        best_result_tree = result_tree\n",
    "        best_model_tree = model_tree\n",
    "        best_depth_tree = depth\n",
    "        \n",
    "print('F1 наилучшей модели на валидационной выборке:', best_result_tree, ', Лучший depth:', best_depth_tree)\n",
    "print('Accuracy:', accuracy_score(target_valid, predicted_tree))\n",
    "        "
   ]
  },
  {
   "cell_type": "markdown",
   "metadata": {},
   "source": [
    "Лучший результат у дерева решений получился с применением метода downsampling"
   ]
  },
  {
   "cell_type": "code",
   "execution_count": 30,
   "metadata": {},
   "outputs": [
    {
     "name": "stdout",
     "output_type": "stream",
     "text": [
      "Порог = 0.00 | Точность = 0.208, Полнота = 0.993\n",
      "Порог = 0.02 | Точность = 0.208, Полнота = 0.993\n",
      "Порог = 0.04 | Точность = 0.210, Полнота = 0.986\n",
      "Порог = 0.06 | Точность = 0.253, Полнота = 0.957\n",
      "Порог = 0.08 | Точность = 0.253, Полнота = 0.957\n",
      "Порог = 0.10 | Точность = 0.253, Полнота = 0.957\n",
      "Порог = 0.12 | Точность = 0.253, Полнота = 0.957\n",
      "Порог = 0.14 | Точность = 0.253, Полнота = 0.957\n",
      "Порог = 0.16 | Точность = 0.254, Полнота = 0.957\n",
      "Порог = 0.18 | Точность = 0.256, Полнота = 0.955\n",
      "Порог = 0.20 | Точность = 0.256, Полнота = 0.955\n",
      "Порог = 0.22 | Точность = 0.256, Полнота = 0.955\n",
      "Порог = 0.24 | Точность = 0.293, Полнота = 0.911\n",
      "Порог = 0.26 | Точность = 0.293, Полнота = 0.911\n",
      "Порог = 0.28 | Точность = 0.370, Полнота = 0.828\n",
      "Порог = 0.30 | Точность = 0.370, Полнота = 0.828\n",
      "Порог = 0.32 | Точность = 0.370, Полнота = 0.828\n",
      "Порог = 0.34 | Точность = 0.373, Полнота = 0.828\n",
      "Порог = 0.36 | Точность = 0.373, Полнота = 0.828\n",
      "Порог = 0.38 | Точность = 0.393, Полнота = 0.789\n",
      "Порог = 0.40 | Точность = 0.393, Полнота = 0.789\n",
      "Порог = 0.42 | Точность = 0.393, Полнота = 0.789\n",
      "Порог = 0.44 | Точность = 0.437, Полнота = 0.749\n",
      "Порог = 0.46 | Точность = 0.437, Полнота = 0.749\n",
      "Порог = 0.48 | Точность = 0.457, Полнота = 0.746\n",
      "\n",
      "F1: 0.5943204868154158\n",
      "Accuracy: 0.8\n"
     ]
    }
   ],
   "source": [
    "model_test = DecisionTreeClassifier(random_state=12345, max_depth=5)\n",
    "\n",
    "model_test.fit(features_downsampled, target_downsampled)\n",
    "\n",
    "probabilities_valid = model_test.predict_proba(features_valid)\n",
    "probabilities_one_valid = probabilities_valid[:, 1]\n",
    "\n",
    "for threshold in np.arange(0, 0.5, 0.02):\n",
    "    predicted_valid = probabilities_one_valid > threshold\n",
    "    precision = precision_score(target_valid, predicted_valid)\n",
    "    recall = recall_score(target_valid, predicted_valid)\n",
    "\n",
    "    print(\"Порог = {:.2f} | Точность = {:.3f}, Полнота = {:.3f}\".format(\n",
    "        threshold, precision, recall))\n",
    "\n",
    "predicted_test = model_test.predict(features_valid)\n",
    "f1 = f1_score(target_valid, predicted_test)\n",
    "accuracy = accuracy_score(target_valid, predicted_test)\n",
    "\n",
    "print()\n",
    "print('F1:', f1)\n",
    "print('Accuracy:', accuracy)"
   ]
  },
  {
   "cell_type": "code",
   "execution_count": 31,
   "metadata": {},
   "outputs": [
    {
     "data": {
      "image/png": "[encoded data removed]",
      "text/plain": [
       "<Figure size 432x288 with 1 Axes>"
      ]
     },
     "metadata": {},
     "output_type": "display_data"
    },
    {
     "name": "stdout",
     "output_type": "stream",
     "text": [
      "\n",
      "F1: 0.5943204868154158\n",
      "Accuracy: 0.8\n",
      "AUC-ROC: 0.8241029464247908\n"
     ]
    }
   ],
   "source": [
    "model_test = DecisionTreeClassifier(random_state=12345, max_depth=5)\n",
    "\n",
    "model_test.fit(features_downsampled, target_downsampled)\n",
    "\n",
    "probabilities_valid = model_test.predict_proba(features_valid)\n",
    "probabilities_one_valid = probabilities_valid[:, 1]\n",
    "\n",
    "fpr, tpr, thresholds = roc_curve(target_valid, probabilities_one_valid)\n",
    "\n",
    "plt.figure()\n",
    "plt.plot(fpr, tpr)\n",
    "plt.xlim([0.0, 1.0])\n",
    "plt.ylim([0.0, 1.0])\n",
    "plt.xlabel('False Positive Rate')\n",
    "plt.ylabel('True Positive Rate')\n",
    "plt.title('ROC-кривая')\n",
    "plt.show()\n",
    "\n",
    "predicted_test = model_test.predict(features_valid)\n",
    "f1 = f1_score(target_valid, predicted_test)\n",
    "accuracy = accuracy_score(target_valid, predicted_test)\n",
    "auc_roc = roc_auc_score(target_valid, probabilities_one_valid)\n",
    "\n",
    "print()\n",
    "print('F1:', f1)\n",
    "print('Accuracy:', accuracy)\n",
    "print('AUC-ROC:', auc_roc)"
   ]
  },
  {
   "cell_type": "markdown",
   "metadata": {},
   "source": [
    "# Логистическая регрессия"
   ]
  },
  {
   "cell_type": "markdown",
   "metadata": {},
   "source": [
    "class_weight"
   ]
  },
  {
   "cell_type": "code",
   "execution_count": 32,
   "metadata": {},
   "outputs": [
    {
     "name": "stdout",
     "output_type": "stream",
     "text": [
      "f1 наилучшей модели на валидационной выборке: 0.4888507718696398\n",
      "Accuracy: 0.702\n"
     ]
    }
   ],
   "source": [
    "model_log = LogisticRegression(random_state=12345, solver='liblinear', class_weight='balanced')\n",
    "model_log.fit(features_train, target_train)\n",
    "predicted_log = model_log.predict(features_valid)\n",
    "result_log = f1_score(target_valid, predicted_log)\n",
    "    \n",
    "print('f1 наилучшей модели на валидационной выборке:', result_log)\n",
    "print('Accuracy:', accuracy_score(target_valid, predicted_log))\n"
   ]
  },
  {
   "cell_type": "markdown",
   "metadata": {},
   "source": [
    "upsampling"
   ]
  },
  {
   "cell_type": "code",
   "execution_count": 33,
   "metadata": {},
   "outputs": [
    {
     "name": "stdout",
     "output_type": "stream",
     "text": [
      "F1 наилучшей модели на валидационной выборке: 0.4888507718696398\n",
      "Accuracy: 0.702\n"
     ]
    }
   ],
   "source": [
    "model_log = LogisticRegression(random_state=12345, solver='liblinear')\n",
    "model_log.fit(features_upsampled, target_upsampled)\n",
    "predicted_log = model_log.predict(features_valid)\n",
    "result_log = f1_score(target_valid, predicted_log)\n",
    "\n",
    "print('F1 наилучшей модели на валидационной выборке:', result_log)\n",
    "print('Accuracy:', accuracy_score(target_valid, predicted_log))\n"
   ]
  },
  {
   "cell_type": "markdown",
   "metadata": {},
   "source": [
    "downsampling"
   ]
  },
  {
   "cell_type": "code",
   "execution_count": 34,
   "metadata": {},
   "outputs": [
    {
     "name": "stdout",
     "output_type": "stream",
     "text": [
      "F1 наилучшей модели на валидационной выборке: 0.48406546080964685\n",
      "Accuracy: 0.7005\n"
     ]
    }
   ],
   "source": [
    "model_log = LogisticRegression(random_state=12345, solver='liblinear')\n",
    "model_log.fit(features_downsampled, target_downsampled)\n",
    "predicted_log = model_log.predict(features_valid)\n",
    "result_log = f1_score(target_valid, predicted_log)\n",
    "        \n",
    "print('F1 наилучшей модели на валидационной выборке:', result_log)\n",
    "print('Accuracy:', accuracy_score(target_valid, predicted_log))\n"
   ]
  },
  {
   "cell_type": "code",
   "execution_count": 35,
   "metadata": {},
   "outputs": [
    {
     "name": "stdout",
     "output_type": "stream",
     "text": [
      "Порог = 0.00 | Точность = 0.209, Полнота = 1.000\n",
      "Порог = 0.02 | Точность = 0.209, Полнота = 1.000\n",
      "Порог = 0.04 | Точность = 0.209, Полнота = 1.000\n",
      "Порог = 0.06 | Точность = 0.210, Полнота = 1.000\n",
      "Порог = 0.08 | Точность = 0.212, Полнота = 1.000\n",
      "Порог = 0.10 | Точность = 0.216, Полнота = 1.000\n",
      "Порог = 0.12 | Точность = 0.220, Полнота = 0.995\n",
      "Порог = 0.14 | Точность = 0.225, Полнота = 0.990\n",
      "Порог = 0.16 | Точность = 0.230, Полнота = 0.986\n",
      "Порог = 0.18 | Точность = 0.236, Полнота = 0.981\n",
      "Порог = 0.20 | Точность = 0.242, Полнота = 0.964\n",
      "Порог = 0.22 | Точность = 0.250, Полнота = 0.952\n",
      "Порог = 0.24 | Точность = 0.257, Полнота = 0.943\n",
      "Порог = 0.26 | Точность = 0.265, Полнота = 0.931\n",
      "Порог = 0.28 | Точность = 0.271, Полнота = 0.919\n",
      "\n",
      "F1 наилучшей модели на валидационной выборке: 0.48406546080964685\n",
      "Accuracy: 0.7005\n"
     ]
    }
   ],
   "source": [
    "model_log = LogisticRegression(random_state=12345, solver='liblinear')\n",
    "model_log.fit(features_downsampled, target_downsampled)\n",
    "\n",
    "probabilities_valid = model_log.predict_proba(features_valid)\n",
    "probabilities_one_valid = probabilities_valid[:, 1]\n",
    "\n",
    "for threshold in np.arange(0, 0.3, 0.02):\n",
    "    predicted_valid = probabilities_one_valid > threshold\n",
    "    precision = precision_score(target_valid, predicted_valid)\n",
    "    recall = recall_score(target_valid, predicted_valid)\n",
    "    \n",
    "    predicted_log = model_log.predict(features_valid)\n",
    "    f1 = f1_score(target_valid, predicted_log)\n",
    "\n",
    "    print(\"Порог = {:.2f} | Точность = {:.3f}, Полнота = {:.3f}\".format(\n",
    "        threshold, precision, recall))\n",
    "\n",
    "\n",
    "#predicted_log = model_log.predict(features_valid)\n",
    "result_log = f1_score(target_valid, predicted_log)\n",
    "print()\n",
    "print('F1 наилучшей модели на валидационной выборке:', result_log)\n",
    "print('Accuracy:', accuracy_score(target_valid, predicted_log))\n"
   ]
  },
  {
   "cell_type": "code",
   "execution_count": 36,
   "metadata": {},
   "outputs": [
    {
     "name": "stdout",
     "output_type": "stream",
     "text": [
      "Порог = 0.00 | Точность = 0.209, Полнота = 1.000\n",
      "Порог = 0.02 | Точность = 0.209, Полнота = 1.000\n",
      "Порог = 0.04 | Точность = 0.209, Полнота = 1.000\n",
      "Порог = 0.06 | Точность = 0.210, Полнота = 1.000\n",
      "Порог = 0.08 | Точность = 0.212, Полнота = 1.000\n",
      "Порог = 0.10 | Точность = 0.216, Полнота = 1.000\n",
      "Порог = 0.12 | Точность = 0.220, Полнота = 0.995\n",
      "Порог = 0.14 | Точность = 0.225, Полнота = 0.990\n",
      "Порог = 0.16 | Точность = 0.230, Полнота = 0.986\n",
      "Порог = 0.18 | Точность = 0.236, Полнота = 0.981\n",
      "Порог = 0.20 | Точность = 0.242, Полнота = 0.964\n",
      "Порог = 0.22 | Точность = 0.250, Полнота = 0.952\n",
      "Порог = 0.24 | Точность = 0.257, Полнота = 0.943\n",
      "Порог = 0.26 | Точность = 0.265, Полнота = 0.931\n",
      "Порог = 0.28 | Точность = 0.271, Полнота = 0.919\n",
      "\n",
      "F1 наилучшей модели на валидационной выборке: 0.48406546080964685\n",
      "Accuracy: 0.7005\n"
     ]
    }
   ],
   "source": [
    "model_log = LogisticRegression(random_state=12345, solver='liblinear')\n",
    "model_log.fit(features_downsampled, target_downsampled)\n",
    "\n",
    "probabilities_valid = model_log.predict_proba(features_valid)\n",
    "probabilities_one_valid = probabilities_valid[:, 1]\n",
    "\n",
    "for threshold in np.arange(0, 0.3, 0.02):\n",
    "    predicted_valid = probabilities_one_valid > threshold\n",
    "    precision = precision_score(target_valid, predicted_valid)\n",
    "    recall = recall_score(target_valid, predicted_valid)\n",
    "    \n",
    "    predicted_log = model_log.predict(features_valid)\n",
    "    f1 = f1_score(target_valid, predicted_log)\n",
    "\n",
    "    print(\"Порог = {:.2f} | Точность = {:.3f}, Полнота = {:.3f}\".format(\n",
    "        threshold, precision, recall))\n",
    "\n",
    "\n",
    "#predicted_log = model_log.predict(features_valid)\n",
    "result_log = f1_score(target_valid, predicted_log)\n",
    "print()\n",
    "print('F1 наилучшей модели на валидационной выборке:', result_log)\n",
    "print('Accuracy:', accuracy_score(target_valid, predicted_log))\n"
   ]
  },
  {
   "cell_type": "markdown",
   "metadata": {},
   "source": [
    "Логистическая регрессия в принципе показала себя хуже других моделей вне зависимости от метода борьбы с дисбалансом"
   ]
  },
  {
   "cell_type": "markdown",
   "metadata": {},
   "source": [
    "## Тестирование модели"
   ]
  },
  {
   "cell_type": "markdown",
   "metadata": {},
   "source": [
    "Для тестирования я выбрал модель случайного леса, потому что она показала самые лучшие результаты среди моделей"
   ]
  },
  {
   "cell_type": "markdown",
   "metadata": {},
   "source": [
    "class_weight"
   ]
  },
  {
   "cell_type": "code",
   "execution_count": 40,
   "metadata": {},
   "outputs": [
    {
     "name": "stdout",
     "output_type": "stream",
     "text": [
      "F1 наилучшей модели на валидационной выборке: 0.6124293785310734\n",
      "Accuracy: 0.8285\n"
     ]
    }
   ],
   "source": [
    "model = RandomForestClassifier(random_state=12345, class_weight='balanced', n_estimators=80, max_depth=9)\n",
    "model.fit(features_train, target_train)\n",
    "predicted = model.predict(features_test)\n",
    "result = f1_score(target_test, predicted)\n",
    "\n",
    "print(\"F1 наилучшей модели на валидационной выборке:\", result)\n",
    "print('Accuracy:', accuracy_score(target_test, predicted))"
   ]
  },
  {
   "cell_type": "markdown",
   "metadata": {},
   "source": [
    "В ходе проекта были обнаружены пропуски в колонке Tenure, которые я заполнил медианой. Обнаружен дисбаланс классов с которым я справился при помощи метода class_weight (на тестовой выборке он оказался самым эффективным). При исследовании разных моделей было выявлено, что лучше всех себя показала в нашей задаче модель случайного дерева. Достигнуто необходимое значение F1 > 0.59."
   ]
  }
 ],
 "metadata": {
  "ExecuteTimeLog": [
   {
    "duration": 368,
    "start_time": "2021-07-15T17:07:16.982Z"
   },
   {
    "duration": 773,
    "start_time": "2021-07-15T17:07:26.272Z"
   },
   {
    "duration": 65,
    "start_time": "2021-07-15T17:07:28.044Z"
   },
   {
    "duration": 450,
    "start_time": "2021-07-18T13:12:06.105Z"
   },
   {
    "duration": 762,
    "start_time": "2021-07-18T13:12:08.820Z"
   },
   {
    "duration": 474,
    "start_time": "2021-07-18T13:12:10.905Z"
   },
   {
    "duration": 61,
    "start_time": "2021-07-18T13:12:17.100Z"
   },
   {
    "duration": 14,
    "start_time": "2021-07-18T13:12:19.177Z"
   },
   {
    "duration": 397,
    "start_time": "2021-07-18T13:19:46.094Z"
   },
   {
    "duration": 20,
    "start_time": "2021-07-18T13:19:58.245Z"
   },
   {
    "duration": 378,
    "start_time": "2021-07-18T13:20:31.400Z"
   },
   {
    "duration": 157,
    "start_time": "2021-07-18T13:21:11.528Z"
   },
   {
    "duration": 343,
    "start_time": "2021-07-18T13:21:16.113Z"
   },
   {
    "duration": 358,
    "start_time": "2021-07-18T13:21:20.166Z"
   },
   {
    "duration": 6,
    "start_time": "2021-07-18T13:23:11.585Z"
   },
   {
    "duration": 336,
    "start_time": "2021-07-18T13:23:21.488Z"
   },
   {
    "duration": 6,
    "start_time": "2021-07-18T13:23:30.944Z"
   },
   {
    "duration": 338,
    "start_time": "2021-07-18T13:23:57.928Z"
   },
   {
    "duration": 10,
    "start_time": "2021-07-18T13:24:45.061Z"
   },
   {
    "duration": 25,
    "start_time": "2021-07-18T13:24:53.588Z"
   },
   {
    "duration": 381,
    "start_time": "2021-07-18T13:25:59.230Z"
   },
   {
    "duration": 360,
    "start_time": "2021-07-18T13:29:22.418Z"
   },
   {
    "duration": 5,
    "start_time": "2021-07-18T13:35:35.577Z"
   },
   {
    "duration": 4,
    "start_time": "2021-07-18T13:36:00.258Z"
   },
   {
    "duration": 381,
    "start_time": "2021-07-18T13:36:49.173Z"
   },
   {
    "duration": 363,
    "start_time": "2021-07-18T13:37:07.492Z"
   },
   {
    "duration": 179,
    "start_time": "2021-07-18T13:45:09.918Z"
   },
   {
    "duration": 141,
    "start_time": "2021-07-18T13:45:16.601Z"
   },
   {
    "duration": 22,
    "start_time": "2021-07-18T13:45:28.863Z"
   },
   {
    "duration": 112,
    "start_time": "2021-07-18T13:45:43.063Z"
   },
   {
    "duration": 115,
    "start_time": "2021-07-18T13:46:04.063Z"
   },
   {
    "duration": 117,
    "start_time": "2021-07-18T13:47:12.703Z"
   },
   {
    "duration": 121,
    "start_time": "2021-07-18T13:49:30.104Z"
   },
   {
    "duration": 449,
    "start_time": "2021-07-18T13:50:11.866Z"
   },
   {
    "duration": 433,
    "start_time": "2021-07-18T13:50:19.512Z"
   },
   {
    "duration": 470,
    "start_time": "2021-07-18T13:50:25.513Z"
   },
   {
    "duration": 439,
    "start_time": "2021-07-18T13:50:31.417Z"
   },
   {
    "duration": 15,
    "start_time": "2021-07-18T13:50:46.474Z"
   },
   {
    "duration": 21,
    "start_time": "2021-07-18T13:51:28.737Z"
   },
   {
    "duration": 14,
    "start_time": "2021-07-18T13:51:38.594Z"
   },
   {
    "duration": 14,
    "start_time": "2021-07-18T13:51:43.853Z"
   },
   {
    "duration": 21,
    "start_time": "2021-07-18T13:52:23.864Z"
   },
   {
    "duration": 1661,
    "start_time": "2021-07-18T13:52:35.994Z"
   },
   {
    "duration": 483,
    "start_time": "2021-07-18T13:52:37.657Z"
   },
   {
    "duration": 11,
    "start_time": "2021-07-18T13:52:38.146Z"
   },
   {
    "duration": 23,
    "start_time": "2021-07-18T13:52:38.159Z"
   },
   {
    "duration": 11,
    "start_time": "2021-07-18T13:52:38.185Z"
   },
   {
    "duration": 95,
    "start_time": "2021-07-18T13:59:59.058Z"
   },
   {
    "duration": 6,
    "start_time": "2021-07-18T14:07:43.618Z"
   },
   {
    "duration": 11,
    "start_time": "2021-07-18T14:07:57.385Z"
   },
   {
    "duration": 780,
    "start_time": "2021-07-18T14:08:34.562Z"
   },
   {
    "duration": 62,
    "start_time": "2021-07-18T14:08:35.346Z"
   },
   {
    "duration": 12,
    "start_time": "2021-07-18T14:08:35.411Z"
   },
   {
    "duration": 19,
    "start_time": "2021-07-18T14:08:35.425Z"
   },
   {
    "duration": 30,
    "start_time": "2021-07-18T14:08:35.446Z"
   },
   {
    "duration": 5,
    "start_time": "2021-07-18T14:08:35.478Z"
   },
   {
    "duration": 6,
    "start_time": "2021-07-18T14:09:03.494Z"
   },
   {
    "duration": 54,
    "start_time": "2021-07-18T14:09:43.698Z"
   },
   {
    "duration": 11,
    "start_time": "2021-07-18T14:09:59.201Z"
   },
   {
    "duration": 11,
    "start_time": "2021-07-18T14:10:09.813Z"
   },
   {
    "duration": 321,
    "start_time": "2021-07-18T14:18:00.847Z"
   },
   {
    "duration": 550,
    "start_time": "2021-07-18T14:19:46.519Z"
   },
   {
    "duration": 179,
    "start_time": "2021-07-18T14:21:30.908Z"
   },
   {
    "duration": 5571,
    "start_time": "2021-07-18T14:21:37.087Z"
   },
   {
    "duration": 1273,
    "start_time": "2021-07-18T14:21:59.000Z"
   },
   {
    "duration": 62,
    "start_time": "2021-07-18T14:22:00.275Z"
   },
   {
    "duration": 12,
    "start_time": "2021-07-18T14:22:00.340Z"
   },
   {
    "duration": 20,
    "start_time": "2021-07-18T14:22:00.368Z"
   },
   {
    "duration": 9,
    "start_time": "2021-07-18T14:22:00.391Z"
   },
   {
    "duration": 18,
    "start_time": "2021-07-18T14:22:00.403Z"
   },
   {
    "duration": 203,
    "start_time": "2021-07-18T14:22:00.423Z"
   },
   {
    "duration": 5659,
    "start_time": "2021-07-18T14:22:00.629Z"
   },
   {
    "duration": 1440,
    "start_time": "2021-07-18T14:22:59.864Z"
   },
   {
    "duration": 90,
    "start_time": "2021-07-18T14:23:01.307Z"
   },
   {
    "duration": 19,
    "start_time": "2021-07-18T14:23:01.401Z"
   },
   {
    "duration": 33,
    "start_time": "2021-07-18T14:23:01.423Z"
   },
   {
    "duration": 23,
    "start_time": "2021-07-18T14:23:01.459Z"
   },
   {
    "duration": 15,
    "start_time": "2021-07-18T14:23:01.485Z"
   },
   {
    "duration": 15,
    "start_time": "2021-07-18T14:23:01.502Z"
   },
   {
    "duration": 351,
    "start_time": "2021-07-18T14:23:01.519Z"
   },
   {
    "duration": 172,
    "start_time": "2021-07-18T14:24:04.235Z"
   },
   {
    "duration": 109,
    "start_time": "2021-07-18T14:24:11.681Z"
   },
   {
    "duration": 9,
    "start_time": "2021-07-18T14:25:05.001Z"
   },
   {
    "duration": 9,
    "start_time": "2021-07-18T14:25:15.541Z"
   },
   {
    "duration": 24,
    "start_time": "2021-07-18T14:25:21.413Z"
   },
   {
    "duration": 20,
    "start_time": "2021-07-18T14:26:36.594Z"
   },
   {
    "duration": 22,
    "start_time": "2021-07-18T14:27:02.655Z"
   },
   {
    "duration": 27,
    "start_time": "2021-07-18T14:28:08.971Z"
   },
   {
    "duration": 33,
    "start_time": "2021-07-18T14:30:34.817Z"
   },
   {
    "duration": 329,
    "start_time": "2021-07-18T14:30:42.992Z"
   },
   {
    "duration": 63,
    "start_time": "2021-07-18T14:38:49.928Z"
   },
   {
    "duration": 258,
    "start_time": "2021-07-18T14:41:54.285Z"
   },
   {
    "duration": 342,
    "start_time": "2021-07-18T14:42:49.654Z"
   },
   {
    "duration": 39,
    "start_time": "2021-07-18T14:43:37.169Z"
   },
   {
    "duration": 38,
    "start_time": "2021-07-18T14:43:48.785Z"
   },
   {
    "duration": 36,
    "start_time": "2021-07-18T14:43:58.502Z"
   },
   {
    "duration": 613,
    "start_time": "2021-07-18T14:51:21.562Z"
   },
   {
    "duration": 355,
    "start_time": "2021-07-18T14:51:32.290Z"
   },
   {
    "duration": 92,
    "start_time": "2021-07-18T14:56:49.218Z"
   },
   {
    "duration": 381,
    "start_time": "2021-07-18T16:14:16.275Z"
   },
   {
    "duration": 336,
    "start_time": "2021-07-18T16:14:36.156Z"
   },
   {
    "duration": 346,
    "start_time": "2021-07-18T16:14:51.266Z"
   },
   {
    "duration": 345,
    "start_time": "2021-07-18T16:15:16.767Z"
   },
   {
    "duration": 329,
    "start_time": "2021-07-18T16:15:26.828Z"
   },
   {
    "duration": 346,
    "start_time": "2021-07-18T16:16:00.472Z"
   },
   {
    "duration": 47,
    "start_time": "2021-07-18T16:17:55.554Z"
   },
   {
    "duration": 3,
    "start_time": "2021-07-18T16:19:06.671Z"
   },
   {
    "duration": 852,
    "start_time": "2021-07-18T16:28:12.692Z"
   },
   {
    "duration": 4,
    "start_time": "2021-07-18T16:28:39.451Z"
   },
   {
    "duration": 222286,
    "start_time": "2021-07-18T16:28:44.017Z"
   },
   {
    "duration": 461,
    "start_time": "2021-07-18T17:01:17.171Z"
   },
   {
    "duration": 410,
    "start_time": "2021-07-18T17:02:23.804Z"
   },
   {
    "duration": 6,
    "start_time": "2021-07-18T17:02:49.169Z"
   },
   {
    "duration": 542,
    "start_time": "2021-07-18T17:02:55.825Z"
   },
   {
    "duration": 5,
    "start_time": "2021-07-18T17:05:20.073Z"
   },
   {
    "duration": 391,
    "start_time": "2021-07-18T17:08:52.128Z"
   },
   {
    "duration": 8,
    "start_time": "2021-07-18T17:08:59.629Z"
   },
   {
    "duration": 5,
    "start_time": "2021-07-18T17:12:37.631Z"
   },
   {
    "duration": 8,
    "start_time": "2021-07-18T17:13:50.932Z"
   },
   {
    "duration": 333,
    "start_time": "2021-07-18T17:18:03.132Z"
   },
   {
    "duration": 5,
    "start_time": "2021-07-18T17:18:57.189Z"
   },
   {
    "duration": 7,
    "start_time": "2021-07-18T17:19:02.928Z"
   },
   {
    "duration": 8,
    "start_time": "2021-07-18T17:20:06.356Z"
   },
   {
    "duration": 6,
    "start_time": "2021-07-18T17:22:42.688Z"
   },
   {
    "duration": 7,
    "start_time": "2021-07-18T17:22:58.715Z"
   },
   {
    "duration": 230,
    "start_time": "2021-07-18T17:23:14.743Z"
   },
   {
    "duration": 357,
    "start_time": "2021-07-18T17:23:22.514Z"
   },
   {
    "duration": 222,
    "start_time": "2021-07-18T17:23:25.765Z"
   },
   {
    "duration": 242,
    "start_time": "2021-07-18T17:23:31.662Z"
   },
   {
    "duration": 8,
    "start_time": "2021-07-18T17:23:40.153Z"
   },
   {
    "duration": 219,
    "start_time": "2021-07-18T17:23:45.562Z"
   },
   {
    "duration": 1642,
    "start_time": "2021-07-18T18:03:33.270Z"
   },
   {
    "duration": 117,
    "start_time": "2021-07-18T18:03:34.915Z"
   },
   {
    "duration": 15,
    "start_time": "2021-07-18T18:03:35.036Z"
   },
   {
    "duration": 22,
    "start_time": "2021-07-18T18:03:35.055Z"
   },
   {
    "duration": 10,
    "start_time": "2021-07-18T18:03:35.079Z"
   },
   {
    "duration": 12,
    "start_time": "2021-07-18T18:03:35.092Z"
   },
   {
    "duration": 219,
    "start_time": "2021-07-18T18:03:35.106Z"
   },
   {
    "duration": 70,
    "start_time": "2021-07-18T18:03:35.329Z"
   },
   {
    "duration": 344,
    "start_time": "2021-07-18T18:03:35.402Z"
   },
   {
    "duration": 406,
    "start_time": "2021-07-18T18:03:35.749Z"
   },
   {
    "duration": 76,
    "start_time": "2021-07-18T18:03:36.157Z"
   },
   {
    "duration": 235764,
    "start_time": "2021-07-18T18:03:36.236Z"
   },
   {
    "duration": 610,
    "start_time": "2021-07-18T18:07:32.003Z"
   },
   {
    "duration": 8,
    "start_time": "2021-07-18T18:07:32.615Z"
   },
   {
    "duration": 8,
    "start_time": "2021-07-18T18:07:32.626Z"
   },
   {
    "duration": 34,
    "start_time": "2021-07-18T18:07:32.637Z"
   },
   {
    "duration": 239,
    "start_time": "2021-07-18T18:07:32.673Z"
   },
   {
    "duration": 129,
    "start_time": "2021-07-18T18:07:32.914Z"
   },
   {
    "duration": 237464,
    "start_time": "2021-07-18T18:10:05.114Z"
   },
   {
    "duration": 407,
    "start_time": "2021-07-19T19:20:46.030Z"
   },
   {
    "duration": 1590,
    "start_time": "2021-07-19T19:21:42.698Z"
   },
   {
    "duration": 5,
    "start_time": "2021-07-19T19:23:20.600Z"
   },
   {
    "duration": 5,
    "start_time": "2021-07-19T19:25:48.350Z"
   },
   {
    "duration": 238,
    "start_time": "2021-07-19T19:25:52.361Z"
   },
   {
    "duration": 28,
    "start_time": "2021-07-19T19:25:58.469Z"
   },
   {
    "duration": 16,
    "start_time": "2021-07-19T19:26:03.165Z"
   },
   {
    "duration": 318,
    "start_time": "2021-07-19T19:26:07.837Z"
   },
   {
    "duration": 75,
    "start_time": "2021-07-19T19:26:18.023Z"
   },
   {
    "duration": 338,
    "start_time": "2021-07-19T19:26:20.757Z"
   },
   {
    "duration": 381,
    "start_time": "2021-07-19T19:26:27.683Z"
   },
   {
    "duration": 112,
    "start_time": "2021-07-19T19:26:34.885Z"
   },
   {
    "duration": 560,
    "start_time": "2021-07-19T19:26:51.124Z"
   },
   {
    "duration": 338,
    "start_time": "2021-07-19T19:28:19.391Z"
   },
   {
    "duration": 534,
    "start_time": "2021-07-19T19:28:33.080Z"
   },
   {
    "duration": 347523,
    "start_time": "2021-07-19T19:29:26.435Z"
   },
   {
    "duration": 1502,
    "start_time": "2021-07-21T15:24:49.658Z"
   },
   {
    "duration": 1471,
    "start_time": "2021-07-21T15:32:27.233Z"
   },
   {
    "duration": 57,
    "start_time": "2021-07-21T15:32:28.707Z"
   },
   {
    "duration": 11,
    "start_time": "2021-07-21T15:32:28.768Z"
   },
   {
    "duration": 33,
    "start_time": "2021-07-21T15:32:28.781Z"
   },
   {
    "duration": 9,
    "start_time": "2021-07-21T15:32:28.817Z"
   },
   {
    "duration": 10,
    "start_time": "2021-07-21T15:32:28.828Z"
   },
   {
    "duration": 208,
    "start_time": "2021-07-21T15:32:28.841Z"
   },
   {
    "duration": 59,
    "start_time": "2021-07-21T15:32:29.053Z"
   },
   {
    "duration": 340,
    "start_time": "2021-07-21T15:32:29.115Z"
   },
   {
    "duration": 380,
    "start_time": "2021-07-21T15:32:29.458Z"
   },
   {
    "duration": 79,
    "start_time": "2021-07-21T15:32:29.841Z"
   },
   {
    "duration": 210287,
    "start_time": "2021-07-21T15:32:29.922Z"
   },
   {
    "duration": 522,
    "start_time": "2021-07-21T15:36:00.212Z"
   },
   {
    "duration": 9,
    "start_time": "2021-07-21T15:36:00.736Z"
   },
   {
    "duration": 14,
    "start_time": "2021-07-21T15:36:00.747Z"
   },
   {
    "duration": 11,
    "start_time": "2021-07-21T15:36:00.763Z"
   },
   {
    "duration": 247,
    "start_time": "2021-07-21T15:36:00.776Z"
   },
   {
    "duration": 217888,
    "start_time": "2021-07-21T15:36:01.026Z"
   },
   {
    "duration": 551,
    "start_time": "2021-07-21T15:39:38.917Z"
   },
   {
    "duration": 334390,
    "start_time": "2021-07-21T15:39:39.471Z"
   },
   {
    "duration": 15137,
    "start_time": "2021-07-21T15:45:13.864Z"
   },
   {
    "duration": 23352,
    "start_time": "2021-07-21T16:07:53.340Z"
   },
   {
    "duration": 22873,
    "start_time": "2021-07-21T16:12:39.372Z"
   },
   {
    "duration": 6,
    "start_time": "2021-07-21T16:14:00.412Z"
   },
   {
    "duration": 17896,
    "start_time": "2021-07-21T16:17:41.714Z"
   },
   {
    "duration": 468,
    "start_time": "2021-07-21T16:19:16.840Z"
   },
   {
    "duration": 782,
    "start_time": "2021-07-21T16:20:06.324Z"
   },
   {
    "duration": 422,
    "start_time": "2021-07-21T19:53:19.582Z"
   },
   {
    "duration": 6,
    "start_time": "2021-07-21T19:53:30.564Z"
   },
   {
    "duration": 49,
    "start_time": "2021-07-21T19:53:57.615Z"
   },
   {
    "duration": 20,
    "start_time": "2021-07-21T19:54:04.745Z"
   },
   {
    "duration": 14,
    "start_time": "2021-07-21T19:54:07.817Z"
   },
   {
    "duration": 178,
    "start_time": "2021-07-21T19:54:11.572Z"
   },
   {
    "duration": 51,
    "start_time": "2021-07-21T19:54:14.715Z"
   },
   {
    "duration": 313,
    "start_time": "2021-07-21T19:54:22.460Z"
   },
   {
    "duration": 404,
    "start_time": "2021-07-21T19:54:25.069Z"
   },
   {
    "duration": 473,
    "start_time": "2021-07-21T19:54:57.562Z"
   },
   {
    "duration": 324993,
    "start_time": "2021-07-21T19:55:20.950Z"
   },
   {
    "duration": 7,
    "start_time": "2021-07-21T20:06:30.787Z"
   },
   {
    "duration": 324692,
    "start_time": "2021-07-21T20:11:52.976Z"
   },
   {
    "duration": 1642,
    "start_time": "2021-07-23T18:29:27.761Z"
   },
   {
    "duration": 55,
    "start_time": "2021-07-23T18:29:29.406Z"
   },
   {
    "duration": 11,
    "start_time": "2021-07-23T18:29:29.468Z"
   },
   {
    "duration": 19,
    "start_time": "2021-07-23T18:29:29.481Z"
   },
   {
    "duration": 11,
    "start_time": "2021-07-23T18:29:29.502Z"
   },
   {
    "duration": 14,
    "start_time": "2021-07-23T18:29:29.515Z"
   },
   {
    "duration": 193,
    "start_time": "2021-07-23T18:29:29.569Z"
   },
   {
    "duration": 50,
    "start_time": "2021-07-23T18:29:29.768Z"
   },
   {
    "duration": 361,
    "start_time": "2021-07-23T18:29:29.820Z"
   },
   {
    "duration": 396,
    "start_time": "2021-07-23T18:29:30.184Z"
   },
   {
    "duration": 87,
    "start_time": "2021-07-23T18:29:30.582Z"
   },
   {
    "duration": 226449,
    "start_time": "2021-07-23T18:29:30.671Z"
   },
   {
    "duration": 552,
    "start_time": "2021-07-23T18:33:17.123Z"
   },
   {
    "duration": 8,
    "start_time": "2021-07-23T18:33:17.677Z"
   },
   {
    "duration": 7,
    "start_time": "2021-07-23T18:33:17.687Z"
   },
   {
    "duration": 9,
    "start_time": "2021-07-23T18:33:17.697Z"
   },
   {
    "duration": 258,
    "start_time": "2021-07-23T18:33:17.708Z"
   },
   {
    "duration": 227999,
    "start_time": "2021-07-23T18:33:17.968Z"
   },
   {
    "duration": 568,
    "start_time": "2021-07-23T18:37:05.970Z"
   },
   {
    "duration": 352027,
    "start_time": "2021-07-23T18:37:06.541Z"
   },
   {
    "duration": 16829,
    "start_time": "2021-07-23T18:42:58.571Z"
   },
   {
    "duration": 24449,
    "start_time": "2021-07-23T18:43:15.404Z"
   },
   {
    "duration": 518,
    "start_time": "2021-07-23T18:43:39.855Z"
   },
   {
    "duration": 808,
    "start_time": "2021-07-23T18:43:40.466Z"
   },
   {
    "duration": 344690,
    "start_time": "2021-07-23T18:43:41.277Z"
   },
   {
    "duration": 605,
    "start_time": "2021-07-23T19:07:38.290Z"
   },
   {
    "duration": 620,
    "start_time": "2021-07-23T19:10:47.304Z"
   },
   {
    "duration": 122,
    "start_time": "2021-07-23T19:10:53.050Z"
   },
   {
    "duration": 831,
    "start_time": "2021-07-23T19:11:20.213Z"
   },
   {
    "duration": 8,
    "start_time": "2021-07-23T19:13:33.258Z"
   },
   {
    "duration": 238,
    "start_time": "2021-07-23T19:13:40.473Z"
   },
   {
    "duration": 738,
    "start_time": "2021-07-23T19:15:37.288Z"
   },
   {
    "duration": 110,
    "start_time": "2021-07-23T19:20:57.134Z"
   },
   {
    "duration": 1356,
    "start_time": "2021-07-23T19:21:05.013Z"
   },
   {
    "duration": 1377,
    "start_time": "2021-07-23T19:21:28.099Z"
   },
   {
    "duration": 1523,
    "start_time": "2021-07-23T19:21:35.104Z"
   },
   {
    "duration": 1256,
    "start_time": "2021-07-23T19:21:41.387Z"
   },
   {
    "duration": 1358,
    "start_time": "2021-07-23T19:21:49.747Z"
   },
   {
    "duration": 1579,
    "start_time": "2021-07-23T19:22:02.876Z"
   },
   {
    "duration": 1357,
    "start_time": "2021-07-23T19:22:07.872Z"
   },
   {
    "duration": 614,
    "start_time": "2021-07-23T19:23:29.113Z"
   },
   {
    "duration": 607,
    "start_time": "2021-07-23T19:24:14.439Z"
   },
   {
    "duration": 380,
    "start_time": "2021-07-23T19:35:11.610Z"
   },
   {
    "duration": 290,
    "start_time": "2021-07-23T19:35:49.921Z"
   },
   {
    "duration": 307,
    "start_time": "2021-07-23T19:35:55.346Z"
   },
   {
    "duration": 295,
    "start_time": "2021-07-23T19:36:03.882Z"
   },
   {
    "duration": 5396,
    "start_time": "2021-07-23T19:37:25.883Z"
   },
   {
    "duration": 146,
    "start_time": "2021-07-23T19:38:31.393Z"
   },
   {
    "duration": 152,
    "start_time": "2021-07-23T19:38:35.979Z"
   },
   {
    "duration": 147,
    "start_time": "2021-07-23T19:39:41.153Z"
   },
   {
    "duration": 1145,
    "start_time": "2021-07-24T13:14:49.891Z"
   },
   {
    "duration": 42,
    "start_time": "2021-07-24T13:14:51.038Z"
   },
   {
    "duration": 8,
    "start_time": "2021-07-24T13:14:51.082Z"
   },
   {
    "duration": 12,
    "start_time": "2021-07-24T13:14:51.091Z"
   },
   {
    "duration": 8,
    "start_time": "2021-07-24T13:14:51.105Z"
   },
   {
    "duration": 8,
    "start_time": "2021-07-24T13:14:51.115Z"
   },
   {
    "duration": 148,
    "start_time": "2021-07-24T13:14:51.125Z"
   },
   {
    "duration": 36,
    "start_time": "2021-07-24T13:14:51.276Z"
   },
   {
    "duration": 225,
    "start_time": "2021-07-24T13:14:51.314Z"
   },
   {
    "duration": 301,
    "start_time": "2021-07-24T13:14:51.541Z"
   },
   {
    "duration": 50,
    "start_time": "2021-07-24T13:14:51.844Z"
   },
   {
    "duration": 176401,
    "start_time": "2021-07-24T13:14:51.896Z"
   },
   {
    "duration": 353,
    "start_time": "2021-07-24T13:17:48.298Z"
   },
   {
    "duration": 5,
    "start_time": "2021-07-24T13:17:48.652Z"
   },
   {
    "duration": 5,
    "start_time": "2021-07-24T13:17:48.659Z"
   },
   {
    "duration": 19,
    "start_time": "2021-07-24T13:17:48.666Z"
   },
   {
    "duration": 140,
    "start_time": "2021-07-24T13:17:48.687Z"
   },
   {
    "duration": 181035,
    "start_time": "2021-07-24T13:17:48.829Z"
   },
   {
    "duration": 410,
    "start_time": "2021-07-24T13:20:49.866Z"
   },
   {
    "duration": 264,
    "start_time": "2021-07-24T13:20:50.278Z"
   },
   {
    "duration": 278877,
    "start_time": "2021-07-24T13:20:50.544Z"
   },
   {
    "duration": 13094,
    "start_time": "2021-07-24T13:25:29.423Z"
   },
   {
    "duration": 19467,
    "start_time": "2021-07-24T13:25:42.520Z"
   },
   {
    "duration": 4004,
    "start_time": "2021-07-24T13:26:01.989Z"
   },
   {
    "duration": 393,
    "start_time": "2021-07-24T13:26:05.995Z"
   },
   {
    "duration": 798,
    "start_time": "2021-07-24T13:26:06.390Z"
   },
   {
    "duration": 440,
    "start_time": "2021-07-24T13:26:07.192Z"
   },
   {
    "duration": 522,
    "start_time": "2021-07-24T13:26:07.633Z"
   },
   {
    "duration": 147,
    "start_time": "2021-07-24T13:26:08.157Z"
   },
   {
    "duration": 79340,
    "start_time": "2021-07-24T13:30:33.053Z"
   },
   {
    "duration": 678,
    "start_time": "2021-07-24T13:34:35.006Z"
   },
   {
    "duration": 236,
    "start_time": "2021-07-24T13:34:39.052Z"
   },
   {
    "duration": 435,
    "start_time": "2021-07-24T13:34:49.451Z"
   },
   {
    "duration": 391,
    "start_time": "2021-07-24T13:35:26.295Z"
   },
   {
    "duration": 618,
    "start_time": "2021-07-24T13:35:44.068Z"
   },
   {
    "duration": 203,
    "start_time": "2021-07-24T13:36:00.383Z"
   },
   {
    "duration": 220,
    "start_time": "2021-07-25T18:31:36.305Z"
   },
   {
    "duration": 1116,
    "start_time": "2021-07-25T18:31:57.813Z"
   },
   {
    "duration": 42,
    "start_time": "2021-07-25T18:32:03.196Z"
   },
   {
    "duration": 13,
    "start_time": "2021-07-25T18:32:06.616Z"
   },
   {
    "duration": 9,
    "start_time": "2021-07-25T18:32:10.327Z"
   },
   {
    "duration": 124,
    "start_time": "2021-07-25T18:32:12.673Z"
   },
   {
    "duration": 39,
    "start_time": "2021-07-25T18:32:16.237Z"
   },
   {
    "duration": 223,
    "start_time": "2021-07-25T18:32:20.898Z"
   },
   {
    "duration": 296,
    "start_time": "2021-07-25T18:32:27.032Z"
   },
   {
    "duration": 44,
    "start_time": "2021-07-25T18:32:31.985Z"
   },
   {
    "duration": 229,
    "start_time": "2021-07-25T18:33:16.390Z"
   },
   {
    "duration": 390,
    "start_time": "2021-07-25T18:33:20.413Z"
   },
   {
    "duration": 188,
    "start_time": "2021-07-25T18:33:22.478Z"
   },
   {
    "duration": 511,
    "start_time": "2021-07-25T18:33:29.345Z"
   },
   {
    "duration": 3322,
    "start_time": "2021-07-25T18:33:50.675Z"
   },
   {
    "duration": 3092,
    "start_time": "2021-07-25T18:35:00.408Z"
   },
   {
    "duration": 3164,
    "start_time": "2021-07-25T18:35:54.724Z"
   },
   {
    "duration": 3217,
    "start_time": "2021-07-25T18:36:19.670Z"
   },
   {
    "duration": 515,
    "start_time": "2021-07-25T18:37:58.670Z"
   },
   {
    "duration": 119,
    "start_time": "2021-07-25T18:38:10.889Z"
   },
   {
    "duration": 187,
    "start_time": "2021-07-25T18:45:33.432Z"
   },
   {
    "duration": 887,
    "start_time": "2021-07-25T18:47:18.859Z"
   },
   {
    "duration": 871,
    "start_time": "2021-07-25T18:50:08.909Z"
   },
   {
    "duration": 224,
    "start_time": "2021-07-25T18:51:34.093Z"
   },
   {
    "duration": 216,
    "start_time": "2021-07-25T18:51:47.238Z"
   },
   {
    "duration": 218,
    "start_time": "2021-07-25T18:52:10.203Z"
   },
   {
    "duration": 4,
    "start_time": "2021-07-25T18:53:27.021Z"
   },
   {
    "duration": 4,
    "start_time": "2021-07-25T18:55:55.614Z"
   },
   {
    "duration": 303,
    "start_time": "2021-07-25T18:58:24.840Z"
   },
   {
    "duration": 4,
    "start_time": "2021-07-25T18:59:10.402Z"
   },
   {
    "duration": 312,
    "start_time": "2021-07-25T18:59:47.038Z"
   },
   {
    "duration": 364,
    "start_time": "2021-07-25T19:00:34.038Z"
   },
   {
    "duration": 296,
    "start_time": "2021-07-25T19:00:53.645Z"
   },
   {
    "duration": 1187,
    "start_time": "2021-07-26T15:37:05.055Z"
   },
   {
    "duration": 71,
    "start_time": "2021-07-26T15:37:07.801Z"
   },
   {
    "duration": 13,
    "start_time": "2021-07-26T15:37:11.257Z"
   },
   {
    "duration": 8,
    "start_time": "2021-07-26T15:37:23.422Z"
   },
   {
    "duration": 117,
    "start_time": "2021-07-26T15:37:45.403Z"
   },
   {
    "duration": 38,
    "start_time": "2021-07-26T15:38:08.248Z"
   },
   {
    "duration": 213,
    "start_time": "2021-07-26T15:38:12.704Z"
   },
   {
    "duration": 299,
    "start_time": "2021-07-26T15:38:16.223Z"
   },
   {
    "duration": 45,
    "start_time": "2021-07-26T15:38:19.296Z"
   },
   {
    "duration": 41,
    "start_time": "2021-07-26T15:38:24.122Z"
   },
   {
    "duration": 387,
    "start_time": "2021-07-26T15:39:06.272Z"
   },
   {
    "duration": 186,
    "start_time": "2021-07-26T15:39:08.942Z"
   },
   {
    "duration": 221,
    "start_time": "2021-07-26T15:39:18.170Z"
   },
   {
    "duration": 306,
    "start_time": "2021-07-26T15:39:22.796Z"
   },
   {
    "duration": 279,
    "start_time": "2021-07-26T15:52:35.095Z"
   },
   {
    "duration": 169,
    "start_time": "2021-07-26T15:52:42.995Z"
   },
   {
    "duration": 181,
    "start_time": "2021-07-26T15:52:46.705Z"
   },
   {
    "duration": 65,
    "start_time": "2021-07-26T15:53:34.840Z"
   },
   {
    "duration": 5636,
    "start_time": "2021-07-26T16:12:15.860Z"
   },
   {
    "duration": 61,
    "start_time": "2021-07-26T16:12:41.712Z"
   },
   {
    "duration": 4422,
    "start_time": "2021-07-26T16:13:06.397Z"
   },
   {
    "duration": 1085,
    "start_time": "2021-07-26T16:13:58.543Z"
   },
   {
    "duration": 42,
    "start_time": "2021-07-26T16:13:59.630Z"
   },
   {
    "duration": 8,
    "start_time": "2021-07-26T16:13:59.674Z"
   },
   {
    "duration": 20,
    "start_time": "2021-07-26T16:13:59.685Z"
   },
   {
    "duration": 15,
    "start_time": "2021-07-26T16:13:59.707Z"
   },
   {
    "duration": 24,
    "start_time": "2021-07-26T16:13:59.723Z"
   },
   {
    "duration": 122,
    "start_time": "2021-07-26T16:13:59.749Z"
   },
   {
    "duration": 37,
    "start_time": "2021-07-26T16:13:59.874Z"
   },
   {
    "duration": 223,
    "start_time": "2021-07-26T16:13:59.913Z"
   },
   {
    "duration": 310,
    "start_time": "2021-07-26T16:14:00.138Z"
   },
   {
    "duration": 52,
    "start_time": "2021-07-26T16:14:00.449Z"
   },
   {
    "duration": 177234,
    "start_time": "2021-07-26T16:14:00.503Z"
   },
   {
    "duration": 375,
    "start_time": "2021-07-26T16:16:57.740Z"
   },
   {
    "duration": 7,
    "start_time": "2021-07-26T16:16:58.117Z"
   },
   {
    "duration": 6,
    "start_time": "2021-07-26T16:16:58.126Z"
   },
   {
    "duration": 6,
    "start_time": "2021-07-26T16:16:58.134Z"
   },
   {
    "duration": 161,
    "start_time": "2021-07-26T16:16:58.142Z"
   },
   {
    "duration": 183004,
    "start_time": "2021-07-26T16:16:58.305Z"
   },
   {
    "duration": 403,
    "start_time": "2021-07-26T16:20:01.311Z"
   },
   {
    "duration": 266,
    "start_time": "2021-07-26T16:20:01.715Z"
   },
   {
    "duration": 282610,
    "start_time": "2021-07-26T16:20:01.985Z"
   },
   {
    "duration": 79966,
    "start_time": "2021-07-26T16:24:44.597Z"
   },
   {
    "duration": 13289,
    "start_time": "2021-07-26T16:26:04.566Z"
   },
   {
    "duration": 19877,
    "start_time": "2021-07-26T16:26:17.857Z"
   },
   {
    "duration": 4004,
    "start_time": "2021-07-26T16:26:37.735Z"
   },
   {
    "duration": 232,
    "start_time": "2021-07-26T16:26:41.741Z"
   },
   {
    "duration": 410,
    "start_time": "2021-07-26T16:26:41.974Z"
   },
   {
    "duration": 401,
    "start_time": "2021-07-26T16:26:42.386Z"
   },
   {
    "duration": 696,
    "start_time": "2021-07-26T16:26:42.791Z"
   },
   {
    "duration": 297,
    "start_time": "2021-07-26T16:26:43.489Z"
   },
   {
    "duration": 3299,
    "start_time": "2021-07-26T16:26:43.789Z"
   },
   {
    "duration": 3297,
    "start_time": "2021-07-26T16:26:47.091Z"
   },
   {
    "duration": 452,
    "start_time": "2021-07-26T16:26:50.394Z"
   },
   {
    "duration": 538,
    "start_time": "2021-07-26T16:26:50.848Z"
   },
   {
    "duration": 132,
    "start_time": "2021-07-26T16:26:51.387Z"
   },
   {
    "duration": 4185,
    "start_time": "2021-07-26T16:26:51.521Z"
   },
   {
    "duration": 1133,
    "start_time": "2021-07-28T13:49:58.389Z"
   },
   {
    "duration": 52,
    "start_time": "2021-07-28T13:50:01.293Z"
   },
   {
    "duration": 12,
    "start_time": "2021-07-28T13:50:03.735Z"
   },
   {
    "duration": 12,
    "start_time": "2021-07-28T13:50:05.984Z"
   },
   {
    "duration": 8,
    "start_time": "2021-07-28T13:50:08.953Z"
   },
   {
    "duration": 8,
    "start_time": "2021-07-28T13:50:11.304Z"
   },
   {
    "duration": 230,
    "start_time": "2021-07-28T13:50:13.747Z"
   },
   {
    "duration": 5,
    "start_time": "2021-07-28T14:04:55.889Z"
   },
   {
    "duration": 7,
    "start_time": "2021-07-28T14:05:06.687Z"
   },
   {
    "duration": 4,
    "start_time": "2021-07-28T14:05:10.294Z"
   },
   {
    "duration": 361,
    "start_time": "2021-07-28T14:05:31.491Z"
   },
   {
    "duration": 250,
    "start_time": "2021-07-28T14:05:35.057Z"
   },
   {
    "duration": 10,
    "start_time": "2021-07-28T14:05:42.550Z"
   },
   {
    "duration": 2001,
    "start_time": "2021-07-28T14:05:56.369Z"
   },
   {
    "duration": 270,
    "start_time": "2021-07-28T14:06:00.867Z"
   },
   {
    "duration": 8,
    "start_time": "2021-07-28T14:06:12.261Z"
   },
   {
    "duration": 8,
    "start_time": "2021-07-28T14:06:29.462Z"
   },
   {
    "duration": 268,
    "start_time": "2021-07-28T14:06:48.296Z"
   },
   {
    "duration": 9,
    "start_time": "2021-07-28T14:07:18.424Z"
   },
   {
    "duration": 8,
    "start_time": "2021-07-28T14:07:37.208Z"
   },
   {
    "duration": 68,
    "start_time": "2021-07-28T14:07:54.273Z"
   },
   {
    "duration": 9,
    "start_time": "2021-07-28T14:07:56.920Z"
   },
   {
    "duration": 9,
    "start_time": "2021-07-28T14:08:08.068Z"
   },
   {
    "duration": 10,
    "start_time": "2021-07-28T14:08:09.680Z"
   },
   {
    "duration": 10,
    "start_time": "2021-07-28T14:08:11.311Z"
   },
   {
    "duration": 47,
    "start_time": "2021-07-28T14:08:19.093Z"
   },
   {
    "duration": 8,
    "start_time": "2021-07-28T14:08:21.417Z"
   },
   {
    "duration": 263,
    "start_time": "2021-07-28T14:09:16.541Z"
   },
   {
    "duration": 7,
    "start_time": "2021-07-28T14:09:34.734Z"
   },
   {
    "duration": 18,
    "start_time": "2021-07-28T14:31:49.267Z"
   },
   {
    "duration": 79,
    "start_time": "2021-07-28T14:33:27.605Z"
   },
   {
    "duration": 96,
    "start_time": "2021-07-28T14:33:53.718Z"
   },
   {
    "duration": 91,
    "start_time": "2021-07-28T14:34:07.374Z"
   },
   {
    "duration": 86,
    "start_time": "2021-07-28T14:34:12.817Z"
   },
   {
    "duration": 5,
    "start_time": "2021-07-28T14:35:49.259Z"
   },
   {
    "duration": 18,
    "start_time": "2021-07-28T14:36:54.351Z"
   },
   {
    "duration": 301,
    "start_time": "2021-07-28T14:37:25.167Z"
   },
   {
    "duration": 256,
    "start_time": "2021-07-28T14:37:28.320Z"
   },
   {
    "duration": 269,
    "start_time": "2021-07-28T14:37:37.689Z"
   },
   {
    "duration": 5,
    "start_time": "2021-07-28T14:37:40.365Z"
   },
   {
    "duration": 297,
    "start_time": "2021-07-28T14:45:03.404Z"
   },
   {
    "duration": 7,
    "start_time": "2021-07-28T14:45:08.560Z"
   },
   {
    "duration": 253,
    "start_time": "2021-07-28T14:45:11.360Z"
   },
   {
    "duration": 274,
    "start_time": "2021-07-28T14:45:20.019Z"
   },
   {
    "duration": 265,
    "start_time": "2021-07-28T14:48:34.836Z"
   },
   {
    "duration": 265,
    "start_time": "2021-07-28T14:48:45.378Z"
   },
   {
    "duration": 271,
    "start_time": "2021-07-28T14:48:54.482Z"
   },
   {
    "duration": 257,
    "start_time": "2021-07-28T14:49:07.079Z"
   },
   {
    "duration": 3,
    "start_time": "2021-07-28T14:50:44.346Z"
   },
   {
    "duration": 6,
    "start_time": "2021-07-28T14:50:47.822Z"
   },
   {
    "duration": 120,
    "start_time": "2021-07-28T14:51:25.325Z"
   },
   {
    "duration": 17,
    "start_time": "2021-07-28T14:51:30.181Z"
   },
   {
    "duration": 5,
    "start_time": "2021-07-28T14:51:34.518Z"
   },
   {
    "duration": 37,
    "start_time": "2021-07-28T14:51:52.663Z"
   },
   {
    "duration": 5,
    "start_time": "2021-07-28T14:51:55.997Z"
   },
   {
    "duration": 9,
    "start_time": "2021-07-28T14:52:22.279Z"
   },
   {
    "duration": 3,
    "start_time": "2021-07-28T14:53:22.610Z"
   },
   {
    "duration": 14,
    "start_time": "2021-07-28T14:53:25.031Z"
   },
   {
    "duration": 8,
    "start_time": "2021-07-28T14:53:30.081Z"
   },
   {
    "duration": 8,
    "start_time": "2021-07-28T14:53:32.185Z"
   },
   {
    "duration": 137,
    "start_time": "2021-07-28T14:53:35.727Z"
   },
   {
    "duration": 252,
    "start_time": "2021-07-28T14:53:38.143Z"
   },
   {
    "duration": 265,
    "start_time": "2021-07-28T14:53:41.656Z"
   },
   {
    "duration": 5,
    "start_time": "2021-07-28T14:53:48.202Z"
   },
   {
    "duration": 39,
    "start_time": "2021-07-28T14:53:49.851Z"
   },
   {
    "duration": 12,
    "start_time": "2021-07-28T14:53:51.838Z"
   },
   {
    "duration": 3,
    "start_time": "2021-07-28T14:53:53.299Z"
   },
   {
    "duration": 18,
    "start_time": "2021-07-28T14:53:55.835Z"
   },
   {
    "duration": 7,
    "start_time": "2021-07-28T14:53:57.969Z"
   },
   {
    "duration": 10,
    "start_time": "2021-07-28T14:53:59.709Z"
   },
   {
    "duration": 196,
    "start_time": "2021-07-28T14:54:01.851Z"
   },
   {
    "duration": 285,
    "start_time": "2021-07-28T14:54:05.653Z"
   },
   {
    "duration": 695,
    "start_time": "2021-07-28T14:55:17.092Z"
   },
   {
    "duration": 270,
    "start_time": "2021-07-28T14:57:51.163Z"
   },
   {
    "duration": 285,
    "start_time": "2021-07-28T14:57:55.334Z"
   },
   {
    "duration": 6816,
    "start_time": "2021-07-28T14:59:11.288Z"
   },
   {
    "duration": 582,
    "start_time": "2021-07-28T15:01:42.623Z"
   },
   {
    "duration": 1131,
    "start_time": "2021-07-28T15:10:19.651Z"
   },
   {
    "duration": 41,
    "start_time": "2021-07-28T15:10:20.784Z"
   },
   {
    "duration": 8,
    "start_time": "2021-07-28T15:10:20.827Z"
   },
   {
    "duration": 3,
    "start_time": "2021-07-28T15:10:20.840Z"
   },
   {
    "duration": 13,
    "start_time": "2021-07-28T15:10:20.845Z"
   },
   {
    "duration": 12,
    "start_time": "2021-07-28T15:10:20.860Z"
   },
   {
    "duration": 7,
    "start_time": "2021-07-28T15:10:20.874Z"
   },
   {
    "duration": 138,
    "start_time": "2021-07-28T15:10:20.884Z"
   },
   {
    "duration": 342,
    "start_time": "2021-07-28T15:10:21.024Z"
   },
   {
    "duration": 116,
    "start_time": "2021-07-28T15:10:21.252Z"
   },
   {
    "duration": 111,
    "start_time": "2021-07-28T15:10:21.258Z"
   },
   {
    "duration": 101,
    "start_time": "2021-07-28T15:10:21.269Z"
   },
   {
    "duration": 96,
    "start_time": "2021-07-28T15:10:21.275Z"
   },
   {
    "duration": 86,
    "start_time": "2021-07-28T15:10:21.286Z"
   },
   {
    "duration": 81,
    "start_time": "2021-07-28T15:10:21.292Z"
   },
   {
    "duration": 70,
    "start_time": "2021-07-28T15:10:21.303Z"
   },
   {
    "duration": 65,
    "start_time": "2021-07-28T15:10:21.309Z"
   },
   {
    "duration": 58,
    "start_time": "2021-07-28T15:10:21.319Z"
   },
   {
    "duration": 51,
    "start_time": "2021-07-28T15:10:21.327Z"
   },
   {
    "duration": 43,
    "start_time": "2021-07-28T15:10:21.336Z"
   },
   {
    "duration": 38,
    "start_time": "2021-07-28T15:10:21.342Z"
   },
   {
    "duration": 27,
    "start_time": "2021-07-28T15:10:21.354Z"
   },
   {
    "duration": 23,
    "start_time": "2021-07-28T15:10:21.360Z"
   },
   {
    "duration": 14,
    "start_time": "2021-07-28T15:10:21.370Z"
   },
   {
    "duration": 9,
    "start_time": "2021-07-28T15:10:21.376Z"
   },
   {
    "duration": 0,
    "start_time": "2021-07-28T15:10:21.386Z"
   },
   {
    "duration": -6,
    "start_time": "2021-07-28T15:10:21.392Z"
   },
   {
    "duration": -16,
    "start_time": "2021-07-28T15:10:21.403Z"
   },
   {
    "duration": -21,
    "start_time": "2021-07-28T15:10:21.409Z"
   },
   {
    "duration": -32,
    "start_time": "2021-07-28T15:10:21.420Z"
   },
   {
    "duration": -39,
    "start_time": "2021-07-28T15:10:21.428Z"
   },
   {
    "duration": -46,
    "start_time": "2021-07-28T15:10:21.436Z"
   },
   {
    "duration": -51,
    "start_time": "2021-07-28T15:10:21.442Z"
   },
   {
    "duration": -61,
    "start_time": "2021-07-28T15:10:21.453Z"
   },
   {
    "duration": -66,
    "start_time": "2021-07-28T15:10:21.459Z"
   },
   {
    "duration": -76,
    "start_time": "2021-07-28T15:10:21.470Z"
   },
   {
    "duration": -80,
    "start_time": "2021-07-28T15:10:21.475Z"
   },
   {
    "duration": 5,
    "start_time": "2021-07-28T15:13:07.772Z"
   },
   {
    "duration": 311,
    "start_time": "2021-07-28T15:13:28.321Z"
   },
   {
    "duration": 263,
    "start_time": "2021-07-28T15:19:34.101Z"
   },
   {
    "duration": 3,
    "start_time": "2021-07-28T15:19:47.979Z"
   },
   {
    "duration": 4,
    "start_time": "2021-07-28T15:19:50.526Z"
   },
   {
    "duration": 3,
    "start_time": "2021-07-28T15:20:04.060Z"
   },
   {
    "duration": 6,
    "start_time": "2021-07-28T15:20:07.851Z"
   },
   {
    "duration": 38,
    "start_time": "2021-07-28T15:20:13.183Z"
   },
   {
    "duration": 5,
    "start_time": "2021-07-28T15:20:16.579Z"
   },
   {
    "duration": 13,
    "start_time": "2021-07-28T15:20:24.043Z"
   },
   {
    "duration": 113,
    "start_time": "2021-07-28T15:20:29.075Z"
   },
   {
    "duration": 4,
    "start_time": "2021-07-28T15:20:50.380Z"
   },
   {
    "duration": 3,
    "start_time": "2021-07-28T15:21:18.268Z"
   },
   {
    "duration": 4,
    "start_time": "2021-07-28T15:23:24.577Z"
   },
   {
    "duration": 4,
    "start_time": "2021-07-28T15:23:41.683Z"
   },
   {
    "duration": 271,
    "start_time": "2021-07-28T15:24:04.537Z"
   },
   {
    "duration": 295,
    "start_time": "2021-07-28T15:24:29.772Z"
   },
   {
    "duration": 8,
    "start_time": "2021-07-28T15:27:58.211Z"
   },
   {
    "duration": 7,
    "start_time": "2021-07-28T15:28:42.476Z"
   },
   {
    "duration": 6,
    "start_time": "2021-07-28T15:28:54.981Z"
   },
   {
    "duration": 263,
    "start_time": "2021-07-28T15:29:05.025Z"
   },
   {
    "duration": 6,
    "start_time": "2021-07-28T15:29:09.069Z"
   },
   {
    "duration": 8,
    "start_time": "2021-07-28T15:29:13.270Z"
   },
   {
    "duration": 5,
    "start_time": "2021-07-28T15:29:43.614Z"
   },
   {
    "duration": 10,
    "start_time": "2021-07-28T15:29:46.712Z"
   },
   {
    "duration": 270,
    "start_time": "2021-07-28T15:30:05.834Z"
   },
   {
    "duration": 277,
    "start_time": "2021-07-28T15:30:10.276Z"
   },
   {
    "duration": 305,
    "start_time": "2021-07-28T15:30:19.526Z"
   },
   {
    "duration": 261,
    "start_time": "2021-07-28T15:30:24.727Z"
   },
   {
    "duration": 5,
    "start_time": "2021-07-28T15:30:33.417Z"
   },
   {
    "duration": 4,
    "start_time": "2021-07-28T15:30:36.728Z"
   },
   {
    "duration": 6507,
    "start_time": "2021-07-28T15:30:42.380Z"
   },
   {
    "duration": 8,
    "start_time": "2021-07-28T15:31:07.992Z"
   },
   {
    "duration": 5,
    "start_time": "2021-07-28T15:31:13.541Z"
   },
   {
    "duration": 4,
    "start_time": "2021-07-28T15:31:16.940Z"
   },
   {
    "duration": 4,
    "start_time": "2021-07-28T15:34:07.673Z"
   },
   {
    "duration": 39,
    "start_time": "2021-07-28T15:34:14.001Z"
   },
   {
    "duration": 5,
    "start_time": "2021-07-28T15:34:17.900Z"
   },
   {
    "duration": 5,
    "start_time": "2021-07-28T15:34:35.778Z"
   },
   {
    "duration": 21,
    "start_time": "2021-07-28T15:35:13.067Z"
   },
   {
    "duration": 7,
    "start_time": "2021-07-28T15:35:38.567Z"
   },
   {
    "duration": 10,
    "start_time": "2021-07-28T15:35:42.439Z"
   },
   {
    "duration": 116,
    "start_time": "2021-07-28T15:35:51.667Z"
   },
   {
    "duration": 18,
    "start_time": "2021-07-28T15:35:53.447Z"
   },
   {
    "duration": 70,
    "start_time": "2021-07-28T15:36:00.202Z"
   },
   {
    "duration": 18,
    "start_time": "2021-07-28T15:36:04.228Z"
   },
   {
    "duration": 12,
    "start_time": "2021-07-28T15:36:11.901Z"
   },
   {
    "duration": 69,
    "start_time": "2021-07-28T15:36:19.285Z"
   },
   {
    "duration": 246,
    "start_time": "2021-07-28T15:36:22.861Z"
   },
   {
    "duration": 36,
    "start_time": "2021-07-28T15:36:48.253Z"
   },
   {
    "duration": 5,
    "start_time": "2021-07-28T15:36:56.384Z"
   },
   {
    "duration": 16,
    "start_time": "2021-07-28T15:37:00.214Z"
   },
   {
    "duration": 5,
    "start_time": "2021-07-28T15:37:02.098Z"
   },
   {
    "duration": 199,
    "start_time": "2021-07-28T15:37:07.699Z"
   },
   {
    "duration": 16,
    "start_time": "2021-07-28T15:37:10.508Z"
   },
   {
    "duration": 20,
    "start_time": "2021-07-28T15:45:26.104Z"
   },
   {
    "duration": 309,
    "start_time": "2021-07-28T15:48:38.756Z"
   },
   {
    "duration": 262,
    "start_time": "2021-07-28T15:48:46.495Z"
   },
   {
    "duration": 389,
    "start_time": "2021-07-28T15:49:37.853Z"
   },
   {
    "duration": 283,
    "start_time": "2021-07-28T15:49:42.942Z"
   },
   {
    "duration": 272,
    "start_time": "2021-07-28T15:49:45.197Z"
   },
   {
    "duration": 282,
    "start_time": "2021-07-28T15:49:53.525Z"
   },
   {
    "duration": 258,
    "start_time": "2021-07-28T15:49:56.312Z"
   },
   {
    "duration": 253,
    "start_time": "2021-07-28T15:51:16.756Z"
   },
   {
    "duration": 282,
    "start_time": "2021-07-28T15:51:37.148Z"
   },
   {
    "duration": 3,
    "start_time": "2021-07-28T15:51:43.640Z"
   },
   {
    "duration": 3,
    "start_time": "2021-07-28T15:51:51.195Z"
   },
   {
    "duration": 47,
    "start_time": "2021-07-28T15:52:04.531Z"
   },
   {
    "duration": 4,
    "start_time": "2021-07-28T15:52:13.974Z"
   },
   {
    "duration": 8,
    "start_time": "2021-07-28T15:52:25.722Z"
   },
   {
    "duration": 16,
    "start_time": "2021-07-28T15:52:27.953Z"
   },
   {
    "duration": 7,
    "start_time": "2021-07-28T15:52:31.054Z"
   },
   {
    "duration": 8,
    "start_time": "2021-07-28T15:52:33.195Z"
   },
   {
    "duration": 8,
    "start_time": "2021-07-28T15:52:36.190Z"
   },
   {
    "duration": 112,
    "start_time": "2021-07-28T15:52:38.974Z"
   },
   {
    "duration": 32,
    "start_time": "2021-07-28T15:52:46.970Z"
   },
   {
    "duration": 9,
    "start_time": "2021-07-28T15:52:52.572Z"
   },
   {
    "duration": 259,
    "start_time": "2021-07-28T15:53:09.127Z"
   },
   {
    "duration": 18,
    "start_time": "2021-07-28T15:53:18.084Z"
   },
   {
    "duration": 214,
    "start_time": "2021-07-28T15:53:36.089Z"
   },
   {
    "duration": 19,
    "start_time": "2021-07-28T15:53:47.985Z"
   },
   {
    "duration": 8,
    "start_time": "2021-07-28T15:54:08.692Z"
   },
   {
    "duration": 19,
    "start_time": "2021-07-28T15:54:21.377Z"
   },
   {
    "duration": 6,
    "start_time": "2021-07-28T15:54:24.511Z"
   },
   {
    "duration": 22,
    "start_time": "2021-07-28T15:54:26.264Z"
   },
   {
    "duration": 7196,
    "start_time": "2021-07-28T15:55:12.271Z"
   },
   {
    "duration": 139,
    "start_time": "2021-07-28T15:55:35.851Z"
   },
   {
    "duration": 255,
    "start_time": "2021-07-28T15:55:45.235Z"
   },
   {
    "duration": 7,
    "start_time": "2021-07-28T15:55:48.040Z"
   },
   {
    "duration": 9,
    "start_time": "2021-07-28T15:56:08.051Z"
   },
   {
    "duration": 8,
    "start_time": "2021-07-28T16:05:43.363Z"
   },
   {
    "duration": 15,
    "start_time": "2021-07-28T16:06:47.888Z"
   },
   {
    "duration": 35,
    "start_time": "2021-07-28T16:07:26.021Z"
   },
   {
    "duration": 65120,
    "start_time": "2021-07-28T16:07:55.850Z"
   },
   {
    "duration": 386,
    "start_time": "2021-07-28T16:10:34.497Z"
   },
   {
    "duration": 6,
    "start_time": "2021-07-28T16:10:40.065Z"
   },
   {
    "duration": 6,
    "start_time": "2021-07-28T16:10:42.268Z"
   },
   {
    "duration": 6,
    "start_time": "2021-07-28T16:10:44.886Z"
   },
   {
    "duration": 118,
    "start_time": "2021-07-28T16:10:49.730Z"
   },
   {
    "duration": 64006,
    "start_time": "2021-07-28T16:11:06.321Z"
   },
   {
    "duration": 199,
    "start_time": "2021-07-28T16:29:33.239Z"
   },
   {
    "duration": 128,
    "start_time": "2021-07-28T16:29:35.978Z"
   },
   {
    "duration": 96834,
    "start_time": "2021-07-28T16:29:38.520Z"
   },
   {
    "duration": 37607,
    "start_time": "2021-07-28T16:31:15.357Z"
   },
   {
    "duration": 699,
    "start_time": "2021-07-28T16:31:52.966Z"
   },
   {
    "duration": 892,
    "start_time": "2021-07-28T16:31:53.668Z"
   },
   {
    "duration": 328,
    "start_time": "2021-07-28T16:31:54.561Z"
   },
   {
    "duration": 103,
    "start_time": "2021-07-28T16:31:54.890Z"
   },
   {
    "duration": 266,
    "start_time": "2021-07-28T16:31:54.994Z"
   },
   {
    "duration": 85,
    "start_time": "2021-07-28T16:31:55.263Z"
   },
   {
    "duration": 120,
    "start_time": "2021-07-28T16:31:55.351Z"
   },
   {
    "duration": 108,
    "start_time": "2021-07-28T16:31:55.543Z"
   },
   {
    "duration": 887,
    "start_time": "2021-07-28T16:31:55.655Z"
   },
   {
    "duration": 792,
    "start_time": "2021-07-28T16:31:56.552Z"
   },
   {
    "duration": 107,
    "start_time": "2021-07-28T16:31:57.347Z"
   },
   {
    "duration": 24,
    "start_time": "2021-07-28T16:31:57.456Z"
   },
   {
    "duration": 12,
    "start_time": "2021-07-28T16:31:57.482Z"
   },
   {
    "duration": 1503,
    "start_time": "2021-07-29T01:06:09.609Z"
   },
   {
    "duration": 55,
    "start_time": "2021-07-29T01:06:11.115Z"
   },
   {
    "duration": 12,
    "start_time": "2021-07-29T01:06:11.173Z"
   },
   {
    "duration": 18,
    "start_time": "2021-07-29T01:06:11.189Z"
   },
   {
    "duration": 12,
    "start_time": "2021-07-29T01:06:11.210Z"
   },
   {
    "duration": 41,
    "start_time": "2021-07-29T01:06:11.225Z"
   },
   {
    "duration": 12,
    "start_time": "2021-07-29T01:06:11.269Z"
   },
   {
    "duration": 210,
    "start_time": "2021-07-29T01:06:11.285Z"
   },
   {
    "duration": 28,
    "start_time": "2021-07-29T01:06:11.498Z"
   },
   {
    "duration": 8,
    "start_time": "2021-07-29T01:06:11.528Z"
   },
   {
    "duration": 33,
    "start_time": "2021-07-29T01:06:11.538Z"
   },
   {
    "duration": 35,
    "start_time": "2021-07-29T01:06:11.574Z"
   },
   {
    "duration": 11,
    "start_time": "2021-07-29T01:06:11.612Z"
   },
   {
    "duration": 64,
    "start_time": "2021-07-29T01:06:11.625Z"
   },
   {
    "duration": 102,
    "start_time": "2021-07-29T01:06:11.692Z"
   },
   {
    "duration": 103674,
    "start_time": "2021-07-29T01:06:11.796Z"
   },
   {
    "duration": 511,
    "start_time": "2021-07-29T01:07:55.472Z"
   },
   {
    "duration": 8,
    "start_time": "2021-07-29T01:07:55.986Z"
   },
   {
    "duration": 9,
    "start_time": "2021-07-29T01:07:55.997Z"
   },
   {
    "duration": 8,
    "start_time": "2021-07-29T01:07:56.009Z"
   },
   {
    "duration": 269,
    "start_time": "2021-07-29T01:07:56.019Z"
   },
   {
    "duration": 102045,
    "start_time": "2021-07-29T01:07:56.291Z"
   },
   {
    "duration": 309,
    "start_time": "2021-07-29T01:09:38.341Z"
   },
   {
    "duration": 238,
    "start_time": "2021-07-29T01:09:38.653Z"
   },
   {
    "duration": 148637,
    "start_time": "2021-07-29T01:09:38.893Z"
   },
   {
    "duration": 56657,
    "start_time": "2021-07-29T01:12:07.532Z"
   },
   {
    "duration": 1050,
    "start_time": "2021-07-29T01:13:04.192Z"
   },
   {
    "duration": 1493,
    "start_time": "2021-07-29T01:13:05.244Z"
   },
   {
    "duration": 587,
    "start_time": "2021-07-29T01:13:06.740Z"
   },
   {
    "duration": 148,
    "start_time": "2021-07-29T01:13:07.329Z"
   },
   {
    "duration": 513,
    "start_time": "2021-07-29T01:13:07.480Z"
   },
   {
    "duration": 74,
    "start_time": "2021-07-29T01:13:07.996Z"
   },
   {
    "duration": 202,
    "start_time": "2021-07-29T01:13:08.162Z"
   },
   {
    "duration": 196,
    "start_time": "2021-07-29T01:13:08.369Z"
   },
   {
    "duration": 1301,
    "start_time": "2021-07-29T01:13:08.569Z"
   },
   {
    "duration": 1791,
    "start_time": "2021-07-29T01:13:09.872Z"
   },
   {
    "duration": 113,
    "start_time": "2021-07-29T01:13:11.667Z"
   },
   {
    "duration": 38,
    "start_time": "2021-07-29T01:13:11.782Z"
   },
   {
    "duration": 46,
    "start_time": "2021-07-29T01:13:11.822Z"
   },
   {
    "duration": 634,
    "start_time": "2021-07-29T01:21:35.261Z"
   },
   {
    "duration": 100,
    "start_time": "2021-07-29T20:31:56.339Z"
   }
  ],
  "kernelspec": {
   "display_name": "Python 3",
   "language": "python",
   "name": "python3"
  },
  "language_info": {
   "codemirror_mode": {
    "name": "ipython",
    "version": 3
   },
   "file_extension": ".py",
   "mimetype": "text/x-python",
   "name": "python",
   "nbconvert_exporter": "python",
   "pygments_lexer": "ipython3",
   "version": "3.8.5"
  },
  "toc": {
   "base_numbering": 1,
   "nav_menu": {},
   "number_sections": true,
   "sideBar": true,
   "skip_h1_title": true,
   "title_cell": "Содержание",
   "title_sidebar": "Contents",
   "toc_cell": true,
   "toc_position": {},
   "toc_section_display": true,
   "toc_window_display": false
  }
 },
 "nbformat": 4,
 "nbformat_minor": 2
}
